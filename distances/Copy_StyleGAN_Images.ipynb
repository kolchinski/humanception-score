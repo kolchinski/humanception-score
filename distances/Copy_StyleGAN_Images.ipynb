{
 "cells": [
  {
   "cell_type": "code",
   "execution_count": 5,
   "metadata": {},
   "outputs": [],
   "source": [
    "import os"
   ]
  },
  {
   "cell_type": "code",
   "execution_count": 11,
   "metadata": {},
   "outputs": [
    {
     "name": "stdout",
     "output_type": "stream",
     "text": [
      "50\n",
      "50\n",
      "50\n",
      "50\n",
      "50\n",
      "50\n",
      "50\n",
      "50\n",
      "50\n",
      "50\n",
      "50\n",
      "50\n",
      "50\n",
      "50\n",
      "50\n",
      "50\n",
      "50\n",
      "50\n",
      "50\n",
      "50\n",
      "50\n"
     ]
    }
   ],
   "source": [
    "for d in os.listdir('run_1'):\n",
    "    if d == '.DS_Store': continue\n",
    "    print(len(os.listdir('run_1/' + d)))\n",
    "    continue\n",
    "    for f in os.listdir('run_1/' + d):\n",
    "        #print(f)\n",
    "        if 'proGAN' in f:\n",
    "            os.system('rm {}'.format('run_1/' + d + '/' + f))"
   ]
  },
  {
   "cell_type": "code",
   "execution_count": 1,
   "metadata": {},
   "outputs": [
    {
     "data": {
      "text/plain": [
       "310"
      ]
     },
     "execution_count": 1,
     "metadata": {},
     "output_type": "execute_result"
    }
   ],
   "source": [
    "with open('stylegan_val_set.txt') as f:\n",
    "    val_files = [x.strip() for x in f.readlines()]\n",
    "len(val_files)"
   ]
  },
  {
   "cell_type": "code",
   "execution_count": 3,
   "metadata": {},
   "outputs": [
    {
     "data": {
      "text/plain": [
       "['imgs_by_label/stylegan_labeled/stylegan_labeled_imgs/celeba_styleGAN_1006.png',\n",
       " 'imgs_by_label/stylegan_labeled/stylegan_labeled_imgs/celeba_styleGAN_1025.png',\n",
       " 'imgs_by_label/stylegan_labeled/stylegan_labeled_imgs/celeba_styleGAN_1043.png']"
      ]
     },
     "execution_count": 3,
     "metadata": {},
     "output_type": "execute_result"
    }
   ],
   "source": [
    "val_set = val_files\n",
    "val_set[:3]"
   ]
  },
  {
   "cell_type": "code",
   "execution_count": 16,
   "metadata": {},
   "outputs": [],
   "source": [
    "for img_set in range(4):\n",
    "    for worker_num in range(5):\n",
    "        dst_dir = './imgs_for_labeling/run_1/worker_{}/'.format(img_set*5 + worker_num)\n",
    "        for f in val_set[img_set*50 : (img_set+1)*50]:\n",
    "            filename = os.path.split(f)[-1]\n",
    "            os.system('cp {} {}'.format(f, dst_dir + 'fake_' + filename))"
   ]
  },
  {
   "cell_type": "code",
   "execution_count": 12,
   "metadata": {},
   "outputs": [
    {
     "name": "stdout",
     "output_type": "stream",
     "text": [
      "ls: imgs_by_label/stylegan_labeled/stylegan_labeled_imgs: No such file or directory\r\n"
     ]
    }
   ],
   "source": [
    "%ls 'imgs_by_label/stylegan_labeled/stylegan_labeled_imgs'"
   ]
  },
  {
   "cell_type": "code",
   "execution_count": 18,
   "metadata": {},
   "outputs": [
    {
     "data": {
      "text/plain": [
       "50"
      ]
     },
     "execution_count": 18,
     "metadata": {},
     "output_type": "execute_result"
    }
   ],
   "source": [
    "with open('stylegan_train_set.txt') as f:\n",
    "    train_files = [x.strip() for x in f.readlines()][:50]\n",
    "len(train_files)"
   ]
  },
  {
   "cell_type": "code",
   "execution_count": null,
   "metadata": {},
   "outputs": [],
   "source": [
    "dst_dir = './imgs_for_labeling/run_1/spammers/'\n",
    "for f in train_files:\n",
    "    filename = os.path.split(f)[-1]\n",
    "    print('cp {} {}'.format(f, dst_dir + 'fake_' + filename))"
   ]
  },
  {
   "cell_type": "code",
   "execution_count": null,
   "metadata": {},
   "outputs": [],
   "source": [
    "train_files"
   ]
  },
  {
   "cell_type": "code",
   "execution_count": null,
   "metadata": {},
   "outputs": [],
   "source": []
  }
 ],
 "metadata": {
  "kernelspec": {
   "display_name": "Python 3",
   "language": "python",
   "name": "python3"
  },
  "language_info": {
   "codemirror_mode": {
    "name": "ipython",
    "version": 3
   },
   "file_extension": ".py",
   "mimetype": "text/x-python",
   "name": "python",
   "nbconvert_exporter": "python",
   "pygments_lexer": "ipython3",
   "version": "3.7.3"
  }
 },
 "nbformat": 4,
 "nbformat_minor": 2
}
