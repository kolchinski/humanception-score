{
 "cells": [
  {
   "cell_type": "code",
   "execution_count": 5,
   "metadata": {},
   "outputs": [],
   "source": [
    "import os"
   ]
  },
  {
   "cell_type": "code",
   "execution_count": 11,
   "metadata": {},
   "outputs": [
    {
     "name": "stdout",
     "output_type": "stream",
     "text": [
      "50\n",
      "50\n",
      "50\n",
      "50\n",
      "50\n",
      "50\n",
      "50\n",
      "50\n",
      "50\n",
      "50\n",
      "50\n",
      "50\n",
      "50\n",
      "50\n",
      "50\n",
      "50\n",
      "50\n",
      "50\n",
      "50\n",
      "50\n",
      "50\n"
     ]
    }
   ],
   "source": [
    "for d in os.listdir('run_1'):\n",
    "    if d == '.DS_Store': continue\n",
    "    print(len(os.listdir('run_1/' + d)))\n",
    "    continue\n",
    "    for f in os.listdir('run_1/' + d):\n",
    "        #print(f)\n",
    "        if 'proGAN' in f:\n",
    "            os.system('rm {}'.format('run_1/' + d + '/' + f))"
   ]
  },
  {
   "cell_type": "code",
   "execution_count": 1,
   "metadata": {},
   "outputs": [
    {
     "data": {
      "text/plain": [
       "310"
      ]
     },
     "execution_count": 1,
     "metadata": {},
     "output_type": "execute_result"
    }
   ],
   "source": [
    "with open('stylegan_val_set.txt') as f:\n",
    "    val_files = [x.strip() for x in f.readlines()]\n",
    "len(val_files)"
   ]
  },
  {
   "cell_type": "code",
   "execution_count": 3,
   "metadata": {},
   "outputs": [
    {
     "data": {
      "text/plain": [
       "['imgs_by_label/stylegan_labeled/stylegan_labeled_imgs/celeba_styleGAN_1006.png',\n",
       " 'imgs_by_label/stylegan_labeled/stylegan_labeled_imgs/celeba_styleGAN_1025.png',\n",
       " 'imgs_by_label/stylegan_labeled/stylegan_labeled_imgs/celeba_styleGAN_1043.png']"
      ]
     },
     "execution_count": 3,
     "metadata": {},
     "output_type": "execute_result"
    }
   ],
   "source": [
    "val_set = val_files\n",
    "val_set[:3]"
   ]
  },
  {
   "cell_type": "code",
   "execution_count": 16,
   "metadata": {},
   "outputs": [],
   "source": [
    "for img_set in range(4):\n",
    "    for worker_num in range(5):\n",
    "        dst_dir = './imgs_for_labeling/run_1/worker_{}/'.format(img_set*5 + worker_num)\n",
    "        for f in val_set[img_set*50 : (img_set+1)*50]:\n",
    "            filename = os.path.split(f)[-1]\n",
    "            os.system('cp {} {}'.format(f, dst_dir + 'fake_' + filename))"
   ]
  },
  {
   "cell_type": "code",
   "execution_count": 12,
   "metadata": {},
   "outputs": [
    {
     "name": "stdout",
     "output_type": "stream",
     "text": [
      "ls: imgs_by_label/stylegan_labeled/stylegan_labeled_imgs: No such file or directory\r\n"
     ]
    }
   ],
   "source": [
    "%ls 'imgs_by_label/stylegan_labeled/stylegan_labeled_imgs'"
   ]
  },
  {
   "cell_type": "code",
   "execution_count": 18,
   "metadata": {},
   "outputs": [
    {
     "data": {
      "text/plain": [
       "50"
      ]
     },
     "execution_count": 18,
     "metadata": {},
     "output_type": "execute_result"
    }
   ],
   "source": [
    "with open('stylegan_train_set.txt') as f:\n",
    "    train_files = [x.strip() for x in f.readlines()][:50]\n",
    "len(train_files)"
   ]
  },
  {
   "cell_type": "code",
   "execution_count": 22,
   "metadata": {},
   "outputs": [
    {
     "name": "stdout",
     "output_type": "stream",
     "text": [
      "cp imgs_by_label/stylegan_labeled/stylegan_labeled_imgs/celeba_styleGAN_0.png ./imgs_for_labeling/run_1/spammers/fake_celeba_styleGAN_0.png\n",
      "cp imgs_by_label/stylegan_labeled/stylegan_labeled_imgs/celeba_styleGAN_1.png ./imgs_for_labeling/run_1/spammers/fake_celeba_styleGAN_1.png\n",
      "cp imgs_by_label/stylegan_labeled/stylegan_labeled_imgs/celeba_styleGAN_10.png ./imgs_for_labeling/run_1/spammers/fake_celeba_styleGAN_10.png\n",
      "cp imgs_by_label/stylegan_labeled/stylegan_labeled_imgs/celeba_styleGAN_100.png ./imgs_for_labeling/run_1/spammers/fake_celeba_styleGAN_100.png\n",
      "cp imgs_by_label/stylegan_labeled/stylegan_labeled_imgs/celeba_styleGAN_1000.png ./imgs_for_labeling/run_1/spammers/fake_celeba_styleGAN_1000.png\n",
      "cp imgs_by_label/stylegan_labeled/stylegan_labeled_imgs/celeba_styleGAN_1002.png ./imgs_for_labeling/run_1/spammers/fake_celeba_styleGAN_1002.png\n",
      "cp imgs_by_label/stylegan_labeled/stylegan_labeled_imgs/celeba_styleGAN_1003.png ./imgs_for_labeling/run_1/spammers/fake_celeba_styleGAN_1003.png\n",
      "cp imgs_by_label/stylegan_labeled/stylegan_labeled_imgs/celeba_styleGAN_1004.png ./imgs_for_labeling/run_1/spammers/fake_celeba_styleGAN_1004.png\n",
      "cp imgs_by_label/stylegan_labeled/stylegan_labeled_imgs/celeba_styleGAN_1012.png ./imgs_for_labeling/run_1/spammers/fake_celeba_styleGAN_1012.png\n",
      "cp imgs_by_label/stylegan_labeled/stylegan_labeled_imgs/celeba_styleGAN_1013.png ./imgs_for_labeling/run_1/spammers/fake_celeba_styleGAN_1013.png\n",
      "cp imgs_by_label/stylegan_labeled/stylegan_labeled_imgs/celeba_styleGAN_1015.png ./imgs_for_labeling/run_1/spammers/fake_celeba_styleGAN_1015.png\n",
      "cp imgs_by_label/stylegan_labeled/stylegan_labeled_imgs/celeba_styleGAN_1016.png ./imgs_for_labeling/run_1/spammers/fake_celeba_styleGAN_1016.png\n",
      "cp imgs_by_label/stylegan_labeled/stylegan_labeled_imgs/celeba_styleGAN_1017.png ./imgs_for_labeling/run_1/spammers/fake_celeba_styleGAN_1017.png\n",
      "cp imgs_by_label/stylegan_labeled/stylegan_labeled_imgs/celeba_styleGAN_102.png ./imgs_for_labeling/run_1/spammers/fake_celeba_styleGAN_102.png\n",
      "cp imgs_by_label/stylegan_labeled/stylegan_labeled_imgs/celeba_styleGAN_1021.png ./imgs_for_labeling/run_1/spammers/fake_celeba_styleGAN_1021.png\n",
      "cp imgs_by_label/stylegan_labeled/stylegan_labeled_imgs/celeba_styleGAN_1023.png ./imgs_for_labeling/run_1/spammers/fake_celeba_styleGAN_1023.png\n",
      "cp imgs_by_label/stylegan_labeled/stylegan_labeled_imgs/celeba_styleGAN_1028.png ./imgs_for_labeling/run_1/spammers/fake_celeba_styleGAN_1028.png\n",
      "cp imgs_by_label/stylegan_labeled/stylegan_labeled_imgs/celeba_styleGAN_103.png ./imgs_for_labeling/run_1/spammers/fake_celeba_styleGAN_103.png\n",
      "cp imgs_by_label/stylegan_labeled/stylegan_labeled_imgs/celeba_styleGAN_1030.png ./imgs_for_labeling/run_1/spammers/fake_celeba_styleGAN_1030.png\n",
      "cp imgs_by_label/stylegan_labeled/stylegan_labeled_imgs/celeba_styleGAN_1033.png ./imgs_for_labeling/run_1/spammers/fake_celeba_styleGAN_1033.png\n",
      "cp imgs_by_label/stylegan_labeled/stylegan_labeled_imgs/celeba_styleGAN_1036.png ./imgs_for_labeling/run_1/spammers/fake_celeba_styleGAN_1036.png\n",
      "cp imgs_by_label/stylegan_labeled/stylegan_labeled_imgs/celeba_styleGAN_1037.png ./imgs_for_labeling/run_1/spammers/fake_celeba_styleGAN_1037.png\n",
      "cp imgs_by_label/stylegan_labeled/stylegan_labeled_imgs/celeba_styleGAN_1040.png ./imgs_for_labeling/run_1/spammers/fake_celeba_styleGAN_1040.png\n",
      "cp imgs_by_label/stylegan_labeled/stylegan_labeled_imgs/celeba_styleGAN_1041.png ./imgs_for_labeling/run_1/spammers/fake_celeba_styleGAN_1041.png\n",
      "cp imgs_by_label/stylegan_labeled/stylegan_labeled_imgs/celeba_styleGAN_1047.png ./imgs_for_labeling/run_1/spammers/fake_celeba_styleGAN_1047.png\n",
      "cp imgs_by_label/stylegan_labeled/stylegan_labeled_imgs/celeba_styleGAN_1048.png ./imgs_for_labeling/run_1/spammers/fake_celeba_styleGAN_1048.png\n",
      "cp imgs_by_label/stylegan_labeled/stylegan_labeled_imgs/celeba_styleGAN_1049.png ./imgs_for_labeling/run_1/spammers/fake_celeba_styleGAN_1049.png\n",
      "cp imgs_by_label/stylegan_labeled/stylegan_labeled_imgs/celeba_styleGAN_1051.png ./imgs_for_labeling/run_1/spammers/fake_celeba_styleGAN_1051.png\n",
      "cp imgs_by_label/stylegan_labeled/stylegan_labeled_imgs/celeba_styleGAN_1054.png ./imgs_for_labeling/run_1/spammers/fake_celeba_styleGAN_1054.png\n",
      "cp imgs_by_label/stylegan_labeled/stylegan_labeled_imgs/celeba_styleGAN_1055.png ./imgs_for_labeling/run_1/spammers/fake_celeba_styleGAN_1055.png\n",
      "cp imgs_by_label/stylegan_labeled/stylegan_labeled_imgs/celeba_styleGAN_1056.png ./imgs_for_labeling/run_1/spammers/fake_celeba_styleGAN_1056.png\n",
      "cp imgs_by_label/stylegan_labeled/stylegan_labeled_imgs/celeba_styleGAN_1057.png ./imgs_for_labeling/run_1/spammers/fake_celeba_styleGAN_1057.png\n",
      "cp imgs_by_label/stylegan_labeled/stylegan_labeled_imgs/celeba_styleGAN_1061.png ./imgs_for_labeling/run_1/spammers/fake_celeba_styleGAN_1061.png\n",
      "cp imgs_by_label/stylegan_labeled/stylegan_labeled_imgs/celeba_styleGAN_1062.png ./imgs_for_labeling/run_1/spammers/fake_celeba_styleGAN_1062.png\n",
      "cp imgs_by_label/stylegan_labeled/stylegan_labeled_imgs/celeba_styleGAN_1064.png ./imgs_for_labeling/run_1/spammers/fake_celeba_styleGAN_1064.png\n",
      "cp imgs_by_label/stylegan_labeled/stylegan_labeled_imgs/celeba_styleGAN_1065.png ./imgs_for_labeling/run_1/spammers/fake_celeba_styleGAN_1065.png\n",
      "cp imgs_by_label/stylegan_labeled/stylegan_labeled_imgs/celeba_styleGAN_1066.png ./imgs_for_labeling/run_1/spammers/fake_celeba_styleGAN_1066.png\n",
      "cp imgs_by_label/stylegan_labeled/stylegan_labeled_imgs/celeba_styleGAN_1067.png ./imgs_for_labeling/run_1/spammers/fake_celeba_styleGAN_1067.png\n",
      "cp imgs_by_label/stylegan_labeled/stylegan_labeled_imgs/celeba_styleGAN_1069.png ./imgs_for_labeling/run_1/spammers/fake_celeba_styleGAN_1069.png\n",
      "cp imgs_by_label/stylegan_labeled/stylegan_labeled_imgs/celeba_styleGAN_107.png ./imgs_for_labeling/run_1/spammers/fake_celeba_styleGAN_107.png\n",
      "cp imgs_by_label/stylegan_labeled/stylegan_labeled_imgs/celeba_styleGAN_1072.png ./imgs_for_labeling/run_1/spammers/fake_celeba_styleGAN_1072.png\n",
      "cp imgs_by_label/stylegan_labeled/stylegan_labeled_imgs/celeba_styleGAN_1073.png ./imgs_for_labeling/run_1/spammers/fake_celeba_styleGAN_1073.png\n",
      "cp imgs_by_label/stylegan_labeled/stylegan_labeled_imgs/celeba_styleGAN_1074.png ./imgs_for_labeling/run_1/spammers/fake_celeba_styleGAN_1074.png\n",
      "cp imgs_by_label/stylegan_labeled/stylegan_labeled_imgs/celeba_styleGAN_1076.png ./imgs_for_labeling/run_1/spammers/fake_celeba_styleGAN_1076.png\n",
      "cp imgs_by_label/stylegan_labeled/stylegan_labeled_imgs/celeba_styleGAN_1077.png ./imgs_for_labeling/run_1/spammers/fake_celeba_styleGAN_1077.png\n",
      "cp imgs_by_label/stylegan_labeled/stylegan_labeled_imgs/celeba_styleGAN_1080.png ./imgs_for_labeling/run_1/spammers/fake_celeba_styleGAN_1080.png\n",
      "cp imgs_by_label/stylegan_labeled/stylegan_labeled_imgs/celeba_styleGAN_1081.png ./imgs_for_labeling/run_1/spammers/fake_celeba_styleGAN_1081.png\n",
      "cp imgs_by_label/stylegan_labeled/stylegan_labeled_imgs/celeba_styleGAN_1082.png ./imgs_for_labeling/run_1/spammers/fake_celeba_styleGAN_1082.png\n",
      "cp imgs_by_label/stylegan_labeled/stylegan_labeled_imgs/celeba_styleGAN_1085.png ./imgs_for_labeling/run_1/spammers/fake_celeba_styleGAN_1085.png\n",
      "cp imgs_by_label/stylegan_labeled/stylegan_labeled_imgs/celeba_styleGAN_109.png ./imgs_for_labeling/run_1/spammers/fake_celeba_styleGAN_109.png\n"
     ]
    }
   ],
   "source": [
    "dst_dir = './imgs_for_labeling/run_1/spammers/'\n",
    "for f in train_files:\n",
    "    filename = os.path.split(f)[-1]\n",
    "    print('cp {} {}'.format(f, dst_dir + 'fake_' + filename))"
   ]
  },
  {
   "cell_type": "code",
   "execution_count": 21,
   "metadata": {},
   "outputs": [
    {
     "data": {
      "text/plain": [
       "['imgs_by_label/stylegan_labeled/stylegan_labeled_imgs/celeba_styleGAN_0.png',\n",
       " 'imgs_by_label/stylegan_labeled/stylegan_labeled_imgs/celeba_styleGAN_1.png',\n",
       " 'imgs_by_label/stylegan_labeled/stylegan_labeled_imgs/celeba_styleGAN_10.png',\n",
       " 'imgs_by_label/stylegan_labeled/stylegan_labeled_imgs/celeba_styleGAN_100.png',\n",
       " 'imgs_by_label/stylegan_labeled/stylegan_labeled_imgs/celeba_styleGAN_1000.png',\n",
       " 'imgs_by_label/stylegan_labeled/stylegan_labeled_imgs/celeba_styleGAN_1002.png',\n",
       " 'imgs_by_label/stylegan_labeled/stylegan_labeled_imgs/celeba_styleGAN_1003.png',\n",
       " 'imgs_by_label/stylegan_labeled/stylegan_labeled_imgs/celeba_styleGAN_1004.png',\n",
       " 'imgs_by_label/stylegan_labeled/stylegan_labeled_imgs/celeba_styleGAN_1012.png',\n",
       " 'imgs_by_label/stylegan_labeled/stylegan_labeled_imgs/celeba_styleGAN_1013.png',\n",
       " 'imgs_by_label/stylegan_labeled/stylegan_labeled_imgs/celeba_styleGAN_1015.png',\n",
       " 'imgs_by_label/stylegan_labeled/stylegan_labeled_imgs/celeba_styleGAN_1016.png',\n",
       " 'imgs_by_label/stylegan_labeled/stylegan_labeled_imgs/celeba_styleGAN_1017.png',\n",
       " 'imgs_by_label/stylegan_labeled/stylegan_labeled_imgs/celeba_styleGAN_102.png',\n",
       " 'imgs_by_label/stylegan_labeled/stylegan_labeled_imgs/celeba_styleGAN_1021.png',\n",
       " 'imgs_by_label/stylegan_labeled/stylegan_labeled_imgs/celeba_styleGAN_1023.png',\n",
       " 'imgs_by_label/stylegan_labeled/stylegan_labeled_imgs/celeba_styleGAN_1028.png',\n",
       " 'imgs_by_label/stylegan_labeled/stylegan_labeled_imgs/celeba_styleGAN_103.png',\n",
       " 'imgs_by_label/stylegan_labeled/stylegan_labeled_imgs/celeba_styleGAN_1030.png',\n",
       " 'imgs_by_label/stylegan_labeled/stylegan_labeled_imgs/celeba_styleGAN_1033.png',\n",
       " 'imgs_by_label/stylegan_labeled/stylegan_labeled_imgs/celeba_styleGAN_1036.png',\n",
       " 'imgs_by_label/stylegan_labeled/stylegan_labeled_imgs/celeba_styleGAN_1037.png',\n",
       " 'imgs_by_label/stylegan_labeled/stylegan_labeled_imgs/celeba_styleGAN_1040.png',\n",
       " 'imgs_by_label/stylegan_labeled/stylegan_labeled_imgs/celeba_styleGAN_1041.png',\n",
       " 'imgs_by_label/stylegan_labeled/stylegan_labeled_imgs/celeba_styleGAN_1047.png',\n",
       " 'imgs_by_label/stylegan_labeled/stylegan_labeled_imgs/celeba_styleGAN_1048.png',\n",
       " 'imgs_by_label/stylegan_labeled/stylegan_labeled_imgs/celeba_styleGAN_1049.png',\n",
       " 'imgs_by_label/stylegan_labeled/stylegan_labeled_imgs/celeba_styleGAN_1051.png',\n",
       " 'imgs_by_label/stylegan_labeled/stylegan_labeled_imgs/celeba_styleGAN_1054.png',\n",
       " 'imgs_by_label/stylegan_labeled/stylegan_labeled_imgs/celeba_styleGAN_1055.png',\n",
       " 'imgs_by_label/stylegan_labeled/stylegan_labeled_imgs/celeba_styleGAN_1056.png',\n",
       " 'imgs_by_label/stylegan_labeled/stylegan_labeled_imgs/celeba_styleGAN_1057.png',\n",
       " 'imgs_by_label/stylegan_labeled/stylegan_labeled_imgs/celeba_styleGAN_1061.png',\n",
       " 'imgs_by_label/stylegan_labeled/stylegan_labeled_imgs/celeba_styleGAN_1062.png',\n",
       " 'imgs_by_label/stylegan_labeled/stylegan_labeled_imgs/celeba_styleGAN_1064.png',\n",
       " 'imgs_by_label/stylegan_labeled/stylegan_labeled_imgs/celeba_styleGAN_1065.png',\n",
       " 'imgs_by_label/stylegan_labeled/stylegan_labeled_imgs/celeba_styleGAN_1066.png',\n",
       " 'imgs_by_label/stylegan_labeled/stylegan_labeled_imgs/celeba_styleGAN_1067.png',\n",
       " 'imgs_by_label/stylegan_labeled/stylegan_labeled_imgs/celeba_styleGAN_1069.png',\n",
       " 'imgs_by_label/stylegan_labeled/stylegan_labeled_imgs/celeba_styleGAN_107.png',\n",
       " 'imgs_by_label/stylegan_labeled/stylegan_labeled_imgs/celeba_styleGAN_1072.png',\n",
       " 'imgs_by_label/stylegan_labeled/stylegan_labeled_imgs/celeba_styleGAN_1073.png',\n",
       " 'imgs_by_label/stylegan_labeled/stylegan_labeled_imgs/celeba_styleGAN_1074.png',\n",
       " 'imgs_by_label/stylegan_labeled/stylegan_labeled_imgs/celeba_styleGAN_1076.png',\n",
       " 'imgs_by_label/stylegan_labeled/stylegan_labeled_imgs/celeba_styleGAN_1077.png',\n",
       " 'imgs_by_label/stylegan_labeled/stylegan_labeled_imgs/celeba_styleGAN_1080.png',\n",
       " 'imgs_by_label/stylegan_labeled/stylegan_labeled_imgs/celeba_styleGAN_1081.png',\n",
       " 'imgs_by_label/stylegan_labeled/stylegan_labeled_imgs/celeba_styleGAN_1082.png',\n",
       " 'imgs_by_label/stylegan_labeled/stylegan_labeled_imgs/celeba_styleGAN_1085.png',\n",
       " 'imgs_by_label/stylegan_labeled/stylegan_labeled_imgs/celeba_styleGAN_109.png']"
      ]
     },
     "execution_count": 21,
     "metadata": {},
     "output_type": "execute_result"
    }
   ],
   "source": [
    "train_files"
   ]
  },
  {
   "cell_type": "code",
   "execution_count": null,
   "metadata": {},
   "outputs": [],
   "source": []
  }
 ],
 "metadata": {
  "kernelspec": {
   "display_name": "Python 3",
   "language": "python",
   "name": "python3"
  },
  "language_info": {
   "codemirror_mode": {
    "name": "ipython",
    "version": 3
   },
   "file_extension": ".py",
   "mimetype": "text/x-python",
   "name": "python",
   "nbconvert_exporter": "python",
   "pygments_lexer": "ipython3",
   "version": "3.7.3"
  }
 },
 "nbformat": 4,
 "nbformat_minor": 2
}
