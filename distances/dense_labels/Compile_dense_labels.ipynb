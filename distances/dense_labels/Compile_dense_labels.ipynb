{
 "cells": [
  {
   "cell_type": "code",
   "execution_count": 91,
   "metadata": {},
   "outputs": [],
   "source": [
    "import csv\n",
    "from collections import defaultdict\n",
    "from itertools import islice\n",
    "import os\n",
    "import numpy as np"
   ]
  },
  {
   "cell_type": "code",
   "execution_count": 84,
   "metadata": {},
   "outputs": [],
   "source": [
    "sets = ['progan_val', 'stylegan_val', 'began_val', 'wgan_val',\n",
    "        'progan_test','stylegan_test','began_test','wgan_test']\n",
    "\n",
    "file_strings = ['proGAN', 'styleGAN', 'BEGAN', 'wgan',\n",
    "                'proGAN', 'styleGAN', 'BEGAN', 'wgan',]\n",
    "\n",
    "set_files = ['cleaned_human_hype_train_scores.csv',\n",
    "         '../stylegan_human_scores_cleaned.csv',\n",
    "        './run_2_processed_human_scores.csv',\n",
    "        './run_3_processed_human_scores.csv',\n",
    "        './run_4_processed_human_scores.csv',\n",
    "        './run_5_processed_human_scores.csv',\n",
    "        './run_6_processed_human_scores.csv',\n",
    "        './run_7_processed_human_scores.csv',\n",
    "        ]"
   ]
  },
  {
   "cell_type": "code",
   "execution_count": 87,
   "metadata": {},
   "outputs": [],
   "source": [
    "img_yes_votes = defaultdict(int)\n",
    "img_all_votes = defaultdict(int)\n",
    "\n",
    "for i in range(8):\n",
    "    set_name = sets[i]\n",
    "    file_string = file_strings[i]\n",
    "    set_file = set_files[i]\n",
    "    \n",
    "    with open(set_file, newline='') as csvfile:\n",
    "        reader = csv.reader(csvfile)\n",
    "        for row in islice(reader,1,None):\n",
    "            filename = row[0][5:]\n",
    "\n",
    "            if file_string not in filename: continue\n",
    "            assert(row[0][:5] == 'fake_')\n",
    "\n",
    "            human_label = row[1]\n",
    "            assert(human_label in ('real', 'fake'))\n",
    "\n",
    "            img_all_votes[filename] += 1\n",
    "            if human_label == 'real':\n",
    "                img_yes_votes[filename] += 1\n"
   ]
  },
  {
   "cell_type": "code",
   "execution_count": 88,
   "metadata": {},
   "outputs": [
    {
     "data": {
      "text/plain": [
       "1841"
      ]
     },
     "execution_count": 88,
     "metadata": {},
     "output_type": "execute_result"
    }
   ],
   "source": [
    "dense_labels = progan_val_scores\n",
    "for f in img_all_votes:\n",
    "    yes_votes = img_yes_votes[f] if f in img_yes_votes else 0\n",
    "    all_votes = img_all_votes[f]\n",
    "    frac = yes_votes / all_votes\n",
    "    dense_labels[f] = frac\n",
    "\n",
    "len(dense_labels)"
   ]
  },
  {
   "cell_type": "code",
   "execution_count": 93,
   "metadata": {},
   "outputs": [
    {
     "name": "stdout",
     "output_type": "stream",
     "text": [
      "499\n",
      "450\n",
      "442\n",
      "450\n"
     ]
    }
   ],
   "source": [
    "print(len([x for x in dense_labels.keys() if 'proGAN' in x]))\n",
    "print(len([x for x in dense_labels.keys() if 'styleGAN' in x]))\n",
    "print(len([x for x in dense_labels.keys() if 'BEGAN' in x]))\n",
    "print(len([x for x in dense_labels.keys() if 'wgan' in x]))"
   ]
  },
  {
   "cell_type": "code",
   "execution_count": 94,
   "metadata": {},
   "outputs": [
    {
     "name": "stdout",
     "output_type": "stream",
     "text": [
      "0.5018036072144288\n",
      "0.5617777777777777\n",
      "0.061764705882352944\n",
      "0.044000000000000004\n"
     ]
    }
   ],
   "source": [
    "print(np.mean([y for x,y in dense_labels.items() if 'proGAN' in x]))\n",
    "print(np.mean([y for x,y in dense_labels.items() if 'styleGAN' in x]))\n",
    "print(np.mean([y for x,y in dense_labels.items() if 'BEGAN' in x]))\n",
    "print(np.mean([y for x,y in dense_labels.items() if 'wgan' in x]))"
   ]
  },
  {
   "cell_type": "code",
   "execution_count": 95,
   "metadata": {},
   "outputs": [],
   "source": [
    "for model in ['progan', 'stylegan', 'began', 'wgan']:\n",
    "    with open('../{}_val_set.txt'.format(model)) as f:\n",
    "        val_files = [os.path.split(x.strip())[-1] for x in f.readlines()]\n",
    "        #print(len(val_files), val_files[0:2])\n",
    "    \n",
    "    val_labels = {k:v for k,v in dense_labels.items() if k in val_files}\n",
    "    with open('{}_val_dense_labels.csv'.format(model), 'w') as f:\n",
    "        for k,v in val_labels.items():\n",
    "            f.write(\"{},{}\\n\".format(k,v))\n",
    "        \n",
    "    with open('../{}_test_set.txt'.format(model)) as f:\n",
    "        test_files = [os.path.split(x.strip())[-1] for x in f.readlines()]\n",
    "        #print(len(test_files), test_files[0:2], '\\n')\n",
    "        \n",
    "    test_labels = {k:v for k,v in dense_labels.items() if k in test_files}\n",
    "    with open('{}_test_dense_labels.csv'.format(model), 'w') as f:\n",
    "        for k,v in test_labels.items():\n",
    "            f.write(\"{},{}\\n\".format(k,v))\n",
    "        \n"
   ]
  },
  {
   "cell_type": "code",
   "execution_count": 31,
   "metadata": {},
   "outputs": [
    {
     "data": {
      "text/plain": [
       "250"
      ]
     },
     "execution_count": 31,
     "metadata": {},
     "output_type": "execute_result"
    }
   ],
   "source": [
    "# with open('../expanded_progan_val_set.csv') as f:\n",
    "#     progan_val_scores = {l.strip().split(',')[0][5:] : float(l.strip().split(',')[1]) for l in f.readlines()[1:] if 'fake' in l}\n",
    "\n",
    "# # print(len(human_scores))\n",
    "# # extended_progan_val_files = set(human_scores.keys())\n",
    "\n",
    "# len(progan_val_scores)\n",
    "\n",
    "# progan_val_files_short = set([os.path.split(x)[-1] for x in progan_val_files])\n",
    "# print(len(extended_progan_val_files.intersection(progan_val_files_short)))\n",
    "# print(len(progan_val_files_short))\n",
    "# # for k,v in human_scores.items():\n",
    "# #     print(k,v)"
   ]
  },
  {
   "cell_type": "code",
   "execution_count": 32,
   "metadata": {},
   "outputs": [],
   "source": [
    "# stylegan_val_scores = {}\n",
    "\n",
    "img_yes_votes = defaultdict(int)\n",
    "img_all_votes = defaultdict(int)\n",
    "\n",
    "with open('../stylegan_human_scores_cleaned.csv', newline='') as csvfile:\n",
    "    spamreader = csv.reader(csvfile)\n",
    "    for row in islice(spamreader,1,None):\n",
    "        filename = row[0]\n",
    "        if 'styleGAN' not in filename: continue\n",
    "        filename = filename[5:]\n",
    "            \n",
    "        is_correct = row[2]\n",
    "        \n",
    "        img_all_votes[filename] += 1\n",
    "        if is_correct == 'True':\n",
    "            img_yes_votes[filename] += 1\n",
    "\n",
    "# for f in img_all_votes:\n",
    "#     yes_votes = img_yes_votes[f] if f in img_yes_votes else 0\n",
    "#     all_votes = img_all_votes[f]\n",
    "#     frac = yes_votes / all_votes\n",
    "#     stylegan_val_scores[f] = frac"
   ]
  },
  {
   "cell_type": "code",
   "execution_count": 33,
   "metadata": {},
   "outputs": [],
   "source": [
    "# len(stylegan_val_scores)"
   ]
  },
  {
   "cell_type": "code",
   "execution_count": 34,
   "metadata": {},
   "outputs": [],
   "source": [
    "# began_val_scores = {}\n",
    "\n",
    "# img_yes_votes = defaultdict(int)\n",
    "# img_all_votes = defaultdict(int)\n",
    "\n",
    "with open('./run_2_processed_human_scores.csv', newline='') as csvfile:\n",
    "    spamreader = csv.reader(csvfile)\n",
    "    for row in islice(spamreader,1,None):\n",
    "        filename = row[0]\n",
    "        if 'BEGAN' not in filename: continue\n",
    "        filename = filename[5:]\n",
    "            \n",
    "        is_correct = row[2]\n",
    "        \n",
    "        img_all_votes[filename] += 1\n",
    "        if is_correct == 'True':\n",
    "            img_yes_votes[filename] += 1\n",
    "\n",
    "# for f in img_all_votes:\n",
    "#     yes_votes = img_yes_votes[f] if f in img_yes_votes else 0\n",
    "#     all_votes = img_all_votes[f]\n",
    "#     frac = yes_votes / all_votes\n",
    "#     began_val_scores[f] = frac"
   ]
  },
  {
   "cell_type": "code",
   "execution_count": 35,
   "metadata": {},
   "outputs": [],
   "source": [
    "# len(began_val_scores)"
   ]
  },
  {
   "cell_type": "code",
   "execution_count": 36,
   "metadata": {},
   "outputs": [],
   "source": [
    "# wgan_val_scores = {}\n",
    "\n",
    "# img_yes_votes = defaultdict(int)\n",
    "# img_all_votes = defaultdict(int)\n",
    "\n",
    "with open('./run_3_processed_human_scores.csv', newline='') as csvfile:\n",
    "    spamreader = csv.reader(csvfile)\n",
    "    for row in islice(spamreader,1,None):\n",
    "        filename = row[0]\n",
    "        if 'wgan' not in filename: continue\n",
    "        filename = filename[5:]\n",
    "            \n",
    "        is_correct = row[2]\n",
    "        \n",
    "        img_all_votes[filename] += 1\n",
    "        if is_correct == 'True':\n",
    "            img_yes_votes[filename] += 1\n",
    "\n",
    "# for f in img_all_votes:\n",
    "#     yes_votes = img_yes_votes[f] if f in img_yes_votes else 0\n",
    "#     all_votes = img_all_votes[f]\n",
    "#     frac = yes_votes / all_votes\n",
    "#     wgan_val_scores[f] = frac"
   ]
  },
  {
   "cell_type": "code",
   "execution_count": 37,
   "metadata": {},
   "outputs": [],
   "source": [
    "# len(wgan_val_scores)"
   ]
  },
  {
   "cell_type": "code",
   "execution_count": 38,
   "metadata": {},
   "outputs": [],
   "source": [
    "# progan_test_scores = {}\n",
    "\n",
    "# img_yes_votes = defaultdict(int)\n",
    "# img_all_votes = defaultdict(int)\n",
    "\n",
    "with open('./run_4_processed_human_scores.csv', newline='') as csvfile:\n",
    "    spamreader = csv.reader(csvfile)\n",
    "    for row in islice(spamreader,1,None):\n",
    "        filename = row[0]\n",
    "        if 'proGAN' not in filename: continue\n",
    "        filename = filename[5:]\n",
    "            \n",
    "        is_correct = row[2]\n",
    "        \n",
    "        img_all_votes[filename] += 1\n",
    "        if is_correct == 'True':\n",
    "            img_yes_votes[filename] += 1\n",
    "\n",
    "# for f in img_all_votes:\n",
    "#     yes_votes = img_yes_votes[f] if f in img_yes_votes else 0\n",
    "#     all_votes = img_all_votes[f]\n",
    "#     frac = yes_votes / all_votes\n",
    "#     progan_test_scores[f] = frac\n",
    "    \n",
    "# len(progan_test_scores)"
   ]
  },
  {
   "cell_type": "code",
   "execution_count": 39,
   "metadata": {},
   "outputs": [],
   "source": [
    "# stylegan_test_scores = {}\n",
    "\n",
    "# img_yes_votes = defaultdict(int)\n",
    "# img_all_votes = defaultdict(int)\n",
    "\n",
    "with open('./run_5_processed_human_scores.csv', newline='') as csvfile:\n",
    "    spamreader = csv.reader(csvfile)\n",
    "    for row in islice(spamreader,1,None):\n",
    "        filename = row[0]\n",
    "        if 'styleGAN' not in filename: continue\n",
    "        filename = filename[5:]\n",
    "            \n",
    "        is_correct = row[2]\n",
    "        \n",
    "        img_all_votes[filename] += 1\n",
    "        if is_correct == 'True':\n",
    "            img_yes_votes[filename] += 1\n",
    "\n",
    "# for f in img_all_votes:\n",
    "#     yes_votes = img_yes_votes[f] if f in img_yes_votes else 0\n",
    "#     all_votes = img_all_votes[f]\n",
    "#     frac = yes_votes / all_votes\n",
    "#     stylegan_test_scores[f] = frac\n",
    "    \n",
    "# len(stylegan_test_scores)"
   ]
  },
  {
   "cell_type": "code",
   "execution_count": 40,
   "metadata": {},
   "outputs": [],
   "source": [
    "# began_test_scores = {}\n",
    "\n",
    "# img_yes_votes = defaultdict(int)\n",
    "# img_all_votes = defaultdict(int)\n",
    "\n",
    "with open('./run_6_processed_human_scores.csv', newline='') as csvfile:\n",
    "    spamreader = csv.reader(csvfile)\n",
    "    for row in islice(spamreader,1,None):\n",
    "        filename = row[0]\n",
    "        if 'BEGAN' not in filename: continue\n",
    "        filename = filename[5:]\n",
    "            \n",
    "        is_correct = row[2]\n",
    "        \n",
    "        img_all_votes[filename] += 1\n",
    "        if is_correct == 'True':\n",
    "            img_yes_votes[filename] += 1\n",
    "\n",
    "# for f in img_all_votes:\n",
    "#     yes_votes = img_yes_votes[f] if f in img_yes_votes else 0\n",
    "#     all_votes = img_all_votes[f]\n",
    "#     frac = yes_votes / all_votes\n",
    "#     began_test_scores[f] = frac\n",
    "    \n",
    "# len(began_test_scores)"
   ]
  },
  {
   "cell_type": "code",
   "execution_count": 41,
   "metadata": {},
   "outputs": [],
   "source": [
    "# wgan_test_scores = {}\n",
    "\n",
    "# img_yes_votes = defaultdict(int)\n",
    "# img_all_votes = defaultdict(int)\n",
    "\n",
    "with open('./run_7_processed_human_scores.csv', newline='') as csvfile:\n",
    "    spamreader = csv.reader(csvfile)\n",
    "    for row in islice(spamreader,1,None):\n",
    "        filename = row[0]\n",
    "        if 'wgan' not in filename: continue\n",
    "        filename = filename[5:]\n",
    "            \n",
    "        is_correct = row[2]\n",
    "        \n",
    "        img_all_votes[filename] += 1\n",
    "        if is_correct == 'True':\n",
    "            img_yes_votes[filename] += 1\n",
    "\n",
    "# for f in img_all_votes:\n",
    "#     yes_votes = img_yes_votes[f] if f in img_yes_votes else 0\n",
    "#     all_votes = img_all_votes[f]\n",
    "#     frac = yes_votes / all_votes\n",
    "#     wgan_test_scores[f] = frac\n",
    "    \n",
    "# len(wgan_test_scores)"
   ]
  },
  {
   "cell_type": "code",
   "execution_count": 42,
   "metadata": {},
   "outputs": [
    {
     "data": {
      "text/plain": [
       "1841"
      ]
     },
     "execution_count": 42,
     "metadata": {},
     "output_type": "execute_result"
    }
   ],
   "source": [
    "len(img_all_votes) + len(progan_val_scores)"
   ]
  },
  {
   "cell_type": "code",
   "execution_count": 44,
   "metadata": {},
   "outputs": [
    {
     "data": {
      "text/plain": [
       "1841"
      ]
     },
     "execution_count": 44,
     "metadata": {},
     "output_type": "execute_result"
    }
   ],
   "source": [
    "dense_labels = progan_val_scores\n",
    "for f in img_all_votes:\n",
    "    yes_votes = img_yes_votes[f] if f in img_yes_votes else 0\n",
    "    all_votes = img_all_votes[f]\n",
    "    frac = yes_votes / all_votes\n",
    "    dense_labels[f] = frac\n",
    "\n",
    "len(dense_labels)"
   ]
  },
  {
   "cell_type": "code",
   "execution_count": 45,
   "metadata": {},
   "outputs": [
    {
     "name": "stdout",
     "output_type": "stream",
     "text": [
      "499\n",
      "450\n",
      "442\n",
      "450\n"
     ]
    }
   ],
   "source": [
    "print(len([x for x in dense_labels.keys() if 'proGAN' in x]))\n",
    "print(len([x for x in dense_labels.keys() if 'styleGAN' in x]))\n",
    "print(len([x for x in dense_labels.keys() if 'BEGAN' in x]))\n",
    "print(len([x for x in dense_labels.keys() if 'wgan' in x]))"
   ]
  },
  {
   "cell_type": "code",
   "execution_count": 50,
   "metadata": {},
   "outputs": [],
   "source": [
    "for model in ['progan', 'stylegan', 'began', 'wgan']:\n",
    "    with open('../{}_val_set.txt'.format(model)) as f:\n",
    "        val_files = [os.path.split(x.strip())[-1] for x in f.readlines()]\n",
    "        #print(len(val_files), val_files[0:2])\n",
    "    \n",
    "    val_labels = {k:v for k,v in dense_labels.items() if k in val_files}\n",
    "    with open('{}_val_dense_labels.csv'.format(model), 'w') as f:\n",
    "        for k,v in val_labels.items():\n",
    "            f.write(\"{},{}\\n\".format(k,v))\n",
    "        \n",
    "    with open('../{}_test_set.txt'.format(model)) as f:\n",
    "        test_files = [os.path.split(x.strip())[-1] for x in f.readlines()]\n",
    "        #print(len(test_files), test_files[0:2], '\\n')\n",
    "        \n",
    "    test_labels = {k:v for k,v in dense_labels.items() if k in test_files}\n",
    "    with open('{}_test_dense_labels.csv'.format(model), 'w') as f:\n",
    "        for k,v in test_labels.items():\n",
    "            f.write(\"{},{}\\n\".format(k,v))\n",
    "        \n"
   ]
  },
  {
   "cell_type": "code",
   "execution_count": 47,
   "metadata": {},
   "outputs": [],
   "source": [
    "# with open('dense_labels.csv', 'w') as f:\n",
    "#     for k,v in dense_labels.items():\n",
    "#         f.write(\"%s,%s\\n\"%(k,v))"
   ]
  },
  {
   "cell_type": "code",
   "execution_count": 48,
   "metadata": {},
   "outputs": [],
   "source": [
    "# progan_val_set = set(progan_val_scores.keys())\n",
    "# progan_test_set = set(progan_test_scores.keys())\n",
    "# stylegan_val_set = set(stylegan_val_scores.keys())\n",
    "# stylegan_test_set = set(stylegan_test_scores.keys())\n",
    "# began_val_set = set(began_val_scores.keys())\n",
    "# began_test_set = set(began_test_scores.keys())\n",
    "# wgan_val_set = set(wgan_val_scores.keys())\n",
    "# wgan_test_set = set(wgan_test_scores.keys())\n",
    "\n",
    "# print(len(progan_val_set.intersection(progan_test_set)))\n",
    "# print(len(stylegan_val_set.intersection(stylegan_test_set)))\n",
    "# print(len(began_val_set.intersection(began_test_set)))\n",
    "# print(len(wgan_val_set.intersection(wgan_test_set)))"
   ]
  },
  {
   "cell_type": "code",
   "execution_count": 49,
   "metadata": {},
   "outputs": [],
   "source": [
    "# print(len(stylegan_val_set.difference(stylegan_test_set)))\n",
    "# print(len(stylegan_test_set.difference(stylegan_val_set)))\n",
    "\n",
    "# print(len(began_val_set.difference(began_test_set)))\n",
    "# print(len(began_test_set.difference(began_val_set)))\n",
    "\n",
    "# print(len(wgan_val_set.difference(began_test_set)))\n",
    "# print(len(wgan_test_set.difference(began_val_set)))"
   ]
  },
  {
   "cell_type": "code",
   "execution_count": null,
   "metadata": {},
   "outputs": [],
   "source": []
  }
 ],
 "metadata": {
  "kernelspec": {
   "display_name": "Python 3",
   "language": "python",
   "name": "python3"
  },
  "language_info": {
   "codemirror_mode": {
    "name": "ipython",
    "version": 3
   },
   "file_extension": ".py",
   "mimetype": "text/x-python",
   "name": "python",
   "nbconvert_exporter": "python",
   "pygments_lexer": "ipython3",
   "version": "3.7.3"
  }
 },
 "nbformat": 4,
 "nbformat_minor": 2
}
