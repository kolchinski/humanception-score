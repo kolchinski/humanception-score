{
 "cells": [
  {
   "cell_type": "code",
   "execution_count": 30,
   "metadata": {},
   "outputs": [],
   "source": [
    "import csv\n",
    "from itertools import islice, combinations\n",
    "from collections import defaultdict\n",
    "import matplotlib.pyplot as plt\n",
    "import os\n",
    "import numpy as np"
   ]
  },
  {
   "cell_type": "code",
   "execution_count": 2,
   "metadata": {},
   "outputs": [],
   "source": [
    "dataset_counts = defaultdict(int)\n",
    "img_counts = defaultdict(lambda : defaultdict(int))\n",
    "unique_imgs = defaultdict(set)\n",
    "img_votes = defaultdict(lambda: defaultdict(lambda: [0,0])) #no,yes tuples by dataset and image\n",
    "\n",
    "with open('../all_gans_inf.csv') as f:\n",
    "    reader = csv.DictReader(f)\n",
    "    for row in islice(reader, None):\n",
    "        img = row['img']        \n",
    "#         dataset_name = img[:img.index('/')]\n",
    "        split_name = img.split('/')\n",
    "        assert(len(split_name) == 2)\n",
    "        dataset_name, img_name = split_name\n",
    "        \n",
    "        vote_index = 1 if row['correctness'] == row['realness'] else 0\n",
    "        img_votes[dataset_name][img_name][vote_index] += 1\n",
    "        \n",
    "        dataset_counts[dataset_name] += 1\n",
    "        img_counts[dataset_name][img_name] += 1\n",
    "unique_imgs = {dataset: len(img_counts[dataset]) for dataset in img_counts}"
   ]
  },
  {
   "cell_type": "code",
   "execution_count": 3,
   "metadata": {},
   "outputs": [
    {
     "name": "stdout",
     "output_type": "stream",
     "text": [
      "588 310\n"
     ]
    }
   ],
   "source": [
    "trues = 0\n",
    "falses = 0\n",
    "for f,t in img_votes['progan5000'].values():\n",
    "    for rating_pair in combinations(f * [0] + t * [1], 2):\n",
    "        if rating_pair[0] == rating_pair[1]: trues += 1\n",
    "        else: falses += 1\n",
    "print(trues, falses)"
   ]
  },
  {
   "cell_type": "code",
   "execution_count": 4,
   "metadata": {},
   "outputs": [
    {
     "data": {
      "text/plain": [
       "0.6547884187082406"
      ]
     },
     "execution_count": 4,
     "metadata": {},
     "output_type": "execute_result"
    }
   ],
   "source": [
    "trues/(falses + trues)"
   ]
  },
  {
   "cell_type": "code",
   "execution_count": 5,
   "metadata": {},
   "outputs": [
    {
     "name": "stdout",
     "output_type": "stream",
     "text": [
      "1330 928 0.5890168290522586\n"
     ]
    }
   ],
   "source": [
    "trues = 0\n",
    "falses = 0\n",
    "for f,t in img_votes['styleganceleba5000'].values():\n",
    "    for rating_pair in combinations(f * [0] + t * [1], 2):\n",
    "        if rating_pair[0] == rating_pair[1]: trues += 1\n",
    "        else: falses += 1\n",
    "print(trues, falses, trues/(falses+trues))"
   ]
  },
  {
   "cell_type": "code",
   "execution_count": 11,
   "metadata": {},
   "outputs": [],
   "source": [
    "nvidia_score = {}\n",
    "with open('nvidia_realism_scores.csv') as f:\n",
    "    reader = csv.reader(f)\n",
    "    for row in islice(reader, 1, None):\n",
    "        nvidia_score[row[0]] = float(row[1])"
   ]
  },
  {
   "cell_type": "code",
   "execution_count": 37,
   "metadata": {},
   "outputs": [
    {
     "data": {
      "text/plain": [
       "(223, 310, 196, 425, 1154)"
      ]
     },
     "execution_count": 37,
     "metadata": {},
     "output_type": "execute_result"
    }
   ],
   "source": [
    "nvidia_progan = [(k,v) for k,v in nvidia_score.items() if 'proGAN' in k]\n",
    "nvidia_stylegan = [(k,v) for k,v in nvidia_score.items() if 'styleGAN' in k]\n",
    "nvidia_began = [(k,v) for k,v in nvidia_score.items() if 'BEGAN' in k]\n",
    "nvidia_wgan = [(k,v) for k,v in nvidia_score.items() if 'wgan' in k]\n",
    "\n",
    "len(nvidia_progan), len(nvidia_stylegan), len(nvidia_began), len(nvidia_wgan), len(nvidia_score)"
   ]
  },
  {
   "cell_type": "code",
   "execution_count": 71,
   "metadata": {},
   "outputs": [
    {
     "name": "stdout",
     "output_type": "stream",
     "text": [
      "0.34977578475336324 0.5870967741935483 0.23469387755102042 0.1388235294117647\n"
     ]
    }
   ],
   "source": [
    "print(\\\n",
    "np.mean([x[1] > 1 for x in nvidia_progan]),\n",
    "np.mean([x[1] > 1 for x in nvidia_stylegan]),\n",
    "np.mean([x[1] > 1 for x in nvidia_began]),\n",
    "np.mean([x[1] > 1 for x in nvidia_wgan])\n",
    ")"
   ]
  },
  {
   "cell_type": "code",
   "execution_count": 45,
   "metadata": {},
   "outputs": [
    {
     "data": {
      "text/plain": [
       "1592"
      ]
     },
     "execution_count": 45,
     "metadata": {},
     "output_type": "execute_result"
    }
   ],
   "source": [
    "gan_models = ['progan', 'stylegan', 'began', 'wgan']\n",
    "\n",
    "dense_labels = {}\n",
    "#dense_labels['val'] = {}\n",
    "#dense_labels['test'] = {}\n",
    "\n",
    "for m in gan_models:\n",
    "    for val_or_test in ('val', 'test'):\n",
    "        with open('dense_labels/{}_{}_dense_labels.csv'.format(m, val_or_test)) as f:\n",
    "            reader = csv.reader(f)\n",
    "            for row in islice(reader,None):\n",
    "                dense_labels[row[0]] = round(float(row[1]))\n",
    "                #print(row[0], float(row[1]))\n",
    "\n",
    "len(dense_labels)"
   ]
  },
  {
   "cell_type": "code",
   "execution_count": 54,
   "metadata": {},
   "outputs": [],
   "source": [
    "sets = ['progan_val', 'stylegan_val', 'began_val', 'wgan_val',\n",
    "        'progan_test','stylegan_test','began_test','wgan_test']\n",
    "\n",
    "file_strings = ['proGAN', 'styleGAN', 'BEGAN', 'wgan',\n",
    "                'proGAN', 'styleGAN', 'BEGAN', 'wgan',]\n",
    "\n",
    "set_files = ['dense_labels/cleaned_human_hype_train_scores.csv',\n",
    "         './stylegan_human_scores_cleaned.csv',\n",
    "        './dense_labels/run_2_processed_human_scores.csv',\n",
    "        './dense_labels/run_3_processed_human_scores.csv',\n",
    "        './dense_labels/run_4_processed_human_scores.csv',\n",
    "        './dense_labels/run_5_processed_human_scores.csv',\n",
    "        './dense_labels/run_6_processed_human_scores.csv',\n",
    "        './dense_labels/run_7_processed_human_scores.csv',\n",
    "        ]"
   ]
  },
  {
   "cell_type": "code",
   "execution_count": 56,
   "metadata": {},
   "outputs": [],
   "source": [
    "img_yes_votes = defaultdict(int)\n",
    "img_all_votes = defaultdict(int)\n",
    "\n",
    "for i in range(8):\n",
    "    set_name = sets[i]\n",
    "    file_string = file_strings[i]\n",
    "    set_file = set_files[i]\n",
    "    \n",
    "    with open(set_file, newline='') as csvfile:\n",
    "        reader = csv.reader(csvfile)\n",
    "        for row in islice(reader,1,None):\n",
    "            filename = row[0][5:]\n",
    "\n",
    "            if file_string not in filename: continue\n",
    "            assert(row[0][:5] == 'fake_')\n",
    "\n",
    "            human_label = row[1]\n",
    "            assert(human_label in ('real', 'fake'))\n",
    "\n",
    "            img_all_votes[filename] += 1\n",
    "            if human_label == 'real':\n",
    "                img_yes_votes[filename] += 1\n"
   ]
  },
  {
   "cell_type": "code",
   "execution_count": 51,
   "metadata": {},
   "outputs": [
    {
     "data": {
      "text/plain": [
       "'/Users/alexkolchinski/git/humanception-score/distances'"
      ]
     },
     "execution_count": 51,
     "metadata": {},
     "output_type": "execute_result"
    }
   ],
   "source": [
    "img"
   ]
  },
  {
   "cell_type": "code",
   "execution_count": 62,
   "metadata": {},
   "outputs": [],
   "source": [
    "def img_model(filename):\n",
    "    if 'proGAN' in filename: return 'progan'\n",
    "    if 'styleGAN' in filename: return 'stylegan'\n",
    "    if 'BEGAN' in filename: return 'began'\n",
    "    if 'wgan' in filename: return 'wgan'"
   ]
  },
  {
   "cell_type": "code",
   "execution_count": 63,
   "metadata": {},
   "outputs": [],
   "source": [
    "agrees = defaultdict(int)\n",
    "disagrees = defaultdict(int)\n",
    "\n",
    "for img, nv in nvidia_score.items():\n",
    "    nvidia_guess = nv > 1.\n",
    "    yes_votes = img_yes_votes[img]\n",
    "    no_votes = img_all_votes[img] - yes_votes\n",
    "    model = img_model(img)\n",
    "    \n",
    "    for i in range(yes_votes):\n",
    "        if nvidia_guess: agrees[model] += 1\n",
    "        else: disagrees[model] += 1\n",
    "    \n",
    "    for i in range(no_votes):\n",
    "        if nvidia_guess: disagrees[model] += 1\n",
    "        else: agrees[model] += 1\n"
   ]
  },
  {
   "cell_type": "code",
   "execution_count": 64,
   "metadata": {},
   "outputs": [
    {
     "data": {
      "text/plain": [
       "defaultdict(int, {'began': 733, 'wgan': 835, 'progan': 570, 'stylegan': 526})"
      ]
     },
     "execution_count": 64,
     "metadata": {},
     "output_type": "execute_result"
    }
   ],
   "source": [
    "agrees"
   ]
  },
  {
   "cell_type": "code",
   "execution_count": 65,
   "metadata": {},
   "outputs": [
    {
     "data": {
      "text/plain": [
       "defaultdict(int, {'began': 247, 'wgan': 165, 'progan': 430, 'stylegan': 474})"
      ]
     },
     "execution_count": 65,
     "metadata": {},
     "output_type": "execute_result"
    }
   ],
   "source": [
    "disagrees"
   ]
  },
  {
   "cell_type": "code",
   "execution_count": 67,
   "metadata": {},
   "outputs": [
    {
     "data": {
      "text/plain": [
       "{'began': 0.7479591836734694, 'wgan': 0.835, 'progan': 0.57, 'stylegan': 0.526}"
      ]
     },
     "execution_count": 67,
     "metadata": {},
     "output_type": "execute_result"
    }
   ],
   "source": [
    "agreement_rates = {k:v/(v+disagrees[k]) for k,v in agrees.items()}\n",
    "agreement_rates"
   ]
  },
  {
   "cell_type": "code",
   "execution_count": null,
   "metadata": {},
   "outputs": [],
   "source": []
  }
 ],
 "metadata": {
  "kernelspec": {
   "display_name": "Python 3",
   "language": "python",
   "name": "python3"
  },
  "language_info": {
   "codemirror_mode": {
    "name": "ipython",
    "version": 3
   },
   "file_extension": ".py",
   "mimetype": "text/x-python",
   "name": "python",
   "nbconvert_exporter": "python",
   "pygments_lexer": "ipython3",
   "version": "3.7.3"
  }
 },
 "nbformat": 4,
 "nbformat_minor": 2
}
