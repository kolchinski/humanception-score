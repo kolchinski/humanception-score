{
 "cells": [
  {
   "cell_type": "code",
   "execution_count": 7,
   "metadata": {},
   "outputs": [],
   "source": [
    "import csv\n",
    "from itertools import islice, combinations\n",
    "from collections import defaultdict\n",
    "import matplotlib.pyplot as plt\n",
    "import os\n"
   ]
  },
  {
   "cell_type": "code",
   "execution_count": 2,
   "metadata": {},
   "outputs": [],
   "source": [
    "dataset_counts = defaultdict(int)\n",
    "img_counts = defaultdict(lambda : defaultdict(int))\n",
    "unique_imgs = defaultdict(set)\n",
    "img_votes = defaultdict(lambda: defaultdict(lambda: [0,0])) #no,yes tuples by dataset and image\n",
    "\n",
    "with open('../all_gans_inf.csv') as f:\n",
    "    reader = csv.DictReader(f)\n",
    "    for row in islice(reader, None):\n",
    "        img = row['img']        \n",
    "#         dataset_name = img[:img.index('/')]\n",
    "        split_name = img.split('/')\n",
    "        assert(len(split_name) == 2)\n",
    "        dataset_name, img_name = split_name\n",
    "        \n",
    "        vote_index = 1 if row['correctness'] == row['realness'] else 0\n",
    "        img_votes[dataset_name][img_name][vote_index] += 1\n",
    "        \n",
    "        dataset_counts[dataset_name] += 1\n",
    "        img_counts[dataset_name][img_name] += 1\n",
    "unique_imgs = {dataset: len(img_counts[dataset]) for dataset in img_counts}"
   ]
  },
  {
   "cell_type": "code",
   "execution_count": 16,
   "metadata": {},
   "outputs": [
    {
     "name": "stdout",
     "output_type": "stream",
     "text": [
      "588 310\n"
     ]
    }
   ],
   "source": [
    "trues = 0\n",
    "falses = 0\n",
    "for f,t in img_votes['progan5000'].values():\n",
    "    for rating_pair in combinations(f * [0] + t * [1], 2):\n",
    "        if rating_pair[0] == rating_pair[1]: trues += 1\n",
    "        else: falses += 1\n",
    "print(trues, falses)"
   ]
  },
  {
   "cell_type": "code",
   "execution_count": 18,
   "metadata": {},
   "outputs": [
    {
     "data": {
      "text/plain": [
       "0.6547884187082406"
      ]
     },
     "execution_count": 18,
     "metadata": {},
     "output_type": "execute_result"
    }
   ],
   "source": [
    "trues/(falses + trues)"
   ]
  },
  {
   "cell_type": "code",
   "execution_count": 19,
   "metadata": {},
   "outputs": [
    {
     "name": "stdout",
     "output_type": "stream",
     "text": [
      "1330 928 0.5890168290522586\n"
     ]
    }
   ],
   "source": [
    "trues = 0\n",
    "falses = 0\n",
    "for f,t in img_votes['styleganceleba5000'].values():\n",
    "    for rating_pair in combinations(f * [0] + t * [1], 2):\n",
    "        if rating_pair[0] == rating_pair[1]: trues += 1\n",
    "        else: falses += 1\n",
    "print(trues, falses, trues/(falses+trues))"
   ]
  },
  {
   "cell_type": "code",
   "execution_count": null,
   "metadata": {},
   "outputs": [],
   "source": []
  }
 ],
 "metadata": {
  "kernelspec": {
   "display_name": "Python 3",
   "language": "python",
   "name": "python3"
  },
  "language_info": {
   "codemirror_mode": {
    "name": "ipython",
    "version": 3
   },
   "file_extension": ".py",
   "mimetype": "text/x-python",
   "name": "python",
   "nbconvert_exporter": "python",
   "pygments_lexer": "ipython3",
   "version": "3.7.3"
  }
 },
 "nbformat": 4,
 "nbformat_minor": 2
}
