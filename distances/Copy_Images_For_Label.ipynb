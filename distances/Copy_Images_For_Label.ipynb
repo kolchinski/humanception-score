{
 "cells": [
  {
   "cell_type": "code",
   "execution_count": 13,
   "metadata": {},
   "outputs": [],
   "source": [
    "import os"
   ]
  },
  {
   "cell_type": "code",
   "execution_count": 11,
   "metadata": {},
   "outputs": [
    {
     "name": "stdout",
     "output_type": "stream",
     "text": [
      "50\n",
      "50\n",
      "50\n",
      "50\n",
      "50\n",
      "50\n",
      "50\n",
      "50\n",
      "50\n",
      "50\n",
      "50\n",
      "50\n",
      "50\n",
      "50\n",
      "50\n",
      "50\n",
      "50\n",
      "50\n",
      "50\n",
      "50\n",
      "50\n"
     ]
    }
   ],
   "source": [
    "for d in os.listdir('run_1'):\n",
    "    if d == '.DS_Store': continue\n",
    "    print(len(os.listdir('run_1/' + d)))\n",
    "    continue\n",
    "    for f in os.listdir('run_1/' + d):\n",
    "        #print(f)\n",
    "        if 'proGAN' in f:\n",
    "            os.system('rm {}'.format('run_1/' + d + '/' + f))"
   ]
  },
  {
   "cell_type": "code",
   "execution_count": 1,
   "metadata": {},
   "outputs": [
    {
     "data": {
      "text/plain": [
       "310"
      ]
     },
     "execution_count": 1,
     "metadata": {},
     "output_type": "execute_result"
    }
   ],
   "source": [
    "with open('stylegan_val_set.txt') as f:\n",
    "    val_files = [x.strip() for x in f.readlines()]\n",
    "len(val_files)"
   ]
  },
  {
   "cell_type": "code",
   "execution_count": 3,
   "metadata": {},
   "outputs": [
    {
     "data": {
      "text/plain": [
       "['imgs_by_label/stylegan_labeled/stylegan_labeled_imgs/celeba_styleGAN_1006.png',\n",
       " 'imgs_by_label/stylegan_labeled/stylegan_labeled_imgs/celeba_styleGAN_1025.png',\n",
       " 'imgs_by_label/stylegan_labeled/stylegan_labeled_imgs/celeba_styleGAN_1043.png']"
      ]
     },
     "execution_count": 3,
     "metadata": {},
     "output_type": "execute_result"
    }
   ],
   "source": [
    "val_set = val_files\n",
    "val_set[:3]"
   ]
  },
  {
   "cell_type": "code",
   "execution_count": 16,
   "metadata": {},
   "outputs": [],
   "source": [
    "for img_set in range(4):\n",
    "    for worker_num in range(5):\n",
    "        dst_dir = './imgs_for_labeling/run_1/worker_{}/'.format(img_set*5 + worker_num)\n",
    "        for f in val_set[img_set*50 : (img_set+1)*50]:\n",
    "            filename = os.path.split(f)[-1]\n",
    "            os.system('cp {} {}'.format(f, dst_dir + 'fake_' + filename))"
   ]
  },
  {
   "cell_type": "code",
   "execution_count": 12,
   "metadata": {},
   "outputs": [
    {
     "name": "stdout",
     "output_type": "stream",
     "text": [
      "ls: imgs_by_label/stylegan_labeled/stylegan_labeled_imgs: No such file or directory\r\n"
     ]
    }
   ],
   "source": [
    "%ls 'imgs_by_label/stylegan_labeled/stylegan_labeled_imgs'"
   ]
  },
  {
   "cell_type": "code",
   "execution_count": 18,
   "metadata": {},
   "outputs": [
    {
     "data": {
      "text/plain": [
       "50"
      ]
     },
     "execution_count": 18,
     "metadata": {},
     "output_type": "execute_result"
    }
   ],
   "source": [
    "with open('stylegan_train_set.txt') as f:\n",
    "    train_files = [x.strip() for x in f.readlines()][:50]\n",
    "len(train_files)"
   ]
  },
  {
   "cell_type": "code",
   "execution_count": null,
   "metadata": {},
   "outputs": [],
   "source": [
    "dst_dir = './imgs_for_labeling/run_1/spammers/'\n",
    "for f in train_files:\n",
    "    filename = os.path.split(f)[-1]\n",
    "    print('cp {} {}'.format(f, dst_dir + 'fake_' + filename))"
   ]
  },
  {
   "cell_type": "code",
   "execution_count": null,
   "metadata": {},
   "outputs": [],
   "source": [
    "train_files"
   ]
  },
  {
   "cell_type": "markdown",
   "metadata": {},
   "source": [
    "Now, for the rest of the sets..."
   ]
  },
  {
   "cell_type": "code",
   "execution_count": 10,
   "metadata": {},
   "outputs": [
    {
     "data": {
      "text/plain": [
       "'began_train'"
      ]
     },
     "execution_count": 10,
     "metadata": {},
     "output_type": "execute_result"
    }
   ],
   "source": [
    "\"began_val\".split('_')[0] + '_train'"
   ]
  },
  {
   "cell_type": "code",
   "execution_count": 15,
   "metadata": {},
   "outputs": [
    {
     "name": "stdout",
     "output_type": "stream",
     "text": [
      "2 began_val\n",
      "3 wgan_val\n",
      "4 progan_test\n",
      "5 stylegan_test\n",
      "6 began_test\n",
      "7 wgan_test\n"
     ]
    }
   ],
   "source": [
    "sets_to_label = [\"began_val\", \"wgan_val\", \"progan_test\", \"stylegan_test\", \"began_test\", \"wgan_test\"]\n",
    "\n",
    "for i, s in enumerate(sets_to_label):\n",
    "    run_num = i + 2\n",
    "    os.system('mkdir ./imgs_for_labeling/run_{}'.format(run_num))\n",
    "    print(run_num, s)\n",
    "    \n",
    "    with open('{}_set.txt'.format(s)) as set_file:\n",
    "        filenames = [x.strip() for x in set_file.readlines()]\n",
    "    #print(len(filenames), '\\n', filenames[0], '\\n', filenames[-1], '\\n')\n",
    "    \n",
    "    with open('{}_set.txt'.format(s.split('_')[0] + '_train')) as train_set_file:\n",
    "        train_filenames = [x.strip() for x in train_set_file.readlines()]\n",
    "    \n",
    "    # 'Spammers' folder (tutorial set)\n",
    "    spammers_dir = './imgs_for_labeling/run_{}/spammers/'.format(run_num)\n",
    "    os.system('mkdir {}'.format(spammers_dir))\n",
    "    \n",
    "    #Copy real images\n",
    "    os.system('cp ./imgs_for_labeling/run_0/spammers/*crop.jpg {}'.format(spammers_dir))\n",
    "    \n",
    "    #Copy fake images\n",
    "    for f in train_filenames[:50]:\n",
    "        filename = os.path.split(f)[-1]\n",
    "        os.system('cp {} {}'.format(f, spammers_dir + 'fake_' + filename))\n",
    "    \n",
    "    # Runs 0 thru 19\n",
    "    for img_set in range(4):\n",
    "        for worker_num in range(5):\n",
    "            dst_dir = './imgs_for_labeling/run_{}/worker_{}/'.format(run_num, img_set*5 + worker_num)\n",
    "            os.system('mkdir {}'.format(dst_dir))\n",
    "            \n",
    "            #Copy real images\n",
    "            os.system('cp ./imgs_for_labeling/run_0/worker_0/*crop.jpg {}'.format(dst_dir))\n",
    "            \n",
    "            #Copy fake images\n",
    "            for f in filenames[img_set*50 : (img_set+1)*50]:\n",
    "                filename = os.path.split(f)[-1]\n",
    "                os.system('cp {} {}'.format(f, dst_dir + 'fake_' + filename))"
   ]
  },
  {
   "cell_type": "code",
   "execution_count": 20,
   "metadata": {},
   "outputs": [
    {
     "name": "stdout",
     "output_type": "stream",
     "text": [
      "100\n",
      "100\n",
      "100\n",
      "100\n",
      "100\n",
      "100\n",
      "100\n",
      "100\n",
      "100\n",
      "100\n",
      "100\n",
      "100\n",
      "100\n",
      "100\n",
      "100\n",
      "100\n",
      "96\n",
      "96\n",
      "96\n",
      "96\n",
      "96\n",
      "100\n",
      "100\n",
      "100\n",
      "100\n",
      "100\n",
      "100\n",
      "100\n",
      "100\n",
      "100\n",
      "100\n",
      "100\n",
      "100\n",
      "100\n",
      "100\n",
      "100\n",
      "100\n",
      "100\n",
      "100\n",
      "100\n",
      "100\n",
      "100\n",
      "100\n",
      "100\n",
      "100\n",
      "100\n",
      "100\n",
      "100\n",
      "100\n",
      "100\n",
      "100\n",
      "100\n",
      "100\n",
      "100\n",
      "100\n",
      "100\n",
      "100\n",
      "100\n",
      "100\n",
      "100\n",
      "100\n",
      "100\n",
      "100\n",
      "100\n",
      "100\n",
      "100\n",
      "100\n",
      "100\n",
      "100\n",
      "100\n",
      "100\n",
      "100\n",
      "100\n",
      "100\n",
      "100\n",
      "100\n",
      "100\n",
      "100\n",
      "100\n",
      "100\n",
      "100\n",
      "100\n",
      "100\n",
      "100\n",
      "100\n",
      "100\n",
      "100\n",
      "100\n",
      "100\n",
      "100\n",
      "100\n",
      "100\n",
      "100\n",
      "100\n",
      "100\n",
      "100\n",
      "100\n",
      "100\n",
      "100\n",
      "100\n",
      "96\n",
      "96\n",
      "96\n",
      "96\n",
      "96\n",
      "100\n",
      "100\n",
      "100\n",
      "100\n",
      "100\n",
      "100\n",
      "100\n",
      "100\n",
      "100\n",
      "100\n",
      "100\n",
      "100\n",
      "100\n",
      "100\n",
      "100\n",
      "100\n",
      "100\n",
      "100\n",
      "100\n",
      "100\n",
      "100\n"
     ]
    }
   ],
   "source": [
    "for i, s in enumerate(sets_to_label):\n",
    "    run_num = i + 2\n",
    "    #print(os.listdir('./imgs_for_labeling/run_{}'.format(run_num)))\n",
    "    spammers_dir = './imgs_for_labeling/run_{}/spammers/'.format(run_num)\n",
    "    print(len(os.listdir(spammers_dir)))\n",
    "    \n",
    "    for img_set in range(4):\n",
    "        for worker_num in range(5):\n",
    "            dst_dir = './imgs_for_labeling/run_{}/worker_{}/'.format(run_num, img_set*5 + worker_num)\n",
    "            print(len(os.listdir(dst_dir)))\n"
   ]
  },
  {
   "cell_type": "code",
   "execution_count": null,
   "metadata": {},
   "outputs": [],
   "source": []
  }
 ],
 "metadata": {
  "kernelspec": {
   "display_name": "Python 3",
   "language": "python",
   "name": "python3"
  },
  "language_info": {
   "codemirror_mode": {
    "name": "ipython",
    "version": 3
   },
   "file_extension": ".py",
   "mimetype": "text/x-python",
   "name": "python",
   "nbconvert_exporter": "python",
   "pygments_lexer": "ipython3",
   "version": "3.7.3"
  }
 },
 "nbformat": 4,
 "nbformat_minor": 2
}
