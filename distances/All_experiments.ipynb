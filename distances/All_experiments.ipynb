{
 "cells": [
  {
   "cell_type": "code",
   "execution_count": 1,
   "metadata": {},
   "outputs": [],
   "source": [
    "from collections import defaultdict\n",
    "import csv\n",
    "from itertools import islice\n",
    "import os\n",
    "import sys\n",
    "\n",
    "import numpy as np\n",
    "import matplotlib.pyplot as plt\n",
    "from IPython.display import display, Image\n",
    "import scipy\n",
    "import seaborn as sns\n",
    "from sklearn.linear_model import LogisticRegression\n",
    "from tqdm import tqdm_notebook\n",
    "import torch\n",
    "from torchvision import models, transforms, datasets"
   ]
  },
  {
   "cell_type": "code",
   "execution_count": 2,
   "metadata": {},
   "outputs": [],
   "source": [
    "progan_filenames = torch.load('progan_filenames.pt', map_location=torch.device('cpu'))\n",
    "progan_distance_features = torch.load('small_progan_distance_features.pt', map_location=torch.device('cpu'))"
   ]
  },
  {
   "cell_type": "code",
   "execution_count": 3,
   "metadata": {},
   "outputs": [],
   "source": [
    "stylegan_filenames = torch.load('stylegan_filenames.pt', map_location=torch.device('cpu'))\n",
    "stylegan_distance_features = torch.load('stylegan_distance_features.pt', map_location=torch.device('cpu'))"
   ]
  },
  {
   "cell_type": "code",
   "execution_count": 4,
   "metadata": {},
   "outputs": [],
   "source": [
    "began_filenames = torch.load('began_filenames.pt', map_location=torch.device('cpu'))\n",
    "began_distance_features = torch.load('began_distance_features.pt', map_location=torch.device('cpu'))"
   ]
  },
  {
   "cell_type": "code",
   "execution_count": 5,
   "metadata": {},
   "outputs": [],
   "source": [
    "dataset_counts = defaultdict(int)\n",
    "img_counts = defaultdict(lambda : defaultdict(int))\n",
    "unique_imgs = defaultdict(set)\n",
    "img_votes = defaultdict(lambda: defaultdict(lambda: [0,0])) #no,yes tuples by dataset and image\n",
    "\n",
    "with open('../all_gans_inf.csv') as f:\n",
    "    reader = csv.DictReader(f)\n",
    "    for row in islice(reader, None):\n",
    "        img = row['img']        \n",
    "#         dataset_name = img[:img.index('/')]\n",
    "        split_name = img.split('/')\n",
    "        assert(len(split_name) == 2)\n",
    "        dataset_name, img_name = split_name\n",
    "        \n",
    "        vote_index = 1 if row['correctness'] == row['realness'] else 0\n",
    "        if dataset_name == 'began5000' and row['realness'] == 'True': print(row)\n",
    "\n",
    "        img_votes[dataset_name][img_name][vote_index] += 1\n",
    "        \n",
    "        dataset_counts[dataset_name] += 1\n",
    "        img_counts[dataset_name][img_name] += 1\n",
    "unique_imgs = {dataset: len(img_counts[dataset]) for dataset in img_counts}"
   ]
  },
  {
   "cell_type": "code",
   "execution_count": 6,
   "metadata": {},
   "outputs": [
    {
     "data": {
      "text/plain": [
       "(2233, 2397, 3103)"
      ]
     },
     "execution_count": 6,
     "metadata": {},
     "output_type": "execute_result"
    }
   ],
   "source": [
    "progan_votes = img_votes['progan5000']\n",
    "began_votes = img_votes['began5000']\n",
    "stylegan_votes = img_votes['styleganceleba5000']\n",
    "len(progan_votes), len(began_votes), len(stylegan_votes)"
   ]
  },
  {
   "cell_type": "code",
   "execution_count": 7,
   "metadata": {},
   "outputs": [
    {
     "data": {
      "text/plain": [
       "1966"
      ]
     },
     "execution_count": 7,
     "metadata": {},
     "output_type": "execute_result"
    }
   ],
   "source": [
    "began_votes_filtered = {k:v for k,v in began_votes.items() if k in [os.path.split(x)[-1] for x in began_filenames]}\n",
    "\n",
    "len(began_votes_filtered)"
   ]
  },
  {
   "cell_type": "code",
   "execution_count": 8,
   "metadata": {},
   "outputs": [
    {
     "data": {
      "image/png": "[encoded data removed]",
      "text/plain": [
       "<Figure size 432x288 with 1 Axes>"
      ]
     },
     "metadata": {
      "needs_background": "light"
     },
     "output_type": "display_data"
    },
    {
     "data": {
      "image/png": "[encoded data removed]",
      "text/plain": [
       "<Figure size 432x288 with 1 Axes>"
      ]
     },
     "metadata": {
      "needs_background": "light"
     },
     "output_type": "display_data"
    },
    {
     "data": {
      "image/png": "[encoded data removed]",
      "text/plain": [
       "<Figure size 432x288 with 1 Axes>"
      ]
     },
     "metadata": {
      "needs_background": "light"
     },
     "output_type": "display_data"
    }
   ],
   "source": [
    "for gan, votes in [('ProGAN', progan_votes), ('BeGAN', began_votes), ('StyleGAN', stylegan_votes)]:\n",
    "    vote_pct_correct = [y/(x+y) for x,y in votes.values()]\n",
    "    plt.title(gan + ' vote proportions real/fake')\n",
    "    plt.hist(vote_pct_correct)\n",
    "    plt.show()"
   ]
  },
  {
   "cell_type": "code",
   "execution_count": 9,
   "metadata": {},
   "outputs": [
    {
     "name": "stdout",
     "output_type": "stream",
     "text": [
      "1530 1456\n",
      "1814 2983\n"
     ]
    }
   ],
   "source": [
    "print(sum([x[0] for x in progan_votes.values()]), sum([x[1] for x in progan_votes.values()]))\n",
    "\n",
    "print(sum([x[0] for x in stylegan_votes.values()]), sum([x[1] for x in stylegan_votes.values()]))"
   ]
  },
  {
   "cell_type": "code",
   "execution_count": 10,
   "metadata": {},
   "outputs": [],
   "source": [
    "with open('train_set.txt') as f:\n",
    "    progan_train_files = [x.strip() for x in f.readlines()]\n",
    "#print(progan_train_files[:5])\n",
    "\n",
    "with open('val_set.txt') as f:\n",
    "    progan_val_files = [x.strip() for x in f.readlines()]\n",
    "#print(progan_val_files[:5])\n",
    "\n",
    "with open('stylegan_train_set.txt') as f:\n",
    "    stylegan_train_files = [x.strip() for x in f.readlines()]\n",
    "#print(stylegan_train_files[:5])\n",
    "\n",
    "with open('stylegan_val_set.txt') as f:\n",
    "    stylegan_val_files = [x.strip() for x in f.readlines()]\n",
    "#print(stylegan_val_files[:5])\n",
    "\n",
    "with open('began_train_set.txt') as f:\n",
    "    began_train_files = [x.strip() for x in f.readlines()]\n",
    "#print(began_train_files[:5])\n",
    "\n",
    "with open('began_val_set.txt') as f:\n",
    "    began_val_files = [x.strip() for x in f.readlines()]\n",
    "#print(began_val_files[:5])"
   ]
  },
  {
   "cell_type": "code",
   "execution_count": 11,
   "metadata": {},
   "outputs": [
    {
     "name": "stdout",
     "output_type": "stream",
     "text": [
      "2233\n",
      "3103\n",
      "1966\n"
     ]
    }
   ],
   "source": [
    "progan_features_by_file = {progan_filenames[i] : progan_distance_features[i] for i in range(len(progan_filenames))}\n",
    "print(len(progan_features_by_file))\n",
    "\n",
    "stylegan_features_by_file = {stylegan_filenames[i] : stylegan_distance_features[i] for i in range(len(stylegan_filenames))}\n",
    "print(len(stylegan_features_by_file))\n",
    "\n",
    "began_features_by_file = {began_filenames[i] : began_distance_features[i] for i in range(len(began_filenames))}\n",
    "print(len(began_features_by_file))"
   ]
  },
  {
   "cell_type": "code",
   "execution_count": 12,
   "metadata": {},
   "outputs": [
    {
     "name": "stdout",
     "output_type": "stream",
     "text": [
      "2233\n",
      "3103\n",
      "1966\n"
     ]
    }
   ],
   "source": [
    "progan_votes_by_file = {'imgs_by_label/progan_labeled/progan_labeled_imgs/' + k : v for k,v in progan_votes.items()}\n",
    "print(len(progan_votes_by_file))\n",
    "\n",
    "stylegan_votes_by_file = {'imgs_by_label/stylegan_labeled/stylegan_labeled_imgs/' + k : v for k,v in stylegan_votes.items()}\n",
    "print(len(stylegan_votes_by_file))\n",
    "\n",
    "began_votes_by_file = {'imgs_by_label/began_labeled/began_labeled_imgs/' + k : v for k,v in began_votes_filtered.items()}\n",
    "print(len(began_votes_by_file))"
   ]
  },
  {
   "cell_type": "code",
   "execution_count": 13,
   "metadata": {},
   "outputs": [
    {
     "data": {
      "application/vnd.jupyter.widget-view+json": {
       "model_id": "215d2a04aec0426899fde0d3ec0d5ca1",
       "version_major": 2,
       "version_minor": 0
      },
      "text/plain": [
       "HBox(children=(IntProgress(value=0, max=1787), HTML(value='')))"
      ]
     },
     "metadata": {},
     "output_type": "display_data"
    },
    {
     "name": "stdout",
     "output_type": "stream",
     "text": [
      "\n"
     ]
    },
    {
     "data": {
      "text/plain": [
       "(2369, 2369)"
      ]
     },
     "execution_count": 13,
     "metadata": {},
     "output_type": "execute_result"
    }
   ],
   "source": [
    "#vote of 1 is correctly spotting the fakeness, vote of 0 is being fooled\n",
    "X_progan_train = []\n",
    "Y_progan_train = []\n",
    "for f in tqdm_notebook(progan_train_files):\n",
    "    cur_feats = progan_features_by_file[f]\n",
    "    cur_votes = progan_votes_by_file[f]\n",
    "    false_votes, true_votes = cur_votes\n",
    "    #print(false_votes + true_votes)\n",
    "    #print(f, cur_feats, cur_votes, '\\n')\n",
    "    \n",
    "    for i in range(false_votes):\n",
    "        X_progan_train.append(cur_feats)\n",
    "        Y_progan_train.append(0)\n",
    "        \n",
    "    for i in range(true_votes):\n",
    "        X_progan_train.append(cur_feats)\n",
    "        Y_progan_train.append(1)\n",
    "\n",
    "len(X_progan_train), len(Y_progan_train)"
   ]
  },
  {
   "cell_type": "code",
   "execution_count": 14,
   "metadata": {},
   "outputs": [
    {
     "data": {
      "application/vnd.jupyter.widget-view+json": {
       "model_id": "4f26e4182ba646f2b9fd3cd6c06a92ff",
       "version_major": 2,
       "version_minor": 0
      },
      "text/plain": [
       "HBox(children=(IntProgress(value=0, max=223), HTML(value='')))"
      ]
     },
     "metadata": {},
     "output_type": "display_data"
    },
    {
     "name": "stdout",
     "output_type": "stream",
     "text": [
      "\n"
     ]
    },
    {
     "data": {
      "text/plain": [
       "(306, 306)"
      ]
     },
     "execution_count": 14,
     "metadata": {},
     "output_type": "execute_result"
    }
   ],
   "source": [
    "#vote of 1 is correctly spotting the fakeness, vote of 0 is being fooled\n",
    "X_progan_val = []\n",
    "Y_progan_val = []\n",
    "for f in tqdm_notebook(progan_val_files):\n",
    "    cur_feats = progan_features_by_file[f]\n",
    "    cur_votes = progan_votes_by_file[f]\n",
    "    false_votes, true_votes = cur_votes\n",
    "    \n",
    "    for i in range(false_votes):\n",
    "        X_progan_val.append(cur_feats)\n",
    "        Y_progan_val.append(0)\n",
    "        \n",
    "    for i in range(true_votes):\n",
    "        X_progan_val.append(cur_feats)\n",
    "        Y_progan_val.append(1)\n",
    "len(X_progan_val), len(Y_progan_val)"
   ]
  },
  {
   "cell_type": "code",
   "execution_count": 15,
   "metadata": {},
   "outputs": [
    {
     "name": "stderr",
     "output_type": "stream",
     "text": [
      "/home/alexkolchinski/.conda/envs/myenv/lib/python3.7/site-packages/sklearn/linear_model/logistic.py:432: FutureWarning: Default solver will be changed to 'lbfgs' in 0.22. Specify a solver to silence this warning.\n",
      "  FutureWarning)\n"
     ]
    },
    {
     "data": {
      "text/plain": [
       "(0.6361333896158716, 0.6503267973856209)"
      ]
     },
     "execution_count": 15,
     "metadata": {},
     "output_type": "execute_result"
    }
   ],
   "source": [
    "lr_progan = LogisticRegression().fit(X_progan_train, Y_progan_train)\n",
    "lr_progan.score(X_progan_train, Y_progan_train), lr_progan.score(X_progan_val, Y_progan_val)"
   ]
  },
  {
   "cell_type": "code",
   "execution_count": 16,
   "metadata": {},
   "outputs": [
    {
     "data": {
      "application/vnd.jupyter.widget-view+json": {
       "model_id": "9200ccd3f9fd4025abd6387dfdb462a8",
       "version_major": 2,
       "version_minor": 0
      },
      "text/plain": [
       "HBox(children=(IntProgress(value=0, max=2483), HTML(value='')))"
      ]
     },
     "metadata": {},
     "output_type": "display_data"
    },
    {
     "name": "stdout",
     "output_type": "stream",
     "text": [
      "\n"
     ]
    },
    {
     "data": {
      "text/plain": [
       "(3849, 3849)"
      ]
     },
     "execution_count": 16,
     "metadata": {},
     "output_type": "execute_result"
    }
   ],
   "source": [
    "#vote of 1 is correctly spotting the fakeness, vote of 0 is being fooled\n",
    "X_stylegan_train = []\n",
    "Y_stylegan_train = []\n",
    "for f in tqdm_notebook(stylegan_train_files):\n",
    "    cur_feats = stylegan_features_by_file[f]\n",
    "    cur_votes = stylegan_votes_by_file[f]\n",
    "    false_votes, true_votes = cur_votes\n",
    "    \n",
    "    for i in range(false_votes):\n",
    "        X_stylegan_train.append(cur_feats)\n",
    "        Y_stylegan_train.append(0)\n",
    "        \n",
    "    for i in range(true_votes):\n",
    "        X_stylegan_train.append(cur_feats)\n",
    "        Y_stylegan_train.append(1)\n",
    "\n",
    "len(X_stylegan_train), len(Y_stylegan_train)"
   ]
  },
  {
   "cell_type": "code",
   "execution_count": 17,
   "metadata": {},
   "outputs": [
    {
     "data": {
      "application/vnd.jupyter.widget-view+json": {
       "model_id": "d6fe1f0ed91b4134bcf6b861fe4ada9a",
       "version_major": 2,
       "version_minor": 0
      },
      "text/plain": [
       "HBox(children=(IntProgress(value=0, max=310), HTML(value='')))"
      ]
     },
     "metadata": {},
     "output_type": "display_data"
    },
    {
     "name": "stdout",
     "output_type": "stream",
     "text": [
      "\n"
     ]
    },
    {
     "data": {
      "text/plain": [
       "(485, 485)"
      ]
     },
     "execution_count": 17,
     "metadata": {},
     "output_type": "execute_result"
    }
   ],
   "source": [
    "#vote of 1 is correctly spotting the fakeness, vote of 0 is being fooled\n",
    "X_stylegan_val = []\n",
    "Y_stylegan_val = []\n",
    "for f in tqdm_notebook(stylegan_val_files):\n",
    "    cur_feats = stylegan_features_by_file[f]\n",
    "    cur_votes = stylegan_votes_by_file[f]\n",
    "    false_votes, true_votes = cur_votes\n",
    "    \n",
    "    for i in range(false_votes):\n",
    "        X_stylegan_val.append(cur_feats)\n",
    "        Y_stylegan_val.append(0)\n",
    "        \n",
    "    for i in range(true_votes):\n",
    "        X_stylegan_val.append(cur_feats)\n",
    "        Y_stylegan_val.append(1)\n",
    "len(X_stylegan_val), len(Y_stylegan_val)"
   ]
  },
  {
   "cell_type": "code",
   "execution_count": 18,
   "metadata": {},
   "outputs": [
    {
     "name": "stderr",
     "output_type": "stream",
     "text": [
      "/home/alexkolchinski/.conda/envs/myenv/lib/python3.7/site-packages/sklearn/linear_model/logistic.py:432: FutureWarning: Default solver will be changed to 'lbfgs' in 0.22. Specify a solver to silence this warning.\n",
      "  FutureWarning)\n"
     ]
    },
    {
     "data": {
      "text/plain": [
       "(0.6282151208106002, 0.6639175257731958)"
      ]
     },
     "execution_count": 18,
     "metadata": {},
     "output_type": "execute_result"
    }
   ],
   "source": [
    "lr_stylegan = LogisticRegression().fit(X_stylegan_train, Y_stylegan_train)\n",
    "lr_stylegan.score(X_stylegan_train, Y_stylegan_train), lr_stylegan.score(X_stylegan_val, Y_stylegan_val)"
   ]
  },
  {
   "cell_type": "code",
   "execution_count": 19,
   "metadata": {},
   "outputs": [
    {
     "data": {
      "application/vnd.jupyter.widget-view+json": {
       "model_id": "dd046e3412b245f697d6165e5e8b9874",
       "version_major": 2,
       "version_minor": 0
      },
      "text/plain": [
       "HBox(children=(IntProgress(value=0, max=1574), HTML(value='')))"
      ]
     },
     "metadata": {},
     "output_type": "display_data"
    },
    {
     "name": "stdout",
     "output_type": "stream",
     "text": [
      "\n"
     ]
    },
    {
     "data": {
      "text/plain": [
       "(2140, 2140)"
      ]
     },
     "execution_count": 19,
     "metadata": {},
     "output_type": "execute_result"
    }
   ],
   "source": [
    "#vote of 1 is correctly spotting the fakeness, vote of 0 is being fooled\n",
    "X_began_train = []\n",
    "Y_began_train = []\n",
    "for f in tqdm_notebook(began_train_files):\n",
    "    cur_feats = began_features_by_file[f]\n",
    "    cur_votes = began_votes_by_file[f]\n",
    "    false_votes, true_votes = cur_votes\n",
    "    \n",
    "    for i in range(false_votes):\n",
    "        X_began_train.append(cur_feats)\n",
    "        Y_began_train.append(0)\n",
    "        \n",
    "    for i in range(true_votes):\n",
    "        X_began_train.append(cur_feats)\n",
    "        Y_began_train.append(1)\n",
    "\n",
    "len(X_began_train), len(Y_began_train)"
   ]
  },
  {
   "cell_type": "code",
   "execution_count": 20,
   "metadata": {},
   "outputs": [
    {
     "data": {
      "application/vnd.jupyter.widget-view+json": {
       "model_id": "e2cb9e4e27d74e16974f8daa3388b2e4",
       "version_major": 2,
       "version_minor": 0
      },
      "text/plain": [
       "HBox(children=(IntProgress(value=0, max=196), HTML(value='')))"
      ]
     },
     "metadata": {},
     "output_type": "display_data"
    },
    {
     "name": "stdout",
     "output_type": "stream",
     "text": [
      "\n"
     ]
    },
    {
     "data": {
      "text/plain": [
       "(248, 248)"
      ]
     },
     "execution_count": 20,
     "metadata": {},
     "output_type": "execute_result"
    }
   ],
   "source": [
    "#vote of 1 is correctly spotting the fakeness, vote of 0 is being fooled\n",
    "X_began_val = []\n",
    "Y_began_val = []\n",
    "for f in tqdm_notebook(began_val_files):\n",
    "    cur_feats = began_features_by_file[f]\n",
    "    cur_votes = began_votes_by_file[f]\n",
    "    false_votes, true_votes = cur_votes\n",
    "    \n",
    "    for i in range(false_votes):\n",
    "        X_began_val.append(cur_feats)\n",
    "        Y_began_val.append(0)\n",
    "        \n",
    "    for i in range(true_votes):\n",
    "        X_began_val.append(cur_feats)\n",
    "        Y_began_val.append(1)\n",
    "len(X_began_val), len(Y_began_val)"
   ]
  },
  {
   "cell_type": "code",
   "execution_count": 21,
   "metadata": {},
   "outputs": [
    {
     "name": "stderr",
     "output_type": "stream",
     "text": [
      "/home/alexkolchinski/.conda/envs/myenv/lib/python3.7/site-packages/sklearn/linear_model/logistic.py:432: FutureWarning: Default solver will be changed to 'lbfgs' in 0.22. Specify a solver to silence this warning.\n",
      "  FutureWarning)\n"
     ]
    },
    {
     "data": {
      "text/plain": [
       "(0.9457943925233645, 0.9556451612903226)"
      ]
     },
     "execution_count": 21,
     "metadata": {},
     "output_type": "execute_result"
    }
   ],
   "source": [
    "lr_began = LogisticRegression().fit(X_began_train, Y_began_train)\n",
    "lr_began.score(X_began_train, Y_began_train), lr_began.score(X_began_val, Y_began_val)"
   ]
  },
  {
   "cell_type": "code",
   "execution_count": 22,
   "metadata": {},
   "outputs": [
    {
     "name": "stdout",
     "output_type": "stream",
     "text": [
      "P-correct for each example\n",
      "0.5509021380125019 0.14111175386278635\n"
     ]
    },
    {
     "data": {
      "image/png": "[encoded data removed]",
      "text/plain": [
       "<Figure size 432x288 with 1 Axes>"
      ]
     },
     "metadata": {
      "needs_background": "light"
     },
     "output_type": "display_data"
    },
    {
     "name": "stdout",
     "output_type": "stream",
     "text": [
      "0.5404354440023837 0.13265175526874465\n"
     ]
    },
    {
     "data": {
      "image/png": "[encoded data removed]",
      "text/plain": [
       "<Figure size 432x288 with 1 Axes>"
      ]
     },
     "metadata": {
      "needs_background": "light"
     },
     "output_type": "display_data"
    },
    {
     "name": "stdout",
     "output_type": "stream",
     "text": [
      "0.8975330884284839 0.20172465325344524\n"
     ]
    },
    {
     "data": {
      "image/png": "[encoded data removed]",
      "text/plain": [
       "<Figure size 432x288 with 1 Axes>"
      ]
     },
     "metadata": {
      "needs_background": "light"
     },
     "output_type": "display_data"
    }
   ],
   "source": [
    "print('P-correct for each example')\n",
    "\n",
    "probs = lr_progan.predict_proba(X_progan_train)\n",
    "true_probs = np.array([probs[i][Y_progan_train[i]] for i in range(len(probs))])\n",
    "\n",
    "plt.hist(true_probs, bins=50)\n",
    "print(np.mean(true_probs), np.std(true_probs))\n",
    "plt.title('ProGAN')\n",
    "plt.show()\n",
    "\n",
    "\n",
    "probs = lr_stylegan.predict_proba(X_stylegan_train)\n",
    "true_probs = np.array([probs[i][Y_stylegan_train[i]] for i in range(len(probs))])\n",
    "\n",
    "plt.hist(true_probs, bins=50)\n",
    "print(np.mean(true_probs), np.std(true_probs))\n",
    "plt.title('StyleGAN')\n",
    "plt.show()\n",
    "\n",
    "probs = lr_began.predict_proba(X_began_train)\n",
    "true_probs = np.array([probs[i][Y_began_train[i]] for i in range(len(probs))])\n",
    "\n",
    "plt.hist(true_probs, bins=50)\n",
    "print(np.mean(true_probs), np.std(true_probs))\n",
    "plt.title('BeGAN')\n",
    "plt.show()"
   ]
  },
  {
   "cell_type": "markdown",
   "metadata": {},
   "source": [
    "Now, for the inter-GAN comparisons:"
   ]
  },
  {
   "cell_type": "code",
   "execution_count": 23,
   "metadata": {},
   "outputs": [
    {
     "data": {
      "text/plain": [
       "(0.614445310470252, 0.6474226804123712)"
      ]
     },
     "execution_count": 23,
     "metadata": {},
     "output_type": "execute_result"
    }
   ],
   "source": [
    "lr_progan.score(X_stylegan_train, Y_stylegan_train), lr_progan.score(X_stylegan_val, Y_stylegan_val) "
   ]
  },
  {
   "cell_type": "code",
   "execution_count": 24,
   "metadata": {},
   "outputs": [
    {
     "name": "stdout",
     "output_type": "stream",
     "text": [
      "0.8019549511262218 0.3195187165775401\n",
      "ProGAN is overconfident on StyleGAN quality\n"
     ]
    }
   ],
   "source": [
    "print(\n",
    "    np.mean([guess for guess, true in zip(lr_progan.predict(X_stylegan_train), Y_stylegan_train) if true == 1]),\n",
    "    np.mean([1. - guess for guess, true in zip(lr_progan.predict(X_stylegan_train), Y_stylegan_train) if true == 0])\n",
    ")\n",
    "print('ProGAN is overconfident on StyleGAN quality')"
   ]
  },
  {
   "cell_type": "code",
   "execution_count": 25,
   "metadata": {},
   "outputs": [
    {
     "data": {
      "text/plain": [
       "(0.6224299065420561, 0.6451612903225806)"
      ]
     },
     "execution_count": 25,
     "metadata": {},
     "output_type": "execute_result"
    }
   ],
   "source": [
    "lr_progan.score(X_began_train, Y_began_train), lr_progan.score(X_began_val, Y_began_val) "
   ]
  },
  {
   "cell_type": "code",
   "execution_count": 26,
   "metadata": {},
   "outputs": [
    {
     "data": {
      "text/plain": [
       "(0.6103841283241874, 0.5882352941176471)"
      ]
     },
     "execution_count": 26,
     "metadata": {},
     "output_type": "execute_result"
    }
   ],
   "source": [
    "lr_stylegan.score(X_progan_train, Y_progan_train), lr_stylegan.score(X_progan_val, Y_progan_val) "
   ]
  },
  {
   "cell_type": "code",
   "execution_count": 27,
   "metadata": {},
   "outputs": [
    {
     "name": "stdout",
     "output_type": "stream",
     "text": [
      "0.8676345004269855 0.3589315525876461\n",
      "StyleGAN is overconfident on ProGAN quality\n"
     ]
    }
   ],
   "source": [
    "print(\n",
    "    np.mean([guess for guess, true in zip(lr_stylegan.predict(X_progan_train), Y_progan_train) if true == 1]),\n",
    "    np.mean([1. - guess for guess, true in zip(lr_stylegan.predict(X_progan_train), Y_progan_train) if true == 0])\n",
    ")\n",
    "print('StyleGAN is overconfident on ProGAN quality')"
   ]
  },
  {
   "cell_type": "code",
   "execution_count": 28,
   "metadata": {},
   "outputs": [
    {
     "data": {
      "text/plain": [
       "(0.3644859813084112, 0.3951612903225806)"
      ]
     },
     "execution_count": 28,
     "metadata": {},
     "output_type": "execute_result"
    }
   ],
   "source": [
    "lr_stylegan.score(X_began_train, Y_began_train), lr_stylegan.score(X_began_val, Y_began_val) "
   ]
  },
  {
   "cell_type": "code",
   "execution_count": 29,
   "metadata": {},
   "outputs": [
    {
     "data": {
      "text/plain": [
       "(0.5056986070071761, 0.5294117647058824)"
      ]
     },
     "execution_count": 29,
     "metadata": {},
     "output_type": "execute_result"
    }
   ],
   "source": [
    "lr_began.score(X_progan_train, Y_progan_train), lr_began.score(X_progan_val, Y_progan_val) "
   ]
  },
  {
   "cell_type": "code",
   "execution_count": 30,
   "metadata": {},
   "outputs": [
    {
     "data": {
      "text/plain": [
       "(0.38867238243699664, 0.3422680412371134)"
      ]
     },
     "execution_count": 30,
     "metadata": {},
     "output_type": "execute_result"
    }
   ],
   "source": [
    "lr_began.score(X_stylegan_train, Y_stylegan_train), lr_began.score(X_stylegan_val, Y_stylegan_val) "
   ]
  },
  {
   "cell_type": "markdown",
   "metadata": {},
   "source": [
    "And now to train on 2 datasets at a time"
   ]
  },
  {
   "cell_type": "code",
   "execution_count": 31,
   "metadata": {},
   "outputs": [
    {
     "name": "stdout",
     "output_type": "stream",
     "text": [
      "0.6276937922161466\n",
      "0.6485461441213654\n",
      "\n",
      "And now on BeGAN\n",
      "0.49439252336448597\n",
      "0.5161290322580645\n"
     ]
    },
    {
     "name": "stderr",
     "output_type": "stream",
     "text": [
      "/home/alexkolchinski/.conda/envs/myenv/lib/python3.7/site-packages/sklearn/linear_model/logistic.py:432: FutureWarning: Default solver will be changed to 'lbfgs' in 0.22. Specify a solver to silence this warning.\n",
      "  FutureWarning)\n"
     ]
    }
   ],
   "source": [
    "lr_progan_stylegan = LogisticRegression().fit(X_progan_train + X_stylegan_train, Y_progan_train + Y_stylegan_train)\n",
    "print(lr_progan_stylegan.score(X_progan_train + X_stylegan_train, Y_progan_train + Y_stylegan_train))\n",
    "print(lr_progan_stylegan.score(X_progan_val + X_stylegan_val, Y_progan_val + Y_stylegan_val))\n",
    "\n",
    "print('\\nAnd now on BeGAN')\n",
    "print(lr_progan_stylegan.score(X_began_train, Y_began_train))\n",
    "print(lr_progan_stylegan.score(X_began_val, Y_began_val))\n"
   ]
  },
  {
   "cell_type": "code",
   "execution_count": 32,
   "metadata": {},
   "outputs": [
    {
     "name": "stdout",
     "output_type": "stream",
     "text": [
      "0.759591927256598\n",
      "0.779783393501805\n",
      "\n",
      "And now on stylegan\n",
      "0.5401402961808262\n",
      "0.511340206185567\n"
     ]
    },
    {
     "name": "stderr",
     "output_type": "stream",
     "text": [
      "/home/alexkolchinski/.conda/envs/myenv/lib/python3.7/site-packages/sklearn/linear_model/logistic.py:432: FutureWarning: Default solver will be changed to 'lbfgs' in 0.22. Specify a solver to silence this warning.\n",
      "  FutureWarning)\n"
     ]
    }
   ],
   "source": [
    "lr_progan_began = LogisticRegression().fit(X_progan_train + X_began_train, Y_progan_train + Y_began_train)\n",
    "print(lr_progan_began.score(X_progan_train + X_began_train, Y_progan_train + Y_began_train))\n",
    "print(lr_progan_began.score(X_progan_val + X_began_val, Y_progan_val + Y_began_val))\n",
    "\n",
    "print('\\nAnd now on stylegan')\n",
    "print(lr_progan_began.score(X_stylegan_train, Y_stylegan_train))\n",
    "print(lr_progan_began.score(X_stylegan_val, Y_stylegan_val))\n"
   ]
  },
  {
   "cell_type": "code",
   "execution_count": 33,
   "metadata": {},
   "outputs": [
    {
     "name": "stdout",
     "output_type": "stream",
     "text": [
      "0.7064618467189848\n",
      "0.6766712141882674\n",
      "\n",
      "And now on progan\n",
      "0.5892781764457578\n",
      "0.6274509803921569\n"
     ]
    },
    {
     "name": "stderr",
     "output_type": "stream",
     "text": [
      "/home/alexkolchinski/.conda/envs/myenv/lib/python3.7/site-packages/sklearn/linear_model/logistic.py:432: FutureWarning: Default solver will be changed to 'lbfgs' in 0.22. Specify a solver to silence this warning.\n",
      "  FutureWarning)\n"
     ]
    }
   ],
   "source": [
    "lr_stylegan_began = LogisticRegression().fit(X_stylegan_train + X_began_train, Y_stylegan_train + Y_began_train)\n",
    "print(lr_stylegan_began.score(X_stylegan_train + X_began_train, Y_stylegan_train + Y_began_train))\n",
    "print(lr_stylegan_began.score(X_stylegan_val + X_began_val, Y_stylegan_val + Y_began_val))\n",
    "\n",
    "print('\\nAnd now on progan')\n",
    "print(lr_stylegan_began.score(X_progan_train, Y_progan_train))\n",
    "print(lr_stylegan_began.score(X_progan_val, Y_progan_val))\n"
   ]
  },
  {
   "cell_type": "code",
   "execution_count": 34,
   "metadata": {},
   "outputs": [
    {
     "name": "stdout",
     "output_type": "stream",
     "text": [
      "250\n",
      "200\n",
      "223\n"
     ]
    }
   ],
   "source": [
    "with open('expanded_progan_val_set.csv') as f:\n",
    "    human_scores = {l.strip().split(',')[0][5:] : float(l.strip().split(',')[1]) for l in f.readlines()[1:] if 'fake' in l}\n",
    "\n",
    "print(len(human_scores))\n",
    "extended_progan_val_files = set(human_scores.keys())\n",
    "\n",
    "\n",
    "progan_val_files_short = set([os.path.split(x)[-1] for x in progan_val_files])\n",
    "print(len(extended_progan_val_files.intersection(progan_val_files_short)))\n",
    "print(len(progan_val_files_short))\n",
    "# for k,v in human_scores.items():\n",
    "#     print(k,v)"
   ]
  },
  {
   "cell_type": "code",
   "execution_count": 35,
   "metadata": {},
   "outputs": [
    {
     "data": {
      "text/plain": [
       "200"
      ]
     },
     "execution_count": 35,
     "metadata": {},
     "output_type": "execute_result"
    }
   ],
   "source": [
    "expanded_progan_val_files_filtered = extended_progan_val_files.intersection(progan_val_files_short)\n",
    "len(expanded_progan_val_files_filtered)"
   ]
  },
  {
   "cell_type": "code",
   "execution_count": 36,
   "metadata": {},
   "outputs": [
    {
     "data": {
      "application/vnd.jupyter.widget-view+json": {
       "model_id": "95eb06b0ed524c6ab21caccb65563cd3",
       "version_major": 2,
       "version_minor": 0
      },
      "text/plain": [
       "HBox(children=(IntProgress(value=0, max=200), HTML(value='')))"
      ]
     },
     "metadata": {},
     "output_type": "display_data"
    },
    {
     "name": "stdout",
     "output_type": "stream",
     "text": [
      "[ 0.03839695  0.21412626  0.29571125  4.6280212   3.5433905  22.610014\n",
      " 22.376955  ] 0.8\n",
      "[ 0.02747115  0.18490836  0.25482038  4.115768    3.172318   17.28219\n",
      " 13.029121  ] 0.2\n",
      "[ 0.03622212  0.196615    0.27684963  4.3583207   3.539715   22.668312\n",
      " 18.33124   ] 0.4\n",
      "[ 0.02137414  0.13128965  0.18796144  3.949545    3.4287825  20.229092\n",
      " 20.256943  ] 0.2\n",
      "[ 0.03561979  0.2021311   0.28175855  4.311711    3.199368   17.80849\n",
      " 15.703584  ] 0.4\n",
      "[ 0.02637715  0.16629015  0.23834303  4.0080357   2.667103   12.40134\n",
      " 10.433835  ] 0.0\n",
      "[ 0.02730314  0.15542723  0.22123484  3.9580996   2.9364753  16.898272\n",
      " 15.060287  ] 0.4\n",
      "[ 0.0249817   0.1327697   0.18523675  3.791088    3.430824   17.271347\n",
      " 15.080267  ] 0.2\n",
      "[ 0.03500325  0.21154685  0.29398265  4.3979745   3.0346122  15.400112\n",
      " 13.336246  ] 0.0\n",
      "[ 0.02523996  0.1638503   0.23293838  4.113064    2.7387981  14.857898\n",
      " 12.202662  ] 0.4\n",
      "[ 0.02800401  0.17807387  0.25857058  4.223801    3.1949403  16.527824\n",
      " 14.120131  ] 0.6\n",
      "[ 0.03058864  0.18544763  0.26186603  4.2110605   3.002974   15.461693\n",
      " 11.931177  ] 0.0\n",
      "[ 0.02385155  0.15228322  0.21747619  4.044541    2.770677   15.4409485\n",
      " 12.083688  ] 0.0\n",
      "[ 0.02807108  0.17347601  0.24169664  4.134238    3.3170676  16.62437\n",
      " 14.969175  ] 0.2\n",
      "[ 0.02731943  0.16450757  0.2360331   3.9642777   3.1753776  14.995707\n",
      " 11.798789  ] 0.2\n",
      "[ 0.0202946   0.10433681  0.14362143  3.663127    3.2578957  18.328941\n",
      " 15.385851  ] 0.6\n",
      "[ 0.02617933  0.15876476  0.21877459  4.0871477   3.1319067  13.31702\n",
      "  9.454392  ] 0.4\n",
      "[ 0.0264514   0.16606103  0.23889285  4.2518425   3.0887988  14.021612\n",
      "  9.369721  ] 0.4\n",
      "[ 0.02629936  0.17533472  0.258685    4.544944    3.1261091  18.624447\n",
      " 17.289356  ] 0.8\n",
      "[ 0.02160205  0.12506863  0.17379844  3.819072    3.5821362  19.3578\n",
      " 16.991095  ] 0.6\n",
      "[ 0.02845583  0.16726224  0.24019933  4.166797    3.2012637  17.373415\n",
      " 16.107298  ] 0.2\n",
      "[ 0.03041857  0.17550159  0.25168112  4.4257607   3.2652774  18.192972\n",
      " 16.248116  ] 0.8\n",
      "[ 0.03069583  0.18179633  0.2515761   3.9737818   3.052126   15.307716\n",
      " 11.978435  ] 0.6\n",
      "[ 0.02922701  0.17756027  0.25429928  4.2980175   2.9753003  16.090324\n",
      " 10.780347  ] 0.2\n",
      "[ 0.0216975   0.13873656  0.19189537  3.7922697   3.0546238  15.812664\n",
      " 12.611767  ] 0.6\n",
      "[ 0.0278173   0.17927107  0.25966403  4.17403     3.1570773  16.84057\n",
      " 13.871357  ] 0.6\n",
      "[ 0.02749244  0.15856364  0.22030547  3.992925    3.0510263  15.665096\n",
      " 13.501381  ] 0.8\n",
      "[ 0.02845316  0.14200674  0.20146666  4.266002    3.2123446  18.537191\n",
      " 14.699253  ] 0.6\n",
      "[ 0.02225952  0.14169164  0.20058191  3.5014338   3.05412    17.05349\n",
      " 14.206511  ] 0.4\n",
      "[ 0.02633397  0.1511901   0.21613315  4.1009583   3.019149   16.08398\n",
      " 12.191116  ] 0.0\n",
      "[ 0.02797654  0.15523006  0.22427702  4.295442    3.2527742  18.121876\n",
      " 16.911001  ] 0.8\n",
      "[ 0.02215857  0.14249343  0.19960779  3.7087116   3.5868888  18.387367\n",
      " 16.252234  ] 0.4\n",
      "[ 0.04290947  0.24716464  0.35024625  4.7023907   3.4800322  17.602982\n",
      " 18.1572    ] 0.6\n",
      "[ 0.02876678  0.19957024  0.28886932  4.573553    3.1170402  15.698619\n",
      " 11.717135  ] 0.4\n",
      "[ 0.02774074  0.1902547   0.27426443  4.199662    3.0143356  15.102604\n",
      " 11.428626  ] 0.4\n",
      "[ 0.03708589  0.18363596  0.250093    4.1945987   3.255079   15.930441\n",
      " 17.385843  ] 0.4\n",
      "[ 0.02596749  0.17395371  0.25475165  4.44087     3.2392871  17.842535\n",
      " 15.002534  ] 0.4\n",
      "[ 0.0282789   0.18021634  0.2628965   4.1039376   3.1797273  18.447496\n",
      " 18.824793  ] 0.4\n",
      "[ 0.02310603  0.12987114  0.18279225  3.6168702   3.0525396  19.739828\n",
      " 18.368708  ] 0.2\n",
      "[ 0.02920363  0.17466255  0.24105388  4.1735864   3.0613532  16.346165\n",
      " 14.566547  ] 0.0\n",
      "[ 0.02639738  0.16689743  0.23622034  3.888408    3.1906197  17.526955\n",
      " 15.347343  ] 0.4\n",
      "[ 0.02330715  0.16145706  0.2337493   4.0915813   3.0593157  15.767995\n",
      " 12.4906645 ] 0.2\n",
      "[ 0.05281473  0.2539509   0.35576987  4.8609457   3.4091456  20.008453\n",
      " 16.478773  ] 1.0\n",
      "[ 0.0293135   0.15646712  0.20974837  3.6194193   3.2101443  14.918513\n",
      " 11.998647  ] 0.4\n",
      "[ 0.02506263  0.17513533  0.2582037   4.4504595   3.145595   16.525879\n",
      " 14.364788  ] 0.6\n",
      "[ 0.02541974  0.16155575  0.23015091  4.2414403   2.8727193  13.375624\n",
      " 11.404618  ] 0.4\n",
      "[ 0.02823661  0.16368099  0.23928685  4.416054    3.9314482  22.219355\n",
      " 23.50748   ] 0.8\n",
      "[ 0.04071695  0.1908982   0.26498127  4.0903077   3.3586714  19.495121\n",
      " 19.004585  ] 0.4\n",
      "[ 0.02939792  0.16583166  0.2341105   4.0436206   3.0799994  16.673998\n",
      " 15.077313  ] 0.4\n",
      "[ 0.02375932  0.14053209  0.2013073   4.0100875   3.357242   18.143913\n",
      " 14.992607  ] 0.8\n",
      "[ 0.02567494  0.15558374  0.22201015  4.1241693   3.121431   17.464943\n",
      " 15.233441  ] 0.4\n",
      "[ 0.0262042   0.16605495  0.24024728  4.1502414   2.8394516  15.494453\n",
      " 12.771452  ] 0.4\n",
      "[ 0.02766524  0.14800712  0.20807338  4.124389    3.1589265  15.733317\n",
      " 13.501268  ] 0.4\n",
      "[ 0.02695913  0.17990367  0.25775704  4.3282323   3.25282    17.81149\n",
      " 13.84909   ] 0.2\n",
      "[ 0.02512928  0.16122028  0.22767535  3.829216    3.2011952  16.4213\n",
      " 13.920026  ] 0.4\n",
      "[ 0.03623122  0.18571785  0.2586389   4.1877537   3.0627344  17.04937\n",
      " 14.162462  ] 0.4\n",
      "[ 0.02809421  0.14744085  0.20610845  3.9768622   3.1604457  15.7006235\n",
      " 13.501354  ] 0.2\n",
      "[ 0.03030998  0.17519769  0.25406507  4.481682    3.1810532  18.657719\n",
      " 17.744444  ] 0.8\n",
      "[ 0.02755811  0.15943713  0.22221515  4.0369163   3.0115762  17.446686\n",
      " 14.145897  ] 0.0\n",
      "[ 0.02960771  0.18860897  0.26605576  4.3581543   2.9714146  14.39698\n",
      " 10.432478  ] 0.4\n",
      "[ 0.0267715   0.1746112   0.24586375  4.172888    3.3939655  17.27015\n",
      " 15.945355  ] 0.8\n",
      "[ 0.02042707  0.12553528  0.18216333  3.6861336   2.896168   17.039085\n",
      " 14.440383  ] 0.4\n",
      "[ 0.0266121  0.1650856  0.2370483  4.3992577  3.0399187 17.42493\n",
      " 14.20478  ] 0.2\n",
      "[ 0.02646524  0.14088699  0.20004523  4.1052327   3.0403483  17.054398\n",
      " 14.088282  ] 0.8\n",
      "[ 0.02449946  0.16805132  0.23550543  4.0143595   3.4157286  20.106722\n",
      " 17.75505   ] 0.0\n",
      "[ 0.0282058   0.16665058  0.23563538  4.3262825   3.2074058  17.28984\n",
      " 14.171418  ] 0.4\n",
      "[ 0.02671448  0.16731718  0.23793432  4.368961    2.9294093  17.975708\n",
      " 14.089244  ] 0.4\n",
      "[ 0.02724326  0.17733239  0.24800156  4.6005654   3.3327184  19.208126\n",
      " 17.494806  ] 0.4\n",
      "[ 0.02852492  0.1503863   0.21010321  4.0076027   3.067613   15.766703\n",
      " 13.043445  ] 0.2\n",
      "[ 0.02524609  0.15867795  0.23143339  4.064279    3.02911    16.77859\n",
      " 15.776757  ] 0.6\n",
      "[ 0.03718     0.21234177  0.3011383   4.51998     3.2514708  18.781227\n",
      " 15.437278  ] 0.4\n",
      "[ 0.02448394  0.16909242  0.23738816  4.097561    3.017689   16.082363\n",
      " 13.390663  ] 0.4\n",
      "[ 0.02260645  0.14013122  0.20209691  4.0241876   3.3082361  17.670576\n",
      " 14.195623  ] 0.2\n",
      "[ 0.0276753   0.18209627  0.2533869   4.302726    3.1114888  15.877524\n",
      " 13.938788  ] 0.0\n",
      "[ 0.02765209  0.15975559  0.23134574  4.4218254   3.3639097  18.559135\n",
      " 15.230299  ] 0.2\n",
      "[ 0.03156614  0.17215498  0.24087143  4.122763    3.244392   18.535534\n",
      " 17.43611   ] 1.0\n",
      "[ 0.03018955  0.18661004  0.27470165  4.706244    3.3331482  18.758907\n",
      " 14.9286375 ] 0.4\n",
      "[ 0.02464157  0.15178014  0.22399561  4.1859283   3.7338367  21.927023\n",
      " 20.834219  ] 1.0\n",
      "[ 0.02723697  0.13902886  0.19424424  4.1171365   3.3819306  20.40821\n",
      " 20.272795  ] 0.2\n",
      "[ 0.02912881  0.17574383  0.2506616   4.33839     2.8573213  15.990801\n",
      " 14.013087  ] 0.4\n",
      "[ 0.03185512  0.20282808  0.2766668   4.4256196   3.411259   14.563408\n",
      " 10.7280245 ] 0.2\n",
      "[ 0.02317228  0.13184832  0.18493776  3.8048792   2.948271   14.890849\n",
      " 13.48133   ] 0.4\n",
      "[ 0.02388361  0.14514305  0.20766294  3.8545802   3.7814536  19.808525\n",
      " 17.847528  ] 1.0\n",
      "[ 0.02644659  0.18337579  0.25979364  4.1846504   2.7988188  15.1659775\n",
      " 13.315442  ] 0.6\n",
      "[ 0.0400474   0.22974558  0.3108052   4.432676    3.3932402  20.579151\n",
      " 18.344563  ] 0.8\n",
      "[ 0.028973    0.1737296   0.23944366  4.048665    2.9532974  15.837623\n",
      " 15.8485365 ] 0.0\n",
      "[ 0.03507662  0.23792614  0.34812114  4.896154    3.7388039  19.627842\n",
      " 20.811266  ] 0.2\n",
      "[ 0.04074673  0.15236846  0.19703783  3.5759394   3.4880822  17.112257\n",
      " 15.685104  ] 0.4\n",
      "[ 0.02381586  0.16145414  0.22554052  3.8497605   3.6211107  20.83452\n",
      " 21.995821  ] 0.6\n",
      "[ 0.02689422  0.17233329  0.23987205  4.0347857   2.7984102  14.761205\n",
      " 13.31979   ] 0.8\n",
      "[ 0.0241127   0.14220704  0.20716743  3.9808872   3.1449344  19.576607\n",
      " 16.467794  ] 0.6\n",
      "[ 0.02155636  0.13023838  0.18584426  3.558223    3.0120776  14.422018\n",
      " 11.307285  ] 0.4\n",
      "[ 0.02264943  0.13636415  0.19554234  3.895831    3.7240536  20.234734\n",
      " 17.012083  ] 1.0\n",
      "[ 0.02916241  0.17085075  0.24457434  4.0563335   3.0451293  15.052929\n",
      " 15.362247  ] 1.0\n",
      "[ 0.02843318  0.18989168  0.2695952   4.145226    3.077089   16.67968\n",
      " 15.580659  ] 0.8\n",
      "[ 0.02578726  0.15917422  0.22589314  4.2593994   3.1918895  14.616663\n",
      "  9.467362  ] 0.0\n",
      "[ 0.03210852  0.22255868  0.32943055  5.0135155   3.9169881  21.728218\n",
      " 22.639616  ] 0.8\n",
      "[ 0.02592656  0.15790652  0.22823702  4.1767445   3.3895435  18.596867\n",
      " 18.619139  ] 0.2\n",
      "[ 0.02744519  0.15143645  0.20868596  3.7923985   3.2313194  16.225275\n",
      " 16.777615  ] 0.8\n",
      "[ 0.02634982  0.17214853  0.24797046  4.291629    3.368732   18.707253\n",
      " 15.598732  ] 0.6\n",
      "[ 0.02450392  0.13187367  0.18375964  3.995237    2.9542022  16.710283\n",
      " 14.66253   ] 0.6\n",
      "[ 0.02725405  0.15328735  0.2183499   4.259514    3.1728997  16.91196\n",
      " 14.303509  ] 0.6\n",
      "[ 0.02776655  0.16773531  0.24057566  4.1363297   3.107747   17.900347\n",
      " 15.395195  ] 0.6\n",
      "[ 0.02269266  0.1217335   0.16747527  3.4070668   3.19034    19.795712\n",
      " 18.474903  ] 0.6\n",
      "[ 0.02692912  0.1560563   0.21815711  3.9942808   2.8844907  16.373196\n",
      " 14.524469  ] 0.4\n",
      "[ 0.04053738  0.16642572  0.22004825  3.748168    3.3440125  16.283333\n",
      " 15.113818  ] 0.6\n",
      "[ 0.02339057  0.14785045  0.21263495  4.0617676   3.2742524  18.90675\n",
      " 14.042015  ] 0.4\n",
      "[ 0.02370677  0.15615231  0.22461115  3.8873377   3.0645945  15.328594\n",
      " 13.330444  ] 0.0\n",
      "[ 0.02254895  0.13077213  0.18461932  3.895608    2.9839478  15.991579\n",
      " 11.951371  ] 0.0\n",
      "[ 0.02421197  0.14770526  0.21270262  4.0010467   3.1354024  18.890503\n",
      " 18.098555  ] 1.0\n",
      "[ 0.02808188  0.16612555  0.23755486  3.9968817   3.2633338  17.477678\n",
      " 16.464634  ] 0.8\n",
      "[ 0.03358036  0.19219394  0.28262147  4.6082373   3.3742259  19.182545\n",
      " 16.36733   ] 0.8\n",
      "[ 0.03432224  0.21415721  0.30431783  4.574378    3.091672   15.185964\n",
      " 12.171585  ] 0.2\n",
      "[ 0.02747159  0.17042242  0.23898806  4.3253393   3.2341456  16.83363\n",
      " 14.452743  ] 0.8\n",
      "[ 0.02980956  0.16863821  0.2409869   4.3879633   3.2673266  21.287231\n",
      " 21.11405   ] 0.4\n",
      "[ 0.04747655  0.229779    0.32319403  4.754354    3.710138   21.436432\n",
      " 22.315964  ] 0.6\n",
      "[ 0.02404106  0.13573952  0.19182914  3.8994029   3.1302667  17.446644\n",
      " 14.185957  ] 0.2\n",
      "[ 0.02385305  0.13860543  0.1950653   3.916114    3.0962088  18.77929\n",
      " 17.168526  ] 0.0\n",
      "[ 0.03053025  0.18251467  0.26215702  4.4456854   3.373184   21.47865\n",
      " 21.897457  ] 1.0\n",
      "[ 0.02471807  0.15052818  0.21591555  3.912727    2.9314737  16.809944\n",
      " 16.87064   ] 0.2\n",
      "[ 0.02381901  0.15117234  0.21464999  4.053432    2.9333498  16.018526\n",
      " 12.6287155 ] 0.6\n",
      "[ 0.02905606  0.15661475  0.21923034  4.271464    3.3137505  17.617132\n",
      " 14.82467   ] 0.6\n",
      "[ 0.03401504  0.16529913  0.22388908  3.5482056   2.967803   16.037952\n",
      " 15.668803  ] 0.8\n",
      "[ 0.02508127  0.17997484  0.26107293  4.3812194   3.0612257  16.863022\n",
      " 14.621602  ] 0.0\n",
      "[ 0.04389144  0.17148939  0.23956588  4.462005    3.7552736  22.598457\n",
      " 23.626913  ] 0.8\n",
      "[ 0.03205453  0.18266156  0.25247264  4.283661    3.3893454  17.83049\n",
      " 14.182257  ] 1.0\n",
      "[ 0.02436935  0.15342137  0.22223805  4.036442    3.0854397  17.255829\n",
      " 15.511411  ] 0.4\n",
      "[ 0.02650395  0.14110824  0.19539429  3.8876116   3.2822936  16.850592\n",
      " 15.572471  ] 0.4\n",
      "[ 0.04023485  0.23456255  0.31809232  4.4937162   3.6052108  18.247835\n",
      " 16.97645   ] 0.6\n"
     ]
    },
    {
     "name": "stdout",
     "output_type": "stream",
     "text": [
      "[ 0.0338425   0.19648522  0.27877867  4.3975344   3.184761   18.566788\n",
      " 16.590488  ] 0.6\n",
      "[ 0.02983325  0.20775759  0.3108127   4.7475805   3.1660755  18.413755\n",
      " 12.672115  ] 0.6\n",
      "[ 0.04777538  0.27606946  0.3916721   4.7757244   3.8400066  19.492397\n",
      " 16.24875   ] 0.6\n",
      "[ 0.03874654  0.17652471  0.24200794  4.182493    3.2571268  21.421417\n",
      " 18.145132  ] 0.2\n",
      "[ 0.03940187  0.16535136  0.22105886  4.1778135   3.336459   16.10353\n",
      " 15.515136  ] 0.6\n",
      "[ 0.02330642  0.15353732  0.21971546  3.9604888   3.0756533  17.56595\n",
      " 13.3111725 ] 0.6\n",
      "[ 0.02392511  0.14735411  0.21298079  4.071719    3.3303072  15.47029\n",
      " 14.659341  ] 0.6\n",
      "[ 0.0316699   0.14534384  0.1951339   3.4902823   3.4680004  17.550964\n",
      " 16.008657  ] 1.0\n",
      "[ 0.07326904  0.24208562  0.33670667  4.493261    3.640022   20.51228\n",
      " 18.5252    ] 1.0\n",
      "[ 0.02891503  0.1672123   0.23537795  4.4216805   3.512694   18.085484\n",
      " 14.192013  ] 0.2\n",
      "[ 0.02608255  0.15435156  0.21713296  3.934737    3.0847964  16.484997\n",
      " 13.148505  ] 0.2\n",
      "[ 0.02322802  0.15898326  0.22697577  3.9702017   3.0553381  16.030354\n",
      " 12.997332  ] 0.0\n",
      "[ 0.03123222  0.18090059  0.24355924  4.3845735   3.8107877  19.811945\n",
      " 21.177044  ] 0.8\n",
      "[ 0.02604668  0.17148183  0.24752146  4.4070334   3.2556243  19.403172\n",
      " 16.319618  ] 0.8\n",
      "[ 0.02538881  0.16001166  0.22915715  4.0638213   3.0832152  16.337439\n",
      " 13.583501  ] 0.0\n",
      "[ 0.04877522  0.23112905  0.31831563  4.340792    3.4132695  18.849932\n",
      " 15.568114  ] 1.0\n",
      "[ 0.04089421  0.23776557  0.3290999   4.7289543   3.4541576  23.071346\n",
      " 22.920895  ] 0.6\n",
      "[ 0.02559479  0.15294066  0.21850505  3.9840012   2.8535013  14.495708\n",
      " 12.598143  ] 0.6\n",
      "[ 0.02614424  0.16900821  0.24746971  4.053212    2.987372   15.579875\n",
      " 11.28197   ] 0.2\n",
      "[ 0.02435201  0.12869793  0.18161392  3.6376674   3.166928   14.306739\n",
      " 13.304003  ] 0.8\n",
      "[ 0.03833467  0.21085867  0.2949261   4.6052246   3.1955788  16.025803\n",
      " 13.248518  ] 1.0\n",
      "[ 0.0220772   0.14136682  0.2009016   3.657973    3.0185592  15.518681\n",
      " 14.934641  ] 0.4\n",
      "[ 0.02758557  0.1759873   0.26089624  4.392487    3.0947948  15.535392\n",
      " 13.219666  ] 0.2\n",
      "[ 0.02630367  0.16597654  0.23415674  4.009942    2.9801257  15.386168\n",
      " 12.063006  ] 0.6\n",
      "[ 0.02566791  0.15507632  0.22212201  4.019275    2.9520028  14.748405\n",
      " 12.282439  ] 0.0\n",
      "[ 0.02127657  0.13960509  0.19202277  3.4636803   3.071292   16.86281\n",
      " 14.519442  ] 0.2\n",
      "[ 0.0237873  0.1604802  0.2254752  3.839617   2.7321188 15.281528\n",
      " 13.018532 ] 0.2\n",
      "[ 0.02861454  0.15971509  0.22208945  4.07936     2.9942842  15.309716\n",
      " 12.460083  ] 0.2\n",
      "[ 0.02334063  0.13065399  0.18311039  3.8381226   3.2034278  17.071745\n",
      " 15.268911  ] 0.2\n",
      "[ 0.02607098  0.1672049   0.23536956  4.4063764   2.9989476  14.922209\n",
      " 12.669781  ] 0.2\n",
      "[ 0.02878905  0.16422726  0.23360144  4.1136827   3.1155546  15.149063\n",
      " 12.09984   ] 0.8\n",
      "[ 0.02691993  0.15594953  0.22081652  3.9545383   3.0904799  15.9205\n",
      " 14.670144  ] 0.4\n",
      "[ 0.02227806  0.1603143   0.23144545  4.253396    3.6361487  19.716196\n",
      " 17.858194  ] 0.6\n",
      "[ 0.02488282  0.13472006  0.19529347  4.1782537   3.317816   16.253887\n",
      " 12.882532  ] 0.6\n",
      "[ 0.03396428  0.20354266  0.28342256  4.4106936   3.134864   15.3718605\n",
      " 12.245847  ] 0.2\n",
      "[ 0.02457567  0.13009827  0.18336307  3.8731122   3.4390442  16.981102\n",
      " 15.3492775 ] 0.8\n",
      "[ 0.03294666  0.21177046  0.29362598  4.47437     3.0896058  16.957874\n",
      " 16.501541  ] 0.6\n",
      "[ 0.0281925   0.12646736  0.17740747  3.831832    3.6314712  21.764763\n",
      " 23.493397  ] 0.8\n",
      "[ 0.0281678   0.17835115  0.25182915  4.1705003   3.3552644  18.122217\n",
      " 15.421821  ] 1.0\n",
      "[ 0.02396237  0.14518116  0.21254797  4.022546    3.0215697  17.645786\n",
      " 15.060753  ] 0.4\n",
      "[ 0.02734329  0.16633788  0.23695529  4.244706    3.3444774  19.04544\n",
      " 15.899887  ] 0.6\n",
      "[ 0.03499854  0.20729464  0.29933184  4.7733073   3.4535856  19.775383\n",
      " 19.253263  ] 1.0\n",
      "[ 0.02804225  0.17510843  0.25296912  4.4413285   3.1647499  13.670823\n",
      " 12.30345   ] 0.0\n",
      "[ 0.02777037  0.17240329  0.24717166  4.123762    3.000316   16.207355\n",
      " 16.015728  ] 0.6\n",
      "[ 0.0375406   0.15921481  0.21886162  4.182624    3.341122   20.534739\n",
      " 20.281996  ] 0.8\n",
      "[ 0.02652864  0.1729727   0.24886231  4.278747    3.2231224  18.22174\n",
      " 16.515177  ] 0.4\n",
      "[ 0.02411983  0.16729246  0.2401564   4.026128    3.0843446  15.423677\n",
      " 11.208454  ] 0.0\n",
      "[ 0.03525727  0.1789454   0.2482465   4.401252    3.721088   20.701853\n",
      " 19.93125   ] 0.8\n",
      "[ 0.02364881  0.15215647  0.20921     3.8766222   3.166626   18.74113\n",
      " 16.488832  ] 0.4\n",
      "[ 0.02867447  0.18827364  0.27955824  4.468421    3.4105551  19.513338\n",
      " 17.102438  ] 0.4\n",
      "[ 0.02944255  0.18170238  0.2618128   4.4667554   3.2674146  16.34603\n",
      " 13.485092  ] 0.6\n",
      "[ 0.03613517  0.21121477  0.29522946  4.6481156   3.5547137  18.889278\n",
      " 19.67126   ] 0.6\n",
      "[ 0.02978781  0.20543708  0.29367423  4.3348675   3.1732955  17.97184\n",
      " 15.3088255 ] 0.4\n",
      "[ 0.03382021  0.21112452  0.2997403   4.4653206   3.0758595  15.205585\n",
      " 11.941505  ] 0.4\n",
      "[ 0.03188992  0.18801838  0.27107388  4.566846    3.3415017  17.866117\n",
      " 13.767087  ] 0.2\n",
      "[ 0.02294426  0.12621555  0.17694771  3.5884073   3.155798   17.919094\n",
      " 14.916976  ] 0.6\n",
      "[ 0.02567766  0.14643432  0.19883819  3.954092    3.3694546  15.276241\n",
      " 14.319265  ] 0.4\n",
      "[ 0.03912311  0.22703874  0.3097135   4.371467    3.0910213  14.562\n",
      " 10.112579  ] 0.4\n",
      "[ 0.02109326  0.13692017  0.1930931   3.8271022   3.1894932  15.679765\n",
      " 12.58004   ] 0.6\n",
      "[ 0.02520878  0.13871728  0.1965217   4.1678586   3.0394282  16.53865\n",
      " 16.167938  ] 0.4\n",
      "[ 0.02869722  0.17937852  0.26102984  4.232667    3.0162518  17.312206\n",
      " 17.236675  ] 0.4\n",
      "[ 0.03751724  0.21822521  0.3117633   4.8980007   3.920589   28.317299\n",
      " 32.4654    ] 1.0\n",
      "[ 0.02524307  0.17204611  0.24961072  4.177211    2.849117   14.715548\n",
      " 12.667379  ] 0.0\n",
      "[ 0.02882794  0.17153446  0.2358182   4.3570275   3.743292   22.022808\n",
      " 24.55867   ] 0.8\n",
      "[ 0.02649672  0.16325592  0.23621647  4.2070746   3.0929775  17.378685\n",
      " 13.408373  ] 0.25\n",
      "[ 0.0441398   0.255753    0.36786088  4.725335    3.7855728  20.933271\n",
      " 19.093914  ] 0.75\n",
      "[ 0.02806788  0.19204912  0.28266028  4.6894813   3.1382906  16.15489\n",
      " 12.166669  ] 0.2\n",
      "[ 0.0270557   0.16522889  0.23269142  4.242484    3.102541   17.427639\n",
      " 15.126311  ] 0.5\n",
      "[ 0.02505369  0.15993033  0.2279766   4.2746024   3.225483   16.079372\n",
      " 12.541392  ] 0.4\n",
      "[ 0.02643957  0.1752363   0.25907806  4.065814    3.0253706  15.166787\n",
      " 13.80719   ] 0.2\n",
      "[ 0.02777581  0.17291306  0.24941012  4.4838295   3.1259608  16.462809\n",
      " 13.837208  ] 0.0\n",
      "\n"
     ]
    },
    {
     "data": {
      "text/plain": [
       "(200, 200)"
      ]
     },
     "execution_count": 36,
     "metadata": {},
     "output_type": "execute_result"
    }
   ],
   "source": [
    "#vote of 1 is correctly spotting the fakeness, vote of 0 is being fooled\n",
    "X_progan_val_extended = []\n",
    "Y_progan_val_extended = []\n",
    "for f in tqdm_notebook(expanded_progan_val_files_filtered):\n",
    "    cur_feats = progan_features_by_file['imgs_by_label/progan_labeled/progan_labeled_imgs/' + f]\n",
    "    \n",
    "    human_score = human_scores[f]\n",
    "    print(cur_feats, human_score)\n",
    "    \n",
    "    X_progan_val_extended.append(cur_feats)\n",
    "    Y_progan_val_extended.append(human_score)\n",
    "    \n",
    "\n",
    "len(X_progan_val_extended), len(Y_progan_val_extended)"
   ]
  },
  {
   "cell_type": "code",
   "execution_count": 41,
   "metadata": {},
   "outputs": [
    {
     "data": {
      "image/png": "[encoded data removed]",
      "text/plain": [
       "<Figure size 432x288 with 1 Axes>"
      ]
     },
     "metadata": {
      "needs_background": "light"
     },
     "output_type": "display_data"
    },
    {
     "data": {
      "text/plain": [
       "array([[1.        , 0.47305105],\n",
       "       [0.47305105, 1.        ]])"
      ]
     },
     "execution_count": 41,
     "metadata": {},
     "output_type": "execute_result"
    }
   ],
   "source": [
    "progan_prob_real = [x[0] for x in lr_progan.predict_proba(X_progan_val_extended)]\n",
    "plt.scatter(progan_prob_real, Y_progan_val_extended)\n",
    "plt.show()\n",
    "\n",
    "np.corrcoef(progan_prob_real, Y_progan_val_extended)"
   ]
  },
  {
   "cell_type": "code",
   "execution_count": 42,
   "metadata": {},
   "outputs": [
    {
     "data": {
      "text/plain": [
       "SpearmanrResult(correlation=0.4566808902206836, pvalue=1.0692559646829754e-11)"
      ]
     },
     "execution_count": 42,
     "metadata": {},
     "output_type": "execute_result"
    }
   ],
   "source": [
    "scipy.stats.spearmanr(progan_prob_real, Y_progan_val_extended)"
   ]
  },
  {
   "cell_type": "code",
   "execution_count": 40,
   "metadata": {},
   "outputs": [
    {
     "data": {
      "text/plain": [
       "0.6599999999999999"
      ]
     },
     "execution_count": 40,
     "metadata": {},
     "output_type": "execute_result"
    }
   ],
   "source": [
    "1. - lr_progan.score(X_progan_val_extended, (np.array(Y_progan_val_extended) > .5)*1)"
   ]
  },
  {
   "cell_type": "code",
   "execution_count": 44,
   "metadata": {},
   "outputs": [
    {
     "data": {
      "image/png": "[encoded data removed]",
      "text/plain": [
       "<Figure size 432x288 with 1 Axes>"
      ]
     },
     "metadata": {
      "needs_background": "light"
     },
     "output_type": "display_data"
    },
    {
     "data": {
      "text/plain": [
       "array([[1.        , 0.47983502],\n",
       "       [0.47983502, 1.        ]])"
      ]
     },
     "execution_count": 44,
     "metadata": {},
     "output_type": "execute_result"
    }
   ],
   "source": [
    "stylegan_prob_real = [x[0] for x in lr_stylegan.predict_proba(X_progan_val_extended)]\n",
    "plt.scatter(stylegan_prob_real, Y_progan_val_extended)\n",
    "plt.show()\n",
    "\n",
    "np.corrcoef(stylegan_prob_real, Y_progan_val_extended)"
   ]
  },
  {
   "cell_type": "code",
   "execution_count": 45,
   "metadata": {},
   "outputs": [
    {
     "data": {
      "text/plain": [
       "SpearmanrResult(correlation=0.46227436801747096, pvalue=5.544658152798465e-12)"
      ]
     },
     "execution_count": 45,
     "metadata": {},
     "output_type": "execute_result"
    }
   ],
   "source": [
    "scipy.stats.spearmanr(stylegan_prob_real, Y_progan_val_extended)"
   ]
  },
  {
   "cell_type": "code",
   "execution_count": 64,
   "metadata": {},
   "outputs": [],
   "source": [
    "img_yes_votes = defaultdict(int)\n",
    "img_all_votes = defaultdict(int)\n",
    "\n",
    "with open('stylegan_human_scores_cleaned.csv', newline='') as csvfile:\n",
    "    spamreader = csv.reader(csvfile)\n",
    "    for row in islice(spamreader,1,None):\n",
    "        filename = row[0]\n",
    "        if 'styleGAN' not in filename: continue\n",
    "            \n",
    "        is_correct = row[2]\n",
    "        \n",
    "        img_all_votes[filename] += 1\n",
    "        if is_correct == 'True':\n",
    "            img_yes_votes[filename] += 1"
   ]
  },
  {
   "cell_type": "code",
   "execution_count": 68,
   "metadata": {},
   "outputs": [
    {
     "data": {
      "text/plain": [
       "(231, 249)"
      ]
     },
     "execution_count": 68,
     "metadata": {},
     "output_type": "execute_result"
    }
   ],
   "source": [
    "len(img_yes_votes.keys()), len(img_all_votes.keys())"
   ]
  },
  {
   "cell_type": "code",
   "execution_count": 72,
   "metadata": {},
   "outputs": [
    {
     "data": {
      "text/plain": [
       "['imgs_by_label/stylegan_labeled/stylegan_labeled_imgs/celeba_styleGAN_1006.png',\n",
       " 'imgs_by_label/stylegan_labeled/stylegan_labeled_imgs/celeba_styleGAN_1025.png',\n",
       " 'imgs_by_label/stylegan_labeled/stylegan_labeled_imgs/celeba_styleGAN_1043.png',\n",
       " 'imgs_by_label/stylegan_labeled/stylegan_labeled_imgs/celeba_styleGAN_1059.png',\n",
       " 'imgs_by_label/stylegan_labeled/stylegan_labeled_imgs/celeba_styleGAN_1070.png',\n",
       " 'imgs_by_label/stylegan_labeled/stylegan_labeled_imgs/celeba_styleGAN_1083.png',\n",
       " 'imgs_by_label/stylegan_labeled/stylegan_labeled_imgs/celeba_styleGAN_11.png',\n",
       " 'imgs_by_label/stylegan_labeled/stylegan_labeled_imgs/celeba_styleGAN_111.png',\n",
       " 'imgs_by_label/stylegan_labeled/stylegan_labeled_imgs/celeba_styleGAN_1128.png',\n",
       " 'imgs_by_label/stylegan_labeled/stylegan_labeled_imgs/celeba_styleGAN_1141.png',\n",
       " 'imgs_by_label/stylegan_labeled/stylegan_labeled_imgs/celeba_styleGAN_1154.png',\n",
       " 'imgs_by_label/stylegan_labeled/stylegan_labeled_imgs/celeba_styleGAN_1165.png',\n",
       " 'imgs_by_label/stylegan_labeled/stylegan_labeled_imgs/celeba_styleGAN_1187.png',\n",
       " 'imgs_by_label/stylegan_labeled/stylegan_labeled_imgs/celeba_styleGAN_1200.png',\n",
       " 'imgs_by_label/stylegan_labeled/stylegan_labeled_imgs/celeba_styleGAN_1215.png',\n",
       " 'imgs_by_label/stylegan_labeled/stylegan_labeled_imgs/celeba_styleGAN_1227.png',\n",
       " 'imgs_by_label/stylegan_labeled/stylegan_labeled_imgs/celeba_styleGAN_1240.png',\n",
       " 'imgs_by_label/stylegan_labeled/stylegan_labeled_imgs/celeba_styleGAN_1262.png',\n",
       " 'imgs_by_label/stylegan_labeled/stylegan_labeled_imgs/celeba_styleGAN_128.png',\n",
       " 'imgs_by_label/stylegan_labeled/stylegan_labeled_imgs/celeba_styleGAN_1295.png',\n",
       " 'imgs_by_label/stylegan_labeled/stylegan_labeled_imgs/celeba_styleGAN_131.png',\n",
       " 'imgs_by_label/stylegan_labeled/stylegan_labeled_imgs/celeba_styleGAN_1329.png',\n",
       " 'imgs_by_label/stylegan_labeled/stylegan_labeled_imgs/celeba_styleGAN_1342.png',\n",
       " 'imgs_by_label/stylegan_labeled/stylegan_labeled_imgs/celeba_styleGAN_1353.png',\n",
       " 'imgs_by_label/stylegan_labeled/stylegan_labeled_imgs/celeba_styleGAN_1371.png',\n",
       " 'imgs_by_label/stylegan_labeled/stylegan_labeled_imgs/celeba_styleGAN_139.png',\n",
       " 'imgs_by_label/stylegan_labeled/stylegan_labeled_imgs/celeba_styleGAN_1403.png',\n",
       " 'imgs_by_label/stylegan_labeled/stylegan_labeled_imgs/celeba_styleGAN_1419.png',\n",
       " 'imgs_by_label/stylegan_labeled/stylegan_labeled_imgs/celeba_styleGAN_1431.png',\n",
       " 'imgs_by_label/stylegan_labeled/stylegan_labeled_imgs/celeba_styleGAN_1447.png',\n",
       " 'imgs_by_label/stylegan_labeled/stylegan_labeled_imgs/celeba_styleGAN_1460.png',\n",
       " 'imgs_by_label/stylegan_labeled/stylegan_labeled_imgs/celeba_styleGAN_1472.png',\n",
       " 'imgs_by_label/stylegan_labeled/stylegan_labeled_imgs/celeba_styleGAN_1491.png',\n",
       " 'imgs_by_label/stylegan_labeled/stylegan_labeled_imgs/celeba_styleGAN_1502.png',\n",
       " 'imgs_by_label/stylegan_labeled/stylegan_labeled_imgs/celeba_styleGAN_1516.png',\n",
       " 'imgs_by_label/stylegan_labeled/stylegan_labeled_imgs/celeba_styleGAN_1529.png',\n",
       " 'imgs_by_label/stylegan_labeled/stylegan_labeled_imgs/celeba_styleGAN_1544.png',\n",
       " 'imgs_by_label/stylegan_labeled/stylegan_labeled_imgs/celeba_styleGAN_1556.png',\n",
       " 'imgs_by_label/stylegan_labeled/stylegan_labeled_imgs/celeba_styleGAN_1573.png',\n",
       " 'imgs_by_label/stylegan_labeled/stylegan_labeled_imgs/celeba_styleGAN_1585.png',\n",
       " 'imgs_by_label/stylegan_labeled/stylegan_labeled_imgs/celeba_styleGAN_1603.png',\n",
       " 'imgs_by_label/stylegan_labeled/stylegan_labeled_imgs/celeba_styleGAN_1617.png',\n",
       " 'imgs_by_label/stylegan_labeled/stylegan_labeled_imgs/celeba_styleGAN_1632.png',\n",
       " 'imgs_by_label/stylegan_labeled/stylegan_labeled_imgs/celeba_styleGAN_1652.png',\n",
       " 'imgs_by_label/stylegan_labeled/stylegan_labeled_imgs/celeba_styleGAN_1670.png',\n",
       " 'imgs_by_label/stylegan_labeled/stylegan_labeled_imgs/celeba_styleGAN_1692.png',\n",
       " 'imgs_by_label/stylegan_labeled/stylegan_labeled_imgs/celeba_styleGAN_1704.png',\n",
       " 'imgs_by_label/stylegan_labeled/stylegan_labeled_imgs/celeba_styleGAN_1714.png',\n",
       " 'imgs_by_label/stylegan_labeled/stylegan_labeled_imgs/celeba_styleGAN_1726.png',\n",
       " 'imgs_by_label/stylegan_labeled/stylegan_labeled_imgs/celeba_styleGAN_174.png',\n",
       " 'imgs_by_label/stylegan_labeled/stylegan_labeled_imgs/celeba_styleGAN_1752.png',\n",
       " 'imgs_by_label/stylegan_labeled/stylegan_labeled_imgs/celeba_styleGAN_1771.png',\n",
       " 'imgs_by_label/stylegan_labeled/stylegan_labeled_imgs/celeba_styleGAN_1782.png',\n",
       " 'imgs_by_label/stylegan_labeled/stylegan_labeled_imgs/celeba_styleGAN_1795.png',\n",
       " 'imgs_by_label/stylegan_labeled/stylegan_labeled_imgs/celeba_styleGAN_1805.png',\n",
       " 'imgs_by_label/stylegan_labeled/stylegan_labeled_imgs/celeba_styleGAN_1825.png',\n",
       " 'imgs_by_label/stylegan_labeled/stylegan_labeled_imgs/celeba_styleGAN_1839.png',\n",
       " 'imgs_by_label/stylegan_labeled/stylegan_labeled_imgs/celeba_styleGAN_185.png',\n",
       " 'imgs_by_label/stylegan_labeled/stylegan_labeled_imgs/celeba_styleGAN_1871.png',\n",
       " 'imgs_by_label/stylegan_labeled/stylegan_labeled_imgs/celeba_styleGAN_1885.png',\n",
       " 'imgs_by_label/stylegan_labeled/stylegan_labeled_imgs/celeba_styleGAN_1900.png',\n",
       " 'imgs_by_label/stylegan_labeled/stylegan_labeled_imgs/celeba_styleGAN_1916.png',\n",
       " 'imgs_by_label/stylegan_labeled/stylegan_labeled_imgs/celeba_styleGAN_1935.png',\n",
       " 'imgs_by_label/stylegan_labeled/stylegan_labeled_imgs/celeba_styleGAN_1948.png',\n",
       " 'imgs_by_label/stylegan_labeled/stylegan_labeled_imgs/celeba_styleGAN_1961.png',\n",
       " 'imgs_by_label/stylegan_labeled/stylegan_labeled_imgs/celeba_styleGAN_1975.png',\n",
       " 'imgs_by_label/stylegan_labeled/stylegan_labeled_imgs/celeba_styleGAN_1988.png',\n",
       " 'imgs_by_label/stylegan_labeled/stylegan_labeled_imgs/celeba_styleGAN_20.png',\n",
       " 'imgs_by_label/stylegan_labeled/stylegan_labeled_imgs/celeba_styleGAN_2014.png',\n",
       " 'imgs_by_label/stylegan_labeled/stylegan_labeled_imgs/celeba_styleGAN_2025.png',\n",
       " 'imgs_by_label/stylegan_labeled/stylegan_labeled_imgs/celeba_styleGAN_2039.png',\n",
       " 'imgs_by_label/stylegan_labeled/stylegan_labeled_imgs/celeba_styleGAN_205.png',\n",
       " 'imgs_by_label/stylegan_labeled/stylegan_labeled_imgs/celeba_styleGAN_2063.png',\n",
       " 'imgs_by_label/stylegan_labeled/stylegan_labeled_imgs/celeba_styleGAN_2080.png',\n",
       " 'imgs_by_label/stylegan_labeled/stylegan_labeled_imgs/celeba_styleGAN_21.png',\n",
       " 'imgs_by_label/stylegan_labeled/stylegan_labeled_imgs/celeba_styleGAN_2115.png',\n",
       " 'imgs_by_label/stylegan_labeled/stylegan_labeled_imgs/celeba_styleGAN_2127.png',\n",
       " 'imgs_by_label/stylegan_labeled/stylegan_labeled_imgs/celeba_styleGAN_2140.png',\n",
       " 'imgs_by_label/stylegan_labeled/stylegan_labeled_imgs/celeba_styleGAN_2155.png',\n",
       " 'imgs_by_label/stylegan_labeled/stylegan_labeled_imgs/celeba_styleGAN_2169.png',\n",
       " 'imgs_by_label/stylegan_labeled/stylegan_labeled_imgs/celeba_styleGAN_219.png',\n",
       " 'imgs_by_label/stylegan_labeled/stylegan_labeled_imgs/celeba_styleGAN_2202.png',\n",
       " 'imgs_by_label/stylegan_labeled/stylegan_labeled_imgs/celeba_styleGAN_2214.png',\n",
       " 'imgs_by_label/stylegan_labeled/stylegan_labeled_imgs/celeba_styleGAN_2229.png',\n",
       " 'imgs_by_label/stylegan_labeled/stylegan_labeled_imgs/celeba_styleGAN_2244.png',\n",
       " 'imgs_by_label/stylegan_labeled/stylegan_labeled_imgs/celeba_styleGAN_2255.png',\n",
       " 'imgs_by_label/stylegan_labeled/stylegan_labeled_imgs/celeba_styleGAN_2272.png',\n",
       " 'imgs_by_label/stylegan_labeled/stylegan_labeled_imgs/celeba_styleGAN_2287.png',\n",
       " 'imgs_by_label/stylegan_labeled/stylegan_labeled_imgs/celeba_styleGAN_2302.png',\n",
       " 'imgs_by_label/stylegan_labeled/stylegan_labeled_imgs/celeba_styleGAN_2314.png',\n",
       " 'imgs_by_label/stylegan_labeled/stylegan_labeled_imgs/celeba_styleGAN_2328.png',\n",
       " 'imgs_by_label/stylegan_labeled/stylegan_labeled_imgs/celeba_styleGAN_2343.png',\n",
       " 'imgs_by_label/stylegan_labeled/stylegan_labeled_imgs/celeba_styleGAN_2354.png',\n",
       " 'imgs_by_label/stylegan_labeled/stylegan_labeled_imgs/celeba_styleGAN_2364.png',\n",
       " 'imgs_by_label/stylegan_labeled/stylegan_labeled_imgs/celeba_styleGAN_2378.png',\n",
       " 'imgs_by_label/stylegan_labeled/stylegan_labeled_imgs/celeba_styleGAN_2395.png',\n",
       " 'imgs_by_label/stylegan_labeled/stylegan_labeled_imgs/celeba_styleGAN_241.png',\n",
       " 'imgs_by_label/stylegan_labeled/stylegan_labeled_imgs/celeba_styleGAN_2426.png',\n",
       " 'imgs_by_label/stylegan_labeled/stylegan_labeled_imgs/celeba_styleGAN_2440.png',\n",
       " 'imgs_by_label/stylegan_labeled/stylegan_labeled_imgs/celeba_styleGAN_2456.png',\n",
       " 'imgs_by_label/stylegan_labeled/stylegan_labeled_imgs/celeba_styleGAN_2469.png',\n",
       " 'imgs_by_label/stylegan_labeled/stylegan_labeled_imgs/celeba_styleGAN_248.png',\n",
       " 'imgs_by_label/stylegan_labeled/stylegan_labeled_imgs/celeba_styleGAN_2490.png',\n",
       " 'imgs_by_label/stylegan_labeled/stylegan_labeled_imgs/celeba_styleGAN_2503.png',\n",
       " 'imgs_by_label/stylegan_labeled/stylegan_labeled_imgs/celeba_styleGAN_2517.png',\n",
       " 'imgs_by_label/stylegan_labeled/stylegan_labeled_imgs/celeba_styleGAN_253.png',\n",
       " 'imgs_by_label/stylegan_labeled/stylegan_labeled_imgs/celeba_styleGAN_2541.png',\n",
       " 'imgs_by_label/stylegan_labeled/stylegan_labeled_imgs/celeba_styleGAN_2561.png',\n",
       " 'imgs_by_label/stylegan_labeled/stylegan_labeled_imgs/celeba_styleGAN_2574.png',\n",
       " 'imgs_by_label/stylegan_labeled/stylegan_labeled_imgs/celeba_styleGAN_2589.png',\n",
       " 'imgs_by_label/stylegan_labeled/stylegan_labeled_imgs/celeba_styleGAN_2600.png',\n",
       " 'imgs_by_label/stylegan_labeled/stylegan_labeled_imgs/celeba_styleGAN_2615.png',\n",
       " 'imgs_by_label/stylegan_labeled/stylegan_labeled_imgs/celeba_styleGAN_263.png',\n",
       " 'imgs_by_label/stylegan_labeled/stylegan_labeled_imgs/celeba_styleGAN_2646.png',\n",
       " 'imgs_by_label/stylegan_labeled/stylegan_labeled_imgs/celeba_styleGAN_2666.png',\n",
       " 'imgs_by_label/stylegan_labeled/stylegan_labeled_imgs/celeba_styleGAN_2684.png',\n",
       " 'imgs_by_label/stylegan_labeled/stylegan_labeled_imgs/celeba_styleGAN_2700.png',\n",
       " 'imgs_by_label/stylegan_labeled/stylegan_labeled_imgs/celeba_styleGAN_2714.png',\n",
       " 'imgs_by_label/stylegan_labeled/stylegan_labeled_imgs/celeba_styleGAN_2730.png',\n",
       " 'imgs_by_label/stylegan_labeled/stylegan_labeled_imgs/celeba_styleGAN_2743.png',\n",
       " 'imgs_by_label/stylegan_labeled/stylegan_labeled_imgs/celeba_styleGAN_2756.png',\n",
       " 'imgs_by_label/stylegan_labeled/stylegan_labeled_imgs/celeba_styleGAN_2767.png',\n",
       " 'imgs_by_label/stylegan_labeled/stylegan_labeled_imgs/celeba_styleGAN_278.png',\n",
       " 'imgs_by_label/stylegan_labeled/stylegan_labeled_imgs/celeba_styleGAN_2793.png',\n",
       " 'imgs_by_label/stylegan_labeled/stylegan_labeled_imgs/celeba_styleGAN_2805.png',\n",
       " 'imgs_by_label/stylegan_labeled/stylegan_labeled_imgs/celeba_styleGAN_2822.png',\n",
       " 'imgs_by_label/stylegan_labeled/stylegan_labeled_imgs/celeba_styleGAN_2836.png',\n",
       " 'imgs_by_label/stylegan_labeled/stylegan_labeled_imgs/celeba_styleGAN_2851.png',\n",
       " 'imgs_by_label/stylegan_labeled/stylegan_labeled_imgs/celeba_styleGAN_2866.png',\n",
       " 'imgs_by_label/stylegan_labeled/stylegan_labeled_imgs/celeba_styleGAN_288.png',\n",
       " 'imgs_by_label/stylegan_labeled/stylegan_labeled_imgs/celeba_styleGAN_2891.png',\n",
       " 'imgs_by_label/stylegan_labeled/stylegan_labeled_imgs/celeba_styleGAN_290.png',\n",
       " 'imgs_by_label/stylegan_labeled/stylegan_labeled_imgs/celeba_styleGAN_2911.png',\n",
       " 'imgs_by_label/stylegan_labeled/stylegan_labeled_imgs/celeba_styleGAN_2927.png',\n",
       " 'imgs_by_label/stylegan_labeled/stylegan_labeled_imgs/celeba_styleGAN_2939.png',\n",
       " 'imgs_by_label/stylegan_labeled/stylegan_labeled_imgs/celeba_styleGAN_296.png',\n",
       " 'imgs_by_label/stylegan_labeled/stylegan_labeled_imgs/celeba_styleGAN_2979.png',\n",
       " 'imgs_by_label/stylegan_labeled/stylegan_labeled_imgs/celeba_styleGAN_2995.png',\n",
       " 'imgs_by_label/stylegan_labeled/stylegan_labeled_imgs/celeba_styleGAN_3006.png',\n",
       " 'imgs_by_label/stylegan_labeled/stylegan_labeled_imgs/celeba_styleGAN_3017.png',\n",
       " 'imgs_by_label/stylegan_labeled/stylegan_labeled_imgs/celeba_styleGAN_3030.png',\n",
       " 'imgs_by_label/stylegan_labeled/stylegan_labeled_imgs/celeba_styleGAN_3041.png',\n",
       " 'imgs_by_label/stylegan_labeled/stylegan_labeled_imgs/celeba_styleGAN_3057.png',\n",
       " 'imgs_by_label/stylegan_labeled/stylegan_labeled_imgs/celeba_styleGAN_3071.png',\n",
       " 'imgs_by_label/stylegan_labeled/stylegan_labeled_imgs/celeba_styleGAN_3083.png',\n",
       " 'imgs_by_label/stylegan_labeled/stylegan_labeled_imgs/celeba_styleGAN_3097.png',\n",
       " 'imgs_by_label/stylegan_labeled/stylegan_labeled_imgs/celeba_styleGAN_3109.png',\n",
       " 'imgs_by_label/stylegan_labeled/stylegan_labeled_imgs/celeba_styleGAN_3123.png',\n",
       " 'imgs_by_label/stylegan_labeled/stylegan_labeled_imgs/celeba_styleGAN_3140.png',\n",
       " 'imgs_by_label/stylegan_labeled/stylegan_labeled_imgs/celeba_styleGAN_3152.png',\n",
       " 'imgs_by_label/stylegan_labeled/stylegan_labeled_imgs/celeba_styleGAN_3165.png',\n",
       " 'imgs_by_label/stylegan_labeled/stylegan_labeled_imgs/celeba_styleGAN_318.png',\n",
       " 'imgs_by_label/stylegan_labeled/stylegan_labeled_imgs/celeba_styleGAN_3190.png',\n",
       " 'imgs_by_label/stylegan_labeled/stylegan_labeled_imgs/celeba_styleGAN_3203.png',\n",
       " 'imgs_by_label/stylegan_labeled/stylegan_labeled_imgs/celeba_styleGAN_3216.png',\n",
       " 'imgs_by_label/stylegan_labeled/stylegan_labeled_imgs/celeba_styleGAN_3232.png',\n",
       " 'imgs_by_label/stylegan_labeled/stylegan_labeled_imgs/celeba_styleGAN_3248.png',\n",
       " 'imgs_by_label/stylegan_labeled/stylegan_labeled_imgs/celeba_styleGAN_3262.png',\n",
       " 'imgs_by_label/stylegan_labeled/stylegan_labeled_imgs/celeba_styleGAN_3276.png',\n",
       " 'imgs_by_label/stylegan_labeled/stylegan_labeled_imgs/celeba_styleGAN_3289.png',\n",
       " 'imgs_by_label/stylegan_labeled/stylegan_labeled_imgs/celeba_styleGAN_3302.png',\n",
       " 'imgs_by_label/stylegan_labeled/stylegan_labeled_imgs/celeba_styleGAN_3315.png',\n",
       " 'imgs_by_label/stylegan_labeled/stylegan_labeled_imgs/celeba_styleGAN_3327.png',\n",
       " 'imgs_by_label/stylegan_labeled/stylegan_labeled_imgs/celeba_styleGAN_3344.png',\n",
       " 'imgs_by_label/stylegan_labeled/stylegan_labeled_imgs/celeba_styleGAN_3365.png',\n",
       " 'imgs_by_label/stylegan_labeled/stylegan_labeled_imgs/celeba_styleGAN_3386.png',\n",
       " 'imgs_by_label/stylegan_labeled/stylegan_labeled_imgs/celeba_styleGAN_3403.png',\n",
       " 'imgs_by_label/stylegan_labeled/stylegan_labeled_imgs/celeba_styleGAN_3418.png',\n",
       " 'imgs_by_label/stylegan_labeled/stylegan_labeled_imgs/celeba_styleGAN_3433.png',\n",
       " 'imgs_by_label/stylegan_labeled/stylegan_labeled_imgs/celeba_styleGAN_3448.png',\n",
       " 'imgs_by_label/stylegan_labeled/stylegan_labeled_imgs/celeba_styleGAN_3461.png',\n",
       " 'imgs_by_label/stylegan_labeled/stylegan_labeled_imgs/celeba_styleGAN_3476.png',\n",
       " 'imgs_by_label/stylegan_labeled/stylegan_labeled_imgs/celeba_styleGAN_3488.png',\n",
       " 'imgs_by_label/stylegan_labeled/stylegan_labeled_imgs/celeba_styleGAN_35.png',\n",
       " 'imgs_by_label/stylegan_labeled/stylegan_labeled_imgs/celeba_styleGAN_3512.png',\n",
       " 'imgs_by_label/stylegan_labeled/stylegan_labeled_imgs/celeba_styleGAN_3525.png',\n",
       " 'imgs_by_label/stylegan_labeled/stylegan_labeled_imgs/celeba_styleGAN_3541.png',\n",
       " 'imgs_by_label/stylegan_labeled/stylegan_labeled_imgs/celeba_styleGAN_3554.png',\n",
       " 'imgs_by_label/stylegan_labeled/stylegan_labeled_imgs/celeba_styleGAN_3567.png',\n",
       " 'imgs_by_label/stylegan_labeled/stylegan_labeled_imgs/celeba_styleGAN_3584.png',\n",
       " 'imgs_by_label/stylegan_labeled/stylegan_labeled_imgs/celeba_styleGAN_3602.png',\n",
       " 'imgs_by_label/stylegan_labeled/stylegan_labeled_imgs/celeba_styleGAN_3620.png',\n",
       " 'imgs_by_label/stylegan_labeled/stylegan_labeled_imgs/celeba_styleGAN_3633.png',\n",
       " 'imgs_by_label/stylegan_labeled/stylegan_labeled_imgs/celeba_styleGAN_3648.png',\n",
       " 'imgs_by_label/stylegan_labeled/stylegan_labeled_imgs/celeba_styleGAN_3661.png',\n",
       " 'imgs_by_label/stylegan_labeled/stylegan_labeled_imgs/celeba_styleGAN_3674.png',\n",
       " 'imgs_by_label/stylegan_labeled/stylegan_labeled_imgs/celeba_styleGAN_3688.png',\n",
       " 'imgs_by_label/stylegan_labeled/stylegan_labeled_imgs/celeba_styleGAN_3700.png',\n",
       " 'imgs_by_label/stylegan_labeled/stylegan_labeled_imgs/celeba_styleGAN_3714.png',\n",
       " 'imgs_by_label/stylegan_labeled/stylegan_labeled_imgs/celeba_styleGAN_3732.png',\n",
       " 'imgs_by_label/stylegan_labeled/stylegan_labeled_imgs/celeba_styleGAN_3744.png',\n",
       " 'imgs_by_label/stylegan_labeled/stylegan_labeled_imgs/celeba_styleGAN_3768.png',\n",
       " 'imgs_by_label/stylegan_labeled/stylegan_labeled_imgs/celeba_styleGAN_3780.png',\n",
       " 'imgs_by_label/stylegan_labeled/stylegan_labeled_imgs/celeba_styleGAN_3796.png',\n",
       " 'imgs_by_label/stylegan_labeled/stylegan_labeled_imgs/celeba_styleGAN_3810.png',\n",
       " 'imgs_by_label/stylegan_labeled/stylegan_labeled_imgs/celeba_styleGAN_3825.png',\n",
       " 'imgs_by_label/stylegan_labeled/stylegan_labeled_imgs/celeba_styleGAN_3840.png',\n",
       " 'imgs_by_label/stylegan_labeled/stylegan_labeled_imgs/celeba_styleGAN_3853.png',\n",
       " 'imgs_by_label/stylegan_labeled/stylegan_labeled_imgs/celeba_styleGAN_387.png',\n",
       " 'imgs_by_label/stylegan_labeled/stylegan_labeled_imgs/celeba_styleGAN_389.png',\n",
       " 'imgs_by_label/stylegan_labeled/stylegan_labeled_imgs/celeba_styleGAN_3904.png',\n",
       " 'imgs_by_label/stylegan_labeled/stylegan_labeled_imgs/celeba_styleGAN_3918.png',\n",
       " 'imgs_by_label/stylegan_labeled/stylegan_labeled_imgs/celeba_styleGAN_3932.png',\n",
       " 'imgs_by_label/stylegan_labeled/stylegan_labeled_imgs/celeba_styleGAN_3944.png',\n",
       " 'imgs_by_label/stylegan_labeled/stylegan_labeled_imgs/celeba_styleGAN_3958.png',\n",
       " 'imgs_by_label/stylegan_labeled/stylegan_labeled_imgs/celeba_styleGAN_397.png',\n",
       " 'imgs_by_label/stylegan_labeled/stylegan_labeled_imgs/celeba_styleGAN_3987.png',\n",
       " 'imgs_by_label/stylegan_labeled/stylegan_labeled_imgs/celeba_styleGAN_3997.png',\n",
       " 'imgs_by_label/stylegan_labeled/stylegan_labeled_imgs/celeba_styleGAN_4008.png',\n",
       " 'imgs_by_label/stylegan_labeled/stylegan_labeled_imgs/celeba_styleGAN_4024.png',\n",
       " 'imgs_by_label/stylegan_labeled/stylegan_labeled_imgs/celeba_styleGAN_4038.png',\n",
       " 'imgs_by_label/stylegan_labeled/stylegan_labeled_imgs/celeba_styleGAN_4050.png',\n",
       " 'imgs_by_label/stylegan_labeled/stylegan_labeled_imgs/celeba_styleGAN_4063.png',\n",
       " 'imgs_by_label/stylegan_labeled/stylegan_labeled_imgs/celeba_styleGAN_4079.png',\n",
       " 'imgs_by_label/stylegan_labeled/stylegan_labeled_imgs/celeba_styleGAN_4091.png',\n",
       " 'imgs_by_label/stylegan_labeled/stylegan_labeled_imgs/celeba_styleGAN_4105.png',\n",
       " 'imgs_by_label/stylegan_labeled/stylegan_labeled_imgs/celeba_styleGAN_4122.png',\n",
       " 'imgs_by_label/stylegan_labeled/stylegan_labeled_imgs/celeba_styleGAN_4131.png',\n",
       " 'imgs_by_label/stylegan_labeled/stylegan_labeled_imgs/celeba_styleGAN_4148.png',\n",
       " 'imgs_by_label/stylegan_labeled/stylegan_labeled_imgs/celeba_styleGAN_4163.png',\n",
       " 'imgs_by_label/stylegan_labeled/stylegan_labeled_imgs/celeba_styleGAN_4178.png',\n",
       " 'imgs_by_label/stylegan_labeled/stylegan_labeled_imgs/celeba_styleGAN_4192.png',\n",
       " 'imgs_by_label/stylegan_labeled/stylegan_labeled_imgs/celeba_styleGAN_4204.png',\n",
       " 'imgs_by_label/stylegan_labeled/stylegan_labeled_imgs/celeba_styleGAN_4224.png',\n",
       " 'imgs_by_label/stylegan_labeled/stylegan_labeled_imgs/celeba_styleGAN_4237.png',\n",
       " 'imgs_by_label/stylegan_labeled/stylegan_labeled_imgs/celeba_styleGAN_425.png',\n",
       " 'imgs_by_label/stylegan_labeled/stylegan_labeled_imgs/celeba_styleGAN_4262.png',\n",
       " 'imgs_by_label/stylegan_labeled/stylegan_labeled_imgs/celeba_styleGAN_4279.png',\n",
       " 'imgs_by_label/stylegan_labeled/stylegan_labeled_imgs/celeba_styleGAN_4290.png',\n",
       " 'imgs_by_label/stylegan_labeled/stylegan_labeled_imgs/celeba_styleGAN_4302.png',\n",
       " 'imgs_by_label/stylegan_labeled/stylegan_labeled_imgs/celeba_styleGAN_4321.png',\n",
       " 'imgs_by_label/stylegan_labeled/stylegan_labeled_imgs/celeba_styleGAN_4334.png',\n",
       " 'imgs_by_label/stylegan_labeled/stylegan_labeled_imgs/celeba_styleGAN_4352.png',\n",
       " 'imgs_by_label/stylegan_labeled/stylegan_labeled_imgs/celeba_styleGAN_4369.png',\n",
       " 'imgs_by_label/stylegan_labeled/stylegan_labeled_imgs/celeba_styleGAN_4383.png',\n",
       " 'imgs_by_label/stylegan_labeled/stylegan_labeled_imgs/celeba_styleGAN_4398.png',\n",
       " 'imgs_by_label/stylegan_labeled/stylegan_labeled_imgs/celeba_styleGAN_4409.png',\n",
       " 'imgs_by_label/stylegan_labeled/stylegan_labeled_imgs/celeba_styleGAN_442.png',\n",
       " 'imgs_by_label/stylegan_labeled/stylegan_labeled_imgs/celeba_styleGAN_4440.png',\n",
       " 'imgs_by_label/stylegan_labeled/stylegan_labeled_imgs/celeba_styleGAN_4456.png',\n",
       " 'imgs_by_label/stylegan_labeled/stylegan_labeled_imgs/celeba_styleGAN_4474.png',\n",
       " 'imgs_by_label/stylegan_labeled/stylegan_labeled_imgs/celeba_styleGAN_4493.png',\n",
       " 'imgs_by_label/stylegan_labeled/stylegan_labeled_imgs/celeba_styleGAN_4510.png',\n",
       " 'imgs_by_label/stylegan_labeled/stylegan_labeled_imgs/celeba_styleGAN_4526.png',\n",
       " 'imgs_by_label/stylegan_labeled/stylegan_labeled_imgs/celeba_styleGAN_4540.png',\n",
       " 'imgs_by_label/stylegan_labeled/stylegan_labeled_imgs/celeba_styleGAN_4554.png',\n",
       " 'imgs_by_label/stylegan_labeled/stylegan_labeled_imgs/celeba_styleGAN_457.png',\n",
       " 'imgs_by_label/stylegan_labeled/stylegan_labeled_imgs/celeba_styleGAN_4588.png',\n",
       " 'imgs_by_label/stylegan_labeled/stylegan_labeled_imgs/celeba_styleGAN_4601.png',\n",
       " 'imgs_by_label/stylegan_labeled/stylegan_labeled_imgs/celeba_styleGAN_4616.png',\n",
       " 'imgs_by_label/stylegan_labeled/stylegan_labeled_imgs/celeba_styleGAN_4638.png',\n",
       " 'imgs_by_label/stylegan_labeled/stylegan_labeled_imgs/celeba_styleGAN_4656.png',\n",
       " 'imgs_by_label/stylegan_labeled/stylegan_labeled_imgs/celeba_styleGAN_4668.png',\n",
       " 'imgs_by_label/stylegan_labeled/stylegan_labeled_imgs/celeba_styleGAN_4683.png',\n",
       " 'imgs_by_label/stylegan_labeled/stylegan_labeled_imgs/celeba_styleGAN_4702.png',\n",
       " 'imgs_by_label/stylegan_labeled/stylegan_labeled_imgs/celeba_styleGAN_4714.png',\n",
       " 'imgs_by_label/stylegan_labeled/stylegan_labeled_imgs/celeba_styleGAN_4730.png',\n",
       " 'imgs_by_label/stylegan_labeled/stylegan_labeled_imgs/celeba_styleGAN_4745.png',\n",
       " 'imgs_by_label/stylegan_labeled/stylegan_labeled_imgs/celeba_styleGAN_476.png',\n",
       " 'imgs_by_label/stylegan_labeled/stylegan_labeled_imgs/celeba_styleGAN_4783.png',\n",
       " 'imgs_by_label/stylegan_labeled/stylegan_labeled_imgs/celeba_styleGAN_480.png',\n",
       " 'imgs_by_label/stylegan_labeled/stylegan_labeled_imgs/celeba_styleGAN_4811.png',\n",
       " 'imgs_by_label/stylegan_labeled/stylegan_labeled_imgs/celeba_styleGAN_4825.png',\n",
       " 'imgs_by_label/stylegan_labeled/stylegan_labeled_imgs/celeba_styleGAN_4834.png',\n",
       " 'imgs_by_label/stylegan_labeled/stylegan_labeled_imgs/celeba_styleGAN_4846.png',\n",
       " 'imgs_by_label/stylegan_labeled/stylegan_labeled_imgs/celeba_styleGAN_4858.png',\n",
       " 'imgs_by_label/stylegan_labeled/stylegan_labeled_imgs/celeba_styleGAN_4871.png',\n",
       " 'imgs_by_label/stylegan_labeled/stylegan_labeled_imgs/celeba_styleGAN_4892.png',\n",
       " 'imgs_by_label/stylegan_labeled/stylegan_labeled_imgs/celeba_styleGAN_4909.png',\n",
       " 'imgs_by_label/stylegan_labeled/stylegan_labeled_imgs/celeba_styleGAN_4921.png',\n",
       " 'imgs_by_label/stylegan_labeled/stylegan_labeled_imgs/celeba_styleGAN_4934.png',\n",
       " 'imgs_by_label/stylegan_labeled/stylegan_labeled_imgs/celeba_styleGAN_4946.png',\n",
       " 'imgs_by_label/stylegan_labeled/stylegan_labeled_imgs/celeba_styleGAN_4960.png',\n",
       " 'imgs_by_label/stylegan_labeled/stylegan_labeled_imgs/celeba_styleGAN_4972.png',\n",
       " 'imgs_by_label/stylegan_labeled/stylegan_labeled_imgs/celeba_styleGAN_4987.png',\n",
       " 'imgs_by_label/stylegan_labeled/stylegan_labeled_imgs/celeba_styleGAN_4999.png',\n",
       " 'imgs_by_label/stylegan_labeled/stylegan_labeled_imgs/celeba_styleGAN_517.png',\n",
       " 'imgs_by_label/stylegan_labeled/stylegan_labeled_imgs/celeba_styleGAN_533.png',\n",
       " 'imgs_by_label/stylegan_labeled/stylegan_labeled_imgs/celeba_styleGAN_545.png',\n",
       " 'imgs_by_label/stylegan_labeled/stylegan_labeled_imgs/celeba_styleGAN_560.png',\n",
       " 'imgs_by_label/stylegan_labeled/stylegan_labeled_imgs/celeba_styleGAN_578.png',\n",
       " 'imgs_by_label/stylegan_labeled/stylegan_labeled_imgs/celeba_styleGAN_59.png',\n",
       " 'imgs_by_label/stylegan_labeled/stylegan_labeled_imgs/celeba_styleGAN_602.png',\n",
       " 'imgs_by_label/stylegan_labeled/stylegan_labeled_imgs/celeba_styleGAN_62.png',\n",
       " 'imgs_by_label/stylegan_labeled/stylegan_labeled_imgs/celeba_styleGAN_636.png',\n",
       " 'imgs_by_label/stylegan_labeled/stylegan_labeled_imgs/celeba_styleGAN_650.png',\n",
       " 'imgs_by_label/stylegan_labeled/stylegan_labeled_imgs/celeba_styleGAN_662.png',\n",
       " 'imgs_by_label/stylegan_labeled/stylegan_labeled_imgs/celeba_styleGAN_681.png',\n",
       " 'imgs_by_label/stylegan_labeled/stylegan_labeled_imgs/celeba_styleGAN_695.png',\n",
       " 'imgs_by_label/stylegan_labeled/stylegan_labeled_imgs/celeba_styleGAN_71.png',\n",
       " 'imgs_by_label/stylegan_labeled/stylegan_labeled_imgs/celeba_styleGAN_727.png',\n",
       " 'imgs_by_label/stylegan_labeled/stylegan_labeled_imgs/celeba_styleGAN_74.png',\n",
       " 'imgs_by_label/stylegan_labeled/stylegan_labeled_imgs/celeba_styleGAN_755.png',\n",
       " 'imgs_by_label/stylegan_labeled/stylegan_labeled_imgs/celeba_styleGAN_766.png',\n",
       " 'imgs_by_label/stylegan_labeled/stylegan_labeled_imgs/celeba_styleGAN_778.png',\n",
       " 'imgs_by_label/stylegan_labeled/stylegan_labeled_imgs/celeba_styleGAN_791.png',\n",
       " 'imgs_by_label/stylegan_labeled/stylegan_labeled_imgs/celeba_styleGAN_802.png',\n",
       " 'imgs_by_label/stylegan_labeled/stylegan_labeled_imgs/celeba_styleGAN_812.png',\n",
       " 'imgs_by_label/stylegan_labeled/stylegan_labeled_imgs/celeba_styleGAN_827.png',\n",
       " 'imgs_by_label/stylegan_labeled/stylegan_labeled_imgs/celeba_styleGAN_843.png',\n",
       " 'imgs_by_label/stylegan_labeled/stylegan_labeled_imgs/celeba_styleGAN_855.png',\n",
       " 'imgs_by_label/stylegan_labeled/stylegan_labeled_imgs/celeba_styleGAN_867.png',\n",
       " 'imgs_by_label/stylegan_labeled/stylegan_labeled_imgs/celeba_styleGAN_888.png',\n",
       " 'imgs_by_label/stylegan_labeled/stylegan_labeled_imgs/celeba_styleGAN_902.png',\n",
       " 'imgs_by_label/stylegan_labeled/stylegan_labeled_imgs/celeba_styleGAN_917.png',\n",
       " 'imgs_by_label/stylegan_labeled/stylegan_labeled_imgs/celeba_styleGAN_931.png',\n",
       " 'imgs_by_label/stylegan_labeled/stylegan_labeled_imgs/celeba_styleGAN_95.png',\n",
       " 'imgs_by_label/stylegan_labeled/stylegan_labeled_imgs/celeba_styleGAN_967.png',\n",
       " 'imgs_by_label/stylegan_labeled/stylegan_labeled_imgs/celeba_styleGAN_979.png',\n",
       " 'imgs_by_label/stylegan_labeled/stylegan_labeled_imgs/celeba_styleGAN_991.png']"
      ]
     },
     "execution_count": 72,
     "metadata": {},
     "output_type": "execute_result"
    }
   ],
   "source": [
    "stylegan_val_files"
   ]
  },
  {
   "cell_type": "code",
   "execution_count": 81,
   "metadata": {},
   "outputs": [
    {
     "data": {
      "text/plain": [
       "200"
      ]
     },
     "execution_count": 81,
     "metadata": {},
     "output_type": "execute_result"
    }
   ],
   "source": [
    "extended_stylegan_val_files = ['imgs_by_label/stylegan_labeled/stylegan_labeled_imgs/' + x[5:] for x in img_all_votes.keys()]\n",
    "extended_stylegan_val_files = set(extended_stylegan_val_files).intersection(stylegan_val_files)\n",
    "len(extended_stylegan_val_files)"
   ]
  },
  {
   "cell_type": "code",
   "execution_count": 89,
   "metadata": {},
   "outputs": [
    {
     "data": {
      "application/vnd.jupyter.widget-view+json": {
       "model_id": "e4c62c8d4e00408092962a737bb0c02e",
       "version_major": 2,
       "version_minor": 0
      },
      "text/plain": [
       "HBox(children=(IntProgress(value=0, max=200), HTML(value='')))"
      ]
     },
     "metadata": {},
     "output_type": "display_data"
    },
    {
     "name": "stdout",
     "output_type": "stream",
     "text": [
      "[ 0.02455453  0.1628937   0.2335049   4.0549293   2.9261105  15.248383\n",
      " 13.834675  ] 0.2\n",
      "[ 0.02274663  0.1305209   0.18712787  3.75182     2.9040768  17.374565\n",
      " 13.283935  ] 0.6\n",
      "[ 0.03048408  0.16460763  0.23471862  4.177192    2.8745518  15.085127\n",
      " 12.980474  ] 0.6\n",
      "[ 0.02766354  0.15834095  0.22889996  4.172201    3.0653448  15.906843\n",
      " 14.962028  ] 0.2\n",
      "[ 0.02581247  0.18303825  0.2683467   4.2586102   3.1242247  15.589457\n",
      " 14.444795  ] 0.2\n",
      "[ 0.03272982  0.19785953  0.28137732  4.310068    2.98724    15.768664\n",
      " 12.084391  ] 0.6\n",
      "[ 0.02623962  0.16824515  0.2426642   4.160694    2.9299629  15.986147\n",
      " 14.723061  ] 0.2\n",
      "[ 0.02439146  0.1429479   0.2007576   3.8796656   3.001131   17.102049\n",
      " 17.773626  ] 0.8\n",
      "[ 0.02974452  0.17155361  0.24772477  4.4453354   3.178909   16.7106\n",
      " 13.913779  ] 0.8\n",
      "[ 0.02764879  0.19138731  0.27895078  4.3990097   3.0560741  17.036121\n",
      " 14.350538  ] 0.2\n",
      "[ 0.02604506  0.15938738  0.23065795  4.3324575   2.9320405  14.870051\n",
      " 13.177397  ] 0.6\n",
      "[ 0.0268682   0.18605475  0.2708457   4.239758    2.9898782  16.836418\n",
      " 16.21277   ] 0.2\n",
      "[ 0.02772658  0.18667209  0.27418014  4.1687117   3.0503461  18.536232\n",
      " 14.546897  ] 0.6\n",
      "[ 0.03268258  0.16740434  0.23913404  4.343304    3.1270015  19.282206\n",
      " 16.95751   ] 0.2\n",
      "[ 0.02833108  0.16975318  0.24291764  4.1862326   3.0076969  15.9854355\n",
      " 13.099341  ] 0.4\n",
      "[ 0.02154542  0.13145082  0.19040939  3.9130266   3.1177227  16.2264\n",
      " 13.425333  ] 0.6\n",
      "[ 0.02600806  0.17316233  0.24243852  3.9706528   3.1286213  16.232311\n",
      " 13.209732  ] 0.6\n",
      "[ 0.02974487  0.19698063  0.28742686  4.263306    3.17255    19.120974\n",
      " 18.470772  ] 0.6\n",
      "[ 0.02618945  0.15403818  0.21952759  4.040511    2.8475382  14.272188\n",
      " 11.892344  ] 0.6\n",
      "[ 0.02617949  0.1542634   0.21431512  3.993669    2.8728948  14.173773\n",
      " 10.678717  ] 0.0\n",
      "[ 0.03236886  0.20479931  0.29265186  4.4781947   3.1532626  15.780092\n",
      " 14.366235  ] 0.4\n",
      "[ 0.02815623  0.14940502  0.21175183  4.121516    3.2763424  17.207932\n",
      " 12.825563  ] 0.6\n",
      "[ 0.03365833  0.17220572  0.24501479  4.1791162   3.1468253  16.121845\n",
      " 12.688957  ] 0.6\n",
      "[ 0.02665924  0.14165127  0.19848403  3.7768679   3.0270975  17.975794\n",
      " 15.273673  ] 0.8\n",
      "[ 0.0335986   0.18485464  0.26335484  4.3311214   3.2017045  19.66093\n",
      " 16.941517  ] 0.6\n",
      "[ 0.02393707  0.15597762  0.2241402   4.015585    2.8801377  16.715143\n",
      " 14.344126  ] 0.6\n",
      "[ 0.03485673  0.17075948  0.23516464  4.1512074   3.0613627  16.676971\n",
      " 13.482481  ] 0.2\n",
      "[ 0.03173236  0.18288888  0.25882462  4.165595    2.8660462  14.043287\n",
      " 11.8541975 ] 0.6\n",
      "[ 0.02847397  0.17429632  0.24781878  3.9752715   2.8893137  16.1941\n",
      " 10.911222  ] 0.0\n",
      "[ 0.02410019  0.14373073  0.20836243  3.9972713   3.1983361  16.888054\n",
      " 12.851038  ] 0.2\n",
      "[ 0.02037416  0.12747493  0.18314216  3.690597    2.8356192  16.008942\n",
      " 14.373664  ] 0.2\n",
      "[ 0.0298467   0.14631134  0.20401132  3.851658    3.2029438  17.252165\n",
      " 15.459933  ] 0.2\n",
      "[ 0.04708215  0.20408389  0.28092575  4.3768916   3.023204   16.204002\n",
      " 12.303094  ] 0.2\n",
      "[ 0.03226506  0.20057683  0.28676617  4.510008    2.941112   14.750147\n",
      " 11.866836  ] 0.0\n",
      "[ 0.02318266  0.14270926  0.20380205  3.8084698   3.1438832  16.643963\n",
      " 13.171509  ] 0.4\n",
      "[ 0.02521109  0.16266598  0.23174816  4.0886273   3.0622983  14.438037\n",
      " 13.306778  ] 0.2\n",
      "[ 0.02518934  0.16102739  0.22876337  4.113761    2.8857543  14.440292\n",
      " 10.803727  ] 0.0\n",
      "[ 0.02790387  0.18592383  0.27086303  4.151423    2.8351312  15.058792\n",
      " 14.278586  ] 0.4\n",
      "[ 0.02883775  0.17760235  0.258782    4.5339456   3.4342282  18.278128\n",
      " 17.28505   ] 0.6\n",
      "[ 0.02599802  0.15327896  0.22383718  4.2954736   3.0768566  16.08295\n",
      " 13.328161  ] 0.6\n",
      "[ 0.02467035  0.15920831  0.22423631  3.9358003   2.9565823  15.517709\n",
      " 13.85985   ] 0.4\n",
      "[ 0.0253472   0.15493368  0.2137821   3.844363    2.7862797  13.97451\n",
      " 10.572435  ] 0.4\n",
      "[ 0.0265726  0.1353859  0.1871215  3.618113   2.9871974 16.327366\n",
      " 14.643877 ] 0.6\n",
      "[ 0.02428607  0.15449059  0.22328407  3.8913245   3.0537534  17.938038\n",
      " 18.988234  ] 0.4\n",
      "[ 0.02735949  0.19839971  0.29254442  4.698714    3.2576647  17.996096\n",
      " 15.034909  ] 0.4\n",
      "[ 0.02769784  0.16520287  0.23212719  3.9553945   2.859177   12.995478\n",
      " 11.8180685 ] 0.2\n",
      "[ 0.02657232  0.1764217   0.2575071   4.446491    2.9658978  14.941107\n",
      " 13.289463  ] 0.2\n",
      "[ 0.02350595  0.12827367  0.18501793  4.0830927   3.0665693  19.692524\n",
      " 18.042608  ] 0.8\n",
      "[ 0.02467371  0.15541314  0.22001447  3.9105787   2.7904162  13.416271\n",
      " 10.424255  ] 0.2\n",
      "[ 0.02763171  0.15314846  0.21782021  3.9054034   3.0539088  18.17029\n",
      " 15.87739   ] 0.6\n",
      "[ 0.03779896  0.21826544  0.32034165  4.3879037   3.244375   19.331213\n",
      " 17.280207  ] 0.8\n",
      "[ 0.03257997  0.1988553   0.27652675  4.249571    2.926375   16.047037\n",
      " 13.4605055 ] 0.2\n",
      "[ 0.03419983  0.22420995  0.33148956  4.9015226   3.4795399  21.304768\n",
      " 20.370428  ] 0.2\n",
      "[ 0.02849249  0.17545809  0.25238666  4.2850494   3.315249   17.706005\n",
      " 14.5163355 ] 0.0\n",
      "[ 0.02932544  0.180811    0.25724557  4.351147    3.1585848  15.448404\n",
      " 13.548713  ] 0.4\n",
      "[ 0.0468944   0.23854823  0.33076358  4.3204327   3.345251   19.94517\n",
      " 18.787916  ] 0.6\n",
      "[ 0.0288232   0.17946671  0.25667107  4.2369537   3.1240928  15.561873\n",
      " 14.122992  ] 0.6\n",
      "[ 0.02654592  0.13838245  0.18856958  3.710859    2.9187026  17.186302\n",
      " 17.232723  ] 0.4\n",
      "[ 0.03166297  0.19590487  0.28163812  4.4769645   3.2750185  16.706497\n",
      " 16.048897  ] 0.8\n",
      "[ 0.02778761  0.17086849  0.24934776  4.1840453   3.0441616  14.908245\n",
      " 12.821296  ] 0.2\n",
      "[ 0.04180829  0.21892704  0.30302337  4.6209517   3.0094678  15.103409\n",
      " 12.107603  ] 0.4\n",
      "[ 0.03136407  0.21039641  0.30477297  4.5560126   3.2282667  16.118965\n",
      " 13.608876  ] 0.8\n",
      "[ 0.03581409  0.18508825  0.25114676  4.226431    3.1516607  15.351592\n",
      " 14.550995  ] 0.2\n",
      "[ 0.02582641  0.15885007  0.23204915  4.165951    3.1224322  17.08632\n",
      " 13.960896  ] 0.2\n",
      "[ 0.02772502  0.14114268  0.1949658   3.773805    2.8859162  16.161808\n",
      " 14.454548  ] 0.6\n",
      "[ 0.03251192  0.19365533  0.27447432  4.3449197   3.0455163  16.38493\n",
      " 14.862775  ] 0.8\n",
      "[ 0.02362721  0.11385999  0.15684249  3.4801157   3.1526797  16.11544\n",
      " 14.599528  ] 0.4\n",
      "[ 0.03346062  0.18586127  0.26550534  4.1987906   3.0122087  14.847387\n",
      " 13.67674   ] 0.2\n",
      "[ 0.03589379  0.24060784  0.34840417  4.798025    3.2452     17.040958\n",
      " 13.989923  ] 0.4\n",
      "[ 0.02893423  0.16747606  0.24045734  4.16629     3.1453502  17.485588\n",
      " 15.348541  ] 0.2\n",
      "[ 0.02347767  0.12834716  0.17863782  3.5339983   2.88804    16.737724\n",
      " 12.957527  ] 0.4\n",
      "[ 0.02765427  0.188678    0.2724082   4.389817    3.082444   16.502537\n",
      " 14.781871  ] 0.2\n",
      "[ 0.02296934  0.14270326  0.20439321  4.0167875   3.0660443  16.148209\n",
      " 13.894491  ] 0.4\n",
      "[ 0.02987903  0.18208903  0.2584808   4.4154963   2.9358203  15.251976\n",
      " 13.447367  ] 0.0\n",
      "[ 0.02787601  0.16148306  0.23428893  4.049719    3.0165017  18.837502\n",
      " 18.55566   ] 0.4\n",
      "[ 0.02657439  0.17517011  0.25216183  4.362585    3.0214505  16.209553\n",
      " 13.2359295 ] 0.4\n",
      "[ 0.02661315  0.16394481  0.22780825  4.1204596   3.188002   17.40387\n",
      " 15.962786  ] 0.6\n",
      "[ 0.02771151  0.17188327  0.25127557  4.239523    2.9950817  17.721432\n",
      " 14.519383  ] 1.0\n",
      "[ 0.02878863  0.18838052  0.26853958  4.580916    2.918555   13.803207\n",
      " 12.547846  ] 0.4\n",
      "[ 0.03161     0.20643923  0.30355978  4.5547495   3.1494303  19.682018\n",
      " 18.432577  ] 0.4\n",
      "[ 0.02547138  0.14423497  0.20504811  3.898803    2.8502984  14.256023\n",
      " 10.584506  ] 0.2\n",
      "[ 0.02552229  0.16139685  0.23395814  4.1773763   3.0263515  17.014227\n",
      " 15.595471  ] 0.8\n",
      "[ 0.02560075  0.14580661  0.20877023  4.0305147   2.9312553  18.172298\n",
      " 17.064987  ] 0.4\n",
      "[ 0.02609613  0.14532316  0.20990758  3.93599     2.9159274  16.915539\n",
      " 14.261033  ] 0.2\n",
      "[ 0.02257873  0.15284026  0.2177807   3.7801247   3.0159757  16.354424\n",
      " 14.443245  ] 0.6\n",
      "[ 0.03283284  0.1845788   0.27757433  4.564103    3.378908   19.28603\n",
      " 16.994642  ] 0.8\n",
      "[ 0.03830842  0.21176043  0.29391947  4.3844924   3.2801447  18.94424\n",
      " 16.706919  ] 0.6\n",
      "[ 0.02784347  0.1627638   0.2331326   3.9428082   3.0544226  15.136199\n",
      " 11.724325  ] 0.8\n",
      "[ 0.02372363  0.14540988  0.2094554   4.0143957   3.1993666  17.721842\n",
      " 14.993143  ] 0.6\n",
      "[ 0.05369471  0.22678214  0.31087202  3.953583    3.0651865  15.664624\n",
      " 14.253988  ] 0.8\n",
      "[ 0.02346736  0.1525699   0.21907146  3.9264948   3.0560377  19.91821\n",
      " 15.589392  ] 0.8\n",
      "[ 0.03353198  0.1961234   0.27557814  4.411573    3.268734   17.348911\n",
      " 14.660522  ] 0.4\n",
      "[ 0.03141932  0.16285431  0.22937389  4.184188    3.2625477  17.529825\n",
      " 16.665295  ] 0.8\n",
      "[ 0.02752059  0.16596185  0.2297486   3.8821256   3.1641905  17.550657\n",
      " 12.336396  ] 0.4\n",
      "[ 0.02167844  0.1398354   0.20162478  3.7055914   2.8593252  17.570095\n",
      " 16.046156  ] 0.6\n",
      "[ 0.02637516  0.17138314  0.24971749  4.4345527   2.9903002  17.283823\n",
      " 14.776598  ] 0.0\n",
      "[ 0.03552902  0.17591804  0.24107805  4.1027837   3.295878   16.929104\n",
      " 19.913776  ] 0.2\n",
      "[ 0.0279949   0.18424593  0.2686449   4.184487    3.0230432  17.414173\n",
      " 17.899881  ] 0.8\n",
      "[ 0.03109717  0.21825016  0.32181248  4.762313    3.3255095  15.798056\n",
      " 13.113455  ] 0.2\n",
      "[ 0.03007843  0.18003137  0.253402    4.3592668   3.0550494  15.841616\n",
      " 11.633142  ] 0.2\n",
      "[ 0.02632617  0.14148837  0.19805297  3.682648    3.016375   15.333089\n",
      " 11.830404  ] 0.2\n",
      "[ 0.02567296  0.1619902   0.2313365   4.0915933   2.944526   14.377186\n",
      " 11.092095  ] 0.4\n",
      "[ 0.02746775  0.18311737  0.2604209   4.1165495   2.9886968  18.874676\n",
      " 16.932173  ] 0.4\n",
      "[ 0.02391915  0.1558769   0.22409967  3.8600934   2.8901052  16.309362\n",
      " 13.600212  ] 0.2\n",
      "[ 0.02932243  0.18183312  0.25420263  4.2060456   2.939285   16.517586\n",
      " 13.008242  ] 0.6\n",
      "[ 0.02410615  0.14983678  0.21559355  3.9852483   2.8328836  14.539178\n",
      " 10.468515  ] 0.2\n",
      "[ 0.0236162   0.13364406  0.18635993  3.6795356   2.9105682  16.893969\n",
      " 14.825181  ] 0.4\n",
      "[ 0.02715721  0.14656724  0.20813052  4.052257    2.9715202  16.337332\n",
      " 13.727054  ] 0.4\n",
      "[ 0.03198003  0.18414515  0.26661187  4.3088717   3.342786   20.158905\n",
      " 16.896204  ] 0.4\n",
      "[ 0.02434847  0.15848295  0.22524823  3.926936    3.190165   16.153051\n",
      " 12.579589  ] 0.6\n",
      "[ 0.03019694  0.18131031  0.26025987  4.1771054   2.7678208  14.944677\n",
      " 12.216186  ] 0.6\n",
      "[ 0.03053057  0.18368934  0.25764233  4.090482    3.1670265  17.192236\n",
      " 13.905726  ] 0.6\n",
      "[ 0.03443917  0.17067634  0.23288885  4.1132917   3.148599   16.680054\n",
      " 14.220448  ] 0.4\n",
      "[ 0.03576831  0.1989019   0.27255857  4.1601768   2.8492837  15.035726\n",
      " 13.533387  ] 0.4\n",
      "[ 0.02179769  0.1422132   0.19805998  3.772182    2.8412197  15.827174\n",
      " 14.482536  ] 0.2\n",
      "[ 0.03052649  0.20714708  0.30612314  4.6631618   3.2659686  16.970566\n",
      " 13.817621  ] 0.2\n",
      "[ 0.05853854  0.23429711  0.31608805  4.276411    3.142923   16.681644\n",
      " 11.889486  ] 0.6\n",
      "[ 0.02130519  0.11041989  0.15666145  3.7216594   3.0650172  18.040352\n",
      " 15.454269  ] 0.2\n",
      "[ 0.02960989  0.18419224  0.26041055  4.1558256   3.0544074  16.942444\n",
      " 14.423415  ] 0.4\n",
      "[ 0.02965406  0.1671208   0.23939614  4.2123866   2.9587626  14.249469\n",
      " 13.213684  ] 0.4\n",
      "[ 0.02236072  0.13648267  0.19051781  3.6512887   2.97321    16.213379\n",
      " 13.742672  ] 0.2\n",
      "[ 0.03148354  0.16211028  0.22264346  4.0554285   2.8818107  13.877932\n",
      " 10.176662  ] 0.4\n",
      "[ 0.02302644  0.14318538  0.20386328  3.8279908   3.145602   18.025867\n",
      " 17.585814  ] 0.6\n",
      "[ 0.03406078  0.17314608  0.24013303  4.478767    3.2458792  16.942472\n",
      " 16.072065  ] 0.2\n",
      "[ 0.03526791  0.1856423   0.25817358  4.307936    3.3135026  16.766582\n",
      " 13.488677  ] 0.2\n",
      "[ 0.02766942  0.18208113  0.26040858  4.198263    2.9430132  15.034367\n",
      " 12.939558  ] 0.4\n",
      "[ 0.02619151  0.15562905  0.22113536  4.2318826   3.0311675  17.618017\n",
      " 17.025345  ] 0.4\n",
      "[ 0.0312469   0.20380877  0.3008887   4.3273997   3.1846876  17.449005\n",
      " 14.384288  ] 0.6\n",
      "[ 0.02154698  0.13232659  0.18368885  3.7589014   3.0764108  17.601692\n",
      " 15.447322  ] 0.4\n",
      "[ 0.03667166  0.19723089  0.2765246   4.111692    2.9879308  16.226688\n",
      " 14.158439  ] 1.0\n",
      "[ 0.03034848  0.19466577  0.2825188   4.5426683   3.265772   16.096348\n",
      " 12.958992  ] 0.8\n",
      "[ 0.02071469  0.12319475  0.16983154  3.611811    3.2390506  16.98717\n",
      " 13.878465  ] 0.4\n",
      "[ 0.0224157   0.15489657  0.22519599  4.0472093   3.0176473  16.055416\n",
      " 13.311185  ] 0.2\n",
      "[ 0.02330341  0.15248872  0.21528953  3.7645755   2.7230575  13.69017\n",
      " 13.039757  ] 0.2\n",
      "[ 0.02676385  0.15342966  0.2139641   3.9444628   2.8824832  13.48143\n",
      " 11.68445   ] 0.2\n",
      "[ 0.03117299  0.1415014   0.196743    3.8996186   3.263184   18.541632\n",
      " 15.596569  ] 0.6\n",
      "[ 0.04133443  0.23853725  0.3388272   4.6272583   3.2082777  15.114278\n",
      " 11.761217  ] 0.6\n",
      "[ 0.02283325  0.14490537  0.20616117  3.8736255   2.964714   15.522164\n",
      " 12.282863  ] 0.2\n",
      "[ 0.03240251  0.16788115  0.2355336   3.9333065   3.8622816  23.277134\n",
      " 22.789272  ] 0.8\n",
      "[ 0.02240359  0.13440315  0.19030444  3.7125642   3.0160117  16.897451\n",
      " 15.358497  ] 0.2\n",
      "[ 0.02442987  0.14563797  0.20661673  3.821301    2.8215551  15.887409\n",
      " 14.762444  ] 0.4\n",
      "[ 0.02895859  0.18844292  0.26815948  4.2641788   2.8533487  14.844507\n",
      " 11.700536  ] 0.4\n",
      "[ 0.02613589  0.15540233  0.21920486  4.041464    3.047317   18.785759\n",
      " 17.621313  ] 0.4\n",
      "[ 0.02610471  0.154115    0.22091533  4.0327477   2.7711384  13.963204\n",
      " 10.532791  ] 0.2\n",
      "[ 0.02119733  0.13288136  0.18577182  3.5440466   3.1977131  18.251492\n",
      " 16.015442  ] 0.2\n",
      "[ 0.03766764  0.16740844  0.2294216   3.9718587   3.1207275  19.169418\n",
      " 18.740221  ] 0.8\n",
      "[ 0.02951916  0.18410958  0.26428407  4.07729     3.2610676  17.97532\n",
      " 15.946192  ] 0.8\n",
      "[ 0.02890212  0.16425498  0.2271524   3.994483    2.95695    16.876902\n",
      " 12.992217  ] 0.4\n",
      "[ 0.02546086  0.15637882  0.223847    3.9676762   3.079197   15.748278\n",
      " 13.3864565 ] 0.2\n",
      "[ 0.02849242  0.15112515  0.21091987  4.3287067   3.3371     21.233505\n",
      " 21.16865   ] 0.2\n",
      "[ 0.02208427  0.13301401  0.19119555  3.7626948   2.952061   15.985248\n",
      " 12.418939  ] 0.2\n",
      "[ 0.03537752  0.20157099  0.2919793   4.507661    3.2251627  16.375622\n",
      " 13.883762  ] 0.4\n",
      "[ 0.03547317  0.21402147  0.30348697  4.6906705   3.244755   17.357847\n",
      " 13.673463  ] 0.6\n",
      "[ 0.02755978  0.15592535  0.21928243  3.9092762   3.2673569  19.252502\n",
      " 16.27651   ] 0.6\n",
      "[ 0.03217961  0.18300772  0.2582712   4.0626316   2.903412   15.129818\n",
      " 11.612845  ] 0.4\n",
      "[ 0.02754476  0.17125125  0.2503853   4.5287204   3.0715804  15.082323\n",
      " 12.10558   ] 0.4\n",
      "[ 0.02906411  0.20449208  0.28745618  4.5635295   2.9490452  15.252007\n",
      " 13.338864  ] 0.4\n",
      "[ 0.02371574  0.15810892  0.22923023  4.0409727   2.9974382  15.495483\n",
      " 12.534306  ] 0.2\n",
      "[ 0.02726934  0.20466478  0.30274868  4.571507    3.1951706  15.781606\n",
      " 13.051771  ] 0.6\n",
      "[ 0.02623411  0.17196128  0.24214552  4.2452903   3.6887403  18.903845\n",
      " 18.927103  ] 0.2\n",
      "[ 0.02853614  0.15223397  0.2163706   4.2016253   3.1288054  18.6343\n",
      " 15.432859  ] 0.4\n",
      "[ 0.02682838  0.1641071   0.24023512  4.2628374   2.8538918  15.214289\n",
      " 12.894164  ] 0.8\n",
      "[ 0.0301043   0.18941753  0.27320063  4.3460584   3.248592   16.845331\n",
      " 14.5956545 ] 0.2\n",
      "[ 0.0300894   0.17432064  0.24691364  4.0996385   2.779039   13.494792\n",
      " 10.756677  ] 0.2\n",
      "[ 0.0273922   0.16571654  0.2379307   4.1479807   3.0174503  17.745892\n",
      " 15.532166  ] 0.6\n",
      "[ 0.0251539   0.16187596  0.22972295  3.9035332   2.6481285  13.013019\n",
      " 11.187547  ] 0.2\n",
      "[ 0.02770255  0.18005504  0.2602236   4.2695503   3.0942616  17.17767\n",
      " 13.911123  ] 0.2\n",
      "[ 0.03764649  0.20595048  0.28131282  4.2814035   2.9977927  17.127056\n",
      " 15.098999  ] 0.8\n",
      "[ 0.02796007  0.17126708  0.24016881  4.0647      2.7705324  12.416653\n",
      " 10.481768  ] 0.2\n",
      "[ 0.0219515   0.14931673  0.21182764  3.8150427   2.8005888  16.23964\n",
      " 12.525528  ] 0.2\n",
      "[ 0.03547484  0.19575955  0.28379807  4.379748    3.093474   17.017311\n",
      " 14.426808  ] 0.4\n",
      "[ 0.02347744  0.15779951  0.22620896  4.0011873   2.7515202  14.223121\n",
      " 11.577713  ] 0.2\n",
      "[ 0.03273532  0.19783096  0.29024234  4.612675    3.140734   17.440453\n",
      " 13.200832  ] 0.8\n",
      "[ 0.02831073  0.16387482  0.23083328  4.230162    3.0697722  17.514776\n",
      " 14.255787  ] 0.2\n",
      "[ 0.02656052  0.16033949  0.22548054  3.935124    2.8705387  14.45652\n",
      " 12.507506  ] 0.4\n",
      "[ 0.0302483   0.16915217  0.24034941  4.003742    2.9126189  13.488391\n",
      " 11.289941  ] 0.4\n",
      "[ 0.02438564  0.15118733  0.21933767  3.9290285   2.8223014  14.930845\n",
      " 11.859558  ] 0.2\n",
      "[ 0.02824291  0.17560801  0.25496498  4.4237185   2.9253702  15.684449\n",
      " 14.73245   ] 0.4\n",
      "[ 0.0244448   0.15751152  0.22294624  3.8921082   2.7770329  14.452631\n",
      " 11.075798  ] 0.2\n",
      "[ 0.02734516  0.17454803  0.25221914  4.3105683   2.9457922  16.634186\n",
      " 12.433576  ] 0.0\n",
      "[ 0.0231806   0.1382789   0.19587259  3.9813883   3.0644343  16.200527\n",
      " 10.398576  ] 0.2\n",
      "[ 0.02157252  0.13020796  0.18100631  3.744835    2.9545062  15.649526\n",
      " 14.136786  ] 0.6\n",
      "[ 0.02576119  0.15931532  0.22655693  4.2359357   3.2078183  16.862953\n",
      " 14.458836  ] 0.2\n",
      "[ 0.03054599  0.18265757  0.26426125  4.3219357   3.0322855  14.7259655\n",
      " 12.159622  ] 0.2\n",
      "[ 0.02288548  0.13659671  0.19393705  3.9813242   2.9031096  17.177256\n",
      " 14.449068  ] 0.8\n",
      "[ 0.02867678  0.18653105  0.2665393   4.1571765   2.816147   13.165649\n",
      " 12.289979  ] 0.2\n",
      "[ 0.03123361  0.19874671  0.29202384  4.4687595   3.2460613  18.892096\n",
      " 17.85519   ] 0.2\n",
      "[ 0.01958534  0.1236301   0.17600499  3.5756114   2.846094   15.620202\n",
      " 13.129194  ] 0.4\n",
      "[ 0.02857748  0.18360586  0.26823276  4.422807    2.9155817  18.214882\n",
      " 16.318602  ] 0.0\n",
      "[ 0.02445585  0.13267818  0.18169563  3.575718    2.8683667  15.9534645\n",
      " 14.713126  ] 0.4\n",
      "[ 0.03116839  0.17426217  0.24966413  4.3535333   3.1089644  17.639849\n",
      " 15.906178  ] 0.8\n",
      "[ 0.02961051  0.16730355  0.23637384  4.0329275   2.8600218  15.720928\n",
      " 14.33444   ] 0.0\n",
      "[ 0.02571836  0.16125639  0.23434798  4.265279    3.3273916  20.4418\n",
      " 17.20656   ] 0.4\n",
      "[ 0.02195615  0.13808069  0.19661644  3.7394674   2.9050446  15.968867\n",
      " 17.06237   ] 0.6\n",
      "[ 0.02868176  0.19166961  0.27107465  4.2263327   3.1452482  17.036064\n",
      " 15.126622  ] 0.4\n",
      "[ 0.02007672  0.11375671  0.1576303   3.369321    2.7597904  15.667173\n",
      " 13.085511  ] 0.6\n",
      "[ 0.01993425  0.13079377  0.18755114  3.6332722   2.9218192  15.003977\n",
      " 12.770477  ] 0.4\n",
      "[ 0.02710261  0.16208655  0.23331127  4.311836    3.2506745  18.879368\n",
      " 14.767509  ] 0.4\n",
      "[ 0.02508714  0.12407073  0.17309247  3.5422053   3.1392736  17.700462\n",
      " 18.434551  ] 0.6\n",
      "[ 0.02589982  0.16075955  0.23152505  3.9139605   2.9264061  14.663253\n",
      " 11.183565  ] 0.8\n",
      "\n"
     ]
    },
    {
     "data": {
      "text/plain": [
       "(200, 200)"
      ]
     },
     "execution_count": 89,
     "metadata": {},
     "output_type": "execute_result"
    }
   ],
   "source": [
    "#vote of 1 is correctly spotting the fakeness, vote of 0 is being fooled\n",
    "X_stylegan_val_extended = []\n",
    "Y_stylegan_val_extended = []\n",
    "for f in tqdm_notebook(extended_stylegan_val_files):\n",
    "    cur_feats = stylegan_features_by_file[f]\n",
    "    \n",
    "    short_f = 'fake_' + os.path.split(f)[-1]\n",
    "    \n",
    "    yes_votes = img_yes_votes[short_f] if short_f in img_yes_votes else 0\n",
    "    all_votes = img_all_votes[short_f]\n",
    "    #print(short_f)\n",
    "    frac = yes_votes / all_votes\n",
    "    \n",
    "    #human_score = human_scores[f]\n",
    "    print(cur_feats, frac)\n",
    "    \n",
    "    X_stylegan_val_extended.append(cur_feats)\n",
    "    Y_stylegan_val_extended.append(frac)\n",
    "    \n",
    "\n",
    "len(X_stylegan_val_extended), len(Y_stylegan_val_extended)"
   ]
  },
  {
   "cell_type": "code",
   "execution_count": 90,
   "metadata": {},
   "outputs": [
    {
     "data": {
      "image/png": "[encoded data removed]",
      "text/plain": [
       "<Figure size 432x288 with 1 Axes>"
      ]
     },
     "metadata": {
      "needs_background": "light"
     },
     "output_type": "display_data"
    },
    {
     "data": {
      "text/plain": [
       "array([[1.      , 0.303484],\n",
       "       [0.303484, 1.      ]])"
      ]
     },
     "execution_count": 90,
     "metadata": {},
     "output_type": "execute_result"
    }
   ],
   "source": [
    "stylegan_prob_real_2 = [x[0] for x in lr_stylegan.predict_proba(X_stylegan_val_extended)]\n",
    "plt.scatter(stylegan_prob_real_2, Y_stylegan_val_extended)\n",
    "plt.show()\n",
    "\n",
    "np.corrcoef(stylegan_prob_real_2, Y_stylegan_val_extended)"
   ]
  },
  {
   "cell_type": "code",
   "execution_count": 91,
   "metadata": {},
   "outputs": [
    {
     "data": {
      "text/plain": [
       "SpearmanrResult(correlation=0.3139866010254341, pvalue=5.964643132922672e-06)"
      ]
     },
     "execution_count": 91,
     "metadata": {},
     "output_type": "execute_result"
    }
   ],
   "source": [
    "scipy.stats.spearmanr(stylegan_prob_real_2, Y_stylegan_val_extended)"
   ]
  },
  {
   "cell_type": "code",
   "execution_count": 92,
   "metadata": {},
   "outputs": [
    {
     "data": {
      "image/png": "[encoded data removed]",
      "text/plain": [
       "<Figure size 432x288 with 1 Axes>"
      ]
     },
     "metadata": {
      "needs_background": "light"
     },
     "output_type": "display_data"
    },
    {
     "data": {
      "text/plain": [
       "array([[1.        , 0.29811497],\n",
       "       [0.29811497, 1.        ]])"
      ]
     },
     "execution_count": 92,
     "metadata": {},
     "output_type": "execute_result"
    }
   ],
   "source": [
    "progan_prob_real_2 = [x[0] for x in lr_progan.predict_proba(X_stylegan_val_extended)]\n",
    "plt.scatter(progan_prob_real_2, Y_stylegan_val_extended)\n",
    "plt.show()\n",
    "\n",
    "np.corrcoef(progan_prob_real_2, Y_stylegan_val_extended)"
   ]
  },
  {
   "cell_type": "code",
   "execution_count": null,
   "metadata": {},
   "outputs": [],
   "source": []
  }
 ],
 "metadata": {
  "kernelspec": {
   "display_name": "Python 3",
   "language": "python",
   "name": "python3"
  },
  "language_info": {
   "codemirror_mode": {
    "name": "ipython",
    "version": 3
   },
   "file_extension": ".py",
   "mimetype": "text/x-python",
   "name": "python",
   "nbconvert_exporter": "python",
   "pygments_lexer": "ipython3",
   "version": "3.7.4"
  }
 },
 "nbformat": 4,
 "nbformat_minor": 2
}
