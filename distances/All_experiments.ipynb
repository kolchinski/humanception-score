{
 "cells": [
  {
   "cell_type": "code",
   "execution_count": 1,
   "metadata": {},
   "outputs": [],
   "source": [
    "from collections import defaultdict\n",
    "import csv\n",
    "from itertools import islice\n",
    "import os\n",
    "import sys\n",
    "\n",
    "import numpy as np\n",
    "import matplotlib.pyplot as plt\n",
    "from IPython.display import display, Image\n",
    "import seaborn as sns\n",
    "from sklearn.linear_model import LogisticRegression\n",
    "from tqdm import tqdm_notebook\n",
    "import torch\n",
    "from torchvision import models, transforms, datasets"
   ]
  },
  {
   "cell_type": "code",
   "execution_count": 3,
   "metadata": {},
   "outputs": [],
   "source": [
    "progan_filenames = torch.load('progan_filenames.pt', map_location=torch.device('cpu'))\n",
    "progan_distance_features = torch.load('small_progan_distance_features.pt', map_location=torch.device('cpu'))"
   ]
  },
  {
   "cell_type": "code",
   "execution_count": 4,
   "metadata": {},
   "outputs": [],
   "source": [
    "stylegan_filenames = torch.load('stylegan_filenames.pt', map_location=torch.device('cpu'))\n",
    "stylegan_distance_features = torch.load('stylegan_distance_features.pt', map_location=torch.device('cpu'))"
   ]
  },
  {
   "cell_type": "code",
   "execution_count": 2,
   "metadata": {},
   "outputs": [],
   "source": [
    "began_filenames = torch.load('began_filenames.pt', map_location=torch.device('cpu'))\n",
    "began_distance_features = torch.load('began_distance_features.pt', map_location=torch.device('cpu'))"
   ]
  },
  {
   "cell_type": "code",
   "execution_count": 5,
   "metadata": {},
   "outputs": [],
   "source": [
    "dataset_counts = defaultdict(int)\n",
    "img_counts = defaultdict(lambda : defaultdict(int))\n",
    "unique_imgs = defaultdict(set)\n",
    "img_votes = defaultdict(lambda: defaultdict(lambda: [0,0])) #no,yes tuples by dataset and image\n",
    "\n",
    "with open('../all_gans_inf.csv') as f:\n",
    "    reader = csv.DictReader(f)\n",
    "    for row in islice(reader, None):\n",
    "        img = row['img']        \n",
    "#         dataset_name = img[:img.index('/')]\n",
    "        split_name = img.split('/')\n",
    "        assert(len(split_name) == 2)\n",
    "        dataset_name, img_name = split_name\n",
    "        \n",
    "        vote_index = 1 if row['correctness'] == row['realness'] else 0\n",
    "        if dataset_name == 'began5000' and row['realness'] == 'True': print(row)\n",
    "\n",
    "        img_votes[dataset_name][img_name][vote_index] += 1\n",
    "        \n",
    "        dataset_counts[dataset_name] += 1\n",
    "        img_counts[dataset_name][img_name] += 1\n",
    "unique_imgs = {dataset: len(img_counts[dataset]) for dataset in img_counts}"
   ]
  },
  {
   "cell_type": "code",
   "execution_count": 7,
   "metadata": {},
   "outputs": [
    {
     "data": {
      "text/plain": [
       "(2233, 2397, 3103)"
      ]
     },
     "execution_count": 7,
     "metadata": {},
     "output_type": "execute_result"
    }
   ],
   "source": [
    "progan_votes = img_votes['progan5000']\n",
    "began_votes = img_votes['began5000']\n",
    "stylegan_votes = img_votes['styleganceleba5000']\n",
    "len(progan_votes), len(began_votes), len(stylegan_votes)"
   ]
  },
  {
   "cell_type": "code",
   "execution_count": 14,
   "metadata": {},
   "outputs": [
    {
     "data": {
      "text/plain": [
       "1966"
      ]
     },
     "execution_count": 14,
     "metadata": {},
     "output_type": "execute_result"
    }
   ],
   "source": [
    "began_votes_filtered = {k:v for k,v in began_votes.items() if k in [os.path.split(x)[-1] for x in began_filenames]}\n",
    "\n",
    "len(began_votes_filtered)"
   ]
  },
  {
   "cell_type": "code",
   "execution_count": 15,
   "metadata": {},
   "outputs": [
    {
     "data": {
      "image/png": "[encoded data removed]",
      "text/plain": [
       "<Figure size 432x288 with 1 Axes>"
      ]
     },
     "metadata": {
      "needs_background": "light"
     },
     "output_type": "display_data"
    },
    {
     "data": {
      "image/png": "[encoded data removed]",
      "text/plain": [
       "<Figure size 432x288 with 1 Axes>"
      ]
     },
     "metadata": {
      "needs_background": "light"
     },
     "output_type": "display_data"
    },
    {
     "data": {
      "image/png": "[encoded data removed]",
      "text/plain": [
       "<Figure size 432x288 with 1 Axes>"
      ]
     },
     "metadata": {
      "needs_background": "light"
     },
     "output_type": "display_data"
    }
   ],
   "source": [
    "for gan, votes in [('ProGAN', progan_votes), ('BeGAN', began_votes), ('StyleGAN', stylegan_votes)]:\n",
    "    vote_pct_correct = [y/(x+y) for x,y in votes.values()]\n",
    "    plt.title(gan + ' vote proportions real/fake')\n",
    "    plt.hist(vote_pct_correct)\n",
    "    plt.show()"
   ]
  },
  {
   "cell_type": "code",
   "execution_count": 18,
   "metadata": {},
   "outputs": [],
   "source": [
    "with open('train_set.txt') as f:\n",
    "    progan_train_files = [x.strip() for x in f.readlines()]\n",
    "#print(progan_train_files[:5])\n",
    "\n",
    "with open('val_set.txt') as f:\n",
    "    progan_val_files = [x.strip() for x in f.readlines()]\n",
    "#print(progan_val_files[:5])\n",
    "\n",
    "with open('stylegan_train_set.txt') as f:\n",
    "    stylegan_train_files = [x.strip() for x in f.readlines()]\n",
    "#print(stylegan_train_files[:5])\n",
    "\n",
    "with open('stylegan_val_set.txt') as f:\n",
    "    stylegan_val_files = [x.strip() for x in f.readlines()]\n",
    "#print(stylegan_val_files[:5])\n",
    "\n",
    "with open('began_train_set.txt') as f:\n",
    "    began_train_files = [x.strip() for x in f.readlines()]\n",
    "#print(began_train_files[:5])\n",
    "\n",
    "with open('began_val_set.txt') as f:\n",
    "    began_val_files = [x.strip() for x in f.readlines()]\n",
    "#print(began_val_files[:5])"
   ]
  },
  {
   "cell_type": "code",
   "execution_count": 19,
   "metadata": {},
   "outputs": [
    {
     "name": "stdout",
     "output_type": "stream",
     "text": [
      "2233\n",
      "3103\n",
      "1966\n"
     ]
    }
   ],
   "source": [
    "progan_features_by_file = {progan_filenames[i] : progan_distance_features[i] for i in range(len(progan_filenames))}\n",
    "print(len(progan_features_by_file))\n",
    "\n",
    "stylegan_features_by_file = {stylegan_filenames[i] : stylegan_distance_features[i] for i in range(len(stylegan_filenames))}\n",
    "print(len(stylegan_features_by_file))\n",
    "\n",
    "began_features_by_file = {began_filenames[i] : began_distance_features[i] for i in range(len(began_filenames))}\n",
    "print(len(began_features_by_file))"
   ]
  },
  {
   "cell_type": "code",
   "execution_count": 21,
   "metadata": {},
   "outputs": [
    {
     "name": "stdout",
     "output_type": "stream",
     "text": [
      "2233\n",
      "3103\n",
      "1966\n"
     ]
    }
   ],
   "source": [
    "progan_votes_by_file = {'imgs_by_label/progan_labeled/progan_labeled_imgs/' + k : v for k,v in progan_votes.items()}\n",
    "print(len(progan_votes_by_file))\n",
    "\n",
    "stylegan_votes_by_file = {'imgs_by_label/stylegan_labeled/stylegan_labeled_imgs/' + k : v for k,v in stylegan_votes.items()}\n",
    "print(len(stylegan_votes_by_file))\n",
    "\n",
    "began_votes_by_file = {'imgs_by_label/began_labeled/began_labeled_imgs/' + k : v for k,v in began_votes_filtered.items()}\n",
    "print(len(began_votes_by_file))"
   ]
  },
  {
   "cell_type": "code",
   "execution_count": 22,
   "metadata": {},
   "outputs": [
    {
     "data": {
      "application/vnd.jupyter.widget-view+json": {
       "model_id": "f2890f5c0a4340099003a381bc82912c",
       "version_major": 2,
       "version_minor": 0
      },
      "text/plain": [
       "HBox(children=(IntProgress(value=0, max=1787), HTML(value='')))"
      ]
     },
     "metadata": {},
     "output_type": "display_data"
    },
    {
     "name": "stdout",
     "output_type": "stream",
     "text": [
      "\n"
     ]
    },
    {
     "data": {
      "text/plain": [
       "(2369, 2369)"
      ]
     },
     "execution_count": 22,
     "metadata": {},
     "output_type": "execute_result"
    }
   ],
   "source": [
    "#vote of 1 is correctly spotting the fakeness, vote of 0 is being fooled\n",
    "X_progan_train = []\n",
    "Y_progan_train = []\n",
    "for f in tqdm_notebook(progan_train_files):\n",
    "    cur_feats = progan_features_by_file[f]\n",
    "    cur_votes = progan_votes_by_file[f]\n",
    "    false_votes, true_votes = cur_votes\n",
    "    #print(false_votes + true_votes)\n",
    "    #print(f, cur_feats, cur_votes, '\\n')\n",
    "    \n",
    "    for i in range(false_votes):\n",
    "        X_progan_train.append(cur_feats)\n",
    "        Y_progan_train.append(0)\n",
    "        \n",
    "    for i in range(true_votes):\n",
    "        X_progan_train.append(cur_feats)\n",
    "        Y_progan_train.append(1)\n",
    "\n",
    "len(X_progan_train), len(Y_progan_train)"
   ]
  },
  {
   "cell_type": "code",
   "execution_count": 26,
   "metadata": {},
   "outputs": [
    {
     "data": {
      "application/vnd.jupyter.widget-view+json": {
       "model_id": "b6445a07556741b6963cddecb791f6e2",
       "version_major": 2,
       "version_minor": 0
      },
      "text/plain": [
       "HBox(children=(IntProgress(value=0, max=223), HTML(value='')))"
      ]
     },
     "metadata": {},
     "output_type": "display_data"
    },
    {
     "name": "stdout",
     "output_type": "stream",
     "text": [
      "\n"
     ]
    },
    {
     "data": {
      "text/plain": [
       "(306, 306)"
      ]
     },
     "execution_count": 26,
     "metadata": {},
     "output_type": "execute_result"
    }
   ],
   "source": [
    "#vote of 1 is correctly spotting the fakeness, vote of 0 is being fooled\n",
    "X_progan_val = []\n",
    "Y_progan_val = []\n",
    "for f in tqdm_notebook(progan_val_files):\n",
    "    cur_feats = progan_features_by_file[f]\n",
    "    cur_votes = progan_votes_by_file[f]\n",
    "    false_votes, true_votes = cur_votes\n",
    "    \n",
    "    for i in range(false_votes):\n",
    "        X_progan_val.append(cur_feats)\n",
    "        Y_progan_val.append(0)\n",
    "        \n",
    "    for i in range(true_votes):\n",
    "        X_progan_val.append(cur_feats)\n",
    "        Y_progan_val.append(1)\n",
    "len(X_progan_val), len(Y_progan_val)"
   ]
  },
  {
   "cell_type": "code",
   "execution_count": 37,
   "metadata": {},
   "outputs": [
    {
     "name": "stderr",
     "output_type": "stream",
     "text": [
      "/home/alexkolchinski/.conda/envs/myenv/lib/python3.7/site-packages/sklearn/linear_model/logistic.py:432: FutureWarning: Default solver will be changed to 'lbfgs' in 0.22. Specify a solver to silence this warning.\n",
      "  FutureWarning)\n"
     ]
    },
    {
     "data": {
      "text/plain": [
       "(0.6361333896158716, 0.6503267973856209)"
      ]
     },
     "execution_count": 37,
     "metadata": {},
     "output_type": "execute_result"
    }
   ],
   "source": [
    "lr_progan = LogisticRegression().fit(X_progan_train, Y_progan_train)\n",
    "lr_progan.score(X_progan_train, Y_progan_train), lr_progan.score(X_progan_val, Y_progan_val)"
   ]
  },
  {
   "cell_type": "code",
   "execution_count": 28,
   "metadata": {},
   "outputs": [
    {
     "data": {
      "application/vnd.jupyter.widget-view+json": {
       "model_id": "bbff4a53b7d740d0ac70a33212dcbb37",
       "version_major": 2,
       "version_minor": 0
      },
      "text/plain": [
       "HBox(children=(IntProgress(value=0, max=2483), HTML(value='')))"
      ]
     },
     "metadata": {},
     "output_type": "display_data"
    },
    {
     "name": "stdout",
     "output_type": "stream",
     "text": [
      "\n"
     ]
    },
    {
     "data": {
      "text/plain": [
       "(3849, 3849)"
      ]
     },
     "execution_count": 28,
     "metadata": {},
     "output_type": "execute_result"
    }
   ],
   "source": [
    "#vote of 1 is correctly spotting the fakeness, vote of 0 is being fooled\n",
    "X_stylegan_train = []\n",
    "Y_stylegan_train = []\n",
    "for f in tqdm_notebook(stylegan_train_files):\n",
    "    cur_feats = stylegan_features_by_file[f]\n",
    "    cur_votes = stylegan_votes_by_file[f]\n",
    "    false_votes, true_votes = cur_votes\n",
    "    \n",
    "    for i in range(false_votes):\n",
    "        X_stylegan_train.append(cur_feats)\n",
    "        Y_stylegan_train.append(0)\n",
    "        \n",
    "    for i in range(true_votes):\n",
    "        X_stylegan_train.append(cur_feats)\n",
    "        Y_stylegan_train.append(1)\n",
    "\n",
    "len(X_stylegan_train), len(Y_stylegan_train)"
   ]
  },
  {
   "cell_type": "code",
   "execution_count": 29,
   "metadata": {},
   "outputs": [
    {
     "data": {
      "application/vnd.jupyter.widget-view+json": {
       "model_id": "35a3b2885e934f2fa2f4527feb52051d",
       "version_major": 2,
       "version_minor": 0
      },
      "text/plain": [
       "HBox(children=(IntProgress(value=0, max=310), HTML(value='')))"
      ]
     },
     "metadata": {},
     "output_type": "display_data"
    },
    {
     "name": "stdout",
     "output_type": "stream",
     "text": [
      "\n"
     ]
    },
    {
     "data": {
      "text/plain": [
       "(485, 485)"
      ]
     },
     "execution_count": 29,
     "metadata": {},
     "output_type": "execute_result"
    }
   ],
   "source": [
    "#vote of 1 is correctly spotting the fakeness, vote of 0 is being fooled\n",
    "X_stylegan_val = []\n",
    "Y_stylegan_val = []\n",
    "for f in tqdm_notebook(stylegan_val_files):\n",
    "    cur_feats = stylegan_features_by_file[f]\n",
    "    cur_votes = stylegan_votes_by_file[f]\n",
    "    false_votes, true_votes = cur_votes\n",
    "    \n",
    "    for i in range(false_votes):\n",
    "        X_stylegan_val.append(cur_feats)\n",
    "        Y_stylegan_val.append(0)\n",
    "        \n",
    "    for i in range(true_votes):\n",
    "        X_stylegan_val.append(cur_feats)\n",
    "        Y_stylegan_val.append(1)\n",
    "len(X_stylegan_val), len(Y_stylegan_val)"
   ]
  },
  {
   "cell_type": "code",
   "execution_count": 38,
   "metadata": {},
   "outputs": [
    {
     "name": "stderr",
     "output_type": "stream",
     "text": [
      "/home/alexkolchinski/.conda/envs/myenv/lib/python3.7/site-packages/sklearn/linear_model/logistic.py:432: FutureWarning: Default solver will be changed to 'lbfgs' in 0.22. Specify a solver to silence this warning.\n",
      "  FutureWarning)\n"
     ]
    },
    {
     "data": {
      "text/plain": [
       "(0.6282151208106002, 0.6639175257731958)"
      ]
     },
     "execution_count": 38,
     "metadata": {},
     "output_type": "execute_result"
    }
   ],
   "source": [
    "lr_stylegan = LogisticRegression().fit(X_stylegan_train, Y_stylegan_train)\n",
    "lr_stylegan.score(X_stylegan_train, Y_stylegan_train), lr_stylegan.score(X_stylegan_val, Y_stylegan_val)"
   ]
  },
  {
   "cell_type": "code",
   "execution_count": 31,
   "metadata": {},
   "outputs": [
    {
     "data": {
      "application/vnd.jupyter.widget-view+json": {
       "model_id": "806c1be49d824f58829c925b1fcd8bc6",
       "version_major": 2,
       "version_minor": 0
      },
      "text/plain": [
       "HBox(children=(IntProgress(value=0, max=1574), HTML(value='')))"
      ]
     },
     "metadata": {},
     "output_type": "display_data"
    },
    {
     "name": "stdout",
     "output_type": "stream",
     "text": [
      "\n"
     ]
    },
    {
     "data": {
      "text/plain": [
       "(2140, 2140)"
      ]
     },
     "execution_count": 31,
     "metadata": {},
     "output_type": "execute_result"
    }
   ],
   "source": [
    "#vote of 1 is correctly spotting the fakeness, vote of 0 is being fooled\n",
    "X_began_train = []\n",
    "Y_began_train = []\n",
    "for f in tqdm_notebook(began_train_files):\n",
    "    cur_feats = began_features_by_file[f]\n",
    "    cur_votes = began_votes_by_file[f]\n",
    "    false_votes, true_votes = cur_votes\n",
    "    \n",
    "    for i in range(false_votes):\n",
    "        X_began_train.append(cur_feats)\n",
    "        Y_began_train.append(0)\n",
    "        \n",
    "    for i in range(true_votes):\n",
    "        X_began_train.append(cur_feats)\n",
    "        Y_began_train.append(1)\n",
    "\n",
    "len(X_began_train), len(Y_began_train)"
   ]
  },
  {
   "cell_type": "code",
   "execution_count": 32,
   "metadata": {},
   "outputs": [
    {
     "data": {
      "application/vnd.jupyter.widget-view+json": {
       "model_id": "17d233a14f6a42e99d21c13827bf39af",
       "version_major": 2,
       "version_minor": 0
      },
      "text/plain": [
       "HBox(children=(IntProgress(value=0, max=196), HTML(value='')))"
      ]
     },
     "metadata": {},
     "output_type": "display_data"
    },
    {
     "name": "stdout",
     "output_type": "stream",
     "text": [
      "\n"
     ]
    },
    {
     "data": {
      "text/plain": [
       "(248, 248)"
      ]
     },
     "execution_count": 32,
     "metadata": {},
     "output_type": "execute_result"
    }
   ],
   "source": [
    "#vote of 1 is correctly spotting the fakeness, vote of 0 is being fooled\n",
    "X_began_val = []\n",
    "Y_began_val = []\n",
    "for f in tqdm_notebook(began_val_files):\n",
    "    cur_feats = began_features_by_file[f]\n",
    "    cur_votes = began_votes_by_file[f]\n",
    "    false_votes, true_votes = cur_votes\n",
    "    \n",
    "    for i in range(false_votes):\n",
    "        X_began_val.append(cur_feats)\n",
    "        Y_began_val.append(0)\n",
    "        \n",
    "    for i in range(true_votes):\n",
    "        X_began_val.append(cur_feats)\n",
    "        Y_began_val.append(1)\n",
    "len(X_began_val), len(Y_began_val)"
   ]
  },
  {
   "cell_type": "code",
   "execution_count": 39,
   "metadata": {},
   "outputs": [
    {
     "name": "stderr",
     "output_type": "stream",
     "text": [
      "/home/alexkolchinski/.conda/envs/myenv/lib/python3.7/site-packages/sklearn/linear_model/logistic.py:432: FutureWarning: Default solver will be changed to 'lbfgs' in 0.22. Specify a solver to silence this warning.\n",
      "  FutureWarning)\n"
     ]
    },
    {
     "data": {
      "text/plain": [
       "(0.9457943925233645, 0.9556451612903226)"
      ]
     },
     "execution_count": 39,
     "metadata": {},
     "output_type": "execute_result"
    }
   ],
   "source": [
    "lr_began = LogisticRegression().fit(X_began_train, Y_began_train)\n",
    "lr_began.score(X_began_train, Y_began_train), lr_began.score(X_began_val, Y_began_val)"
   ]
  },
  {
   "cell_type": "code",
   "execution_count": 46,
   "metadata": {},
   "outputs": [
    {
     "name": "stdout",
     "output_type": "stream",
     "text": [
      "P-correct for each example\n",
      "0.5509021380125019 0.14111175386278635\n"
     ]
    },
    {
     "data": {
      "image/png": "[encoded data removed]",
      "text/plain": [
       "<Figure size 432x288 with 1 Axes>"
      ]
     },
     "metadata": {
      "needs_background": "light"
     },
     "output_type": "display_data"
    },
    {
     "name": "stdout",
     "output_type": "stream",
     "text": [
      "0.5404354440023837 0.13265175526874465\n"
     ]
    },
    {
     "data": {
      "image/png": "[encoded data removed]",
      "text/plain": [
       "<Figure size 432x288 with 1 Axes>"
      ]
     },
     "metadata": {
      "needs_background": "light"
     },
     "output_type": "display_data"
    },
    {
     "name": "stdout",
     "output_type": "stream",
     "text": [
      "0.8975330884284839 0.20172465325344524\n"
     ]
    },
    {
     "data": {
      "image/png": "[encoded data removed]",
      "text/plain": [
       "<Figure size 432x288 with 1 Axes>"
      ]
     },
     "metadata": {
      "needs_background": "light"
     },
     "output_type": "display_data"
    }
   ],
   "source": [
    "print('P-correct for each example')\n",
    "\n",
    "probs = lr_progan.predict_proba(X_progan_train)\n",
    "true_probs = np.array([probs[i][Y_progan_train[i]] for i in range(len(probs))])\n",
    "\n",
    "plt.hist(true_probs, bins=50)\n",
    "print(np.mean(true_probs), np.std(true_probs))\n",
    "plt.title('ProGAN')\n",
    "plt.show()\n",
    "\n",
    "\n",
    "probs = lr_stylegan.predict_proba(X_stylegan_train)\n",
    "true_probs = np.array([probs[i][Y_stylegan_train[i]] for i in range(len(probs))])\n",
    "\n",
    "plt.hist(true_probs, bins=50)\n",
    "print(np.mean(true_probs), np.std(true_probs))\n",
    "plt.title('StyleGAN')\n",
    "plt.show()\n",
    "\n",
    "probs = lr_began.predict_proba(X_began_train)\n",
    "true_probs = np.array([probs[i][Y_began_train[i]] for i in range(len(probs))])\n",
    "\n",
    "plt.hist(true_probs, bins=50)\n",
    "print(np.mean(true_probs), np.std(true_probs))\n",
    "plt.title('BeGAN')\n",
    "plt.show()"
   ]
  },
  {
   "cell_type": "markdown",
   "metadata": {},
   "source": [
    "Now, for the inter-GAN comparisons:"
   ]
  },
  {
   "cell_type": "code",
   "execution_count": 51,
   "metadata": {},
   "outputs": [
    {
     "data": {
      "text/plain": [
       "(0.614445310470252, 0.6474226804123712)"
      ]
     },
     "execution_count": 51,
     "metadata": {},
     "output_type": "execute_result"
    }
   ],
   "source": [
    "lr_progan.score(X_stylegan_train, Y_stylegan_train), lr_progan.score(X_stylegan_val, Y_stylegan_val) "
   ]
  },
  {
   "cell_type": "code",
   "execution_count": 52,
   "metadata": {},
   "outputs": [
    {
     "data": {
      "text/plain": [
       "(0.6224299065420561, 0.6451612903225806)"
      ]
     },
     "execution_count": 52,
     "metadata": {},
     "output_type": "execute_result"
    }
   ],
   "source": [
    "lr_progan.score(X_began_train, Y_began_train), lr_progan.score(X_began_val, Y_began_val) "
   ]
  },
  {
   "cell_type": "code",
   "execution_count": 53,
   "metadata": {},
   "outputs": [
    {
     "data": {
      "text/plain": [
       "(0.6103841283241874, 0.5882352941176471)"
      ]
     },
     "execution_count": 53,
     "metadata": {},
     "output_type": "execute_result"
    }
   ],
   "source": [
    "lr_stylegan.score(X_progan_train, Y_progan_train), lr_stylegan.score(X_progan_val, Y_progan_val) "
   ]
  },
  {
   "cell_type": "code",
   "execution_count": 54,
   "metadata": {},
   "outputs": [
    {
     "data": {
      "text/plain": [
       "(0.3644859813084112, 0.3951612903225806)"
      ]
     },
     "execution_count": 54,
     "metadata": {},
     "output_type": "execute_result"
    }
   ],
   "source": [
    "lr_stylegan.score(X_began_train, Y_began_train), lr_stylegan.score(X_began_val, Y_began_val) "
   ]
  },
  {
   "cell_type": "code",
   "execution_count": 55,
   "metadata": {},
   "outputs": [
    {
     "data": {
      "text/plain": [
       "(0.5056986070071761, 0.5294117647058824)"
      ]
     },
     "execution_count": 55,
     "metadata": {},
     "output_type": "execute_result"
    }
   ],
   "source": [
    "lr_began.score(X_progan_train, Y_progan_train), lr_began.score(X_progan_val, Y_progan_val) "
   ]
  },
  {
   "cell_type": "code",
   "execution_count": 56,
   "metadata": {},
   "outputs": [
    {
     "data": {
      "text/plain": [
       "(0.38867238243699664, 0.3422680412371134)"
      ]
     },
     "execution_count": 56,
     "metadata": {},
     "output_type": "execute_result"
    }
   ],
   "source": [
    "lr_began.score(X_stylegan_train, Y_stylegan_train), lr_began.score(X_stylegan_val, Y_stylegan_val) "
   ]
  },
  {
   "cell_type": "markdown",
   "metadata": {},
   "source": [
    "And now to train on 2 datasets at a time"
   ]
  },
  {
   "cell_type": "code",
   "execution_count": 62,
   "metadata": {},
   "outputs": [
    {
     "name": "stdout",
     "output_type": "stream",
     "text": [
      "0.6276937922161466\n",
      "0.6485461441213654\n",
      "\n",
      "And now on BeGAN\n",
      "0.49439252336448597\n",
      "0.5161290322580645\n"
     ]
    },
    {
     "name": "stderr",
     "output_type": "stream",
     "text": [
      "/home/alexkolchinski/.conda/envs/myenv/lib/python3.7/site-packages/sklearn/linear_model/logistic.py:432: FutureWarning: Default solver will be changed to 'lbfgs' in 0.22. Specify a solver to silence this warning.\n",
      "  FutureWarning)\n"
     ]
    }
   ],
   "source": [
    "lr_progan_stylegan = LogisticRegression().fit(X_progan_train + X_stylegan_train, Y_progan_train + Y_stylegan_train)\n",
    "print(lr_progan_stylegan.score(X_progan_train + X_stylegan_train, Y_progan_train + Y_stylegan_train))\n",
    "print(lr_progan_stylegan.score(X_progan_val + X_stylegan_val, Y_progan_val + Y_stylegan_val))\n",
    "\n",
    "print('\\nAnd now on BeGAN')\n",
    "print(lr_progan_stylegan.score(X_began_train, Y_began_train))\n",
    "print(lr_progan_stylegan.score(X_began_val, Y_began_val))\n"
   ]
  },
  {
   "cell_type": "code",
   "execution_count": 63,
   "metadata": {},
   "outputs": [
    {
     "name": "stdout",
     "output_type": "stream",
     "text": [
      "0.759591927256598\n",
      "0.779783393501805\n",
      "\n",
      "And now on stylegan\n",
      "0.5401402961808262\n",
      "0.511340206185567\n"
     ]
    },
    {
     "name": "stderr",
     "output_type": "stream",
     "text": [
      "/home/alexkolchinski/.conda/envs/myenv/lib/python3.7/site-packages/sklearn/linear_model/logistic.py:432: FutureWarning: Default solver will be changed to 'lbfgs' in 0.22. Specify a solver to silence this warning.\n",
      "  FutureWarning)\n"
     ]
    }
   ],
   "source": [
    "lr_progan_began = LogisticRegression().fit(X_progan_train + X_began_train, Y_progan_train + Y_began_train)\n",
    "print(lr_progan_began.score(X_progan_train + X_began_train, Y_progan_train + Y_began_train))\n",
    "print(lr_progan_began.score(X_progan_val + X_began_val, Y_progan_val + Y_began_val))\n",
    "\n",
    "print('\\nAnd now on stylegan')\n",
    "print(lr_progan_began.score(X_stylegan_train, Y_stylegan_train))\n",
    "print(lr_progan_began.score(X_stylegan_val, Y_stylegan_val))\n"
   ]
  },
  {
   "cell_type": "code",
   "execution_count": 64,
   "metadata": {},
   "outputs": [
    {
     "name": "stdout",
     "output_type": "stream",
     "text": [
      "0.7064618467189848\n",
      "0.6766712141882674\n",
      "\n",
      "And now on progan\n",
      "0.5892781764457578\n",
      "0.6274509803921569\n"
     ]
    },
    {
     "name": "stderr",
     "output_type": "stream",
     "text": [
      "/home/alexkolchinski/.conda/envs/myenv/lib/python3.7/site-packages/sklearn/linear_model/logistic.py:432: FutureWarning: Default solver will be changed to 'lbfgs' in 0.22. Specify a solver to silence this warning.\n",
      "  FutureWarning)\n"
     ]
    }
   ],
   "source": [
    "lr_stylegan_began = LogisticRegression().fit(X_stylegan_train + X_began_train, Y_stylegan_train + Y_began_train)\n",
    "print(lr_stylegan_began.score(X_stylegan_train + X_began_train, Y_stylegan_train + Y_began_train))\n",
    "print(lr_stylegan_began.score(X_stylegan_val + X_began_val, Y_stylegan_val + Y_began_val))\n",
    "\n",
    "print('\\nAnd now on progan')\n",
    "print(lr_stylegan_began.score(X_progan_train, Y_progan_train))\n",
    "print(lr_stylegan_began.score(X_progan_val, Y_progan_val))\n"
   ]
  },
  {
   "cell_type": "code",
   "execution_count": null,
   "metadata": {},
   "outputs": [],
   "source": []
  }
 ],
 "metadata": {
  "kernelspec": {
   "display_name": "Python 3",
   "language": "python",
   "name": "python3"
  },
  "language_info": {
   "codemirror_mode": {
    "name": "ipython",
    "version": 3
   },
   "file_extension": ".py",
   "mimetype": "text/x-python",
   "name": "python",
   "nbconvert_exporter": "python",
   "pygments_lexer": "ipython3",
   "version": "3.7.4"
  }
 },
 "nbformat": 4,
 "nbformat_minor": 2
}
