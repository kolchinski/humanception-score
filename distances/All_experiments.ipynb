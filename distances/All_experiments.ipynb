{
 "cells": [
  {
   "cell_type": "code",
   "execution_count": 1,
   "metadata": {},
   "outputs": [],
   "source": [
    "from collections import defaultdict\n",
    "import csv\n",
    "from itertools import islice\n",
    "import os\n",
    "import sys\n",
    "\n",
    "import numpy as np\n",
    "import matplotlib.pyplot as plt\n",
    "from IPython.display import display, Image\n",
    "import seaborn as sns\n",
    "from sklearn.linear_model import LogisticRegression\n",
    "from tqdm import tqdm_notebook\n",
    "import torch\n",
    "from torchvision import models, transforms, datasets"
   ]
  },
  {
   "cell_type": "code",
   "execution_count": 2,
   "metadata": {},
   "outputs": [],
   "source": [
    "progan_filenames = torch.load('progan_filenames.pt', map_location=torch.device('cpu'))\n",
    "progan_distance_features = torch.load('small_progan_distance_features.pt', map_location=torch.device('cpu'))"
   ]
  },
  {
   "cell_type": "code",
   "execution_count": 3,
   "metadata": {},
   "outputs": [],
   "source": [
    "stylegan_filenames = torch.load('stylegan_filenames.pt', map_location=torch.device('cpu'))\n",
    "stylegan_distance_features = torch.load('stylegan_distance_features.pt', map_location=torch.device('cpu'))"
   ]
  },
  {
   "cell_type": "code",
   "execution_count": 4,
   "metadata": {},
   "outputs": [],
   "source": [
    "began_filenames = torch.load('began_filenames.pt', map_location=torch.device('cpu'))\n",
    "began_distance_features = torch.load('began_distance_features.pt', map_location=torch.device('cpu'))"
   ]
  },
  {
   "cell_type": "code",
   "execution_count": 5,
   "metadata": {},
   "outputs": [],
   "source": [
    "dataset_counts = defaultdict(int)\n",
    "img_counts = defaultdict(lambda : defaultdict(int))\n",
    "unique_imgs = defaultdict(set)\n",
    "img_votes = defaultdict(lambda: defaultdict(lambda: [0,0])) #no,yes tuples by dataset and image\n",
    "\n",
    "with open('../all_gans_inf.csv') as f:\n",
    "    reader = csv.DictReader(f)\n",
    "    for row in islice(reader, None):\n",
    "        img = row['img']        \n",
    "#         dataset_name = img[:img.index('/')]\n",
    "        split_name = img.split('/')\n",
    "        assert(len(split_name) == 2)\n",
    "        dataset_name, img_name = split_name\n",
    "        \n",
    "        vote_index = 1 if row['correctness'] == row['realness'] else 0\n",
    "        if dataset_name == 'began5000' and row['realness'] == 'True': print(row)\n",
    "\n",
    "        img_votes[dataset_name][img_name][vote_index] += 1\n",
    "        \n",
    "        dataset_counts[dataset_name] += 1\n",
    "        img_counts[dataset_name][img_name] += 1\n",
    "unique_imgs = {dataset: len(img_counts[dataset]) for dataset in img_counts}"
   ]
  },
  {
   "cell_type": "code",
   "execution_count": 6,
   "metadata": {},
   "outputs": [
    {
     "data": {
      "text/plain": [
       "(2233, 2397, 3103)"
      ]
     },
     "execution_count": 6,
     "metadata": {},
     "output_type": "execute_result"
    }
   ],
   "source": [
    "progan_votes = img_votes['progan5000']\n",
    "began_votes = img_votes['began5000']\n",
    "stylegan_votes = img_votes['styleganceleba5000']\n",
    "len(progan_votes), len(began_votes), len(stylegan_votes)"
   ]
  },
  {
   "cell_type": "code",
   "execution_count": 7,
   "metadata": {},
   "outputs": [
    {
     "data": {
      "text/plain": [
       "1966"
      ]
     },
     "execution_count": 7,
     "metadata": {},
     "output_type": "execute_result"
    }
   ],
   "source": [
    "began_votes_filtered = {k:v for k,v in began_votes.items() if k in [os.path.split(x)[-1] for x in began_filenames]}\n",
    "\n",
    "len(began_votes_filtered)"
   ]
  },
  {
   "cell_type": "code",
   "execution_count": 8,
   "metadata": {},
   "outputs": [
    {
     "data": {
      "image/png": "[encoded data removed]",
      "text/plain": [
       "<Figure size 432x288 with 1 Axes>"
      ]
     },
     "metadata": {
      "needs_background": "light"
     },
     "output_type": "display_data"
    },
    {
     "data": {
      "image/png": "[encoded data removed]",
      "text/plain": [
       "<Figure size 432x288 with 1 Axes>"
      ]
     },
     "metadata": {
      "needs_background": "light"
     },
     "output_type": "display_data"
    },
    {
     "data": {
      "image/png": "[encoded data removed]",
      "text/plain": [
       "<Figure size 432x288 with 1 Axes>"
      ]
     },
     "metadata": {
      "needs_background": "light"
     },
     "output_type": "display_data"
    }
   ],
   "source": [
    "for gan, votes in [('ProGAN', progan_votes), ('BeGAN', began_votes), ('StyleGAN', stylegan_votes)]:\n",
    "    vote_pct_correct = [y/(x+y) for x,y in votes.values()]\n",
    "    plt.title(gan + ' vote proportions real/fake')\n",
    "    plt.hist(vote_pct_correct)\n",
    "    plt.show()"
   ]
  },
  {
   "cell_type": "code",
   "execution_count": 9,
   "metadata": {},
   "outputs": [
    {
     "name": "stdout",
     "output_type": "stream",
     "text": [
      "1530 1456\n",
      "1814 2983\n"
     ]
    }
   ],
   "source": [
    "print(sum([x[0] for x in progan_votes.values()]), sum([x[1] for x in progan_votes.values()]))\n",
    "\n",
    "print(sum([x[0] for x in stylegan_votes.values()]), sum([x[1] for x in stylegan_votes.values()]))"
   ]
  },
  {
   "cell_type": "code",
   "execution_count": 10,
   "metadata": {},
   "outputs": [],
   "source": [
    "with open('train_set.txt') as f:\n",
    "    progan_train_files = [x.strip() for x in f.readlines()]\n",
    "#print(progan_train_files[:5])\n",
    "\n",
    "with open('val_set.txt') as f:\n",
    "    progan_val_files = [x.strip() for x in f.readlines()]\n",
    "#print(progan_val_files[:5])\n",
    "\n",
    "with open('stylegan_train_set.txt') as f:\n",
    "    stylegan_train_files = [x.strip() for x in f.readlines()]\n",
    "#print(stylegan_train_files[:5])\n",
    "\n",
    "with open('stylegan_val_set.txt') as f:\n",
    "    stylegan_val_files = [x.strip() for x in f.readlines()]\n",
    "#print(stylegan_val_files[:5])\n",
    "\n",
    "with open('began_train_set.txt') as f:\n",
    "    began_train_files = [x.strip() for x in f.readlines()]\n",
    "#print(began_train_files[:5])\n",
    "\n",
    "with open('began_val_set.txt') as f:\n",
    "    began_val_files = [x.strip() for x in f.readlines()]\n",
    "#print(began_val_files[:5])"
   ]
  },
  {
   "cell_type": "code",
   "execution_count": 11,
   "metadata": {},
   "outputs": [
    {
     "name": "stdout",
     "output_type": "stream",
     "text": [
      "2233\n",
      "3103\n",
      "1966\n"
     ]
    }
   ],
   "source": [
    "progan_features_by_file = {progan_filenames[i] : progan_distance_features[i] for i in range(len(progan_filenames))}\n",
    "print(len(progan_features_by_file))\n",
    "\n",
    "stylegan_features_by_file = {stylegan_filenames[i] : stylegan_distance_features[i] for i in range(len(stylegan_filenames))}\n",
    "print(len(stylegan_features_by_file))\n",
    "\n",
    "began_features_by_file = {began_filenames[i] : began_distance_features[i] for i in range(len(began_filenames))}\n",
    "print(len(began_features_by_file))"
   ]
  },
  {
   "cell_type": "code",
   "execution_count": 12,
   "metadata": {},
   "outputs": [
    {
     "name": "stdout",
     "output_type": "stream",
     "text": [
      "2233\n",
      "3103\n",
      "1966\n"
     ]
    }
   ],
   "source": [
    "progan_votes_by_file = {'imgs_by_label/progan_labeled/progan_labeled_imgs/' + k : v for k,v in progan_votes.items()}\n",
    "print(len(progan_votes_by_file))\n",
    "\n",
    "stylegan_votes_by_file = {'imgs_by_label/stylegan_labeled/stylegan_labeled_imgs/' + k : v for k,v in stylegan_votes.items()}\n",
    "print(len(stylegan_votes_by_file))\n",
    "\n",
    "began_votes_by_file = {'imgs_by_label/began_labeled/began_labeled_imgs/' + k : v for k,v in began_votes_filtered.items()}\n",
    "print(len(began_votes_by_file))"
   ]
  },
  {
   "cell_type": "code",
   "execution_count": 13,
   "metadata": {},
   "outputs": [
    {
     "data": {
      "application/vnd.jupyter.widget-view+json": {
       "model_id": "b85008f0ed394e6ba047f584fc576aa2",
       "version_major": 2,
       "version_minor": 0
      },
      "text/plain": [
       "HBox(children=(IntProgress(value=0, max=1787), HTML(value='')))"
      ]
     },
     "metadata": {},
     "output_type": "display_data"
    },
    {
     "name": "stdout",
     "output_type": "stream",
     "text": [
      "\n"
     ]
    },
    {
     "data": {
      "text/plain": [
       "(2369, 2369)"
      ]
     },
     "execution_count": 13,
     "metadata": {},
     "output_type": "execute_result"
    }
   ],
   "source": [
    "#vote of 1 is correctly spotting the fakeness, vote of 0 is being fooled\n",
    "X_progan_train = []\n",
    "Y_progan_train = []\n",
    "for f in tqdm_notebook(progan_train_files):\n",
    "    cur_feats = progan_features_by_file[f]\n",
    "    cur_votes = progan_votes_by_file[f]\n",
    "    false_votes, true_votes = cur_votes\n",
    "    #print(false_votes + true_votes)\n",
    "    #print(f, cur_feats, cur_votes, '\\n')\n",
    "    \n",
    "    for i in range(false_votes):\n",
    "        X_progan_train.append(cur_feats)\n",
    "        Y_progan_train.append(0)\n",
    "        \n",
    "    for i in range(true_votes):\n",
    "        X_progan_train.append(cur_feats)\n",
    "        Y_progan_train.append(1)\n",
    "\n",
    "len(X_progan_train), len(Y_progan_train)"
   ]
  },
  {
   "cell_type": "code",
   "execution_count": 14,
   "metadata": {},
   "outputs": [
    {
     "data": {
      "application/vnd.jupyter.widget-view+json": {
       "model_id": "4e4c335fb6064909bea26b2167c3c2e1",
       "version_major": 2,
       "version_minor": 0
      },
      "text/plain": [
       "HBox(children=(IntProgress(value=0, max=223), HTML(value='')))"
      ]
     },
     "metadata": {},
     "output_type": "display_data"
    },
    {
     "name": "stdout",
     "output_type": "stream",
     "text": [
      "\n"
     ]
    },
    {
     "data": {
      "text/plain": [
       "(306, 306)"
      ]
     },
     "execution_count": 14,
     "metadata": {},
     "output_type": "execute_result"
    }
   ],
   "source": [
    "#vote of 1 is correctly spotting the fakeness, vote of 0 is being fooled\n",
    "X_progan_val = []\n",
    "Y_progan_val = []\n",
    "for f in tqdm_notebook(progan_val_files):\n",
    "    cur_feats = progan_features_by_file[f]\n",
    "    cur_votes = progan_votes_by_file[f]\n",
    "    false_votes, true_votes = cur_votes\n",
    "    \n",
    "    for i in range(false_votes):\n",
    "        X_progan_val.append(cur_feats)\n",
    "        Y_progan_val.append(0)\n",
    "        \n",
    "    for i in range(true_votes):\n",
    "        X_progan_val.append(cur_feats)\n",
    "        Y_progan_val.append(1)\n",
    "len(X_progan_val), len(Y_progan_val)"
   ]
  },
  {
   "cell_type": "code",
   "execution_count": 15,
   "metadata": {},
   "outputs": [
    {
     "name": "stderr",
     "output_type": "stream",
     "text": [
      "/home/alexkolchinski/.conda/envs/myenv/lib/python3.7/site-packages/sklearn/linear_model/logistic.py:432: FutureWarning: Default solver will be changed to 'lbfgs' in 0.22. Specify a solver to silence this warning.\n",
      "  FutureWarning)\n"
     ]
    },
    {
     "data": {
      "text/plain": [
       "(0.6361333896158716, 0.6503267973856209)"
      ]
     },
     "execution_count": 15,
     "metadata": {},
     "output_type": "execute_result"
    }
   ],
   "source": [
    "lr_progan = LogisticRegression().fit(X_progan_train, Y_progan_train)\n",
    "lr_progan.score(X_progan_train, Y_progan_train), lr_progan.score(X_progan_val, Y_progan_val)"
   ]
  },
  {
   "cell_type": "code",
   "execution_count": 16,
   "metadata": {},
   "outputs": [
    {
     "data": {
      "application/vnd.jupyter.widget-view+json": {
       "model_id": "79864ab269c7467bb65413c4d8e9115c",
       "version_major": 2,
       "version_minor": 0
      },
      "text/plain": [
       "HBox(children=(IntProgress(value=0, max=2483), HTML(value='')))"
      ]
     },
     "metadata": {},
     "output_type": "display_data"
    },
    {
     "name": "stdout",
     "output_type": "stream",
     "text": [
      "\n"
     ]
    },
    {
     "data": {
      "text/plain": [
       "(3849, 3849)"
      ]
     },
     "execution_count": 16,
     "metadata": {},
     "output_type": "execute_result"
    }
   ],
   "source": [
    "#vote of 1 is correctly spotting the fakeness, vote of 0 is being fooled\n",
    "X_stylegan_train = []\n",
    "Y_stylegan_train = []\n",
    "for f in tqdm_notebook(stylegan_train_files):\n",
    "    cur_feats = stylegan_features_by_file[f]\n",
    "    cur_votes = stylegan_votes_by_file[f]\n",
    "    false_votes, true_votes = cur_votes\n",
    "    \n",
    "    for i in range(false_votes):\n",
    "        X_stylegan_train.append(cur_feats)\n",
    "        Y_stylegan_train.append(0)\n",
    "        \n",
    "    for i in range(true_votes):\n",
    "        X_stylegan_train.append(cur_feats)\n",
    "        Y_stylegan_train.append(1)\n",
    "\n",
    "len(X_stylegan_train), len(Y_stylegan_train)"
   ]
  },
  {
   "cell_type": "code",
   "execution_count": 17,
   "metadata": {},
   "outputs": [
    {
     "data": {
      "application/vnd.jupyter.widget-view+json": {
       "model_id": "2c0a8f369cf44893a47ec39df6adbe3f",
       "version_major": 2,
       "version_minor": 0
      },
      "text/plain": [
       "HBox(children=(IntProgress(value=0, max=310), HTML(value='')))"
      ]
     },
     "metadata": {},
     "output_type": "display_data"
    },
    {
     "name": "stdout",
     "output_type": "stream",
     "text": [
      "\n"
     ]
    },
    {
     "data": {
      "text/plain": [
       "(485, 485)"
      ]
     },
     "execution_count": 17,
     "metadata": {},
     "output_type": "execute_result"
    }
   ],
   "source": [
    "#vote of 1 is correctly spotting the fakeness, vote of 0 is being fooled\n",
    "X_stylegan_val = []\n",
    "Y_stylegan_val = []\n",
    "for f in tqdm_notebook(stylegan_val_files):\n",
    "    cur_feats = stylegan_features_by_file[f]\n",
    "    cur_votes = stylegan_votes_by_file[f]\n",
    "    false_votes, true_votes = cur_votes\n",
    "    \n",
    "    for i in range(false_votes):\n",
    "        X_stylegan_val.append(cur_feats)\n",
    "        Y_stylegan_val.append(0)\n",
    "        \n",
    "    for i in range(true_votes):\n",
    "        X_stylegan_val.append(cur_feats)\n",
    "        Y_stylegan_val.append(1)\n",
    "len(X_stylegan_val), len(Y_stylegan_val)"
   ]
  },
  {
   "cell_type": "code",
   "execution_count": 18,
   "metadata": {},
   "outputs": [
    {
     "name": "stderr",
     "output_type": "stream",
     "text": [
      "/home/alexkolchinski/.conda/envs/myenv/lib/python3.7/site-packages/sklearn/linear_model/logistic.py:432: FutureWarning: Default solver will be changed to 'lbfgs' in 0.22. Specify a solver to silence this warning.\n",
      "  FutureWarning)\n"
     ]
    },
    {
     "data": {
      "text/plain": [
       "(0.6282151208106002, 0.6639175257731958)"
      ]
     },
     "execution_count": 18,
     "metadata": {},
     "output_type": "execute_result"
    }
   ],
   "source": [
    "lr_stylegan = LogisticRegression().fit(X_stylegan_train, Y_stylegan_train)\n",
    "lr_stylegan.score(X_stylegan_train, Y_stylegan_train), lr_stylegan.score(X_stylegan_val, Y_stylegan_val)"
   ]
  },
  {
   "cell_type": "code",
   "execution_count": 19,
   "metadata": {},
   "outputs": [
    {
     "data": {
      "application/vnd.jupyter.widget-view+json": {
       "model_id": "e9095e750e7644e8be6477b622d1b75e",
       "version_major": 2,
       "version_minor": 0
      },
      "text/plain": [
       "HBox(children=(IntProgress(value=0, max=1574), HTML(value='')))"
      ]
     },
     "metadata": {},
     "output_type": "display_data"
    },
    {
     "name": "stdout",
     "output_type": "stream",
     "text": [
      "\n"
     ]
    },
    {
     "data": {
      "text/plain": [
       "(2140, 2140)"
      ]
     },
     "execution_count": 19,
     "metadata": {},
     "output_type": "execute_result"
    }
   ],
   "source": [
    "#vote of 1 is correctly spotting the fakeness, vote of 0 is being fooled\n",
    "X_began_train = []\n",
    "Y_began_train = []\n",
    "for f in tqdm_notebook(began_train_files):\n",
    "    cur_feats = began_features_by_file[f]\n",
    "    cur_votes = began_votes_by_file[f]\n",
    "    false_votes, true_votes = cur_votes\n",
    "    \n",
    "    for i in range(false_votes):\n",
    "        X_began_train.append(cur_feats)\n",
    "        Y_began_train.append(0)\n",
    "        \n",
    "    for i in range(true_votes):\n",
    "        X_began_train.append(cur_feats)\n",
    "        Y_began_train.append(1)\n",
    "\n",
    "len(X_began_train), len(Y_began_train)"
   ]
  },
  {
   "cell_type": "code",
   "execution_count": 20,
   "metadata": {},
   "outputs": [
    {
     "data": {
      "application/vnd.jupyter.widget-view+json": {
       "model_id": "1777d6ef1e9347eb9e4fbdbb0afab40b",
       "version_major": 2,
       "version_minor": 0
      },
      "text/plain": [
       "HBox(children=(IntProgress(value=0, max=196), HTML(value='')))"
      ]
     },
     "metadata": {},
     "output_type": "display_data"
    },
    {
     "name": "stdout",
     "output_type": "stream",
     "text": [
      "\n"
     ]
    },
    {
     "data": {
      "text/plain": [
       "(248, 248)"
      ]
     },
     "execution_count": 20,
     "metadata": {},
     "output_type": "execute_result"
    }
   ],
   "source": [
    "#vote of 1 is correctly spotting the fakeness, vote of 0 is being fooled\n",
    "X_began_val = []\n",
    "Y_began_val = []\n",
    "for f in tqdm_notebook(began_val_files):\n",
    "    cur_feats = began_features_by_file[f]\n",
    "    cur_votes = began_votes_by_file[f]\n",
    "    false_votes, true_votes = cur_votes\n",
    "    \n",
    "    for i in range(false_votes):\n",
    "        X_began_val.append(cur_feats)\n",
    "        Y_began_val.append(0)\n",
    "        \n",
    "    for i in range(true_votes):\n",
    "        X_began_val.append(cur_feats)\n",
    "        Y_began_val.append(1)\n",
    "len(X_began_val), len(Y_began_val)"
   ]
  },
  {
   "cell_type": "code",
   "execution_count": 21,
   "metadata": {},
   "outputs": [
    {
     "name": "stderr",
     "output_type": "stream",
     "text": [
      "/home/alexkolchinski/.conda/envs/myenv/lib/python3.7/site-packages/sklearn/linear_model/logistic.py:432: FutureWarning: Default solver will be changed to 'lbfgs' in 0.22. Specify a solver to silence this warning.\n",
      "  FutureWarning)\n"
     ]
    },
    {
     "data": {
      "text/plain": [
       "(0.9457943925233645, 0.9556451612903226)"
      ]
     },
     "execution_count": 21,
     "metadata": {},
     "output_type": "execute_result"
    }
   ],
   "source": [
    "lr_began = LogisticRegression().fit(X_began_train, Y_began_train)\n",
    "lr_began.score(X_began_train, Y_began_train), lr_began.score(X_began_val, Y_began_val)"
   ]
  },
  {
   "cell_type": "code",
   "execution_count": 22,
   "metadata": {},
   "outputs": [
    {
     "name": "stdout",
     "output_type": "stream",
     "text": [
      "P-correct for each example\n",
      "0.5509021380125019 0.14111175386278635\n"
     ]
    },
    {
     "data": {
      "image/png": "[encoded data removed]",
      "text/plain": [
       "<Figure size 432x288 with 1 Axes>"
      ]
     },
     "metadata": {
      "needs_background": "light"
     },
     "output_type": "display_data"
    },
    {
     "name": "stdout",
     "output_type": "stream",
     "text": [
      "0.5404354440023837 0.13265175526874465\n"
     ]
    },
    {
     "data": {
      "image/png": "[encoded data removed]",
      "text/plain": [
       "<Figure size 432x288 with 1 Axes>"
      ]
     },
     "metadata": {
      "needs_background": "light"
     },
     "output_type": "display_data"
    },
    {
     "name": "stdout",
     "output_type": "stream",
     "text": [
      "0.8975330884284839 0.20172465325344524\n"
     ]
    },
    {
     "data": {
      "image/png": "[encoded data removed]",
      "text/plain": [
       "<Figure size 432x288 with 1 Axes>"
      ]
     },
     "metadata": {
      "needs_background": "light"
     },
     "output_type": "display_data"
    }
   ],
   "source": [
    "print('P-correct for each example')\n",
    "\n",
    "probs = lr_progan.predict_proba(X_progan_train)\n",
    "true_probs = np.array([probs[i][Y_progan_train[i]] for i in range(len(probs))])\n",
    "\n",
    "plt.hist(true_probs, bins=50)\n",
    "print(np.mean(true_probs), np.std(true_probs))\n",
    "plt.title('ProGAN')\n",
    "plt.show()\n",
    "\n",
    "\n",
    "probs = lr_stylegan.predict_proba(X_stylegan_train)\n",
    "true_probs = np.array([probs[i][Y_stylegan_train[i]] for i in range(len(probs))])\n",
    "\n",
    "plt.hist(true_probs, bins=50)\n",
    "print(np.mean(true_probs), np.std(true_probs))\n",
    "plt.title('StyleGAN')\n",
    "plt.show()\n",
    "\n",
    "probs = lr_began.predict_proba(X_began_train)\n",
    "true_probs = np.array([probs[i][Y_began_train[i]] for i in range(len(probs))])\n",
    "\n",
    "plt.hist(true_probs, bins=50)\n",
    "print(np.mean(true_probs), np.std(true_probs))\n",
    "plt.title('BeGAN')\n",
    "plt.show()"
   ]
  },
  {
   "cell_type": "markdown",
   "metadata": {},
   "source": [
    "Now, for the inter-GAN comparisons:"
   ]
  },
  {
   "cell_type": "code",
   "execution_count": 23,
   "metadata": {},
   "outputs": [
    {
     "data": {
      "text/plain": [
       "(0.614445310470252, 0.6474226804123712)"
      ]
     },
     "execution_count": 23,
     "metadata": {},
     "output_type": "execute_result"
    }
   ],
   "source": [
    "lr_progan.score(X_stylegan_train, Y_stylegan_train), lr_progan.score(X_stylegan_val, Y_stylegan_val) "
   ]
  },
  {
   "cell_type": "code",
   "execution_count": 24,
   "metadata": {},
   "outputs": [
    {
     "name": "stdout",
     "output_type": "stream",
     "text": [
      "0.8019549511262218 0.3195187165775401\n",
      "ProGAN is overconfident on StyleGAN quality\n"
     ]
    }
   ],
   "source": [
    "print(\n",
    "    np.mean([guess for guess, true in zip(lr_progan.predict(X_stylegan_train), Y_stylegan_train) if true == 1]),\n",
    "    np.mean([1. - guess for guess, true in zip(lr_progan.predict(X_stylegan_train), Y_stylegan_train) if true == 0])\n",
    ")\n",
    "print('ProGAN is overconfident on StyleGAN quality')"
   ]
  },
  {
   "cell_type": "code",
   "execution_count": 25,
   "metadata": {},
   "outputs": [
    {
     "data": {
      "text/plain": [
       "(0.6224299065420561, 0.6451612903225806)"
      ]
     },
     "execution_count": 25,
     "metadata": {},
     "output_type": "execute_result"
    }
   ],
   "source": [
    "lr_progan.score(X_began_train, Y_began_train), lr_progan.score(X_began_val, Y_began_val) "
   ]
  },
  {
   "cell_type": "code",
   "execution_count": 26,
   "metadata": {},
   "outputs": [
    {
     "data": {
      "text/plain": [
       "(0.6103841283241874, 0.5882352941176471)"
      ]
     },
     "execution_count": 26,
     "metadata": {},
     "output_type": "execute_result"
    }
   ],
   "source": [
    "lr_stylegan.score(X_progan_train, Y_progan_train), lr_stylegan.score(X_progan_val, Y_progan_val) "
   ]
  },
  {
   "cell_type": "code",
   "execution_count": 27,
   "metadata": {},
   "outputs": [
    {
     "name": "stdout",
     "output_type": "stream",
     "text": [
      "0.8676345004269855 0.3589315525876461\n",
      "StyleGAN is overconfident on ProGAN quality\n"
     ]
    }
   ],
   "source": [
    "print(\n",
    "    np.mean([guess for guess, true in zip(lr_stylegan.predict(X_progan_train), Y_progan_train) if true == 1]),\n",
    "    np.mean([1. - guess for guess, true in zip(lr_stylegan.predict(X_progan_train), Y_progan_train) if true == 0])\n",
    ")\n",
    "print('StyleGAN is overconfident on ProGAN quality')"
   ]
  },
  {
   "cell_type": "code",
   "execution_count": 28,
   "metadata": {},
   "outputs": [
    {
     "data": {
      "text/plain": [
       "(0.3644859813084112, 0.3951612903225806)"
      ]
     },
     "execution_count": 28,
     "metadata": {},
     "output_type": "execute_result"
    }
   ],
   "source": [
    "lr_stylegan.score(X_began_train, Y_began_train), lr_stylegan.score(X_began_val, Y_began_val) "
   ]
  },
  {
   "cell_type": "code",
   "execution_count": 29,
   "metadata": {},
   "outputs": [
    {
     "data": {
      "text/plain": [
       "(0.5056986070071761, 0.5294117647058824)"
      ]
     },
     "execution_count": 29,
     "metadata": {},
     "output_type": "execute_result"
    }
   ],
   "source": [
    "lr_began.score(X_progan_train, Y_progan_train), lr_began.score(X_progan_val, Y_progan_val) "
   ]
  },
  {
   "cell_type": "code",
   "execution_count": 30,
   "metadata": {},
   "outputs": [
    {
     "data": {
      "text/plain": [
       "(0.38867238243699664, 0.3422680412371134)"
      ]
     },
     "execution_count": 30,
     "metadata": {},
     "output_type": "execute_result"
    }
   ],
   "source": [
    "lr_began.score(X_stylegan_train, Y_stylegan_train), lr_began.score(X_stylegan_val, Y_stylegan_val) "
   ]
  },
  {
   "cell_type": "markdown",
   "metadata": {},
   "source": [
    "And now to train on 2 datasets at a time"
   ]
  },
  {
   "cell_type": "code",
   "execution_count": 31,
   "metadata": {},
   "outputs": [
    {
     "name": "stdout",
     "output_type": "stream",
     "text": [
      "0.6276937922161466\n",
      "0.6485461441213654\n",
      "\n",
      "And now on BeGAN\n",
      "0.49439252336448597\n",
      "0.5161290322580645\n"
     ]
    },
    {
     "name": "stderr",
     "output_type": "stream",
     "text": [
      "/home/alexkolchinski/.conda/envs/myenv/lib/python3.7/site-packages/sklearn/linear_model/logistic.py:432: FutureWarning: Default solver will be changed to 'lbfgs' in 0.22. Specify a solver to silence this warning.\n",
      "  FutureWarning)\n"
     ]
    }
   ],
   "source": [
    "lr_progan_stylegan = LogisticRegression().fit(X_progan_train + X_stylegan_train, Y_progan_train + Y_stylegan_train)\n",
    "print(lr_progan_stylegan.score(X_progan_train + X_stylegan_train, Y_progan_train + Y_stylegan_train))\n",
    "print(lr_progan_stylegan.score(X_progan_val + X_stylegan_val, Y_progan_val + Y_stylegan_val))\n",
    "\n",
    "print('\\nAnd now on BeGAN')\n",
    "print(lr_progan_stylegan.score(X_began_train, Y_began_train))\n",
    "print(lr_progan_stylegan.score(X_began_val, Y_began_val))\n"
   ]
  },
  {
   "cell_type": "code",
   "execution_count": 32,
   "metadata": {},
   "outputs": [
    {
     "name": "stdout",
     "output_type": "stream",
     "text": [
      "0.759591927256598\n",
      "0.779783393501805\n",
      "\n",
      "And now on stylegan\n",
      "0.5401402961808262\n",
      "0.511340206185567\n"
     ]
    },
    {
     "name": "stderr",
     "output_type": "stream",
     "text": [
      "/home/alexkolchinski/.conda/envs/myenv/lib/python3.7/site-packages/sklearn/linear_model/logistic.py:432: FutureWarning: Default solver will be changed to 'lbfgs' in 0.22. Specify a solver to silence this warning.\n",
      "  FutureWarning)\n"
     ]
    }
   ],
   "source": [
    "lr_progan_began = LogisticRegression().fit(X_progan_train + X_began_train, Y_progan_train + Y_began_train)\n",
    "print(lr_progan_began.score(X_progan_train + X_began_train, Y_progan_train + Y_began_train))\n",
    "print(lr_progan_began.score(X_progan_val + X_began_val, Y_progan_val + Y_began_val))\n",
    "\n",
    "print('\\nAnd now on stylegan')\n",
    "print(lr_progan_began.score(X_stylegan_train, Y_stylegan_train))\n",
    "print(lr_progan_began.score(X_stylegan_val, Y_stylegan_val))\n"
   ]
  },
  {
   "cell_type": "code",
   "execution_count": 33,
   "metadata": {},
   "outputs": [
    {
     "name": "stdout",
     "output_type": "stream",
     "text": [
      "0.7064618467189848\n",
      "0.6766712141882674\n",
      "\n",
      "And now on progan\n",
      "0.5892781764457578\n",
      "0.6274509803921569\n"
     ]
    },
    {
     "name": "stderr",
     "output_type": "stream",
     "text": [
      "/home/alexkolchinski/.conda/envs/myenv/lib/python3.7/site-packages/sklearn/linear_model/logistic.py:432: FutureWarning: Default solver will be changed to 'lbfgs' in 0.22. Specify a solver to silence this warning.\n",
      "  FutureWarning)\n"
     ]
    }
   ],
   "source": [
    "lr_stylegan_began = LogisticRegression().fit(X_stylegan_train + X_began_train, Y_stylegan_train + Y_began_train)\n",
    "print(lr_stylegan_began.score(X_stylegan_train + X_began_train, Y_stylegan_train + Y_began_train))\n",
    "print(lr_stylegan_began.score(X_stylegan_val + X_began_val, Y_stylegan_val + Y_began_val))\n",
    "\n",
    "print('\\nAnd now on progan')\n",
    "print(lr_stylegan_began.score(X_progan_train, Y_progan_train))\n",
    "print(lr_stylegan_began.score(X_progan_val, Y_progan_val))\n"
   ]
  },
  {
   "cell_type": "code",
   "execution_count": 52,
   "metadata": {},
   "outputs": [
    {
     "name": "stdout",
     "output_type": "stream",
     "text": [
      "250\n",
      "200\n",
      "223\n"
     ]
    }
   ],
   "source": [
    "with open('expanded_progan_val_set.csv') as f:\n",
    "    human_scores = {l.strip().split(',')[0][5:] : float(l.strip().split(',')[1]) for l in f.readlines()[1:] if 'fake' in l}\n",
    "\n",
    "print(len(human_scores))\n",
    "extended_progan_val_files = set(human_scores.keys())\n",
    "\n",
    "\n",
    "progan_val_files_short = set([os.path.split(x)[-1] for x in progan_val_files])\n",
    "print(len(extended_progan_val_files.intersection(progan_val_files_short)))\n",
    "print(len(progan_val_files_short))\n",
    "# for k,v in human_scores.items():\n",
    "#     print(k,v)"
   ]
  },
  {
   "cell_type": "code",
   "execution_count": 56,
   "metadata": {},
   "outputs": [
    {
     "data": {
      "text/plain": [
       "200"
      ]
     },
     "execution_count": 56,
     "metadata": {},
     "output_type": "execute_result"
    }
   ],
   "source": [
    "expanded_progan_val_files_filtered = extended_progan_val_files.intersection(progan_val_files_short)\n",
    "len(expanded_progan_val_files_filtered)"
   ]
  },
  {
   "cell_type": "code",
   "execution_count": 60,
   "metadata": {},
   "outputs": [
    {
     "data": {
      "application/vnd.jupyter.widget-view+json": {
       "model_id": "8832fd0d136f4a53814ddbee6068cf37",
       "version_major": 2,
       "version_minor": 0
      },
      "text/plain": [
       "HBox(children=(IntProgress(value=0, max=200), HTML(value='')))"
      ]
     },
     "metadata": {},
     "output_type": "display_data"
    },
    {
     "name": "stdout",
     "output_type": "stream",
     "text": [
      "[ 0.02978781  0.20543708  0.29367423  4.3348675   3.1732955  17.97184\n",
      " 15.3088255 ] 0.4\n",
      "[ 0.02392511  0.14735411  0.21298079  4.071719    3.3303072  15.47029\n",
      " 14.659341  ] 0.6\n",
      "[ 0.02891503  0.1672123   0.23537795  4.4216805   3.512694   18.085484\n",
      " 14.192013  ] 0.2\n",
      "[ 0.02448394  0.16909242  0.23738816  4.097561    3.017689   16.082363\n",
      " 13.390663  ] 0.4\n",
      "[ 0.05281473  0.2539509   0.35576987  4.8609457   3.4091456  20.008453\n",
      " 16.478773  ] 1.0\n",
      "[ 0.02939792  0.16583166  0.2341105   4.0436206   3.0799994  16.673998\n",
      " 15.077313  ] 0.4\n",
      "[ 0.02845583  0.16726224  0.24019933  4.166797    3.2012637  17.373415\n",
      " 16.107298  ] 0.2\n",
      "[ 0.02435201  0.12869793  0.18161392  3.6376674   3.166928   14.306739\n",
      " 13.304003  ] 0.8\n",
      "[ 0.02749244  0.15856364  0.22030547  3.992925    3.0510263  15.665096\n",
      " 13.501381  ] 0.8\n",
      "[ 0.03030998  0.17519769  0.25406507  4.481682    3.1810532  18.657719\n",
      " 17.744444  ] 0.8\n",
      "[ 0.02436935  0.15342137  0.22223805  4.036442    3.0854397  17.255829\n",
      " 15.511411  ] 0.4\n",
      "[ 0.03210852  0.22255868  0.32943055  5.0135155   3.9169881  21.728218\n",
      " 22.639616  ] 0.8\n",
      "[ 0.02559479  0.15294066  0.21850505  3.9840012   2.8535013  14.495708\n",
      " 12.598143  ] 0.6\n",
      "[ 0.03718     0.21234177  0.3011383   4.51998     3.2514708  18.781227\n",
      " 15.437278  ] 0.4\n",
      "[ 0.04777538  0.27606946  0.3916721   4.7757244   3.8400066  19.492397\n",
      " 16.24875   ] 0.6\n",
      "[ 0.0216975   0.13873656  0.19189537  3.7922697   3.0546238  15.812664\n",
      " 12.611767  ] 0.6\n",
      "[ 0.02905606  0.15661475  0.21923034  4.271464    3.3137505  17.617132\n",
      " 14.82467   ] 0.6\n",
      "[ 0.0276753   0.18209627  0.2533869   4.302726    3.1114888  15.877524\n",
      " 13.938788  ] 0.0\n",
      "[ 0.02396237  0.14518116  0.21254797  4.022546    3.0215697  17.645786\n",
      " 15.060753  ] 0.4\n",
      "[ 0.02538881  0.16001166  0.22915715  4.0638213   3.0832152  16.337439\n",
      " 13.583501  ] 0.0\n",
      "[ 0.02471807  0.15052818  0.21591555  3.912727    2.9314737  16.809944\n",
      " 16.87064   ] 0.2\n",
      "[ 0.02042707  0.12553528  0.18216333  3.6861336   2.896168   17.039085\n",
      " 14.440383  ] 0.4\n",
      "[ 0.02630367  0.16597654  0.23415674  4.009942    2.9801257  15.386168\n",
      " 12.063006  ] 0.6\n",
      "[ 0.02449946  0.16805132  0.23550543  4.0143595   3.4157286  20.106722\n",
      " 17.75505   ] 0.0\n",
      "[ 0.03205453  0.18266156  0.25247264  4.283661    3.3893454  17.83049\n",
      " 14.182257  ] 1.0\n",
      "[ 0.07326904  0.24208562  0.33670667  4.493261    3.640022   20.51228\n",
      " 18.5252    ] 1.0\n",
      "[ 0.04747655  0.229779    0.32319403  4.754354    3.710138   21.436432\n",
      " 22.315964  ] 0.6\n",
      "[ 0.02592656  0.15790652  0.22823702  4.1767445   3.3895435  18.596867\n",
      " 18.619139  ] 0.2\n",
      "[ 0.03018955  0.18661004  0.27470165  4.706244    3.3331482  18.758907\n",
      " 14.9286375 ] 0.4\n",
      "[ 0.02765209  0.15975559  0.23134574  4.4218254   3.3639097  18.559135\n",
      " 15.230299  ] 0.2\n",
      "[ 0.0266121  0.1650856  0.2370483  4.3992577  3.0399187 17.42493\n",
      " 14.20478  ] 0.2\n",
      "[ 0.02505369  0.15993033  0.2279766   4.2746024   3.225483   16.079372\n",
      " 12.541392  ] 0.4\n",
      "[ 0.02723697  0.13902886  0.19424424  4.1171365   3.3819306  20.40821\n",
      " 20.272795  ] 0.2\n",
      "[ 0.02809421  0.14744085  0.20610845  3.9768622   3.1604457  15.7006235\n",
      " 13.501354  ] 0.2\n",
      "[ 0.02731943  0.16450757  0.2360331   3.9642777   3.1753776  14.995707\n",
      " 11.798789  ] 0.2\n",
      "[ 0.02776655  0.16773531  0.24057566  4.1363297   3.107747   17.900347\n",
      " 15.395195  ] 0.6\n",
      "[ 0.02766524  0.14800712  0.20807338  4.124389    3.1589265  15.733317\n",
      " 13.501268  ] 0.4\n",
      "[ 0.02806788  0.19204912  0.28266028  4.6894813   3.1382906  16.15489\n",
      " 12.166669  ] 0.2\n",
      "[ 0.02421197  0.14770526  0.21270262  4.0010467   3.1354024  18.890503\n",
      " 18.098555  ] 1.0\n",
      "[ 0.0282058   0.16665058  0.23563538  4.3262825   3.2074058  17.28984\n",
      " 14.171418  ] 0.4\n",
      "[ 0.02633397  0.1511901   0.21613315  4.1009583   3.019149   16.08398\n",
      " 12.191116  ] 0.0\n",
      "[ 0.02734329  0.16633788  0.23695529  4.244706    3.3444774  19.04544\n",
      " 15.899887  ] 0.6\n",
      "[ 0.02777037  0.17240329  0.24717166  4.123762    3.000316   16.207355\n",
      " 16.015728  ] 0.6\n",
      "[ 0.0241127   0.14220704  0.20716743  3.9808872   3.1449344  19.576607\n",
      " 16.467794  ] 0.6\n",
      "[ 0.03561979  0.2021311   0.28175855  4.311711    3.199368   17.80849\n",
      " 15.703584  ] 0.4\n",
      "[ 0.02639738  0.16689743  0.23622034  3.888408    3.1906197  17.526955\n",
      " 15.347343  ] 0.4\n",
      "[ 0.02155636  0.13023838  0.18584426  3.558223    3.0120776  14.422018\n",
      " 11.307285  ] 0.4\n",
      "[ 0.03432224  0.21415721  0.30431783  4.574378    3.091672   15.185964\n",
      " 12.171585  ] 0.2\n",
      "[ 0.02260645  0.14013122  0.20209691  4.0241876   3.3082361  17.670576\n",
      " 14.195623  ] 0.2\n",
      "[ 0.0282789   0.18021634  0.2628965   4.1039376   3.1797273  18.447496\n",
      " 18.824793  ] 0.4\n",
      "[ 0.03069583  0.18179633  0.2515761   3.9737818   3.052126   15.307716\n",
      " 11.978435  ] 0.6\n",
      "[ 0.02385155  0.15228322  0.21747619  4.044541    2.770677   15.4409485\n",
      " 12.083688  ] 0.0\n",
      "[ 0.02691993  0.15594953  0.22081652  3.9545383   3.0904799  15.9205\n",
      " 14.670144  ] 0.4\n",
      "[ 0.02508127  0.17997484  0.26107293  4.3812194   3.0612257  16.863022\n",
      " 14.621602  ] 0.0\n",
      "[ 0.02227806  0.1603143   0.23144545  4.253396    3.6361487  19.716196\n",
      " 17.858194  ] 0.6\n",
      "[ 0.03053025  0.18251467  0.26215702  4.4456854   3.373184   21.47865\n",
      " 21.897457  ] 1.0\n",
      "[ 0.02339057  0.14785045  0.21263495  4.0617676   3.2742524  18.90675\n",
      " 14.042015  ] 0.4\n",
      "[ 0.03382021  0.21112452  0.2997403   4.4653206   3.0758595  15.205585\n",
      " 11.941505  ] 0.4\n",
      "[ 0.02649672  0.16325592  0.23621647  4.2070746   3.0929775  17.378685\n",
      " 13.408373  ] 0.25\n",
      "[ 0.02692912  0.1560563   0.21815711  3.9942808   2.8844907  16.373196\n",
      " 14.524469  ] 0.4\n",
      "[ 0.02637715  0.16629015  0.23834303  4.0080357   2.667103   12.40134\n",
      " 10.433835  ] 0.0\n",
      "[ 0.02643957  0.1752363   0.25907806  4.065814    3.0253706  15.166787\n",
      " 13.80719   ] 0.2\n",
      "[ 0.02225952  0.14169164  0.20058191  3.5014338   3.05412    17.05349\n",
      " 14.206511  ] 0.4\n",
      "[ 0.02774074  0.1902547   0.27426443  4.199662    3.0143356  15.102604\n",
      " 11.428626  ] 0.4\n",
      "[ 0.02215857  0.14249343  0.19960779  3.7087116   3.5868888  18.387367\n",
      " 16.252234  ] 0.4\n",
      "[ 0.02852492  0.1503863   0.21010321  4.0076027   3.067613   15.766703\n",
      " 13.043445  ] 0.2\n",
      "[ 0.02269266  0.1217335   0.16747527  3.4070668   3.19034    19.795712\n",
      " 18.474903  ] 0.6\n",
      "[ 0.03525727  0.1789454   0.2482465   4.401252    3.721088   20.701853\n",
      " 19.93125   ] 0.8\n",
      "[ 0.02808188  0.16612555  0.23755486  3.9968817   3.2633338  17.477678\n",
      " 16.464634  ] 0.8\n",
      "[ 0.02596749  0.17395371  0.25475165  4.44087     3.2392871  17.842535\n",
      " 15.002534  ] 0.4\n",
      "[ 0.03358036  0.19219394  0.28262147  4.6082373   3.3742259  19.182545\n",
      " 16.36733   ] 0.8\n",
      "[ 0.02524307  0.17204611  0.24961072  4.177211    2.849117   14.715548\n",
      " 12.667379  ] 0.0\n",
      "[ 0.04877522  0.23112905  0.31831563  4.340792    3.4132695  18.849932\n",
      " 15.568114  ] 1.0\n",
      "[ 0.02541974  0.16155575  0.23015091  4.2414403   2.8727193  13.375624\n",
      " 11.404618  ] 0.4\n",
      "[ 0.03833467  0.21085867  0.2949261   4.6052246   3.1955788  16.025803\n",
      " 13.248518  ] 1.0\n",
      "[ 0.02617933  0.15876476  0.21877459  4.0871477   3.1319067  13.31702\n",
      "  9.454392  ] 0.4\n",
      "[ 0.02983325  0.20775759  0.3108127   4.7475805   3.1660755  18.413755\n",
      " 12.672115  ] 0.6\n",
      "[ 0.02520878  0.13871728  0.1965217   4.1678586   3.0394282  16.53865\n",
      " 16.167938  ] 0.4\n",
      "[ 0.0249817   0.1327697   0.18523675  3.791088    3.430824   17.271347\n",
      " 15.080267  ] 0.2\n",
      "[ 0.03041857  0.17550159  0.25168112  4.4257607   3.2652774  18.192972\n",
      " 16.248116  ] 0.8\n",
      "[ 0.02747159  0.17042242  0.23898806  4.3253393   3.2341456  16.83363\n",
      " 14.452743  ] 0.8\n",
      "[ 0.02254895  0.13077213  0.18461932  3.895608    2.9839478  15.991579\n",
      " 11.951371  ] 0.0\n",
      "[ 0.02310603  0.12987114  0.18279225  3.6168702   3.0525396  19.739828\n",
      " 18.368708  ] 0.2\n",
      "[ 0.02725405  0.15328735  0.2183499   4.259514    3.1728997  16.91196\n",
      " 14.303509  ] 0.6\n",
      "[ 0.02330642  0.15353732  0.21971546  3.9604888   3.0756533  17.56595\n",
      " 13.3111725 ] 0.6\n",
      "[ 0.02512928  0.16122028  0.22767535  3.829216    3.2011952  16.4213\n",
      " 13.920026  ] 0.4\n",
      "[ 0.03912311  0.22703874  0.3097135   4.371467    3.0910213  14.562\n",
      " 10.112579  ] 0.4\n",
      "[ 0.02608255  0.15435156  0.21713296  3.934737    3.0847964  16.484997\n",
      " 13.148505  ] 0.2\n",
      "[ 0.02755811  0.15943713  0.22221515  4.0369163   3.0115762  17.446686\n",
      " 14.145897  ] 0.0\n",
      "[ 0.02922701  0.17756027  0.25429928  4.2980175   2.9753003  16.090324\n",
      " 10.780347  ] 0.2\n",
      "[ 0.02264943  0.13636415  0.19554234  3.895831    3.7240536  20.234734\n",
      " 17.012083  ] 1.0\n",
      "[ 0.02127657  0.13960509  0.19202277  3.4636803   3.071292   16.86281\n",
      " 14.519442  ] 0.2\n",
      "[ 0.04023485  0.23456255  0.31809232  4.4937162   3.6052108  18.247835\n",
      " 16.97645   ] 0.6\n",
      "[ 0.02823661  0.16368099  0.23928685  4.416054    3.9314482  22.219355\n",
      " 23.50748   ] 0.8\n",
      "[ 0.0293135   0.15646712  0.20974837  3.6194193   3.2101443  14.918513\n",
      " 11.998647  ] 0.4\n",
      "[ 0.02797654  0.15523006  0.22427702  4.295442    3.2527742  18.121876\n",
      " 16.911001  ] 0.8\n",
      "[ 0.0278173   0.17927107  0.25966403  4.17403     3.1570773  16.84057\n",
      " 13.871357  ] 0.6\n",
      "[ 0.04089421  0.23776557  0.3290999   4.7289543   3.4541576  23.071346\n",
      " 22.920895  ] 0.6\n",
      "[ 0.02800401  0.17807387  0.25857058  4.223801    3.1949403  16.527824\n",
      " 14.120131  ] 0.6\n",
      "[ 0.02614424  0.16900821  0.24746971  4.053212    2.987372   15.579875\n",
      " 11.28197   ] 0.2\n",
      "[ 0.03622212  0.196615    0.27684963  4.3583207   3.539715   22.668312\n",
      " 18.33124   ] 0.4\n",
      "[ 0.03156614  0.17215498  0.24087143  4.122763    3.244392   18.535534\n",
      " 17.43611   ] 1.0\n",
      "[ 0.02330715  0.16145706  0.2337493   4.0915813   3.0593157  15.767995\n",
      " 12.4906645 ] 0.2\n",
      "[ 0.0270557   0.16522889  0.23269142  4.242484    3.102541   17.427639\n",
      " 15.126311  ] 0.5\n",
      "[ 0.03708589  0.18363596  0.250093    4.1945987   3.255079   15.930441\n",
      " 17.385843  ] 0.4\n",
      "[ 0.03396428  0.20354266  0.28342256  4.4106936   3.134864   15.3718605\n",
      " 12.245847  ] 0.2\n",
      "[ 0.02160205  0.12506863  0.17379844  3.819072    3.5821362  19.3578\n",
      " 16.991095  ] 0.6\n",
      "[ 0.04290947  0.24716464  0.35024625  4.7023907   3.4800322  17.602982\n",
      " 18.1572    ] 0.6\n",
      "[ 0.02634982  0.17214853  0.24797046  4.291629    3.368732   18.707253\n",
      " 15.598732  ] 0.6\n",
      "[ 0.02457567  0.13009827  0.18336307  3.8731122   3.4390442  16.981102\n",
      " 15.3492775 ] 0.8\n",
      "[ 0.02650395  0.14110824  0.19539429  3.8876116   3.2822936  16.850592\n",
      " 15.572471  ] 0.4\n",
      "[ 0.0281678   0.17835115  0.25182915  4.1705003   3.3552644  18.122217\n",
      " 15.421821  ] 1.0\n",
      "[ 0.02980956  0.16863821  0.2409869   4.3879633   3.2673266  21.287231\n",
      " 21.11405   ] 0.4\n",
      "[ 0.02506263  0.17513533  0.2582037   4.4504595   3.145595   16.525879\n",
      " 14.364788  ] 0.6\n",
      "[ 0.02381901  0.15117234  0.21464999  4.053432    2.9333498  16.018526\n",
      " 12.6287155 ] 0.6\n",
      "[ 0.02912881  0.17574383  0.2506616   4.33839     2.8573213  15.990801\n",
      " 14.013087  ] 0.4\n",
      "[ 0.0316699   0.14534384  0.1951339   3.4902823   3.4680004  17.550964\n",
      " 16.008657  ] 1.0\n",
      "[ 0.0400474   0.22974558  0.3108052   4.432676    3.3932402  20.579151\n",
      " 18.344563  ] 0.8\n",
      "[ 0.03874654  0.17652471  0.24200794  4.182493    3.2571268  21.421417\n",
      " 18.145132  ] 0.2\n",
      "[ 0.02567766  0.14643432  0.19883819  3.954092    3.3694546  15.276241\n",
      " 14.319265  ] 0.4\n",
      "[ 0.03401504  0.16529913  0.22388908  3.5482056   2.967803   16.037952\n",
      " 15.668803  ] 0.8\n",
      "[ 0.02843318  0.18989168  0.2695952   4.145226    3.077089   16.67968\n",
      " 15.580659  ] 0.8\n",
      "[ 0.02370677  0.15615231  0.22461115  3.8873377   3.0645945  15.328594\n",
      " 13.330444  ] 0.0\n",
      "[ 0.0281925   0.12646736  0.17740747  3.831832    3.6314712  21.764763\n",
      " 23.493397  ] 0.8\n",
      "[ 0.02920363  0.17466255  0.24105388  4.1735864   3.0613532  16.346165\n",
      " 14.566547  ] 0.0\n",
      "[ 0.02109326  0.13692017  0.1930931   3.8271022   3.1894932  15.679765\n",
      " 12.58004   ] 0.6\n",
      "[ 0.0202946   0.10433681  0.14362143  3.663127    3.2578957  18.328941\n",
      " 15.385851  ] 0.6\n",
      "[ 0.02695913  0.17990367  0.25775704  4.3282323   3.25282    17.81149\n",
      " 13.84909   ] 0.2\n",
      "[ 0.02364881  0.15215647  0.20921     3.8766222   3.166626   18.74113\n",
      " 16.488832  ] 0.4\n",
      "[ 0.02869722  0.17937852  0.26102984  4.232667    3.0162518  17.312206\n",
      " 17.236675  ] 0.4\n",
      "[ 0.02744519  0.15143645  0.20868596  3.7923985   3.2313194  16.225275\n",
      " 16.777615  ] 0.8\n",
      "[ 0.02334063  0.13065399  0.18311039  3.8381226   3.2034278  17.071745\n",
      " 15.268911  ] 0.2\n",
      "[ 0.02671448  0.16731718  0.23793432  4.368961    2.9294093  17.975708\n",
      " 14.089244  ] 0.4\n",
      "[ 0.02388361  0.14514305  0.20766294  3.8545802   3.7814536  19.808525\n",
      " 17.847528  ] 1.0\n",
      "[ 0.02747115  0.18490836  0.25482038  4.115768    3.172318   17.28219\n",
      " 13.029121  ] 0.2\n",
      "[ 0.03500325  0.21154685  0.29398265  4.3979745   3.0346122  15.400112\n",
      " 13.336246  ] 0.0\n",
      "[ 0.02777581  0.17291306  0.24941012  4.4838295   3.1259608  16.462809\n",
      " 13.837208  ] 0.0\n",
      "[ 0.028973    0.1737296   0.23944366  4.048665    2.9532974  15.837623\n",
      " 15.8485365 ] 0.0\n",
      "[ 0.04053738  0.16642572  0.22004825  3.748168    3.3440125  16.283333\n",
      " 15.113818  ] 0.6\n",
      "[ 0.03294666  0.21177046  0.29362598  4.47437     3.0896058  16.957874\n",
      " 16.501541  ] 0.6\n",
      "[ 0.0262042   0.16605495  0.24024728  4.1502414   2.8394516  15.494453\n",
      " 12.771452  ] 0.4\n",
      "[ 0.0267715   0.1746112   0.24586375  4.172888    3.3939655  17.27015\n",
      " 15.945355  ] 0.8\n",
      "[ 0.0264514   0.16606103  0.23889285  4.2518425   3.0887988  14.021612\n",
      "  9.369721  ] 0.4\n",
      "[ 0.03499854  0.20729464  0.29933184  4.7733073   3.4535856  19.775383\n",
      " 19.253263  ] 1.0\n",
      "[ 0.02381586  0.16145414  0.22554052  3.8497605   3.6211107  20.83452\n",
      " 21.995821  ] 0.6\n",
      "[ 0.03507662  0.23792614  0.34812114  4.896154    3.7388039  19.627842\n",
      " 20.811266  ] 0.2\n",
      "[ 0.03940187  0.16535136  0.22105886  4.1778135   3.336459   16.10353\n",
      " 15.515136  ] 0.6\n",
      "[ 0.02724326  0.17733239  0.24800156  4.6005654   3.3327184  19.208126\n",
      " 17.494806  ] 0.4\n",
      "[ 0.02629936  0.17533472  0.258685    4.544944    3.1261091  18.624447\n",
      " 17.289356  ] 0.8\n",
      "[ 0.03623122  0.18571785  0.2586389   4.1877537   3.0627344  17.04937\n",
      " 14.162462  ] 0.4\n",
      "[ 0.02450392  0.13187367  0.18375964  3.995237    2.9542022  16.710283\n",
      " 14.66253   ] 0.6\n",
      "[ 0.02567494  0.15558374  0.22201015  4.1241693   3.121431   17.464943\n",
      " 15.233441  ] 0.4\n",
      "[ 0.02804225  0.17510843  0.25296912  4.4413285   3.1647499  13.670823\n",
      " 12.30345   ] 0.0\n",
      "[ 0.02882794  0.17153446  0.2358182   4.3570275   3.743292   22.022808\n",
      " 24.55867   ] 0.8\n",
      "[ 0.04071695  0.1908982   0.26498127  4.0903077   3.3586714  19.495121\n",
      " 19.004585  ] 0.4\n",
      "[ 0.02578726  0.15917422  0.22589314  4.2593994   3.1918895  14.616663\n",
      "  9.467362  ] 0.0\n",
      "[ 0.02916241  0.17085075  0.24457434  4.0563335   3.0451293  15.052929\n",
      " 15.362247  ] 1.0\n",
      "[ 0.02944255  0.18170238  0.2618128   4.4667554   3.2674146  16.34603\n",
      " 13.485092  ] 0.6\n",
      "[ 0.02758557  0.1759873   0.26089624  4.392487    3.0947948  15.535392\n",
      " 13.219666  ] 0.2\n",
      "[ 0.02488282  0.13472006  0.19529347  4.1782537   3.317816   16.253887\n",
      " 12.882532  ] 0.6\n",
      "[ 0.0220772   0.14136682  0.2009016   3.657973    3.0185592  15.518681\n",
      " 14.934641  ] 0.4\n",
      "[ 0.03751724  0.21822521  0.3117633   4.8980007   3.920589   28.317299\n",
      " 32.4654    ] 1.0\n",
      "[ 0.03185512  0.20282808  0.2766668   4.4256196   3.411259   14.563408\n",
      " 10.7280245 ] 0.2\n",
      "[ 0.02960771  0.18860897  0.26605576  4.3581543   2.9714146  14.39698\n",
      " 10.432478  ] 0.4\n",
      "[ 0.02566791  0.15507632  0.22212201  4.019275    2.9520028  14.748405\n",
      " 12.282439  ] 0.0\n",
      "[ 0.02375932  0.14053209  0.2013073   4.0100875   3.357242   18.143913\n",
      " 14.992607  ] 0.8\n",
      "[ 0.03839695  0.21412626  0.29571125  4.6280212   3.5433905  22.610014\n",
      " 22.376955  ] 0.8\n",
      "[ 0.02878905  0.16422726  0.23360144  4.1136827   3.1155546  15.149063\n",
      " 12.09984   ] 0.8\n",
      "[ 0.02294426  0.12621555  0.17694771  3.5884073   3.155798   17.919094\n",
      " 14.916976  ] 0.6\n",
      "[ 0.0375406   0.15921481  0.21886162  4.182624    3.341122   20.534739\n",
      " 20.281996  ] 0.8\n",
      "[ 0.02607098  0.1672049   0.23536956  4.4063764   2.9989476  14.922209\n",
      " 12.669781  ] 0.2\n",
      "[ 0.02604668  0.17148183  0.24752146  4.4070334   3.2556243  19.403172\n",
      " 16.319618  ] 0.8\n",
      "[ 0.02861454  0.15971509  0.22208945  4.07936     2.9942842  15.309716\n",
      " 12.460083  ] 0.2\n",
      "[ 0.02385305  0.13860543  0.1950653   3.916114    3.0962088  18.77929\n",
      " 17.168526  ] 0.0\n",
      "[ 0.02137414  0.13128965  0.18796144  3.949545    3.4287825  20.229092\n",
      " 20.256943  ] 0.2\n",
      "[ 0.02845316  0.14200674  0.20146666  4.266002    3.2123446  18.537191\n",
      " 14.699253  ] 0.6\n",
      "[ 0.02652864  0.1729727   0.24886231  4.278747    3.2231224  18.22174\n",
      " 16.515177  ] 0.4\n",
      "[ 0.02689422  0.17233329  0.23987205  4.0347857   2.7984102  14.761205\n",
      " 13.31979   ] 0.8\n",
      "[ 0.02523996  0.1638503   0.23293838  4.113064    2.7387981  14.857898\n",
      " 12.202662  ] 0.4\n",
      "[ 0.03123222  0.18090059  0.24355924  4.3845735   3.8107877  19.811945\n",
      " 21.177044  ] 0.8\n",
      "[ 0.03188992  0.18801838  0.27107388  4.566846    3.3415017  17.866117\n",
      " 13.767087  ] 0.2\n",
      "[ 0.0237873  0.1604802  0.2254752  3.839617   2.7321188 15.281528\n",
      " 13.018532 ] 0.2\n",
      "[ 0.02322802  0.15898326  0.22697577  3.9702017   3.0553381  16.030354\n",
      " 12.997332  ] 0.0\n",
      "[ 0.02807108  0.17347601  0.24169664  4.134238    3.3170676  16.62437\n",
      " 14.969175  ] 0.2\n",
      "[ 0.02646524  0.14088699  0.20004523  4.1052327   3.0403483  17.054398\n",
      " 14.088282  ] 0.8\n",
      "[ 0.02404106  0.13573952  0.19182914  3.8994029   3.1302667  17.446644\n",
      " 14.185957  ] 0.2\n",
      "[ 0.04074673  0.15236846  0.19703783  3.5759394   3.4880822  17.112257\n",
      " 15.685104  ] 0.4\n",
      "[ 0.0338425   0.19648522  0.27877867  4.3975344   3.184761   18.566788\n",
      " 16.590488  ] 0.6\n",
      "[ 0.04389144  0.17148939  0.23956588  4.462005    3.7552736  22.598457\n",
      " 23.626913  ] 0.8\n",
      "[ 0.02876678  0.19957024  0.28886932  4.573553    3.1170402  15.698619\n",
      " 11.717135  ] 0.4\n",
      "[ 0.02644659  0.18337579  0.25979364  4.1846504   2.7988188  15.1659775\n",
      " 13.315442  ] 0.6\n",
      "[ 0.02464157  0.15178014  0.22399561  4.1859283   3.7338367  21.927023\n",
      " 20.834219  ] 1.0\n",
      "[ 0.02317228  0.13184832  0.18493776  3.8048792   2.948271   14.890849\n",
      " 13.48133   ] 0.4\n",
      "[ 0.02730314  0.15542723  0.22123484  3.9580996   2.9364753  16.898272\n",
      " 15.060287  ] 0.4\n",
      "[ 0.03613517  0.21121477  0.29522946  4.6481156   3.5547137  18.889278\n",
      " 19.67126   ] 0.6\n",
      "[ 0.02524609  0.15867795  0.23143339  4.064279    3.02911    16.77859\n",
      " 15.776757  ] 0.6\n",
      "[ 0.02411983  0.16729246  0.2401564   4.026128    3.0843446  15.423677\n",
      " 11.208454  ] 0.0\n",
      "[ 0.03058864  0.18544763  0.26186603  4.2110605   3.002974   15.461693\n",
      " 11.931177  ] 0.0\n",
      "[ 0.02867447  0.18827364  0.27955824  4.468421    3.4105551  19.513338\n",
      " 17.102438  ] 0.4\n",
      "[ 0.0441398   0.255753    0.36786088  4.725335    3.7855728  20.933271\n",
      " 19.093914  ] 0.75\n",
      "\n"
     ]
    },
    {
     "data": {
      "text/plain": [
       "(200, 200)"
      ]
     },
     "execution_count": 60,
     "metadata": {},
     "output_type": "execute_result"
    }
   ],
   "source": [
    "#vote of 1 is correctly spotting the fakeness, vote of 0 is being fooled\n",
    "X_progan_val_extended = []\n",
    "Y_progan_val_extended = []\n",
    "for f in tqdm_notebook(expanded_progan_val_files_filtered):\n",
    "    cur_feats = progan_features_by_file['imgs_by_label/progan_labeled/progan_labeled_imgs/' + f]\n",
    "    \n",
    "    human_score = human_scores[f]\n",
    "    print(cur_feats, human_score)\n",
    "    \n",
    "    X_progan_val_extended.append(cur_feats)\n",
    "    Y_progan_val_extended.append(human_score)\n",
    "    \n",
    "\n",
    "len(X_progan_val_extended), len(Y_progan_val_extended)"
   ]
  },
  {
   "cell_type": "code",
   "execution_count": 69,
   "metadata": {},
   "outputs": [
    {
     "data": {
      "image/png": "[encoded data removed]",
      "text/plain": [
       "<Figure size 432x288 with 1 Axes>"
      ]
     },
     "metadata": {
      "needs_background": "light"
     },
     "output_type": "display_data"
    },
    {
     "data": {
      "text/plain": [
       "array([[1.        , 0.47305105],\n",
       "       [0.47305105, 1.        ]])"
      ]
     },
     "execution_count": 69,
     "metadata": {},
     "output_type": "execute_result"
    }
   ],
   "source": [
    "prob_real = [x[0] for x in lr_progan.predict_proba(X_progan_val_extended)]\n",
    "plt.scatter(prob_real, Y_progan_val_extended)\n",
    "plt.show()\n",
    "\n",
    "np.corrcoef(prob_real, Y_progan_val_extended)"
   ]
  },
  {
   "cell_type": "code",
   "execution_count": null,
   "metadata": {},
   "outputs": [],
   "source": []
  }
 ],
 "metadata": {
  "kernelspec": {
   "display_name": "Python 3",
   "language": "python",
   "name": "python3"
  },
  "language_info": {
   "codemirror_mode": {
    "name": "ipython",
    "version": 3
   },
   "file_extension": ".py",
   "mimetype": "text/x-python",
   "name": "python",
   "nbconvert_exporter": "python",
   "pygments_lexer": "ipython3",
   "version": "3.7.4"
  }
 },
 "nbformat": 4,
 "nbformat_minor": 2
}
