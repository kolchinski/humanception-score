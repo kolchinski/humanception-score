{
 "cells": [
  {
   "cell_type": "code",
   "execution_count": null,
   "metadata": {},
   "outputs": [],
   "source": [
    "#Let's make sure to know which labels go with which distance features..."
   ]
  },
  {
   "cell_type": "code",
   "execution_count": 1,
   "metadata": {},
   "outputs": [],
   "source": [
    "from collections import defaultdict\n",
    "import csv\n",
    "from itertools import islice\n",
    "import os\n",
    "import sys\n",
    "\n",
    "import numpy as np\n",
    "import matplotlib.pyplot as plt\n",
    "from IPython.display import display, Image\n",
    "import seaborn as sns\n",
    "from sklearn.linear_model import LogisticRegression\n",
    "from tqdm import tqdm_notebook\n",
    "import torch\n",
    "from torchvision import models, transforms, datasets"
   ]
  },
  {
   "cell_type": "code",
   "execution_count": 2,
   "metadata": {},
   "outputs": [
    {
     "name": "stdout",
     "output_type": "stream",
     "text": [
      "cuda\n",
      "_CudaDeviceProperties(name='Tesla V100-SXM2-16GB', major=7, minor=0, total_memory=16130MB, multi_processor_count=80)\n",
      "cpu\n"
     ]
    }
   ],
   "source": [
    "gpu_device = torch.device('cuda')\n",
    "print(gpu_device.type)\n",
    "print(torch.cuda.get_device_properties(gpu_device)) #/ 1024 / 1024 /1024\n",
    "cpu_device = torch.device('cpu')\n",
    "print(cpu_device.type)"
   ]
  },
  {
   "cell_type": "code",
   "execution_count": 3,
   "metadata": {},
   "outputs": [],
   "source": [
    "inception_transforms = transforms.Compose([\n",
    "            transforms.Resize(299),\n",
    "            #transforms.CenterCrop(constants.INPUT_SIZE),\n",
    "            transforms.ToTensor(),\n",
    "            #transforms.Normalize(mean=[0.485, 0.456, 0.406], std=[0.229, 0.224, 0.225])\n",
    "        ])"
   ]
  },
  {
   "cell_type": "code",
   "execution_count": 7,
   "metadata": {},
   "outputs": [
    {
     "name": "stdout",
     "output_type": "stream",
     "text": [
      "Dataset ImageFolder\n",
      "    Number of datapoints: 3103\n",
      "    Root location: imgs_by_label/stylegan_labeled/\n",
      "    StandardTransform\n",
      "Transform: Compose(\n",
      "               Resize(size=299, interpolation=PIL.Image.BILINEAR)\n",
      "               ToTensor()\n",
      "           )\n"
     ]
    }
   ],
   "source": [
    "labeled_stylegan = datasets.ImageFolder('imgs_by_label/stylegan_labeled/', inception_transforms)\n",
    "print(labeled_stylegan)\n",
    "labeled_stylegan_loader = torch.utils.data.DataLoader(\n",
    "        labeled_stylegan, batch_size=1, shuffle=False, num_workers=1)"
   ]
  },
  {
   "cell_type": "code",
   "execution_count": 8,
   "metadata": {},
   "outputs": [],
   "source": [
    "def get_inception_features(img, device=None):\n",
    "    inception_net = models.inception_v3(pretrained=True, transform_input=True).to(device)\n",
    "    \n",
    "    layers_to_grab = [inception_net.Conv2d_1a_3x3, inception_net.Conv2d_2b_3x3,\n",
    "                 inception_net.Conv2d_3b_1x1, inception_net.Mixed_5d, inception_net.Mixed_6e,\n",
    "                 inception_net.Mixed_7c, inception_net.fc]\n",
    "    \n",
    "    layer_features = [None for i in range(len(layers_to_grab))]\n",
    "    \n",
    "    \n",
    "    def hook_fn(self, inp, out, container, layer_index):\n",
    "        #print(layer_index, inp[0].shape, out.shape)\n",
    "\n",
    "        num_channels = out.shape[1]\n",
    "        if len(out.shape) > 2:\n",
    "            #Warning: this will break for batch sizes > 1\n",
    "            cur_features = out.squeeze().permute(1,2,0).reshape(-1, num_channels)\n",
    "        else:\n",
    "            cur_features = out\n",
    "\n",
    "        if container[layer_index] is None:\n",
    "            container[layer_index] = [cur_features]\n",
    "        else:\n",
    "            #container[layer_index] = torch.cat((container[layer_index], cur_features))\n",
    "            container[layer_index].append(cur_features)\n",
    "\n",
    "    def hook_fn_i(container, i):\n",
    "        return lambda self, inp, out: hook_fn(self, inp, out, container, i)\n",
    "\n",
    "    for i, layer in enumerate(layers_to_grab):\n",
    "        layer.register_forward_hook(hook_fn_i(layer_features, i))\n",
    "        \n",
    "    inception_net.eval()\n",
    "\n",
    "    out = inception_net(x.to(device))\n",
    "    del(out)\n",
    "        \n",
    "    #for x in img_iter:\n",
    "        #print(x.shape, y)\n",
    "        #plt.imshow((x).squeeze().permute(1, 2, 0))\n",
    "        #plt.show()\n",
    "        #out = inception_net(x.to(device))\n",
    "        #del(out)\n",
    "        #print(out.sum())\n",
    "        \n",
    "    return layer_features"
   ]
  },
  {
   "cell_type": "code",
   "execution_count": 9,
   "metadata": {},
   "outputs": [],
   "source": [
    "#TODO: Parallelize as much as possible within memory\n",
    "#TODO: Run on GPU, see if it's faster\n",
    "\n",
    "# Features (for single image): #layers x (H*W for that layer) x (C for that layer)\n",
    "# Reference set (for N comparison images): # layers x (N*H*W for that layer) x (C for that layer)\n",
    "def layerwise_nn_features(features, reference_set, device, batch_size=1):\n",
    "    \n",
    "    assert(len(features) == len(reference_set))\n",
    "    L = len(features)\n",
    "    #print(L)\n",
    "    mean_layer_closest_dists = torch.zeros(L).to(device)\n",
    "    \n",
    "    for l in range(L):\n",
    "        #print(l)\n",
    "        lf = features[l].detach().to(device) #layer features\n",
    "        rlf = reference_set[l].detach().to(device) #reference layer features\n",
    "\n",
    "        #layer is HxWxC\n",
    "        #rlf[i] is NxC\n",
    "        HtimesW,C = lf.shape\n",
    "        N,C2 = rlf.shape\n",
    "        assert(C == C2)\n",
    "        \n",
    "        rlf = rlf.reshape(1, N, C).detach()\n",
    "        \n",
    "        \n",
    "        num_batches = HtimesW // batch_size\n",
    "        if HtimesW % batch_size != 0: num_batches += 1 # for the fractional batch\n",
    "            \n",
    "        #Loop through each feature vector, we can parallelize later...\n",
    "        #Note: if batch size does not divide HtimesW, this will miss the last HtimesW%batch_size vectors\n",
    "        for b in range(num_batches):\n",
    "            x = lf[b*batch_size : (b+1) * batch_size].reshape(-1, 1, C)\n",
    "            cur_batch_size = x.shape[0]\n",
    "            \n",
    "            #Differences from vector to all reference vectors in that layer\n",
    "            diffs = (x - rlf).detach()\n",
    "            assert(diffs.shape == (cur_batch_size, N, C))\n",
    "            \n",
    "            sqr_dists = torch.sum(diffs**2, dim=2).detach()\n",
    "            assert(sqr_dists.shape == (cur_batch_size, N))\n",
    "            \n",
    "            min_sqr_dists = torch.min(sqr_dists, dim=1)[0].detach()\n",
    "            assert(min_sqr_dists.shape == (cur_batch_size,))\n",
    "            \n",
    "            min_dists = torch.sqrt(min_sqr_dists).detach()\n",
    "            assert(min_dists.shape == (cur_batch_size,))\n",
    "            \n",
    "            mean_layer_closest_dists[l] += torch.sum(min_dists).detach()\n",
    "            \n",
    "            del x\n",
    "            del diffs\n",
    "            del sqr_dists\n",
    "            del min_sqr_dists\n",
    "            del min_dists\n",
    "            \n",
    "        mean_layer_closest_dists[l] /= (HtimesW)\n",
    "        \n",
    "        del lf\n",
    "        del rlf\n",
    "   \n",
    "    return mean_layer_closest_dists"
   ]
  },
  {
   "cell_type": "code",
   "execution_count": 6,
   "metadata": {},
   "outputs": [
    {
     "data": {
      "text/plain": [
       "[torch.Size([10000, 32]),\n",
       " torch.Size([10000, 64]),\n",
       " torch.Size([10000, 80]),\n",
       " torch.Size([10000, 288]),\n",
       " torch.Size([10000, 768]),\n",
       " torch.Size([10000, 2048]),\n",
       " torch.Size([734, 1000])]"
      ]
     },
     "execution_count": 6,
     "metadata": {},
     "output_type": "execute_result"
    }
   ],
   "source": [
    "small_celeba_features = torch.load('small_celeba_features.pt', map_location=torch.device('cpu'))\n",
    "\n",
    "[layer_feats.shape for layer_feats in small_celeba_features]"
   ]
  },
  {
   "cell_type": "code",
   "execution_count": 19,
   "metadata": {
    "scrolled": false
   },
   "outputs": [
    {
     "data": {
      "application/vnd.jupyter.widget-view+json": {
       "model_id": "a5a759175c6b42419f04080b0df2922f",
       "version_major": 2,
       "version_minor": 0
      },
      "text/plain": [
       "HBox(children=(IntProgress(value=0, max=3103), HTML(value='')))"
      ]
     },
     "metadata": {},
     "output_type": "display_data"
    }
   ],
   "source": [
    "stylegan_filenames = []\n",
    "stylegan_inception_features = []\n",
    "stylegan_distance_features = []\n",
    "\n",
    "with torch.no_grad():\n",
    "    for i, (x,y) in enumerate(tqdm_notebook(labeled_stylegan_loader)):\n",
    "        #if i > 5: break\n",
    "        filename, _ = labeled_stylegan_loader.dataset.samples[i]\n",
    "        stylegan_filenames.append(filename)\n",
    "        #continue\n",
    "        \n",
    "        #print(filename)\n",
    "        #display(Image(filename=filename))\n",
    "\n",
    "        #plt.imshow((x).squeeze().permute(1, 2, 0))\n",
    "        #plt.show()\n",
    "\n",
    "        \n",
    "        flat_inception_features = [tmp[0] for tmp in get_inception_features(x, device=gpu_device)]\n",
    "        flat_inception_features = [x.detach().cpu() for x in flat_inception_features]\n",
    "        \n",
    "        stylegan_inception_features.append(flat_inception_features)\n",
    "        #continue\n",
    "        \n",
    "        # For the first two layers (the largest), only take every fifth feature vector to save on compute\n",
    "        #for dim in [0,1]:\n",
    "        #    L = len(flat_inception_features[dim])\n",
    "        #    flat_inception_features[dim] = flat_inception_features[dim][range(0,L,5)]\n",
    "        #print([tmp.shape for tmp in flat_inception_features])\n",
    "        \n",
    "        distance_features = layerwise_nn_features(flat_inception_features, small_celeba_features, gpu_device, 32)\n",
    "        #print(distance_features)\n",
    "        stylegan_distance_features.append(distance_features.cpu().detach().numpy())\n",
    "        \n",
    "        del flat_inception_features\n",
    "        del distance_features\n",
    "        "
   ]
  },
  {
   "cell_type": "code",
   "execution_count": 23,
   "metadata": {},
   "outputs": [],
   "source": [
    "len(stylegan_filenames), len(stylegan_inception_features), len(stylegan_distance_features)\n",
    "torch.save(stylegan_filenames, 'stylegan_filenames.pt')\n",
    "torch.save(stylegan_inception_features, 'stylegan_inception_features.pt')\n",
    "torch.save(stylegan_distance_features, 'stylegan_distance_features.pt')"
   ]
  },
  {
   "cell_type": "code",
   "execution_count": 49,
   "metadata": {},
   "outputs": [
    {
     "data": {
      "application/vnd.jupyter.widget-view+json": {
       "model_id": "4871cf9e19174fedaf650f394a242a63",
       "version_major": 2,
       "version_minor": 0
      },
      "text/plain": [
       "HBox(children=(IntProgress(value=0, max=2233), HTML(value='')))"
      ]
     },
     "metadata": {},
     "output_type": "display_data"
    },
    {
     "data": {
      "text/plain": [
       "2233"
      ]
     },
     "execution_count": 49,
     "metadata": {},
     "output_type": "execute_result"
    }
   ],
   "source": [
    "small_progan_distance_features = []\n",
    "\n",
    "for flat_inception_features in tqdm_notebook(small_progan_inception_features):\n",
    "    distance_features = layerwise_nn_features(flat_inception_features, small_celeba_features, gpu_device, 32)\n",
    "    #print(distance_features)\n",
    "    small_progan_distance_features.append(distance_features.cpu().detach().numpy())\n",
    "\n",
    "    del distance_features\n",
    "\n",
    "len(small_progan_distance_features)"
   ]
  },
  {
   "cell_type": "code",
   "execution_count": 51,
   "metadata": {},
   "outputs": [],
   "source": [
    "torch.save(small_progan_distance_features, 'small_progan_distance_features.pt')"
   ]
  },
  {
   "cell_type": "code",
   "execution_count": 50,
   "metadata": {},
   "outputs": [
    {
     "data": {
      "text/plain": [
       "2233"
      ]
     },
     "execution_count": 50,
     "metadata": {},
     "output_type": "execute_result"
    }
   ],
   "source": [
    "len(small_progan_distance_features)"
   ]
  },
  {
   "cell_type": "code",
   "execution_count": 10,
   "metadata": {},
   "outputs": [
    {
     "data": {
      "text/plain": [
       "torch.Size([22201, 32])"
      ]
     },
     "execution_count": 10,
     "metadata": {},
     "output_type": "execute_result"
    }
   ],
   "source": [
    "len(progan_inception_features)\n",
    "progan_inception_features[0][0].shape"
   ]
  },
  {
   "cell_type": "code",
   "execution_count": 11,
   "metadata": {},
   "outputs": [],
   "source": [
    "#len(progan_inception_features[0])\n",
    "#progan_inception_features_1067 = [[l.detach().cpu() for l in x] for x in progan_inception_features]\n",
    "#progan_inception_features_1067 = []\n",
    "#for x in progan_inception_features:\n",
    "#    progan_inception_features_1067 = [l.detach().cpu() for l in x]\n",
    "torch.save(progan_inception_features, 'progan_inception_features_1067_2233.pt')"
   ]
  },
  {
   "cell_type": "code",
   "execution_count": 12,
   "metadata": {},
   "outputs": [],
   "source": [
    "progan_inception_features_1067 = torch.load('progan_inception_features_1067.pt', map_location=torch.device('cpu'))"
   ]
  },
  {
   "cell_type": "code",
   "execution_count": 17,
   "metadata": {},
   "outputs": [],
   "source": [
    "#len(progan_inception_features_1067), len(progan_inception_features_1067_2233)\n",
    "progan_inception_features = progan_inception_features_1067 + progan_inception_features_1067_2233\n",
    "torch.save(progan_inception_features, 'progan_inception_features.pt')"
   ]
  },
  {
   "cell_type": "code",
   "execution_count": 25,
   "metadata": {},
   "outputs": [
    {
     "name": "stdout",
     "output_type": "stream",
     "text": [
      "2233 [torch.Size([22201, 32]), torch.Size([21609, 64]), torch.Size([5329, 80]), torch.Size([1225, 288]), torch.Size([289, 768]), torch.Size([64, 2048]), torch.Size([1, 1000])]\n",
      "2233 [torch.Size([4441, 32]), torch.Size([4322, 64]), torch.Size([1066, 80]), torch.Size([1225, 288]), torch.Size([289, 768]), torch.Size([64, 2048]), torch.Size([1, 1000])]\n"
     ]
    }
   ],
   "source": [
    "print(len(progan_inception_features), [x.shape for x in progan_inception_features[0]])\n",
    "small_progan_inception_features = []\n",
    "for x in progan_inception_features:\n",
    "    small_progan_inception_features.append([])\n",
    "    for dim in [0,1,2]:\n",
    "        L = len(x[dim])\n",
    "        small_progan_inception_features[-1].append(x[dim][range(0,L,5)])\n",
    "    for dim in [3,4,5,6]:\n",
    "        small_progan_inception_features[-1].append(x[dim])\n",
    "print(len(small_progan_inception_features), [x.shape for x in small_progan_inception_features[0]])"
   ]
  },
  {
   "cell_type": "code",
   "execution_count": 26,
   "metadata": {},
   "outputs": [],
   "source": [
    "torch.save(small_progan_inception_features, 'small_progan_inception_features.pt')"
   ]
  },
  {
   "cell_type": "code",
   "execution_count": 24,
   "metadata": {},
   "outputs": [],
   "source": [
    "#del progan_inception_features"
   ]
  },
  {
   "cell_type": "code",
   "execution_count": 36,
   "metadata": {},
   "outputs": [],
   "source": [
    "torch.save(progan_filenames, 'progan_filenames.pt')\n",
    "torch.save(progan_distance_features, 'progan_distance_features.pt')"
   ]
  },
  {
   "cell_type": "code",
   "execution_count": 66,
   "metadata": {},
   "outputs": [
    {
     "data": {
      "text/plain": [
       "2233"
      ]
     },
     "execution_count": 66,
     "metadata": {},
     "output_type": "execute_result"
    }
   ],
   "source": [
    "len(progan_filenames)"
   ]
  },
  {
   "cell_type": "code",
   "execution_count": null,
   "metadata": {},
   "outputs": [],
   "source": [
    "[torch.Tensor(x) for x in progan_distance_features]"
   ]
  },
  {
   "cell_type": "code",
   "execution_count": 37,
   "metadata": {},
   "outputs": [
    {
     "data": {
      "text/plain": [
       "(2233, 2233)"
      ]
     },
     "execution_count": 37,
     "metadata": {},
     "output_type": "execute_result"
    }
   ],
   "source": [
    "len(progan_filenames), len(progan_distance_features)"
   ]
  },
  {
   "cell_type": "code",
   "execution_count": null,
   "metadata": {},
   "outputs": [],
   "source": [
    "progan_distance_features"
   ]
  },
  {
   "cell_type": "code",
   "execution_count": null,
   "metadata": {},
   "outputs": [],
   "source": [
    "progan_filenames"
   ]
  },
  {
   "cell_type": "code",
   "execution_count": 24,
   "metadata": {},
   "outputs": [],
   "source": [
    "dataset_counts = defaultdict(int)\n",
    "img_counts = defaultdict(lambda : defaultdict(int))\n",
    "unique_imgs = defaultdict(set)\n",
    "img_votes = defaultdict(lambda: defaultdict(lambda: [0,0])) #no,yes tuples by dataset and image\n",
    "\n",
    "with open('../all_gans_inf.csv') as f:\n",
    "    reader = csv.DictReader(f)\n",
    "    for row in islice(reader, None):\n",
    "        img = row['img']        \n",
    "#         dataset_name = img[:img.index('/')]\n",
    "        split_name = img.split('/')\n",
    "        assert(len(split_name) == 2)\n",
    "        dataset_name, img_name = split_name\n",
    "        \n",
    "        vote_index = 1 if row['correctness'] == row['realness'] else 0\n",
    "        img_votes[dataset_name][img_name][vote_index] += 1\n",
    "        \n",
    "        dataset_counts[dataset_name] += 1\n",
    "        img_counts[dataset_name][img_name] += 1\n",
    "unique_imgs = {dataset: len(img_counts[dataset]) for dataset in img_counts}"
   ]
  },
  {
   "cell_type": "code",
   "execution_count": 25,
   "metadata": {},
   "outputs": [],
   "source": [
    "stylegan_labeled_set = set(img_votes['styleganceleba5000'].keys())"
   ]
  },
  {
   "cell_type": "code",
   "execution_count": 26,
   "metadata": {},
   "outputs": [],
   "source": [
    "stylegan_processed_set = set([os.path.split(x)[-1] for x in stylegan_filenames])"
   ]
  },
  {
   "cell_type": "code",
   "execution_count": 27,
   "metadata": {},
   "outputs": [
    {
     "data": {
      "text/plain": [
       "True"
      ]
     },
     "execution_count": 27,
     "metadata": {},
     "output_type": "execute_result"
    }
   ],
   "source": [
    "#Confirming we have features for the same images we have human labels for!\n",
    "stylegan_labeled_set == stylegan_processed_set \n",
    "\n",
    "\n",
    "#len(progan_labeled_set), len(progan_processed_set)\n",
    "#progan_labeled_set.difference(progan_processed_set)\n",
    "#progan_processed_set.difference(progan_labeled_set)\n",
    "#os.path.split(progan_filenames[0])[-1]"
   ]
  },
  {
   "cell_type": "code",
   "execution_count": 28,
   "metadata": {},
   "outputs": [
    {
     "data": {
      "image/png": "[encoded data removed]",
      "text/plain": [
       "<Figure size 432x288 with 1 Axes>"
      ]
     },
     "metadata": {
      "needs_background": "light"
     },
     "output_type": "display_data"
    }
   ],
   "source": [
    "num_votes = [x+y for x,y in img_votes['styleganceleba5000'].values()]\n",
    "plt.hist(num_votes)\n",
    "plt.show()\n",
    "#Most images have 1 label, most others have 2, a few with 3 or 4\n",
    "#So logistic regression is a good model"
   ]
  },
  {
   "cell_type": "code",
   "execution_count": 29,
   "metadata": {},
   "outputs": [
    {
     "data": {
      "image/png": "[encoded data removed]",
      "text/plain": [
       "<Figure size 432x288 with 1 Axes>"
      ]
     },
     "metadata": {
      "needs_background": "light"
     },
     "output_type": "display_data"
    }
   ],
   "source": [
    "vote_pct_correct = [y/(x+y) for x,y in img_votes['styleganceleba5000'].values()]\n",
    "plt.hist(vote_pct_correct)\n",
    "plt.show()"
   ]
  },
  {
   "cell_type": "code",
   "execution_count": 30,
   "metadata": {},
   "outputs": [
    {
     "name": "stdout",
     "output_type": "stream",
     "text": [
      "0\n",
      "1\n"
     ]
    },
    {
     "data": {
      "image/png": "[encoded data removed]",
      "text/plain": [
       "<Figure size 432x288 with 1 Axes>"
      ]
     },
     "metadata": {
      "needs_background": "light"
     },
     "output_type": "display_data"
    },
    {
     "name": "stdout",
     "output_type": "stream",
     "text": [
      "2\n"
     ]
    },
    {
     "data": {
      "image/png": "[encoded data removed]",
      "text/plain": [
       "<Figure size 432x288 with 1 Axes>"
      ]
     },
     "metadata": {
      "needs_background": "light"
     },
     "output_type": "display_data"
    },
    {
     "name": "stdout",
     "output_type": "stream",
     "text": [
      "3\n"
     ]
    },
    {
     "data": {
      "image/png": "[encoded data removed]",
      "text/plain": [
       "<Figure size 432x288 with 1 Axes>"
      ]
     },
     "metadata": {
      "needs_background": "light"
     },
     "output_type": "display_data"
    },
    {
     "name": "stdout",
     "output_type": "stream",
     "text": [
      "4\n"
     ]
    },
    {
     "data": {
      "image/png": "[encoded data removed]",
      "text/plain": [
       "<Figure size 432x288 with 1 Axes>"
      ]
     },
     "metadata": {
      "needs_background": "light"
     },
     "output_type": "display_data"
    },
    {
     "name": "stdout",
     "output_type": "stream",
     "text": [
      "5\n"
     ]
    },
    {
     "data": {
      "image/png": "[encoded data removed]",
      "text/plain": [
       "<Figure size 432x288 with 1 Axes>"
      ]
     },
     "metadata": {
      "needs_background": "light"
     },
     "output_type": "display_data"
    },
    {
     "name": "stdout",
     "output_type": "stream",
     "text": [
      "6\n"
     ]
    },
    {
     "data": {
      "image/png": "[encoded data removed]",
      "text/plain": [
       "<Figure size 432x288 with 1 Axes>"
      ]
     },
     "metadata": {
      "needs_background": "light"
     },
     "output_type": "display_data"
    }
   ],
   "source": [
    "L = len(stylegan_distance_features[0])\n",
    "feats_by_layer = [[],[],[],[],[],[],[]]\n",
    "for l in range(L):\n",
    "    print(l)\n",
    "    cur_feats = [x[l] for x in stylegan_distance_features]\n",
    "    feats_by_layer[l] = cur_feats\n",
    "    #plt.hist(cur_feats)\n",
    "    #plt.show()\n",
    "    if l > 0:\n",
    "        plt.scatter(feats_by_layer[l-1], feats_by_layer[l])\n",
    "        plt.show()\n",
    "\n",
    "plt.show()\n",
    "# Adjacent layers are highly correlated to each other -\n",
    "# so we could probably get a similar amount of signal by using fewer layers\n",
    "# (only need to look at adjacent ones because activations for layer i+1 are independent of\n",
    "# layer i-1 activations when conditioned on layer i - analogous to Markov property)"
   ]
  },
  {
   "cell_type": "code",
   "execution_count": 59,
   "metadata": {},
   "outputs": [
    {
     "ename": "IndentationError",
     "evalue": "unexpected indent (<ipython-input-59-f56363be38a6>, line 3)",
     "output_type": "error",
     "traceback": [
      "\u001b[0;36m  File \u001b[0;32m\"<ipython-input-59-f56363be38a6>\"\u001b[0;36m, line \u001b[0;32m3\u001b[0m\n\u001b[0;31m    = img_votes['progan5000'][x]\u001b[0m\n\u001b[0m    ^\u001b[0m\n\u001b[0;31mIndentationError\u001b[0m\u001b[0;31m:\u001b[0m unexpected indent\n"
     ]
    }
   ],
   "source": [
    "#x = os.path.split(progan_filenames[0])[-1]\n",
    "#y = progan_distance_features[0]\n",
    "# = img_votes['progan5000'][x]\n",
    "#x, y, l"
   ]
  },
  {
   "cell_type": "code",
   "execution_count": 31,
   "metadata": {},
   "outputs": [
    {
     "name": "stdout",
     "output_type": "stream",
     "text": [
      "2483 310 310 3103 3103\n"
     ]
    }
   ],
   "source": [
    "#split into train, val, test\n",
    "#then do logistic regression on train, check on val!\n",
    "\n",
    "#Let's split such that train set is 0 through 7 mod 10, val is 8 mod 10, test is 9 mod 10\n",
    "N = len(stylegan_filenames)\n",
    "train_indices = [i for i in range(N) if i % 10 in range(8)]\n",
    "val_indices =   [i for i in range(N) if i % 10 == 8]\n",
    "test_indices =  [i for i in range(N) if i % 10 == 9]\n",
    "\n",
    "ltrain = len(train_indices)\n",
    "lval = len(val_indices)\n",
    "ltest = len(test_indices)\n",
    "print(ltrain, lval, ltest, ltrain+lval+ltest, N)\n",
    "\n",
    "train_files = [stylegan_filenames[i] for i in train_indices]\n",
    "val_files = [stylegan_filenames[i] for i in val_indices]\n",
    "test_files = [stylegan_filenames[i] for i in test_indices]\n"
   ]
  },
  {
   "cell_type": "code",
   "execution_count": 32,
   "metadata": {},
   "outputs": [],
   "source": [
    "with open('stylegan_train_set.txt', 'w') as f:\n",
    "    for x in train_files:\n",
    "        f.write(x + '\\n')\n",
    "        \n",
    "with open('stylegan_val_set.txt', 'w') as f:\n",
    "    for x in val_files:\n",
    "        f.write(x + '\\n')\n",
    "        \n",
    "with open('stylegan_test_set.txt', 'w') as f:\n",
    "    for x in test_files:\n",
    "        f.write(x + '\\n')"
   ]
  },
  {
   "cell_type": "code",
   "execution_count": 33,
   "metadata": {},
   "outputs": [
    {
     "name": "stdout",
     "output_type": "stream",
     "text": [
      "['imgs_by_label/stylegan_labeled/stylegan_labeled_imgs/celeba_styleGAN_0.png', 'imgs_by_label/stylegan_labeled/stylegan_labeled_imgs/celeba_styleGAN_1.png', 'imgs_by_label/stylegan_labeled/stylegan_labeled_imgs/celeba_styleGAN_10.png', 'imgs_by_label/stylegan_labeled/stylegan_labeled_imgs/celeba_styleGAN_100.png', 'imgs_by_label/stylegan_labeled/stylegan_labeled_imgs/celeba_styleGAN_1000.png']\n",
      "['imgs_by_label/stylegan_labeled/stylegan_labeled_imgs/celeba_styleGAN_1006.png', 'imgs_by_label/stylegan_labeled/stylegan_labeled_imgs/celeba_styleGAN_1025.png', 'imgs_by_label/stylegan_labeled/stylegan_labeled_imgs/celeba_styleGAN_1043.png', 'imgs_by_label/stylegan_labeled/stylegan_labeled_imgs/celeba_styleGAN_1059.png', 'imgs_by_label/stylegan_labeled/stylegan_labeled_imgs/celeba_styleGAN_1070.png']\n"
     ]
    }
   ],
   "source": [
    "#with open('train_set.txt') as f:\n",
    "#    train_files = [x.strip() for x in f.readlines()]\n",
    "    \n",
    "print(train_files[:5])\n",
    "\n",
    "#with open('val_set.txt') as f:\n",
    "#    val_files = [x.strip() for x in f.readlines()]\n",
    "    \n",
    "print(val_files[:5])"
   ]
  },
  {
   "cell_type": "code",
   "execution_count": 34,
   "metadata": {},
   "outputs": [
    {
     "data": {
      "text/plain": [
       "3103"
      ]
     },
     "execution_count": 34,
     "metadata": {},
     "output_type": "execute_result"
    }
   ],
   "source": [
    "features_by_file = {stylegan_filenames[i] : stylegan_distance_features[i] for i in range(len(stylegan_filenames))}\n",
    "len(features_by_file)"
   ]
  },
  {
   "cell_type": "code",
   "execution_count": 35,
   "metadata": {},
   "outputs": [
    {
     "data": {
      "text/plain": [
       "3103"
      ]
     },
     "execution_count": 35,
     "metadata": {},
     "output_type": "execute_result"
    }
   ],
   "source": [
    "votes_by_file = {'imgs_by_label/stylegan_labeled/stylegan_labeled_imgs/' + k : v for k,v in img_votes['styleganceleba5000'].items()}\n",
    "len(votes_by_file)"
   ]
  },
  {
   "cell_type": "code",
   "execution_count": 36,
   "metadata": {},
   "outputs": [
    {
     "data": {
      "application/vnd.jupyter.widget-view+json": {
       "model_id": "5e6bb1c3b65d43c9ad25bbfd49ef2547",
       "version_major": 2,
       "version_minor": 0
      },
      "text/plain": [
       "HBox(children=(IntProgress(value=0, max=2483), HTML(value='')))"
      ]
     },
     "metadata": {},
     "output_type": "display_data"
    },
    {
     "data": {
      "text/plain": [
       "(3849, 3849)"
      ]
     },
     "execution_count": 36,
     "metadata": {},
     "output_type": "execute_result"
    }
   ],
   "source": [
    "#vote of 1 is correctly spotting the fakeness, vote of 0 is being fooled\n",
    "X = []\n",
    "Y = []\n",
    "for f in tqdm_notebook(train_files):\n",
    "    cur_feats = features_by_file[f]\n",
    "    cur_votes = votes_by_file[f]\n",
    "    false_votes, true_votes = cur_votes\n",
    "    #print(false_votes + true_votes)\n",
    "    #print(f, cur_feats, cur_votes, '\\n')\n",
    "    \n",
    "    for i in range(false_votes):\n",
    "        X.append(cur_feats)\n",
    "        Y.append(0)\n",
    "        \n",
    "    for i in range(true_votes):\n",
    "        X.append(cur_feats)\n",
    "        Y.append(1)\n",
    "#print(X)\n",
    "#print(Y)\n",
    "\n",
    "len(X), len(Y)"
   ]
  },
  {
   "cell_type": "code",
   "execution_count": 37,
   "metadata": {},
   "outputs": [
    {
     "name": "stderr",
     "output_type": "stream",
     "text": [
      "/home/alexkolchinski/.conda/envs/myenv/lib/python3.7/site-packages/sklearn/linear_model/logistic.py:432: FutureWarning: Default solver will be changed to 'lbfgs' in 0.22. Specify a solver to silence this warning.\n",
      "  FutureWarning)\n"
     ]
    }
   ],
   "source": [
    "lr = LogisticRegression().fit(X, Y)"
   ]
  },
  {
   "cell_type": "code",
   "execution_count": 38,
   "metadata": {},
   "outputs": [
    {
     "data": {
      "text/plain": [
       "0.6282151208106002"
      ]
     },
     "execution_count": 38,
     "metadata": {},
     "output_type": "execute_result"
    }
   ],
   "source": [
    "lr.score(X, Y)"
   ]
  },
  {
   "cell_type": "code",
   "execution_count": 39,
   "metadata": {},
   "outputs": [
    {
     "data": {
      "application/vnd.jupyter.widget-view+json": {
       "model_id": "bed25af6c2ef4f33aa913a27754f1dfa",
       "version_major": 2,
       "version_minor": 0
      },
      "text/plain": [
       "HBox(children=(IntProgress(value=0, max=310), HTML(value='')))"
      ]
     },
     "metadata": {},
     "output_type": "display_data"
    }
   ],
   "source": [
    "#vote of 1 is correctly spotting the fakeness, vote of 0 is being fooled\n",
    "X_val = []\n",
    "Y_val = []\n",
    "for f in tqdm_notebook(val_files):\n",
    "    cur_feats = features_by_file[f]\n",
    "    cur_votes = votes_by_file[f]\n",
    "    false_votes, true_votes = cur_votes\n",
    "    \n",
    "    for i in range(false_votes):\n",
    "        X_val.append(cur_feats)\n",
    "        Y_val.append(0)\n",
    "        \n",
    "    for i in range(true_votes):\n",
    "        X_val.append(cur_feats)\n",
    "        Y_val.append(1)\n",
    "#print(X)\n",
    "#print(Y)"
   ]
  },
  {
   "cell_type": "code",
   "execution_count": 40,
   "metadata": {},
   "outputs": [
    {
     "data": {
      "text/plain": [
       "0.6639175257731958"
      ]
     },
     "execution_count": 40,
     "metadata": {},
     "output_type": "execute_result"
    }
   ],
   "source": [
    "lr.score(X_val, Y_val)"
   ]
  },
  {
   "cell_type": "code",
   "execution_count": 41,
   "metadata": {},
   "outputs": [
    {
     "name": "stdout",
     "output_type": "stream",
     "text": [
      "0.5404354440023837 0.13265175526874465\n"
     ]
    },
    {
     "data": {
      "image/png": "[encoded data removed]",
      "text/plain": [
       "<Figure size 432x288 with 1 Axes>"
      ]
     },
     "metadata": {
      "needs_background": "light"
     },
     "output_type": "display_data"
    }
   ],
   "source": [
    "probs = lr.predict_proba(X)\n",
    "true_probs = np.array([probs[i][Y[i]] for i in range(len(probs))])\n",
    "\n",
    "plt.hist(true_probs)\n",
    "print(np.mean(true_probs), np.std(true_probs))"
   ]
  },
  {
   "cell_type": "code",
   "execution_count": 42,
   "metadata": {},
   "outputs": [
    {
     "name": "stdout",
     "output_type": "stream",
     "text": [
      "0.5453985268784409 0.12899853355920265\n"
     ]
    },
    {
     "data": {
      "image/png": "[encoded data removed]",
      "text/plain": [
       "<Figure size 432x288 with 1 Axes>"
      ]
     },
     "metadata": {
      "needs_background": "light"
     },
     "output_type": "display_data"
    }
   ],
   "source": [
    "val_probs = lr.predict_proba(X_val)\n",
    "true_val_probs = np.array([val_probs[i][Y_val[i]] for i in range(len(val_probs))])\n",
    "\n",
    "plt.hist(true_val_probs)\n",
    "print(np.mean(true_val_probs), np.std(true_val_probs))"
   ]
  },
  {
   "cell_type": "code",
   "execution_count": null,
   "metadata": {},
   "outputs": [],
   "source": []
  }
 ],
 "metadata": {
  "kernelspec": {
   "display_name": "Python 3",
   "language": "python",
   "name": "python3"
  },
  "language_info": {
   "codemirror_mode": {
    "name": "ipython",
    "version": 3
   },
   "file_extension": ".py",
   "mimetype": "text/x-python",
   "name": "python",
   "nbconvert_exporter": "python",
   "pygments_lexer": "ipython3",
   "version": "3.7.4"
  }
 },
 "nbformat": 4,
 "nbformat_minor": 2
}
