{
 "cells": [
  {
   "cell_type": "markdown",
   "metadata": {},
   "source": [
    "Todo:\n",
    "\n",
    "Write function that, given a reference set, finds the K (hyperparam) nearest neighbors in the 7d feature space and returns the average vote for those neighbors\n",
    "\n",
    "Cross validate on val sets\n",
    "\n",
    "\n",
    "\n",
    "Conditions\n",
    "\"Train\" on domain, eval on same domain (try on each of the 4)\n",
    "\"Train\" on n domains, eval on 1 (1 vs 1, 2 vs 1, 3 vs 1)"
   ]
  },
  {
   "cell_type": "code",
   "execution_count": 91,
   "metadata": {},
   "outputs": [],
   "source": [
    "from collections import defaultdict\n",
    "import csv\n",
    "from itertools import islice\n",
    "from functools import reduce\n",
    "import os\n",
    "import sys\n",
    "\n",
    "import numpy as np\n",
    "import matplotlib.pyplot as plt\n",
    "from IPython.display import display, Image\n",
    "import scipy\n",
    "import seaborn as sns\n",
    "from sklearn.linear_model import LogisticRegression\n",
    "from tqdm import tqdm_notebook\n",
    "import torch\n",
    "from torchvision import models, transforms, datasets"
   ]
  },
  {
   "cell_type": "code",
   "execution_count": 58,
   "metadata": {},
   "outputs": [],
   "source": [
    "#NOTE: Votes are counted as [fake, real], not [incorrect, correct] !\n",
    "\n",
    "dataset_counts = defaultdict(int)\n",
    "img_counts = defaultdict(lambda : defaultdict(int))\n",
    "unique_imgs = defaultdict(set)\n",
    "img_votes = defaultdict(lambda: defaultdict(lambda: [0,0])) #no,yes tuples by dataset and image\n",
    "\n",
    "with open('../../all_gans_inf.csv') as f:\n",
    "    reader = csv.DictReader(f)\n",
    "    for row in islice(reader, None):\n",
    "        img = row['img']        \n",
    "#         dataset_name = img[:img.index('/')]\n",
    "        split_name = img.split('/')\n",
    "        assert(len(split_name) == 2)\n",
    "        dataset_name, img_name = split_name\n",
    "        \n",
    "        vote_index = 1 if row['correctness'] == row['realness'] else 0\n",
    "        if dataset_name == 'began5000' and row['realness'] == 'True': print(row)\n",
    "\n",
    "        img_votes[dataset_name][img_name][vote_index] += 1\n",
    "        \n",
    "        dataset_counts[dataset_name] += 1\n",
    "        img_counts[dataset_name][img_name] += 1\n",
    "unique_imgs = {dataset: len(img_counts[dataset]) for dataset in img_counts}"
   ]
  },
  {
   "cell_type": "code",
   "execution_count": null,
   "metadata": {},
   "outputs": [],
   "source": [
    "models = ['progan', 'stylegan', 'began', 'wgan']"
   ]
  },
  {
   "cell_type": "code",
   "execution_count": 107,
   "metadata": {},
   "outputs": [
    {
     "data": {
      "text/plain": [
       "[('progan', 2233), ('stylegan', 3103), ('began', 2397), ('wgan', 4251)]"
      ]
     },
     "execution_count": 107,
     "metadata": {},
     "output_type": "execute_result"
    }
   ],
   "source": [
    "progan_votes = img_votes['progan5000']\n",
    "began_votes = img_votes['began5000']\n",
    "stylegan_votes = img_votes['styleganceleba5000']\n",
    "wgan_votes = img_votes['wgangp5000']\n",
    "votes = {'progan' : progan_votes,\n",
    "        'stylegan' : stylegan_votes,\n",
    "        'began' : began_votes,\n",
    "        'wgan' : wgan_votes}\n",
    "[(k, len(v)) for k,v in votes.items()]"
   ]
  },
  {
   "cell_type": "code",
   "execution_count": 108,
   "metadata": {},
   "outputs": [],
   "source": [
    "progan_filenames = torch.load('progan_filenames.pt', map_location=torch.device('cpu'))\n",
    "progan_filenames = [os.path.split(x)[-1] for x in progan_filenames]\n",
    "progan_distance_features = torch.load('progan_distance_features.pt', map_location=torch.device('cpu'))\n",
    "\n",
    "stylegan_filenames = torch.load('stylegan_filenames.pt', map_location=torch.device('cpu'))\n",
    "stylegan_filenames = [os.path.split(x)[-1] for x in stylegan_filenames]\n",
    "stylegan_distance_features = torch.load('stylegan_distance_features.pt', map_location=torch.device('cpu'))\n",
    "\n",
    "began_filenames = torch.load('began_filenames.pt', map_location=torch.device('cpu'))\n",
    "began_filenames = [os.path.split(x)[-1] for x in began_filenames]\n",
    "began_distance_features = torch.load('began_distance_features.pt', map_location=torch.device('cpu'))\n",
    "\n",
    "wgan_filenames = torch.load('wgan_filenames.pt', map_location=torch.device('cpu'))\n",
    "wgan_filenames = [os.path.split(x)[-1] for x in wgan_filenames]\n",
    "wgan_distance_features = torch.load('wgan_distance_features.pt', map_location=torch.device('cpu'))\n",
    "\n",
    "filenames = {'progan' : progan_filenames,\n",
    "        'stylegan' : stylegan_filenames,\n",
    "        'began' : began_filenames,\n",
    "        'wgan' : wgan_filenames}\n",
    "\n",
    "distance_features = {'progan' : progan_distance_features,\n",
    "        'stylegan' : stylegan_distance_features,\n",
    "        'began' : began_distance_features,\n",
    "        'wgan' : wgan_distance_features}"
   ]
  },
  {
   "cell_type": "code",
   "execution_count": 109,
   "metadata": {},
   "outputs": [],
   "source": [
    "with open('../progan_train_set.txt') as f:\n",
    "    progan_train_files = [os.path.split(x.strip())[-1] for x in f.readlines()]\n",
    "#print(progan_train_files[:5])\n",
    "\n",
    "with open('../progan_val_set.txt') as f:\n",
    "    progan_val_files = [os.path.split(x.strip())[-1] for x in f.readlines()]\n",
    "#print(progan_val_files[:5])\n",
    "\n",
    "with open('../stylegan_train_set.txt') as f:\n",
    "    stylegan_train_files = [os.path.split(x.strip())[-1] for x in f.readlines()]\n",
    "#print(stylegan_train_files[:5])\n",
    "\n",
    "with open('../stylegan_val_set.txt') as f:\n",
    "    stylegan_val_files = [os.path.split(x.strip())[-1] for x in f.readlines()]\n",
    "#print(stylegan_val_files[:5])\n",
    "\n",
    "with open('../began_train_set.txt') as f:\n",
    "    began_train_files = [os.path.split(x.strip())[-1] for x in f.readlines()]\n",
    "#print(began_train_files[:5])\n",
    "\n",
    "with open('../began_val_set.txt') as f:\n",
    "    began_val_files = [os.path.split(x.strip())[-1] for x in f.readlines()]\n",
    "#print(began_val_files[:5])\n",
    "\n",
    "with open('../wgan_train_set.txt') as f:\n",
    "    wgan_train_files = [os.path.split(x.strip())[-1] for x in f.readlines()]\n",
    "#print(began_train_files[:5])\n",
    "\n",
    "with open('../wgan_val_set.txt') as f:\n",
    "    wgan_val_files = [os.path.split(x.strip())[-1] for x in f.readlines()]\n",
    "#print(began_val_files[:5])\n",
    "\n",
    "\n",
    "\n",
    "with open('../progan_test_set.txt') as f:\n",
    "    progan_test_files = [os.path.split(x.strip())[-1] for x in f.readlines()]\n",
    "\n",
    "with open('../stylegan_test_set.txt') as f:\n",
    "    stylegan_test_files = [os.path.split(x.strip())[-1] for x in f.readlines()]\n",
    "\n",
    "with open('../began_test_set.txt') as f:\n",
    "    began_test_files = [os.path.split(x.strip())[-1] for x in f.readlines()]\n",
    "\n",
    "with open('../wgan_test_set.txt') as f:\n",
    "    wgan_test_files = [os.path.split(x.strip())[-1] for x in f.readlines()]\n",
    "\n",
    "train_files = {'progan' : progan_train_files,\n",
    "        'stylegan' : stylegan_train_files,\n",
    "        'began' : began_train_files,\n",
    "        'wgan' : wgan_train_files}\n",
    "\n",
    "val_files = {'progan' : progan_val_files,\n",
    "        'stylegan' : stylegan_val_files,\n",
    "        'began' : began_val_files,\n",
    "        'wgan' : wgan_val_files}\n",
    "\n",
    "test_files = {'progan' : progan_test_files,\n",
    "        'stylegan' : stylegan_test_files,\n",
    "        'began' : began_test_files,\n",
    "        'wgan' : wgan_test_files}"
   ]
  },
  {
   "cell_type": "code",
   "execution_count": 112,
   "metadata": {},
   "outputs": [
    {
     "name": "stdout",
     "output_type": "stream",
     "text": [
      "2233\n",
      "3103\n",
      "1966\n",
      "4251\n"
     ]
    }
   ],
   "source": [
    "progan_features_by_file = {progan_filenames[i] : progan_distance_features[i] for i in range(len(progan_filenames))}\n",
    "print(len(progan_features_by_file))\n",
    "\n",
    "stylegan_features_by_file = {stylegan_filenames[i] : stylegan_distance_features[i] for i in range(len(stylegan_filenames))}\n",
    "print(len(stylegan_features_by_file))\n",
    "\n",
    "began_features_by_file = {began_filenames[i] : began_distance_features[i] for i in range(len(began_filenames))}\n",
    "print(len(began_features_by_file))\n",
    "\n",
    "wgan_features_by_file = {wgan_filenames[i] : wgan_distance_features[i] for i in range(len(wgan_filenames))}\n",
    "print(len(wgan_features_by_file))\n",
    "\n",
    "features_by_file = {'progan' : progan_features_by_file,\n",
    "        'stylegan' : stylegan_features_by_file,\n",
    "        'began' : began_features_by_file,\n",
    "        'wgan' : wgan_features_by_file}"
   ]
  },
  {
   "cell_type": "code",
   "execution_count": 113,
   "metadata": {},
   "outputs": [
    {
     "name": "stdout",
     "output_type": "stream",
     "text": [
      "(1787, 7)\n",
      "(2483, 7)\n",
      "(1574, 7)\n",
      "(3401, 7)\n"
     ]
    }
   ],
   "source": [
    "progan_train_feats = np.array([progan_features_by_file[x] for x in progan_train_files])\n",
    "print(progan_train_feats.shape)\n",
    "\n",
    "stylegan_train_feats = np.array([stylegan_features_by_file[x] for x in stylegan_train_files])\n",
    "print(stylegan_train_feats.shape)\n",
    "\n",
    "began_train_feats = np.array([began_features_by_file[x] for x in began_train_files])\n",
    "print(began_train_feats.shape)\n",
    "\n",
    "wgan_train_feats = np.array([wgan_features_by_file[x] for x in wgan_train_files])\n",
    "print(wgan_train_feats.shape)\n",
    "\n",
    "train_feats = {'progan' : progan_train_feats,\n",
    "        'stylegan' : stylegan_train_feats,\n",
    "        'began' : began_train_feats,\n",
    "        'wgan' : wgan_train_feats}"
   ]
  },
  {
   "cell_type": "code",
   "execution_count": 151,
   "metadata": {},
   "outputs": [
    {
     "data": {
      "application/vnd.jupyter.widget-view+json": {
       "model_id": "4f7ef9a2a09f4640bfa940d666e76867",
       "version_major": 2,
       "version_minor": 0
      },
      "text/plain": [
       "HBox(children=(IntProgress(value=0, max=99), HTML(value='')))"
      ]
     },
     "metadata": {},
     "output_type": "display_data"
    },
    {
     "name": "stdout",
     "output_type": "stream",
     "text": [
      "\n",
      "70 0.6503267973856209\n"
     ]
    },
    {
     "data": {
      "image/png": "[encoded data removed]",
      "text/plain": [
       "<Figure size 432x288 with 1 Axes>"
      ]
     },
     "metadata": {
      "needs_background": "light"
     },
     "output_type": "display_data"
    }
   ],
   "source": [
    "\n",
    "#K = 1\n",
    "\n",
    "#model = 'progan' #Val set from same model(s)\n",
    "\n",
    "def knn_classify(ref_feats, x_feats, votes_by_index, k_num):\n",
    "    dists = np.linalg.norm(x_feats - ref_feats, axis=1)\n",
    "    \n",
    "    kNN = sorted(enumerate(dists), key = lambda x: x[1])[:k_num]\n",
    "    kNN_votes = reduce(lambda x, y: [x[0] + y[0], x[1] + y[1]], \n",
    "                       [votes_by_index[z[0]] for z in kNN])\n",
    "    \n",
    "    fake_votes, real_votes = kNN_votes\n",
    "    return real_votes >= fake_votes # Tie break by guessing \"fake\"\n",
    "\n",
    "\n",
    "def knn_eval(model, k_num):\n",
    "    correct_guesses = 0\n",
    "    incorrect_guesses = 0\n",
    "\n",
    "    for x in val_files[model]:\n",
    "        feats = features_by_file[model][x]\n",
    "\n",
    "        model_votes_by_index = [votes[model][f] for f in train_files[model]]\n",
    "        pred = knn_classify(train_feats[model], feats, model_votes_by_index, k_num) #True is \"real\", False is \"fake\"\n",
    "\n",
    "        val_fake_votes, val_real_votes = votes[model][x]\n",
    "\n",
    "        if pred:\n",
    "            correct_guesses += val_real_votes\n",
    "            incorrect_guesses += val_fake_votes\n",
    "        else:\n",
    "            correct_guesses += val_fake_votes\n",
    "            incorrect_guesses += val_real_votes\n",
    "\n",
    "    return(correct_guesses, incorrect_guesses)\n",
    "    \n",
    "\n",
    "def crossval_knn(model):\n",
    "    rates = []\n",
    "    for k in tqdm_notebook(range(1,100)):\n",
    "        corrects, incorrects = knn_eval(model, k)\n",
    "        rates.append(corrects/(corrects+incorrects))\n",
    "    plt.scatter(range(1,100), rates)\n",
    "    return np.argmax(rates) + 1, np.max(rates)\n",
    "\n",
    "progan_best_k, progan_accuracy = crossval_knn('progan')\n",
    "print(progan_best_k, progan_accuracy)"
   ]
  },
  {
   "cell_type": "code",
   "execution_count": 154,
   "metadata": {},
   "outputs": [
    {
     "data": {
      "application/vnd.jupyter.widget-view+json": {
       "model_id": "29dd407a7d704baea87d15b8664ff1e4",
       "version_major": 2,
       "version_minor": 0
      },
      "text/plain": [
       "HBox(children=(IntProgress(value=0, max=99), HTML(value='')))"
      ]
     },
     "metadata": {},
     "output_type": "display_data"
    },
    {
     "name": "stdout",
     "output_type": "stream",
     "text": [
      "\n",
      "77 0.6783505154639176\n"
     ]
    },
    {
     "data": {
      "image/png": "[encoded data removed]",
      "text/plain": [
       "<Figure size 432x288 with 1 Axes>"
      ]
     },
     "metadata": {
      "needs_background": "light"
     },
     "output_type": "display_data"
    }
   ],
   "source": [
    "stylegan_best_k, stylegan_accuracy = crossval_knn('stylegan')\n",
    "print(stylegan_best_k, stylegan_accuracy)"
   ]
  },
  {
   "cell_type": "code",
   "execution_count": 155,
   "metadata": {},
   "outputs": [
    {
     "data": {
      "application/vnd.jupyter.widget-view+json": {
       "model_id": "17ebd3ad604b4a5da9875002d540bc6a",
       "version_major": 2,
       "version_minor": 0
      },
      "text/plain": [
       "HBox(children=(IntProgress(value=0, max=99), HTML(value='')))"
      ]
     },
     "metadata": {},
     "output_type": "display_data"
    },
    {
     "name": "stdout",
     "output_type": "stream",
     "text": [
      "\n",
      "5 0.9556451612903226\n"
     ]
    },
    {
     "data": {
      "image/png": "[encoded data removed]",
      "text/plain": [
       "<Figure size 432x288 with 1 Axes>"
      ]
     },
     "metadata": {
      "needs_background": "light"
     },
     "output_type": "display_data"
    }
   ],
   "source": [
    "began_best_k, began_accuracy = crossval_knn('began')\n",
    "print(began_best_k, began_accuracy)"
   ]
  },
  {
   "cell_type": "code",
   "execution_count": 156,
   "metadata": {},
   "outputs": [
    {
     "data": {
      "application/vnd.jupyter.widget-view+json": {
       "model_id": "3f5f9baab77248f98bd747609e8b9ea8",
       "version_major": 2,
       "version_minor": 0
      },
      "text/plain": [
       "HBox(children=(IntProgress(value=0, max=99), HTML(value='')))"
      ]
     },
     "metadata": {},
     "output_type": "display_data"
    },
    {
     "name": "stdout",
     "output_type": "stream",
     "text": [
      "\n",
      "3 0.9823008849557522\n"
     ]
    },
    {
     "data": {
      "image/png": "[encoded data removed]",
      "text/plain": [
       "<Figure size 432x288 with 1 Axes>"
      ]
     },
     "metadata": {
      "needs_background": "light"
     },
     "output_type": "display_data"
    }
   ],
   "source": [
    "wgan_best_k, wgan_accuracy = crossval_knn('wgan')\n",
    "print(wgan_best_k, wgan_accuracy)"
   ]
  },
  {
   "cell_type": "code",
   "execution_count": 75,
   "metadata": {},
   "outputs": [],
   "source": [
    "for x in islice(began_val_files,50):\n",
    "    #print(x)\n",
    "    feats = began_features_by_file[x]\n",
    "    dists = np.linalg.norm(feats - began_train_feats, axis=1)\n",
    "    nn_index = np.argmin(dists)\n",
    "    nn = began_train_files[nn_index]\n",
    "    #print(began_votes[nn])\n",
    "    "
   ]
  },
  {
   "cell_type": "code",
   "execution_count": 94,
   "metadata": {},
   "outputs": [
    {
     "name": "stdout",
     "output_type": "stream",
     "text": [
      "[(1309, 0.36460143), (373, 0.40736032), (831, 0.47139472), (1171, 0.49929243), (828, 0.5257756)]\n"
     ]
    },
    {
     "data": {
      "text/plain": [
       "[4, 2]"
      ]
     },
     "execution_count": 94,
     "metadata": {},
     "output_type": "execute_result"
    }
   ],
   "source": [
    "kNN = sorted(enumerate(dists), key = lambda x: x[1])[:5]\n",
    "print(kNN)\n",
    "\n",
    "reduce(lambda x, y: [x[0] + y[0], x[1] + y[1]], [progan_votes[progan_train_files[x[0]]] for x in kNN])"
   ]
  },
  {
   "cell_type": "code",
   "execution_count": 85,
   "metadata": {},
   "outputs": [
    {
     "data": {
      "text/plain": [
       "1309"
      ]
     },
     "execution_count": 85,
     "metadata": {},
     "output_type": "execute_result"
    }
   ],
   "source": [
    "np.argmin(dists)"
   ]
  },
  {
   "cell_type": "markdown",
   "metadata": {},
   "source": [
    "Todo:\n",
    "Functionize everything, include crossval+test\n",
    "Run numbers on dense labels\n",
    "#Abstract out dataset\n",
    "Run on every combo of dataset"
   ]
  }
 ],
 "metadata": {
  "kernelspec": {
   "display_name": "Python 3",
   "language": "python",
   "name": "python3"
  },
  "language_info": {
   "codemirror_mode": {
    "name": "ipython",
    "version": 3
   },
   "file_extension": ".py",
   "mimetype": "text/x-python",
   "name": "python",
   "nbconvert_exporter": "python",
   "pygments_lexer": "ipython3",
   "version": "3.7.3"
  }
 },
 "nbformat": 4,
 "nbformat_minor": 2
}
