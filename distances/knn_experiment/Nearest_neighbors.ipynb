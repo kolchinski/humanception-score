{
 "cells": [
  {
   "cell_type": "markdown",
   "metadata": {},
   "source": [
    "Todo:\n",
    "\n",
    "Write function that, given a reference set, finds the K (hyperparam) nearest neighbors in the 7d feature space and returns the average vote for those neighbors\n",
    "\n",
    "Cross validate on val sets\n",
    "\n",
    "\n",
    "\n",
    "Conditions\n",
    "\"Train\" on domain, eval on same domain (try on each of the 4)\n",
    "\"Train\" on n domains, eval on 1 (1 vs 1, 2 vs 1, 3 vs 1)"
   ]
  },
  {
   "cell_type": "code",
   "execution_count": 215,
   "metadata": {},
   "outputs": [],
   "source": [
    "from collections import defaultdict\n",
    "import csv\n",
    "from itertools import islice, chain, combinations, permutations\n",
    "from functools import reduce\n",
    "import os\n",
    "import sys\n",
    "\n",
    "import numpy as np\n",
    "import matplotlib.pyplot as plt\n",
    "from IPython.display import display, Image\n",
    "import scipy\n",
    "import seaborn as sns\n",
    "from sklearn.linear_model import LogisticRegression\n",
    "from tqdm import tqdm_notebook\n",
    "import torch\n",
    "from torchvision import models, transforms, datasets"
   ]
  },
  {
   "cell_type": "code",
   "execution_count": 58,
   "metadata": {},
   "outputs": [],
   "source": [
    "#NOTE: Votes are counted as [fake, real], not [incorrect, correct] !\n",
    "\n",
    "dataset_counts = defaultdict(int)\n",
    "img_counts = defaultdict(lambda : defaultdict(int))\n",
    "unique_imgs = defaultdict(set)\n",
    "img_votes = defaultdict(lambda: defaultdict(lambda: [0,0])) #no,yes tuples by dataset and image\n",
    "\n",
    "with open('../../all_gans_inf.csv') as f:\n",
    "    reader = csv.DictReader(f)\n",
    "    for row in islice(reader, None):\n",
    "        img = row['img']        \n",
    "#         dataset_name = img[:img.index('/')]\n",
    "        split_name = img.split('/')\n",
    "        assert(len(split_name) == 2)\n",
    "        dataset_name, img_name = split_name\n",
    "        \n",
    "        vote_index = 1 if row['correctness'] == row['realness'] else 0\n",
    "        if dataset_name == 'began5000' and row['realness'] == 'True': print(row)\n",
    "\n",
    "        img_votes[dataset_name][img_name][vote_index] += 1\n",
    "        \n",
    "        dataset_counts[dataset_name] += 1\n",
    "        img_counts[dataset_name][img_name] += 1\n",
    "unique_imgs = {dataset: len(img_counts[dataset]) for dataset in img_counts}"
   ]
  },
  {
   "cell_type": "code",
   "execution_count": 178,
   "metadata": {},
   "outputs": [],
   "source": [
    "gan_models = ['progan', 'stylegan', 'began', 'wgan']"
   ]
  },
  {
   "cell_type": "code",
   "execution_count": 168,
   "metadata": {},
   "outputs": [
    {
     "data": {
      "text/plain": [
       "11984"
      ]
     },
     "execution_count": 168,
     "metadata": {},
     "output_type": "execute_result"
    }
   ],
   "source": [
    "progan_votes = img_votes['progan5000']\n",
    "began_votes = img_votes['began5000']\n",
    "stylegan_votes = img_votes['styleganceleba5000']\n",
    "wgan_votes = img_votes['wgangp5000']\n",
    "votes = {k:v for k,v in chain(progan_votes.items(), stylegan_votes.items(), began_votes.items(), wgan_votes.items())}\n",
    "len(votes)"
   ]
  },
  {
   "cell_type": "code",
   "execution_count": 108,
   "metadata": {},
   "outputs": [],
   "source": [
    "progan_filenames = torch.load('progan_filenames.pt', map_location=torch.device('cpu'))\n",
    "progan_filenames = [os.path.split(x)[-1] for x in progan_filenames]\n",
    "progan_distance_features = torch.load('progan_distance_features.pt', map_location=torch.device('cpu'))\n",
    "\n",
    "stylegan_filenames = torch.load('stylegan_filenames.pt', map_location=torch.device('cpu'))\n",
    "stylegan_filenames = [os.path.split(x)[-1] for x in stylegan_filenames]\n",
    "stylegan_distance_features = torch.load('stylegan_distance_features.pt', map_location=torch.device('cpu'))\n",
    "\n",
    "began_filenames = torch.load('began_filenames.pt', map_location=torch.device('cpu'))\n",
    "began_filenames = [os.path.split(x)[-1] for x in began_filenames]\n",
    "began_distance_features = torch.load('began_distance_features.pt', map_location=torch.device('cpu'))\n",
    "\n",
    "wgan_filenames = torch.load('wgan_filenames.pt', map_location=torch.device('cpu'))\n",
    "wgan_filenames = [os.path.split(x)[-1] for x in wgan_filenames]\n",
    "wgan_distance_features = torch.load('wgan_distance_features.pt', map_location=torch.device('cpu'))\n",
    "\n",
    "filenames = {'progan' : progan_filenames,\n",
    "        'stylegan' : stylegan_filenames,\n",
    "        'began' : began_filenames,\n",
    "        'wgan' : wgan_filenames}\n",
    "\n",
    "distance_features = {'progan' : progan_distance_features,\n",
    "        'stylegan' : stylegan_distance_features,\n",
    "        'began' : began_distance_features,\n",
    "        'wgan' : wgan_distance_features}"
   ]
  },
  {
   "cell_type": "code",
   "execution_count": 109,
   "metadata": {},
   "outputs": [],
   "source": [
    "with open('../progan_train_set.txt') as f:\n",
    "    progan_train_files = [os.path.split(x.strip())[-1] for x in f.readlines()]\n",
    "#print(progan_train_files[:5])\n",
    "\n",
    "with open('../progan_val_set.txt') as f:\n",
    "    progan_val_files = [os.path.split(x.strip())[-1] for x in f.readlines()]\n",
    "#print(progan_val_files[:5])\n",
    "\n",
    "with open('../stylegan_train_set.txt') as f:\n",
    "    stylegan_train_files = [os.path.split(x.strip())[-1] for x in f.readlines()]\n",
    "#print(stylegan_train_files[:5])\n",
    "\n",
    "with open('../stylegan_val_set.txt') as f:\n",
    "    stylegan_val_files = [os.path.split(x.strip())[-1] for x in f.readlines()]\n",
    "#print(stylegan_val_files[:5])\n",
    "\n",
    "with open('../began_train_set.txt') as f:\n",
    "    began_train_files = [os.path.split(x.strip())[-1] for x in f.readlines()]\n",
    "#print(began_train_files[:5])\n",
    "\n",
    "with open('../began_val_set.txt') as f:\n",
    "    began_val_files = [os.path.split(x.strip())[-1] for x in f.readlines()]\n",
    "#print(began_val_files[:5])\n",
    "\n",
    "with open('../wgan_train_set.txt') as f:\n",
    "    wgan_train_files = [os.path.split(x.strip())[-1] for x in f.readlines()]\n",
    "#print(began_train_files[:5])\n",
    "\n",
    "with open('../wgan_val_set.txt') as f:\n",
    "    wgan_val_files = [os.path.split(x.strip())[-1] for x in f.readlines()]\n",
    "#print(began_val_files[:5])\n",
    "\n",
    "\n",
    "\n",
    "with open('../progan_test_set.txt') as f:\n",
    "    progan_test_files = [os.path.split(x.strip())[-1] for x in f.readlines()]\n",
    "\n",
    "with open('../stylegan_test_set.txt') as f:\n",
    "    stylegan_test_files = [os.path.split(x.strip())[-1] for x in f.readlines()]\n",
    "\n",
    "with open('../began_test_set.txt') as f:\n",
    "    began_test_files = [os.path.split(x.strip())[-1] for x in f.readlines()]\n",
    "\n",
    "with open('../wgan_test_set.txt') as f:\n",
    "    wgan_test_files = [os.path.split(x.strip())[-1] for x in f.readlines()]\n",
    "\n",
    "train_files = {'progan' : progan_train_files,\n",
    "        'stylegan' : stylegan_train_files,\n",
    "        'began' : began_train_files,\n",
    "        'wgan' : wgan_train_files}\n",
    "\n",
    "val_files = {'progan' : progan_val_files,\n",
    "        'stylegan' : stylegan_val_files,\n",
    "        'began' : began_val_files,\n",
    "        'wgan' : wgan_val_files}\n",
    "\n",
    "test_files = {'progan' : progan_test_files,\n",
    "        'stylegan' : stylegan_test_files,\n",
    "        'began' : began_test_files,\n",
    "        'wgan' : wgan_test_files}"
   ]
  },
  {
   "cell_type": "code",
   "execution_count": 164,
   "metadata": {},
   "outputs": [
    {
     "name": "stdout",
     "output_type": "stream",
     "text": [
      "2233\n",
      "3103\n",
      "1966\n",
      "4251\n",
      "11553\n"
     ]
    }
   ],
   "source": [
    "progan_features_by_file = {progan_filenames[i] : progan_distance_features[i] for i in range(len(progan_filenames))}\n",
    "print(len(progan_features_by_file))\n",
    "\n",
    "stylegan_features_by_file = {stylegan_filenames[i] : stylegan_distance_features[i] for i in range(len(stylegan_filenames))}\n",
    "print(len(stylegan_features_by_file))\n",
    "\n",
    "began_features_by_file = {began_filenames[i] : began_distance_features[i] for i in range(len(began_filenames))}\n",
    "print(len(began_features_by_file))\n",
    "\n",
    "wgan_features_by_file = {wgan_filenames[i] : wgan_distance_features[i] for i in range(len(wgan_filenames))}\n",
    "print(len(wgan_features_by_file))\n",
    "\n",
    "# features_by_file = {'progan' : progan_features_by_file,\n",
    "#         'stylegan' : stylegan_features_by_file,\n",
    "#         'began' : began_features_by_file,\n",
    "#         'wgan' : wgan_features_by_file}\n",
    "\n",
    "features_by_file = {k:v for k,v in chain(progan_features_by_file.items(), stylegan_features_by_file.items(), \n",
    "                    began_features_by_file.items(), wgan_features_by_file.items())}\n",
    "\n",
    "print(len(features_by_file))"
   ]
  },
  {
   "cell_type": "code",
   "execution_count": 165,
   "metadata": {},
   "outputs": [
    {
     "name": "stdout",
     "output_type": "stream",
     "text": [
      "(1787, 7)\n",
      "(2483, 7)\n",
      "(1574, 7)\n",
      "(3401, 7)\n"
     ]
    }
   ],
   "source": [
    "# progan_train_feats = np.array([features_by_file[x] for x in progan_train_files])\n",
    "# print(progan_train_feats.shape)\n",
    "\n",
    "# stylegan_train_feats = np.array([features_by_file[x] for x in stylegan_train_files])\n",
    "# print(stylegan_train_feats.shape)\n",
    "\n",
    "# began_train_feats = np.array([features_by_file[x] for x in began_train_files])\n",
    "# print(began_train_feats.shape)\n",
    "\n",
    "# wgan_train_feats = np.array([features_by_file[x] for x in wgan_train_files])\n",
    "# print(wgan_train_feats.shape)\n",
    "\n",
    "# train_feats = {'progan' : progan_train_feats,\n",
    "#         'stylegan' : stylegan_train_feats,\n",
    "#         'began' : began_train_feats,\n",
    "#         'wgan' : wgan_train_feats}"
   ]
  },
  {
   "cell_type": "code",
   "execution_count": 189,
   "metadata": {},
   "outputs": [
    {
     "data": {
      "text/plain": [
       "1592"
      ]
     },
     "execution_count": 189,
     "metadata": {},
     "output_type": "execute_result"
    }
   ],
   "source": [
    "dense_labels = {}\n",
    "#dense_labels['val'] = {}\n",
    "#dense_labels['test'] = {}\n",
    "\n",
    "for m in gan_models:\n",
    "    for val_or_test in ('val', 'test'):\n",
    "        with open('../dense_labels/{}_{}_dense_labels.csv'.format(m, val_or_test)) as f:\n",
    "            reader = csv.reader(f)\n",
    "            for row in islice(reader,None):\n",
    "                dense_labels[row[0]] = float(row[1])\n",
    "                #print(row[0], float(row[1]))\n",
    "\n",
    "len(dense_labels)"
   ]
  },
  {
   "cell_type": "code",
   "execution_count": 191,
   "metadata": {},
   "outputs": [],
   "source": [
    "#progan_val_files_dense = [f for f in progan_val_files if f in dense_labels]"
   ]
  },
  {
   "cell_type": "code",
   "execution_count": 231,
   "metadata": {},
   "outputs": [
    {
     "data": {
      "application/vnd.jupyter.widget-view+json": {
       "model_id": "af75f8ef888a4b06abc07e20e6725163",
       "version_major": 2,
       "version_minor": 0
      },
      "text/plain": [
       "HBox(children=(IntProgress(value=0, max=15), HTML(value='')))"
      ]
     },
     "metadata": {},
     "output_type": "display_data"
    },
    {
     "name": "stdout",
     "output_type": "stream",
     "text": [
      "\n"
     ]
    },
    {
     "data": {
      "image/png": "[encoded data removed]",
      "text/plain": [
       "<Figure size 432x288 with 1 Axes>"
      ]
     },
     "metadata": {
      "needs_background": "light"
     },
     "output_type": "display_data"
    },
    {
     "data": {
      "text/plain": [
       "(29,\n",
       " 0.6241830065359477,\n",
       " SpearmanrResult(correlation=0.4507523511961755, pvalue=2.117242100394774e-11))"
      ]
     },
     "execution_count": 231,
     "metadata": {},
     "output_type": "execute_result"
    }
   ],
   "source": [
    "\n",
    "#K = 1\n",
    "\n",
    "#model = 'progan' #Val set from same model(s)\n",
    "\n",
    "def knn_classify(ref_feats, x_feats, votes_by_index, k_num):\n",
    "    dists = np.linalg.norm(x_feats - ref_feats, axis=1)\n",
    "    \n",
    "    kNN = sorted(enumerate(dists), key = lambda x: x[1])[:k_num]\n",
    "    kNN_votes = reduce(lambda x, y: [x[0] + y[0], x[1] + y[1]], \n",
    "                       [votes_by_index[z[0]] for z in kNN])\n",
    "    \n",
    "    fake_votes, real_votes = kNN_votes\n",
    "    return real_votes / (real_votes + fake_votes) # Guess of chance of \"real\" label\n",
    "    #return real_votes >= fake_votes # Tie break by guessing \"fake\"\n",
    "\n",
    "\n",
    "def knn_eval(train_files, eval_files, k_num):\n",
    "    correct_guesses = 0\n",
    "    incorrect_guesses = 0\n",
    "    \n",
    "    eval_predictions = []\n",
    "\n",
    "    for x in eval_files:\n",
    "        feats = features_by_file[x]\n",
    "\n",
    "        model_votes_by_index = [votes[f] for f in train_files]\n",
    "        train_features = [features_by_file[f] for f in train_files]\n",
    "        pred = knn_classify(train_features, feats, model_votes_by_index, k_num)\n",
    "        if x in dense_labels: eval_predictions.append(pred)\n",
    "\n",
    "        val_fake_votes, val_real_votes = votes[x]\n",
    "        \n",
    "        #Binary threshold correctness here\n",
    "        if pred >= 0.5:\n",
    "            correct_guesses += val_real_votes\n",
    "            incorrect_guesses += val_fake_votes\n",
    "        else:\n",
    "            correct_guesses += val_fake_votes\n",
    "            incorrect_guesses += val_real_votes\n",
    "    \n",
    "    eval_dense_labels = [dense_labels[x] for x in eval_files if x in dense_labels]\n",
    "    corr_score = scipy.stats.spearmanr(eval_predictions, eval_dense_labels)\n",
    "\n",
    "    return correct_guesses, incorrect_guesses, corr_score \n",
    "    \n",
    "\n",
    "def crossval_knn(train_files, val_files, test_files, try_range):\n",
    "    rates = []\n",
    "    corrs = []\n",
    "    for k in tqdm_notebook(try_range):\n",
    "        corrects, incorrects, corr = knn_eval(train_files, val_files, k)\n",
    "        rates.append(corrects/(corrects+incorrects))\n",
    "        corrs.append(corr)\n",
    "    \n",
    "    plt.scatter(try_range, rates)\n",
    "    #print(len(try_range), len(corrs))\n",
    "    #plt.show()\n",
    "    #print(try_range)\n",
    "    #print(corrs)\n",
    "    plt.scatter(try_range, [corr[0] for corr in corrs])\n",
    "    plt.show()\n",
    "    \n",
    "    best_index = np.argmax(corrs) + 1 #Using correlations instead of binary judgments for argmax! Can try both...\n",
    "    \n",
    "    test_corrects, test_incorrects, test_corr = knn_eval(train_files, test_files, k)\n",
    "    \n",
    "    return best_index, test_corrects/(test_corrects + test_incorrects), test_corr\n",
    "\n",
    "#crossval_knn(progan_train_files, progan_val_files)\n",
    "crossval_knn(progan_train_files, progan_val_files, progan_val_files, (1,2,3,4,5,10,20,30,40,50,60,70,80,90,100))"
   ]
  },
  {
   "cell_type": "code",
   "execution_count": 230,
   "metadata": {},
   "outputs": [
    {
     "data": {
      "text/plain": [
       "1.0"
      ]
     },
     "execution_count": 230,
     "metadata": {},
     "output_type": "execute_result"
    }
   ],
   "source": [
    "scipy.stats.spearmanr([1,2,3],[2,3,4])[0]"
   ]
  },
  {
   "cell_type": "code",
   "execution_count": 220,
   "metadata": {},
   "outputs": [],
   "source": [
    "def general_sum(l):\n",
    "    return reduce(lambda x,y: x+y, l)\n",
    "\n",
    "one_on_ones = [(m, train_files[m], val_files[m], test_files[m]) for m in gan_models]\n",
    "\n",
    "two_on_twos = [(m1 + ' & ' + m2, train_files[m1] + train_files[m2], val_files[m1] + val_files[m2],\n",
    "               test_files[m1] + test_files[m2]) for (m1,m2) in combinations(gan_models,2)]\n",
    "\n",
    "three_on_threes = [(m1 + ' & ' + m2 + ' & ' + m3, train_files[m1] + train_files[m2] + train_files[m3], \n",
    "                    val_files[m1] + val_files[m2] + val_files[m3],\n",
    "               test_files[m1] + test_files[m2] + test_files[m3]) for (m1,m2,m3) in combinations(gan_models,3)]\n",
    "\n",
    "all_on_all = [('All on all', general_sum([train_files[x] for x in gan_models]), \n",
    "               general_sum([val_files[x] for x in gan_models]),\n",
    "               general_sum([test_files[x] for x in gan_models]))]\n",
    "\n",
    "one_vs_ones = [('train on {}, eval on {}'.format(t,v), train_files[t], val_files[t], test_files[v]) for t,v in permutations(gan_models, 2)]\n",
    "combos_to_try = general_sum([one_on_ones, two_on_twos, three_on_threes, all_on_all, one_vs_ones])"
   ]
  },
  {
   "cell_type": "code",
   "execution_count": 221,
   "metadata": {},
   "outputs": [
    {
     "name": "stdout",
     "output_type": "stream",
     "text": [
      "progan\n",
      "stylegan\n",
      "began\n",
      "wgan\n",
      "progan & stylegan\n",
      "progan & began\n",
      "progan & wgan\n",
      "stylegan & began\n",
      "stylegan & wgan\n",
      "began & wgan\n",
      "progan & stylegan & began\n",
      "progan & stylegan & wgan\n",
      "progan & began & wgan\n",
      "stylegan & began & wgan\n",
      "All on all\n",
      "train on progan, eval on stylegan\n",
      "train on progan, eval on began\n",
      "train on progan, eval on wgan\n",
      "train on stylegan, eval on progan\n",
      "train on stylegan, eval on began\n",
      "train on stylegan, eval on wgan\n",
      "train on began, eval on progan\n",
      "train on began, eval on stylegan\n",
      "train on began, eval on wgan\n",
      "train on wgan, eval on progan\n",
      "train on wgan, eval on stylegan\n",
      "train on wgan, eval on began\n"
     ]
    }
   ],
   "source": [
    "for description, train_set, val_set, test_set in combos_to_try:\n",
    "    print(description)"
   ]
  },
  {
   "cell_type": "code",
   "execution_count": 176,
   "metadata": {},
   "outputs": [
    {
     "data": {
      "application/vnd.jupyter.widget-view+json": {
       "model_id": "81324152ca35439391a6fe134f5bec5e",
       "version_major": 2,
       "version_minor": 0
      },
      "text/plain": [
       "HBox(children=(IntProgress(value=0, max=19), HTML(value='')))"
      ]
     },
     "metadata": {},
     "output_type": "display_data"
    },
    {
     "name": "stdout",
     "output_type": "stream",
     "text": [
      "\n"
     ]
    },
    {
     "data": {
      "text/plain": [
       "(4, 0.6045751633986928)"
      ]
     },
     "execution_count": 176,
     "metadata": {},
     "output_type": "execute_result"
    },
    {
     "data": {
      "image/png": "[encoded data removed]",
      "text/plain": [
       "<Figure size 432x288 with 1 Axes>"
      ]
     },
     "metadata": {
      "needs_background": "light"
     },
     "output_type": "display_data"
    }
   ],
   "source": [
    "crossval_knn(stylegan_train_files, progan_val_files, range(1,20))"
   ]
  },
  {
   "cell_type": "code",
   "execution_count": null,
   "metadata": {},
   "outputs": [],
   "source": [
    "progan_best_k, progan_accuracy = crossval_knn('progan')\n",
    "print(progan_best_k, progan_accuracy)"
   ]
  },
  {
   "cell_type": "code",
   "execution_count": 154,
   "metadata": {},
   "outputs": [
    {
     "data": {
      "application/vnd.jupyter.widget-view+json": {
       "model_id": "29dd407a7d704baea87d15b8664ff1e4",
       "version_major": 2,
       "version_minor": 0
      },
      "text/plain": [
       "HBox(children=(IntProgress(value=0, max=99), HTML(value='')))"
      ]
     },
     "metadata": {},
     "output_type": "display_data"
    },
    {
     "name": "stdout",
     "output_type": "stream",
     "text": [
      "\n",
      "77 0.6783505154639176\n"
     ]
    },
    {
     "data": {
      "image/png": "[encoded data removed]",
      "text/plain": [
       "<Figure size 432x288 with 1 Axes>"
      ]
     },
     "metadata": {
      "needs_background": "light"
     },
     "output_type": "display_data"
    }
   ],
   "source": [
    "stylegan_best_k, stylegan_accuracy = crossval_knn('stylegan')\n",
    "print(stylegan_best_k, stylegan_accuracy)"
   ]
  },
  {
   "cell_type": "code",
   "execution_count": 155,
   "metadata": {},
   "outputs": [
    {
     "data": {
      "application/vnd.jupyter.widget-view+json": {
       "model_id": "17ebd3ad604b4a5da9875002d540bc6a",
       "version_major": 2,
       "version_minor": 0
      },
      "text/plain": [
       "HBox(children=(IntProgress(value=0, max=99), HTML(value='')))"
      ]
     },
     "metadata": {},
     "output_type": "display_data"
    },
    {
     "name": "stdout",
     "output_type": "stream",
     "text": [
      "\n",
      "5 0.9556451612903226\n"
     ]
    },
    {
     "data": {
      "image/png": "[encoded data removed]",
      "text/plain": [
       "<Figure size 432x288 with 1 Axes>"
      ]
     },
     "metadata": {
      "needs_background": "light"
     },
     "output_type": "display_data"
    }
   ],
   "source": [
    "began_best_k, began_accuracy = crossval_knn('began')\n",
    "print(began_best_k, began_accuracy)"
   ]
  },
  {
   "cell_type": "code",
   "execution_count": 156,
   "metadata": {},
   "outputs": [
    {
     "data": {
      "application/vnd.jupyter.widget-view+json": {
       "model_id": "3f5f9baab77248f98bd747609e8b9ea8",
       "version_major": 2,
       "version_minor": 0
      },
      "text/plain": [
       "HBox(children=(IntProgress(value=0, max=99), HTML(value='')))"
      ]
     },
     "metadata": {},
     "output_type": "display_data"
    },
    {
     "name": "stdout",
     "output_type": "stream",
     "text": [
      "\n",
      "3 0.9823008849557522\n"
     ]
    },
    {
     "data": {
      "image/png": "[encoded data removed]",
      "text/plain": [
       "<Figure size 432x288 with 1 Axes>"
      ]
     },
     "metadata": {
      "needs_background": "light"
     },
     "output_type": "display_data"
    }
   ],
   "source": [
    "wgan_best_k, wgan_accuracy = crossval_knn('wgan')\n",
    "print(wgan_best_k, wgan_accuracy)"
   ]
  },
  {
   "cell_type": "markdown",
   "metadata": {},
   "source": [
    "Todo:\n",
    "#Functionize everything, include crossval+test\n",
    "#Run numbers on dense labels\n",
    "#Abstract out dataset\n",
    "Run on every combo of dataset"
   ]
  }
 ],
 "metadata": {
  "kernelspec": {
   "display_name": "Python 3",
   "language": "python",
   "name": "python3"
  },
  "language_info": {
   "codemirror_mode": {
    "name": "ipython",
    "version": 3
   },
   "file_extension": ".py",
   "mimetype": "text/x-python",
   "name": "python",
   "nbconvert_exporter": "python",
   "pygments_lexer": "ipython3",
   "version": "3.7.3"
  }
 },
 "nbformat": 4,
 "nbformat_minor": 2
}
