{
 "cells": [
  {
   "cell_type": "code",
   "execution_count": null,
   "metadata": {},
   "outputs": [],
   "source": [
    "#Let's make sure to know which labels go with which distance features..."
   ]
  },
  {
   "cell_type": "code",
   "execution_count": 58,
   "metadata": {},
   "outputs": [],
   "source": [
    "from collections import defaultdict\n",
    "import csv\n",
    "from itertools import islice\n",
    "import os\n",
    "import sys\n",
    "\n",
    "import numpy as np\n",
    "import matplotlib.pyplot as plt\n",
    "from IPython.display import display, Image\n",
    "import seaborn as sns\n",
    "from sklearn.linear_model import LogisticRegression\n",
    "from tqdm import tqdm_notebook\n",
    "import torch\n",
    "from torchvision import models, transforms, datasets"
   ]
  },
  {
   "cell_type": "code",
   "execution_count": 59,
   "metadata": {},
   "outputs": [
    {
     "name": "stdout",
     "output_type": "stream",
     "text": [
      "cuda\n",
      "_CudaDeviceProperties(name='Tesla V100-SXM2-16GB', major=7, minor=0, total_memory=16130MB, multi_processor_count=80)\n",
      "cpu\n"
     ]
    }
   ],
   "source": [
    "gpu_device = torch.device('cuda')\n",
    "print(gpu_device.type)\n",
    "print(torch.cuda.get_device_properties(gpu_device)) #/ 1024 / 1024 /1024\n",
    "cpu_device = torch.device('cpu')\n",
    "print(cpu_device.type)"
   ]
  },
  {
   "cell_type": "code",
   "execution_count": 3,
   "metadata": {},
   "outputs": [],
   "source": [
    "inception_transforms = transforms.Compose([\n",
    "            transforms.Resize(299),\n",
    "            #transforms.CenterCrop(constants.INPUT_SIZE),\n",
    "            transforms.ToTensor(),\n",
    "            #transforms.Normalize(mean=[0.485, 0.456, 0.406], std=[0.229, 0.224, 0.225])\n",
    "        ])"
   ]
  },
  {
   "cell_type": "code",
   "execution_count": 4,
   "metadata": {},
   "outputs": [
    {
     "name": "stdout",
     "output_type": "stream",
     "text": [
      "Dataset ImageFolder\n",
      "    Number of datapoints: 1966\n",
      "    Root location: imgs_by_label/began_labeled/\n",
      "    StandardTransform\n",
      "Transform: Compose(\n",
      "               Resize(size=299, interpolation=PIL.Image.BILINEAR)\n",
      "               ToTensor()\n",
      "           )\n"
     ]
    }
   ],
   "source": [
    "labeled_began = datasets.ImageFolder('imgs_by_label/began_labeled/', inception_transforms)\n",
    "print(labeled_began)\n",
    "labeled_began_loader = torch.utils.data.DataLoader(\n",
    "        labeled_began, batch_size=1, shuffle=False, num_workers=1)"
   ]
  },
  {
   "cell_type": "code",
   "execution_count": 5,
   "metadata": {},
   "outputs": [],
   "source": [
    "def get_inception_features(img, device=None):\n",
    "    inception_net = models.inception_v3(pretrained=True, transform_input=True).to(device)\n",
    "    \n",
    "    layers_to_grab = [inception_net.Conv2d_1a_3x3, inception_net.Conv2d_2b_3x3,\n",
    "                 inception_net.Conv2d_3b_1x1, inception_net.Mixed_5d, inception_net.Mixed_6e,\n",
    "                 inception_net.Mixed_7c, inception_net.fc]\n",
    "    \n",
    "    layer_features = [None for i in range(len(layers_to_grab))]\n",
    "    \n",
    "    \n",
    "    def hook_fn(self, inp, out, container, layer_index):\n",
    "        #print(layer_index, inp[0].shape, out.shape)\n",
    "\n",
    "        num_channels = out.shape[1]\n",
    "        if len(out.shape) > 2:\n",
    "            #Warning: this will break for batch sizes > 1\n",
    "            cur_features = out.squeeze().permute(1,2,0).reshape(-1, num_channels)\n",
    "        else:\n",
    "            cur_features = out\n",
    "\n",
    "        if container[layer_index] is None:\n",
    "            container[layer_index] = [cur_features]\n",
    "        else:\n",
    "            #container[layer_index] = torch.cat((container[layer_index], cur_features))\n",
    "            container[layer_index].append(cur_features)\n",
    "\n",
    "    def hook_fn_i(container, i):\n",
    "        return lambda self, inp, out: hook_fn(self, inp, out, container, i)\n",
    "\n",
    "    for i, layer in enumerate(layers_to_grab):\n",
    "        layer.register_forward_hook(hook_fn_i(layer_features, i))\n",
    "        \n",
    "    inception_net.eval()\n",
    "\n",
    "    out = inception_net(x.to(device))\n",
    "    del(out)\n",
    "        \n",
    "    #for x in img_iter:\n",
    "        #print(x.shape, y)\n",
    "        #plt.imshow((x).squeeze().permute(1, 2, 0))\n",
    "        #plt.show()\n",
    "        #out = inception_net(x.to(device))\n",
    "        #del(out)\n",
    "        #print(out.sum())\n",
    "        \n",
    "    return layer_features"
   ]
  },
  {
   "cell_type": "code",
   "execution_count": 6,
   "metadata": {},
   "outputs": [],
   "source": [
    "#TODO: Parallelize as much as possible within memory\n",
    "#TODO: Run on GPU, see if it's faster\n",
    "\n",
    "# Features (for single image): #layers x (H*W for that layer) x (C for that layer)\n",
    "# Reference set (for N comparison images): # layers x (N*H*W for that layer) x (C for that layer)\n",
    "def layerwise_nn_features(features, reference_set, device, batch_size=1):\n",
    "    \n",
    "    assert(len(features) == len(reference_set))\n",
    "    L = len(features)\n",
    "    #print(L)\n",
    "    mean_layer_closest_dists = torch.zeros(L).to(device)\n",
    "    \n",
    "    for l in range(L):\n",
    "        #print(l)\n",
    "        lf = features[l].detach().to(device) #layer features\n",
    "        rlf = reference_set[l].detach().to(device) #reference layer features\n",
    "\n",
    "        #layer is HxWxC\n",
    "        #rlf[i] is NxC\n",
    "        HtimesW,C = lf.shape\n",
    "        N,C2 = rlf.shape\n",
    "        assert(C == C2)\n",
    "        \n",
    "        rlf = rlf.reshape(1, N, C).detach()\n",
    "        \n",
    "        \n",
    "        num_batches = HtimesW // batch_size\n",
    "        if HtimesW % batch_size != 0: num_batches += 1 # for the fractional batch\n",
    "            \n",
    "        #Loop through each feature vector, we can parallelize later...\n",
    "        #Note: if batch size does not divide HtimesW, this will miss the last HtimesW%batch_size vectors\n",
    "        for b in range(num_batches):\n",
    "            x = lf[b*batch_size : (b+1) * batch_size].reshape(-1, 1, C)\n",
    "            cur_batch_size = x.shape[0]\n",
    "            \n",
    "            #Differences from vector to all reference vectors in that layer\n",
    "            diffs = (x - rlf).detach()\n",
    "            assert(diffs.shape == (cur_batch_size, N, C))\n",
    "            \n",
    "            sqr_dists = torch.sum(diffs**2, dim=2).detach()\n",
    "            assert(sqr_dists.shape == (cur_batch_size, N))\n",
    "            \n",
    "            min_sqr_dists = torch.min(sqr_dists, dim=1)[0].detach()\n",
    "            assert(min_sqr_dists.shape == (cur_batch_size,))\n",
    "            \n",
    "            min_dists = torch.sqrt(min_sqr_dists).detach()\n",
    "            assert(min_dists.shape == (cur_batch_size,))\n",
    "            \n",
    "            mean_layer_closest_dists[l] += torch.sum(min_dists).detach()\n",
    "            \n",
    "            del x\n",
    "            del diffs\n",
    "            del sqr_dists\n",
    "            del min_sqr_dists\n",
    "            del min_dists\n",
    "            \n",
    "        mean_layer_closest_dists[l] /= (HtimesW)\n",
    "        \n",
    "        del lf\n",
    "        del rlf\n",
    "   \n",
    "    return mean_layer_closest_dists"
   ]
  },
  {
   "cell_type": "code",
   "execution_count": 7,
   "metadata": {},
   "outputs": [
    {
     "data": {
      "text/plain": [
       "[torch.Size([10000, 32]),\n",
       " torch.Size([10000, 64]),\n",
       " torch.Size([10000, 80]),\n",
       " torch.Size([10000, 288]),\n",
       " torch.Size([10000, 768]),\n",
       " torch.Size([10000, 2048]),\n",
       " torch.Size([734, 1000])]"
      ]
     },
     "execution_count": 7,
     "metadata": {},
     "output_type": "execute_result"
    }
   ],
   "source": [
    "small_celeba_features = torch.load('small_celeba_features.pt', map_location=torch.device('cpu'))\n",
    "\n",
    "[layer_feats.shape for layer_feats in small_celeba_features]"
   ]
  },
  {
   "cell_type": "code",
   "execution_count": 13,
   "metadata": {
    "scrolled": false
   },
   "outputs": [
    {
     "data": {
      "application/vnd.jupyter.widget-view+json": {
       "model_id": "2690464d7b0447ca90c8a19950869fbd",
       "version_major": 2,
       "version_minor": 0
      },
      "text/plain": [
       "HBox(children=(IntProgress(value=0, max=1966), HTML(value='')))"
      ]
     },
     "metadata": {},
     "output_type": "display_data"
    }
   ],
   "source": [
    "began_filenames = []\n",
    "began_inception_features = []\n",
    "began_distance_features = []\n",
    "\n",
    "with torch.no_grad():\n",
    "    for i, (x,y) in enumerate(tqdm_notebook(labeled_began_loader)):\n",
    "        #if i > 5: break\n",
    "        filename, _ = labeled_began_loader.dataset.samples[i]\n",
    "        began_filenames.append(filename)\n",
    "        #continue\n",
    "        \n",
    "        #print(filename)\n",
    "        #display(Image(filename=filename))\n",
    "\n",
    "        #plt.imshow((x).squeeze().permute(1, 2, 0))\n",
    "        #plt.show()\n",
    "\n",
    "        \n",
    "        flat_inception_features = [tmp[0] for tmp in get_inception_features(x, device=gpu_device)]\n",
    "        flat_inception_features = [x.detach().cpu() for x in flat_inception_features]\n",
    "        \n",
    "        began_inception_features.append(flat_inception_features)\n",
    "        #continue\n",
    "        \n",
    "        # For the first two layers (the largest), only take every fifth feature vector to save on compute\n",
    "        #for dim in [0,1]:\n",
    "        #    L = len(flat_inception_features[dim])\n",
    "        #    flat_inception_features[dim] = flat_inception_features[dim][range(0,L,5)]\n",
    "        #print([tmp.shape for tmp in flat_inception_features])\n",
    "        \n",
    "        distance_features = layerwise_nn_features(flat_inception_features, small_celeba_features, gpu_device, 32)\n",
    "        #print(distance_features)\n",
    "        began_distance_features.append(distance_features.cpu().detach().numpy())\n",
    "        \n",
    "        del flat_inception_features\n",
    "        del distance_features\n",
    "        "
   ]
  },
  {
   "cell_type": "code",
   "execution_count": 41,
   "metadata": {},
   "outputs": [],
   "source": [
    "len(began_filenames), len(began_inception_features), len(began_distance_features)\n",
    "#torch.save(began_filenames, 'began_filenames.pt')\n",
    "torch.save(began_inception_features, 'began_inception_features.pt')\n",
    "#torch.save(began_distance_features, 'began_distance_features.pt')"
   ]
  },
  {
   "cell_type": "code",
   "execution_count": 60,
   "metadata": {},
   "outputs": [],
   "source": [
    "began_filenames = torch.load('began_filenames.pt', map_location=torch.device('cpu'))\n",
    "began_distance_features = torch.load('began_distance_features.pt', map_location=torch.device('cpu'))"
   ]
  },
  {
   "cell_type": "code",
   "execution_count": 49,
   "metadata": {},
   "outputs": [
    {
     "data": {
      "application/vnd.jupyter.widget-view+json": {
       "model_id": "4871cf9e19174fedaf650f394a242a63",
       "version_major": 2,
       "version_minor": 0
      },
      "text/plain": [
       "HBox(children=(IntProgress(value=0, max=2233), HTML(value='')))"
      ]
     },
     "metadata": {},
     "output_type": "display_data"
    },
    {
     "data": {
      "text/plain": [
       "2233"
      ]
     },
     "execution_count": 49,
     "metadata": {},
     "output_type": "execute_result"
    }
   ],
   "source": [
    "small_progan_distance_features = []\n",
    "\n",
    "for flat_inception_features in tqdm_notebook(small_progan_inception_features):\n",
    "    distance_features = layerwise_nn_features(flat_inception_features, small_celeba_features, gpu_device, 32)\n",
    "    #print(distance_features)\n",
    "    small_progan_distance_features.append(distance_features.cpu().detach().numpy())\n",
    "\n",
    "    del distance_features\n",
    "\n",
    "len(small_progan_distance_features)"
   ]
  },
  {
   "cell_type": "code",
   "execution_count": 51,
   "metadata": {},
   "outputs": [],
   "source": [
    "torch.save(small_progan_distance_features, 'small_progan_distance_features.pt')"
   ]
  },
  {
   "cell_type": "code",
   "execution_count": 50,
   "metadata": {},
   "outputs": [
    {
     "data": {
      "text/plain": [
       "2233"
      ]
     },
     "execution_count": 50,
     "metadata": {},
     "output_type": "execute_result"
    }
   ],
   "source": [
    "len(small_progan_distance_features)"
   ]
  },
  {
   "cell_type": "code",
   "execution_count": 10,
   "metadata": {},
   "outputs": [
    {
     "data": {
      "text/plain": [
       "torch.Size([22201, 32])"
      ]
     },
     "execution_count": 10,
     "metadata": {},
     "output_type": "execute_result"
    }
   ],
   "source": [
    "len(progan_inception_features)\n",
    "progan_inception_features[0][0].shape"
   ]
  },
  {
   "cell_type": "code",
   "execution_count": 11,
   "metadata": {},
   "outputs": [],
   "source": [
    "#len(progan_inception_features[0])\n",
    "#progan_inception_features_1067 = [[l.detach().cpu() for l in x] for x in progan_inception_features]\n",
    "#progan_inception_features_1067 = []\n",
    "#for x in progan_inception_features:\n",
    "#    progan_inception_features_1067 = [l.detach().cpu() for l in x]\n",
    "torch.save(progan_inception_features, 'progan_inception_features_1067_2233.pt')"
   ]
  },
  {
   "cell_type": "code",
   "execution_count": 12,
   "metadata": {},
   "outputs": [],
   "source": [
    "progan_inception_features_1067 = torch.load('progan_inception_features_1067.pt', map_location=torch.device('cpu'))"
   ]
  },
  {
   "cell_type": "code",
   "execution_count": 17,
   "metadata": {},
   "outputs": [],
   "source": [
    "#len(progan_inception_features_1067), len(progan_inception_features_1067_2233)\n",
    "progan_inception_features = progan_inception_features_1067 + progan_inception_features_1067_2233\n",
    "torch.save(progan_inception_features, 'progan_inception_features.pt')"
   ]
  },
  {
   "cell_type": "code",
   "execution_count": 25,
   "metadata": {},
   "outputs": [
    {
     "name": "stdout",
     "output_type": "stream",
     "text": [
      "2233 [torch.Size([22201, 32]), torch.Size([21609, 64]), torch.Size([5329, 80]), torch.Size([1225, 288]), torch.Size([289, 768]), torch.Size([64, 2048]), torch.Size([1, 1000])]\n",
      "2233 [torch.Size([4441, 32]), torch.Size([4322, 64]), torch.Size([1066, 80]), torch.Size([1225, 288]), torch.Size([289, 768]), torch.Size([64, 2048]), torch.Size([1, 1000])]\n"
     ]
    }
   ],
   "source": [
    "print(len(progan_inception_features), [x.shape for x in progan_inception_features[0]])\n",
    "small_progan_inception_features = []\n",
    "for x in progan_inception_features:\n",
    "    small_progan_inception_features.append([])\n",
    "    for dim in [0,1,2]:\n",
    "        L = len(x[dim])\n",
    "        small_progan_inception_features[-1].append(x[dim][range(0,L,5)])\n",
    "    for dim in [3,4,5,6]:\n",
    "        small_progan_inception_features[-1].append(x[dim])\n",
    "print(len(small_progan_inception_features), [x.shape for x in small_progan_inception_features[0]])"
   ]
  },
  {
   "cell_type": "code",
   "execution_count": 26,
   "metadata": {},
   "outputs": [],
   "source": [
    "torch.save(small_progan_inception_features, 'small_progan_inception_features.pt')"
   ]
  },
  {
   "cell_type": "code",
   "execution_count": 24,
   "metadata": {},
   "outputs": [],
   "source": [
    "#del progan_inception_features"
   ]
  },
  {
   "cell_type": "code",
   "execution_count": 36,
   "metadata": {},
   "outputs": [],
   "source": [
    "torch.save(progan_filenames, 'progan_filenames.pt')\n",
    "torch.save(progan_distance_features, 'progan_distance_features.pt')"
   ]
  },
  {
   "cell_type": "code",
   "execution_count": 66,
   "metadata": {},
   "outputs": [
    {
     "data": {
      "text/plain": [
       "2233"
      ]
     },
     "execution_count": 66,
     "metadata": {},
     "output_type": "execute_result"
    }
   ],
   "source": [
    "len(progan_filenames)"
   ]
  },
  {
   "cell_type": "code",
   "execution_count": null,
   "metadata": {},
   "outputs": [],
   "source": [
    "[torch.Tensor(x) for x in progan_distance_features]"
   ]
  },
  {
   "cell_type": "code",
   "execution_count": 37,
   "metadata": {},
   "outputs": [
    {
     "data": {
      "text/plain": [
       "(2233, 2233)"
      ]
     },
     "execution_count": 37,
     "metadata": {},
     "output_type": "execute_result"
    }
   ],
   "source": [
    "len(progan_filenames), len(progan_distance_features)"
   ]
  },
  {
   "cell_type": "code",
   "execution_count": null,
   "metadata": {},
   "outputs": [],
   "source": [
    "progan_distance_features"
   ]
  },
  {
   "cell_type": "code",
   "execution_count": null,
   "metadata": {},
   "outputs": [],
   "source": [
    "progan_filenames"
   ]
  },
  {
   "cell_type": "code",
   "execution_count": 74,
   "metadata": {},
   "outputs": [],
   "source": [
    "dataset_counts = defaultdict(int)\n",
    "img_counts = defaultdict(lambda : defaultdict(int))\n",
    "unique_imgs = defaultdict(set)\n",
    "img_votes = defaultdict(lambda: defaultdict(lambda: [0,0])) #no,yes tuples by dataset and image\n",
    "\n",
    "with open('../all_gans_inf.csv') as f:\n",
    "    reader = csv.DictReader(f)\n",
    "    for row in islice(reader, None):\n",
    "        img = row['img']        \n",
    "#         dataset_name = img[:img.index('/')]\n",
    "        split_name = img.split('/')\n",
    "        assert(len(split_name) == 2)\n",
    "        dataset_name, img_name = split_name\n",
    "        \n",
    "        vote_index = 1 if row['correctness'] == row['realness'] else 0\n",
    "        if dataset_name == 'began5000' and row['realness'] == 'True': print(row)\n",
    "\n",
    "        img_votes[dataset_name][img_name][vote_index] += 1\n",
    "        \n",
    "        dataset_counts[dataset_name] += 1\n",
    "        img_counts[dataset_name][img_name] += 1\n",
    "unique_imgs = {dataset: len(img_counts[dataset]) for dataset in img_counts}"
   ]
  },
  {
   "cell_type": "code",
   "execution_count": 67,
   "metadata": {},
   "outputs": [
    {
     "data": {
      "text/plain": [
       "defaultdict(<function __main__.<lambda>.<locals>.<lambda>()>,\n",
       "            {'BEGAN_epoch44_step430000_967.png': [0, 1],\n",
       "             'BEGAN_epoch44_step430000_785.png': [3, 0],\n",
       "             'BEGAN_epoch44_step430000_3420.png': [1, 0],\n",
       "             'BEGAN_epoch44_step430000_412.png': [1, 0],\n",
       "             'BEGAN_epoch44_step430000_2252.png': [2, 0],\n",
       "             'BEGAN_epoch44_step430000_4312.png': [1, 0],\n",
       "             'BEGAN_epoch44_step430000_3238.png': [1, 0],\n",
       "             'BEGAN_epoch44_step430000_741.png': [1, 0],\n",
       "             'BEGAN_epoch44_step430000_3857.png': [1, 0],\n",
       "             'BEGAN_epoch44_step430000_4414.png': [1, 0],\n",
       "             'BEGAN_epoch44_step430000_2812.png': [1, 0],\n",
       "             'BEGAN_epoch44_step430000_4787.png': [2, 1],\n",
       "             'BEGAN_epoch44_step430000_767.png': [1, 0],\n",
       "             'BEGAN_epoch44_step430000_400.png': [2, 0],\n",
       "             'BEGAN_epoch44_step430000_4978.png': [2, 0],\n",
       "             'BEGAN_epoch44_step430000_1472.png': [2, 0],\n",
       "             'BEGAN_epoch44_step430000_3794.png': [1, 0],\n",
       "             'BEGAN_epoch44_step430000_460.png': [3, 0],\n",
       "             'BEGAN_epoch44_step430000_3295.png': [1, 0],\n",
       "             'BEGAN_epoch44_step430000_1754.png': [2, 0],\n",
       "             'BEGAN_epoch44_step430000_2975.png': [2, 0],\n",
       "             'BEGAN_epoch44_step430000_2999.png': [1, 0],\n",
       "             'BEGAN_epoch44_step430000_3893.png': [1, 0],\n",
       "             'BEGAN_epoch44_step430000_3195.png': [2, 0],\n",
       "             'BEGAN_epoch44_step430000_2472.png': [2, 1],\n",
       "             'BEGAN_epoch44_step430000_555.png': [1, 0],\n",
       "             'BEGAN_epoch44_step430000_2414.png': [2, 0],\n",
       "             'BEGAN_epoch44_step430000_671.png': [2, 0],\n",
       "             'BEGAN_epoch44_step430000_1264.png': [4, 0],\n",
       "             'BEGAN_epoch44_step430000_1537.png': [1, 0],\n",
       "             'BEGAN_epoch44_step430000_4558.png': [1, 1],\n",
       "             'BEGAN_epoch44_step430000_1510.png': [1, 0],\n",
       "             'BEGAN_epoch44_step430000_916.png': [2, 0],\n",
       "             'BEGAN_epoch44_step430000_2508.png': [1, 0],\n",
       "             'BEGAN_epoch44_step430000_3157.png': [2, 0],\n",
       "             'BEGAN_epoch44_step430000_3003.png': [1, 1],\n",
       "             'BEGAN_epoch44_step430000_1150.png': [1, 0],\n",
       "             'BEGAN_epoch44_step430000_1248.png': [3, 0],\n",
       "             'BEGAN_epoch44_step430000_399.png': [1, 0],\n",
       "             'BEGAN_epoch44_step430000_3499.png': [2, 0],\n",
       "             'BEGAN_epoch44_step430000_4858.png': [2, 0],\n",
       "             'BEGAN_epoch44_step430000_4334.png': [1, 0],\n",
       "             'BEGAN_epoch44_step430000_4051.png': [1, 0],\n",
       "             'BEGAN_epoch44_step430000_378.png': [2, 0],\n",
       "             'BEGAN_epoch44_step430000_4517.png': [1, 0],\n",
       "             'BEGAN_epoch44_step430000_3089.png': [2, 0],\n",
       "             'BEGAN_epoch44_step430000_1801.png': [2, 0],\n",
       "             'BEGAN_epoch44_step430000_2847.png': [3, 0],\n",
       "             'BEGAN_epoch44_step430000_1350.png': [1, 1],\n",
       "             'BEGAN_epoch44_step430000_1279.png': [1, 1],\n",
       "             'BEGAN_epoch44_step430000_2746.png': [2, 0],\n",
       "             'BEGAN_epoch44_step430000_1194.png': [1, 0],\n",
       "             'BEGAN_epoch44_step430000_4484.png': [2, 0],\n",
       "             'BEGAN_epoch44_step430000_246.png': [1, 0],\n",
       "             'BEGAN_epoch44_step430000_608.png': [4, 0],\n",
       "             'BEGAN_epoch44_step430000_2487.png': [2, 0],\n",
       "             'BEGAN_epoch44_step430000_3531.png': [2, 0],\n",
       "             'BEGAN_epoch44_step430000_4633.png': [1, 0],\n",
       "             'BEGAN_epoch44_step430000_1710.png': [2, 0],\n",
       "             'BEGAN_epoch44_step430000_2219.png': [1, 1],\n",
       "             'BEGAN_epoch44_step430000_1507.png': [1, 0],\n",
       "             'BEGAN_epoch44_step430000_1421.png': [1, 1],\n",
       "             'BEGAN_epoch44_step430000_1354.png': [0, 1],\n",
       "             'BEGAN_epoch44_step430000_660.png': [2, 0],\n",
       "             'BEGAN_epoch44_step430000_4488.png': [1, 0],\n",
       "             'BEGAN_epoch44_step430000_4775.png': [2, 0],\n",
       "             'BEGAN_epoch44_step430000_959.png': [0, 1],\n",
       "             'BEGAN_epoch44_step430000_3062.png': [2, 0],\n",
       "             'BEGAN_epoch44_step430000_777.png': [1, 0],\n",
       "             'BEGAN_epoch44_step430000_4794.png': [1, 0],\n",
       "             'BEGAN_epoch44_step430000_2306.png': [2, 0],\n",
       "             'BEGAN_epoch44_step430000_4596.png': [1, 0],\n",
       "             'BEGAN_epoch44_step430000_2364.png': [1, 0],\n",
       "             'BEGAN_epoch44_step430000_3724.png': [1, 0],\n",
       "             'BEGAN_epoch44_step430000_1164.png': [1, 0],\n",
       "             'BEGAN_epoch44_step430000_4824.png': [1, 0],\n",
       "             'BEGAN_epoch44_step430000_1716.png': [3, 0],\n",
       "             'BEGAN_epoch44_step430000_1778.png': [2, 0],\n",
       "             'BEGAN_epoch44_step430000_677.png': [3, 0],\n",
       "             'BEGAN_epoch44_step430000_3224.png': [2, 0],\n",
       "             'BEGAN_epoch44_step430000_373.png': [1, 0],\n",
       "             'BEGAN_epoch44_step430000_3649.png': [1, 1],\n",
       "             'BEGAN_epoch44_step430000_3512.png': [1, 0],\n",
       "             'BEGAN_epoch44_step430000_426.png': [1, 0],\n",
       "             'BEGAN_epoch44_step430000_3056.png': [1, 0],\n",
       "             'BEGAN_epoch44_step430000_4715.png': [1, 0],\n",
       "             'BEGAN_epoch44_step430000_3158.png': [1, 0],\n",
       "             'BEGAN_epoch44_step430000_2039.png': [2, 1],\n",
       "             'BEGAN_epoch44_step430000_657.png': [0, 1],\n",
       "             'BEGAN_epoch44_step430000_540.png': [1, 0],\n",
       "             'BEGAN_epoch44_step430000_854.png': [0, 1],\n",
       "             'BEGAN_epoch44_step430000_1574.png': [1, 0],\n",
       "             'BEGAN_epoch44_step430000_3546.png': [1, 0],\n",
       "             'BEGAN_epoch44_step430000_4523.png': [2, 0],\n",
       "             'BEGAN_epoch44_step430000_1241.png': [1, 1],\n",
       "             'BEGAN_epoch44_step430000_3611.png': [1, 0],\n",
       "             'BEGAN_epoch44_step430000_848.png': [1, 0],\n",
       "             'BEGAN_epoch44_step430000_4325.png': [1, 0],\n",
       "             'BEGAN_epoch44_step430000_1139.png': [1, 0],\n",
       "             'BEGAN_epoch44_step430000_3461.png': [1, 0],\n",
       "             'BEGAN_epoch44_step430000_4411.png': [2, 0],\n",
       "             'BEGAN_epoch44_step430000_1034.png': [1, 0],\n",
       "             'BEGAN_epoch44_step430000_1791.png': [1, 0],\n",
       "             'BEGAN_epoch44_step430000_4116.png': [1, 0],\n",
       "             'BEGAN_epoch44_step430000_1907.png': [1, 0],\n",
       "             'BEGAN_epoch44_step430000_1845.png': [1, 0],\n",
       "             'BEGAN_epoch44_step430000_4655.png': [1, 0],\n",
       "             'BEGAN_epoch44_step430000_3825.png': [1, 0],\n",
       "             'BEGAN_epoch44_step430000_3923.png': [1, 0],\n",
       "             'BEGAN_epoch44_step430000_211.png': [2, 0],\n",
       "             'BEGAN_epoch44_step430000_2798.png': [1, 0],\n",
       "             'BEGAN_epoch44_step430000_4691.png': [1, 0],\n",
       "             'BEGAN_epoch44_step430000_231.png': [3, 0],\n",
       "             'BEGAN_epoch44_step430000_4263.png': [2, 0],\n",
       "             'BEGAN_epoch44_step430000_4239.png': [1, 0],\n",
       "             'BEGAN_epoch44_step430000_2986.png': [1, 0],\n",
       "             'BEGAN_epoch44_step430000_693.png': [1, 0],\n",
       "             'BEGAN_epoch44_step430000_4290.png': [2, 0],\n",
       "             'BEGAN_epoch44_step430000_3934.png': [3, 0],\n",
       "             'BEGAN_epoch44_step430000_3039.png': [2, 0],\n",
       "             'BEGAN_epoch44_step430000_4107.png': [2, 0],\n",
       "             'BEGAN_epoch44_step430000_161.png': [1, 1],\n",
       "             'BEGAN_epoch44_step430000_1724.png': [1, 0],\n",
       "             'BEGAN_epoch44_step430000_1387.png': [1, 0],\n",
       "             'BEGAN_epoch44_step430000_1911.png': [5, 0],\n",
       "             'BEGAN_epoch44_step430000_1365.png': [2, 0],\n",
       "             'BEGAN_epoch44_step430000_3663.png': [2, 0],\n",
       "             'BEGAN_epoch44_step430000_4603.png': [1, 0],\n",
       "             'BEGAN_epoch44_step430000_4436.png': [1, 0],\n",
       "             'BEGAN_epoch44_step430000_4384.png': [3, 0],\n",
       "             'BEGAN_epoch44_step430000_425.png': [1, 0],\n",
       "             'BEGAN_epoch44_step430000_2083.png': [1, 0],\n",
       "             'BEGAN_epoch44_step430000_3537.png': [2, 0],\n",
       "             'BEGAN_epoch44_step430000_3685.png': [2, 0],\n",
       "             'BEGAN_epoch44_step430000_3064.png': [2, 0],\n",
       "             'BEGAN_epoch44_step430000_4075.png': [1, 0],\n",
       "             'BEGAN_epoch44_step430000_32.png': [1, 0],\n",
       "             'BEGAN_epoch44_step430000_1982.png': [2, 0],\n",
       "             'BEGAN_epoch44_step430000_1396.png': [1, 0],\n",
       "             'BEGAN_epoch44_step430000_1209.png': [1, 0],\n",
       "             'BEGAN_epoch44_step430000_4250.png': [1, 0],\n",
       "             'BEGAN_epoch44_step430000_765.png': [2, 0],\n",
       "             'BEGAN_epoch44_step430000_1243.png': [2, 0],\n",
       "             'BEGAN_epoch44_step430000_4076.png': [1, 0],\n",
       "             'BEGAN_epoch44_step430000_3063.png': [2, 0],\n",
       "             'BEGAN_epoch44_step430000_3628.png': [1, 0],\n",
       "             'BEGAN_epoch44_step430000_3190.png': [2, 0],\n",
       "             'BEGAN_epoch44_step430000_60.png': [1, 0],\n",
       "             'BEGAN_epoch44_step430000_1648.png': [1, 0],\n",
       "             'BEGAN_epoch44_step430000_2453.png': [1, 0],\n",
       "             'BEGAN_epoch44_step430000_3167.png': [1, 0],\n",
       "             'BEGAN_epoch44_step430000_2713.png': [2, 0],\n",
       "             'BEGAN_epoch44_step430000_248.png': [1, 0],\n",
       "             'BEGAN_epoch44_step430000_4215.png': [1, 0],\n",
       "             'BEGAN_epoch44_step430000_4971.png': [2, 0],\n",
       "             'BEGAN_epoch44_step430000_2921.png': [2, 0],\n",
       "             'BEGAN_epoch44_step430000_4270.png': [1, 0],\n",
       "             'BEGAN_epoch44_step430000_2459.png': [3, 0],\n",
       "             'BEGAN_epoch44_step430000_2794.png': [1, 0],\n",
       "             'BEGAN_epoch44_step430000_1985.png': [1, 0],\n",
       "             'BEGAN_epoch44_step430000_577.png': [3, 0],\n",
       "             'BEGAN_epoch44_step430000_4171.png': [1, 0],\n",
       "             'BEGAN_epoch44_step430000_371.png': [1, 0],\n",
       "             'BEGAN_epoch44_step430000_1615.png': [1, 0],\n",
       "             'BEGAN_epoch44_step430000_1429.png': [1, 0],\n",
       "             'BEGAN_epoch44_step430000_1292.png': [1, 0],\n",
       "             'BEGAN_epoch44_step430000_3644.png': [1, 0],\n",
       "             'BEGAN_epoch44_step430000_749.png': [1, 0],\n",
       "             'BEGAN_epoch44_step430000_1268.png': [1, 0],\n",
       "             'BEGAN_epoch44_step430000_4099.png': [2, 0],\n",
       "             'BEGAN_epoch44_step430000_2126.png': [1, 0],\n",
       "             'BEGAN_epoch44_step430000_2779.png': [2, 0],\n",
       "             'BEGAN_epoch44_step430000_2600.png': [1, 0],\n",
       "             'BEGAN_epoch44_step430000_123.png': [1, 0],\n",
       "             'BEGAN_epoch44_step430000_2121.png': [1, 0],\n",
       "             'BEGAN_epoch44_step430000_4362.png': [3, 0],\n",
       "             'BEGAN_epoch44_step430000_3085.png': [2, 0],\n",
       "             'BEGAN_epoch44_step430000_2827.png': [2, 0],\n",
       "             'BEGAN_epoch44_step430000_4245.png': [1, 0],\n",
       "             'BEGAN_epoch44_step430000_2399.png': [1, 0],\n",
       "             'BEGAN_epoch44_step430000_2245.png': [1, 0],\n",
       "             'BEGAN_epoch44_step430000_4648.png': [2, 0],\n",
       "             'BEGAN_epoch44_step430000_3730.png': [3, 0],\n",
       "             'BEGAN_epoch44_step430000_2036.png': [0, 1],\n",
       "             'BEGAN_epoch44_step430000_582.png': [6, 0],\n",
       "             'BEGAN_epoch44_step430000_2117.png': [1, 0],\n",
       "             'BEGAN_epoch44_step430000_2159.png': [1, 0],\n",
       "             'BEGAN_epoch44_step430000_1130.png': [1, 0],\n",
       "             'BEGAN_epoch44_step430000_1967.png': [1, 0],\n",
       "             'BEGAN_epoch44_step430000_2587.png': [1, 0],\n",
       "             'BEGAN_epoch44_step430000_1449.png': [1, 0],\n",
       "             'BEGAN_epoch44_step430000_2909.png': [1, 1],\n",
       "             'BEGAN_epoch44_step430000_4435.png': [3, 0],\n",
       "             'BEGAN_epoch44_step430000_3802.png': [1, 0],\n",
       "             'BEGAN_epoch44_step430000_703.png': [1, 0],\n",
       "             'BEGAN_epoch44_step430000_984.png': [2, 0],\n",
       "             'BEGAN_epoch44_step430000_2782.png': [3, 0],\n",
       "             'BEGAN_epoch44_step430000_1436.png': [1, 0],\n",
       "             'BEGAN_epoch44_step430000_674.png': [1, 0],\n",
       "             'BEGAN_epoch44_step430000_3093.png': [2, 0],\n",
       "             'BEGAN_epoch44_step430000_1289.png': [2, 1],\n",
       "             'BEGAN_epoch44_step430000_3586.png': [2, 0],\n",
       "             'BEGAN_epoch44_step430000_1255.png': [2, 0],\n",
       "             'BEGAN_epoch44_step430000_526.png': [1, 0],\n",
       "             'BEGAN_epoch44_step430000_190.png': [1, 0],\n",
       "             'BEGAN_epoch44_step430000_1779.png': [1, 0],\n",
       "             'BEGAN_epoch44_step430000_3236.png': [1, 1],\n",
       "             'BEGAN_epoch44_step430000_832.png': [2, 0],\n",
       "             'BEGAN_epoch44_step430000_4610.png': [2, 0],\n",
       "             'BEGAN_epoch44_step430000_2130.png': [2, 0],\n",
       "             'BEGAN_epoch44_step430000_134.png': [1, 0],\n",
       "             'BEGAN_epoch44_step430000_568.png': [2, 0],\n",
       "             'BEGAN_epoch44_step430000_4097.png': [2, 0],\n",
       "             'BEGAN_epoch44_step430000_1277.png': [4, 0],\n",
       "             'BEGAN_epoch44_step430000_2255.png': [1, 0],\n",
       "             'BEGAN_epoch44_step430000_888.png': [1, 0],\n",
       "             'BEGAN_epoch44_step430000_153.png': [1, 0],\n",
       "             'BEGAN_epoch44_step430000_2349.png': [3, 0],\n",
       "             'BEGAN_epoch44_step430000_1858.png': [1, 0],\n",
       "             'BEGAN_epoch44_step430000_2032.png': [1, 0],\n",
       "             'BEGAN_epoch44_step430000_878.png': [1, 0],\n",
       "             'BEGAN_epoch44_step430000_1842.png': [1, 0],\n",
       "             'BEGAN_epoch44_step430000_864.png': [1, 0],\n",
       "             'BEGAN_epoch44_step430000_3677.png': [2, 0],\n",
       "             'BEGAN_epoch44_step430000_4906.png': [1, 0],\n",
       "             'BEGAN_epoch44_step430000_4510.png': [1, 0],\n",
       "             'BEGAN_epoch44_step430000_1107.png': [1, 0],\n",
       "             'BEGAN_epoch44_step430000_2442.png': [2, 0],\n",
       "             'BEGAN_epoch44_step430000_853.png': [1, 0],\n",
       "             'BEGAN_epoch44_step430000_668.png': [2, 0],\n",
       "             'BEGAN_epoch44_step430000_3276.png': [1, 0],\n",
       "             'BEGAN_epoch44_step430000_4309.png': [1, 0],\n",
       "             'BEGAN_epoch44_step430000_738.png': [1, 0],\n",
       "             'BEGAN_epoch44_step430000_3422.png': [2, 0],\n",
       "             'BEGAN_epoch44_step430000_365.png': [1, 0],\n",
       "             'BEGAN_epoch44_step430000_4687.png': [2, 0],\n",
       "             'BEGAN_epoch44_step430000_1044.png': [1, 0],\n",
       "             'BEGAN_epoch44_step430000_4612.png': [1, 0],\n",
       "             'BEGAN_epoch44_step430000_164.png': [1, 0],\n",
       "             'BEGAN_epoch44_step430000_1770.png': [2, 0],\n",
       "             'BEGAN_epoch44_step430000_640.png': [2, 0],\n",
       "             'BEGAN_epoch44_step430000_596.png': [2, 0],\n",
       "             'BEGAN_epoch44_step430000_3523.png': [2, 0],\n",
       "             'BEGAN_epoch44_step430000_455.png': [1, 0],\n",
       "             'BEGAN_epoch44_step430000_2802.png': [2, 0],\n",
       "             'BEGAN_epoch44_step430000_56.png': [2, 0],\n",
       "             'BEGAN_epoch44_step430000_2965.png': [1, 0],\n",
       "             'BEGAN_epoch44_step430000_1782.png': [2, 0],\n",
       "             'BEGAN_epoch44_step430000_2268.png': [1, 0],\n",
       "             'BEGAN_epoch44_step430000_1221.png': [2, 0],\n",
       "             'BEGAN_epoch44_step430000_119.png': [2, 0],\n",
       "             'BEGAN_epoch44_step430000_624.png': [2, 0],\n",
       "             'BEGAN_epoch44_step430000_918.png': [2, 0],\n",
       "             'BEGAN_epoch44_step430000_1598.png': [1, 0],\n",
       "             'BEGAN_epoch44_step430000_1254.png': [2, 0],\n",
       "             'BEGAN_epoch44_step430000_1219.png': [1, 0],\n",
       "             'BEGAN_epoch44_step430000_2851.png': [2, 0],\n",
       "             'BEGAN_epoch44_step430000_2892.png': [3, 0],\n",
       "             'BEGAN_epoch44_step430000_2281.png': [1, 0],\n",
       "             'BEGAN_epoch44_step430000_4403.png': [2, 0],\n",
       "             'BEGAN_epoch44_step430000_51.png': [2, 0],\n",
       "             'BEGAN_epoch44_step430000_1160.png': [2, 0],\n",
       "             'BEGAN_epoch44_step430000_4752.png': [1, 0],\n",
       "             'BEGAN_epoch44_step430000_2408.png': [1, 0],\n",
       "             'BEGAN_epoch44_step430000_2696.png': [1, 0],\n",
       "             'BEGAN_epoch44_step430000_3343.png': [1, 0],\n",
       "             'BEGAN_epoch44_step430000_2583.png': [2, 0],\n",
       "             'BEGAN_epoch44_step430000_914.png': [1, 0],\n",
       "             'BEGAN_epoch44_step430000_2452.png': [1, 0],\n",
       "             'BEGAN_epoch44_step430000_2342.png': [1, 0],\n",
       "             'BEGAN_epoch44_step430000_4723.png': [1, 0],\n",
       "             'BEGAN_epoch44_step430000_3751.png': [3, 0],\n",
       "             'BEGAN_epoch44_step430000_898.png': [2, 0],\n",
       "             'BEGAN_epoch44_step430000_1765.png': [2, 0],\n",
       "             'BEGAN_epoch44_step430000_3478.png': [2, 0],\n",
       "             'BEGAN_epoch44_step430000_2862.png': [2, 0],\n",
       "             'BEGAN_epoch44_step430000_1310.png': [1, 0],\n",
       "             'BEGAN_epoch44_step430000_4228.png': [1, 0],\n",
       "             'BEGAN_epoch44_step430000_3150.png': [1, 0],\n",
       "             'BEGAN_epoch44_step430000_1729.png': [1, 0],\n",
       "             'BEGAN_epoch44_step430000_3151.png': [1, 0],\n",
       "             'BEGAN_epoch44_step430000_1643.png': [1, 0],\n",
       "             'BEGAN_epoch44_step430000_1205.png': [2, 0],\n",
       "             'BEGAN_epoch44_step430000_4307.png': [2, 1],\n",
       "             'BEGAN_epoch44_step430000_2804.png': [2, 0],\n",
       "             'BEGAN_epoch44_step430000_4235.png': [1, 0],\n",
       "             'BEGAN_epoch44_step430000_3098.png': [1, 0],\n",
       "             'BEGAN_epoch44_step430000_737.png': [3, 0],\n",
       "             'BEGAN_epoch44_step430000_359.png': [1, 0],\n",
       "             'BEGAN_epoch44_step430000_4961.png': [2, 0],\n",
       "             'BEGAN_epoch44_step430000_2726.png': [1, 0],\n",
       "             'BEGAN_epoch44_step430000_776.png': [2, 0],\n",
       "             'BEGAN_epoch44_step430000_3189.png': [1, 0],\n",
       "             'BEGAN_epoch44_step430000_4986.png': [2, 0],\n",
       "             'BEGAN_epoch44_step430000_4621.png': [1, 0],\n",
       "             'BEGAN_epoch44_step430000_2663.png': [1, 0],\n",
       "             'BEGAN_epoch44_step430000_4021.png': [1, 0],\n",
       "             'BEGAN_epoch44_step430000_3543.png': [2, 0],\n",
       "             'BEGAN_epoch44_step430000_2613.png': [1, 0],\n",
       "             'BEGAN_epoch44_step430000_2053.png': [2, 0],\n",
       "             'BEGAN_epoch44_step430000_2974.png': [2, 0],\n",
       "             'BEGAN_epoch44_step430000_4212.png': [1, 0],\n",
       "             'BEGAN_epoch44_step430000_4202.png': [2, 0],\n",
       "             'BEGAN_epoch44_step430000_52.png': [2, 0],\n",
       "             'BEGAN_epoch44_step430000_163.png': [1, 0],\n",
       "             'BEGAN_epoch44_step430000_3069.png': [1, 0],\n",
       "             'BEGAN_epoch44_step430000_576.png': [1, 0],\n",
       "             'BEGAN_epoch44_step430000_4293.png': [2, 0],\n",
       "             'BEGAN_epoch44_step430000_4813.png': [1, 0],\n",
       "             'BEGAN_epoch44_step430000_1829.png': [2, 0],\n",
       "             'BEGAN_epoch44_step430000_4750.png': [2, 0],\n",
       "             'BEGAN_epoch44_step430000_2455.png': [2, 0],\n",
       "             'BEGAN_epoch44_step430000_1127.png': [1, 0],\n",
       "             'BEGAN_epoch44_step430000_3425.png': [2, 0],\n",
       "             'BEGAN_epoch44_step430000_3084.png': [3, 0],\n",
       "             'BEGAN_epoch44_step430000_3520.png': [2, 0],\n",
       "             'BEGAN_epoch44_step430000_3508.png': [1, 0],\n",
       "             'BEGAN_epoch44_step430000_227.png': [3, 0],\n",
       "             'BEGAN_epoch44_step430000_3275.png': [2, 0],\n",
       "             'BEGAN_epoch44_step430000_3414.png': [4, 0],\n",
       "             'BEGAN_epoch44_step430000_621.png': [1, 0],\n",
       "             'BEGAN_epoch44_step430000_1025.png': [1, 0],\n",
       "             'BEGAN_epoch44_step430000_1880.png': [1, 0],\n",
       "             'BEGAN_epoch44_step430000_1351.png': [1, 0],\n",
       "             'BEGAN_epoch44_step430000_2625.png': [3, 0],\n",
       "             'BEGAN_epoch44_step430000_2772.png': [1, 0],\n",
       "             'BEGAN_epoch44_step430000_1970.png': [1, 0],\n",
       "             'BEGAN_epoch44_step430000_1555.png': [2, 0],\n",
       "             'BEGAN_epoch44_step430000_2029.png': [1, 0],\n",
       "             'BEGAN_epoch44_step430000_3270.png': [2, 0],\n",
       "             'BEGAN_epoch44_step430000_2890.png': [0, 1],\n",
       "             'BEGAN_epoch44_step430000_4780.png': [2, 0],\n",
       "             'BEGAN_epoch44_step430000_4607.png': [1, 0],\n",
       "             'BEGAN_epoch44_step430000_3290.png': [1, 0],\n",
       "             'BEGAN_epoch44_step430000_2695.png': [2, 0],\n",
       "             'BEGAN_epoch44_step430000_2224.png': [2, 0],\n",
       "             'BEGAN_epoch44_step430000_4139.png': [2, 0],\n",
       "             'BEGAN_epoch44_step430000_124.png': [1, 0],\n",
       "             'BEGAN_epoch44_step430000_258.png': [1, 1],\n",
       "             'BEGAN_epoch44_step430000_983.png': [1, 0],\n",
       "             'BEGAN_epoch44_step430000_3518.png': [4, 1],\n",
       "             'BEGAN_epoch44_step430000_3241.png': [3, 1],\n",
       "             'BEGAN_epoch44_step430000_3214.png': [0, 1],\n",
       "             'BEGAN_epoch44_step430000_2457.png': [1, 1],\n",
       "             'BEGAN_epoch44_step430000_2602.png': [1, 1],\n",
       "             'BEGAN_epoch44_step430000_591.png': [3, 0],\n",
       "             'BEGAN_epoch44_step430000_3735.png': [1, 0],\n",
       "             'BEGAN_epoch44_step430000_3914.png': [1, 1],\n",
       "             'BEGAN_epoch44_step430000_1315.png': [0, 1],\n",
       "             'BEGAN_epoch44_step430000_2605.png': [1, 0],\n",
       "             'BEGAN_epoch44_step430000_1217.png': [2, 0],\n",
       "             'BEGAN_epoch44_step430000_2980.png': [2, 0],\n",
       "             'BEGAN_epoch44_step430000_1319.png': [1, 0],\n",
       "             'BEGAN_epoch44_step430000_4233.png': [1, 1],\n",
       "             'BEGAN_epoch44_step430000_639.png': [1, 0],\n",
       "             'BEGAN_epoch44_step430000_563.png': [1, 0],\n",
       "             'BEGAN_epoch44_step430000_4788.png': [2, 0],\n",
       "             'BEGAN_epoch44_step430000_3818.png': [1, 0],\n",
       "             'BEGAN_epoch44_step430000_2705.png': [1, 0],\n",
       "             'BEGAN_epoch44_step430000_3102.png': [1, 0],\n",
       "             'BEGAN_epoch44_step430000_1878.png': [2, 0],\n",
       "             'BEGAN_epoch44_step430000_3187.png': [1, 0],\n",
       "             'BEGAN_epoch44_step430000_4440.png': [2, 0],\n",
       "             'BEGAN_epoch44_step430000_4634.png': [1, 0],\n",
       "             'BEGAN_epoch44_step430000_510.png': [1, 0],\n",
       "             'BEGAN_epoch44_step430000_3529.png': [2, 0],\n",
       "             'BEGAN_epoch44_step430000_4368.png': [1, 0],\n",
       "             'BEGAN_epoch44_step430000_548.png': [1, 0],\n",
       "             'BEGAN_epoch44_step430000_4620.png': [1, 0],\n",
       "             'BEGAN_epoch44_step430000_3585.png': [2, 0],\n",
       "             'BEGAN_epoch44_step430000_4922.png': [3, 0],\n",
       "             'BEGAN_epoch44_step430000_801.png': [2, 0],\n",
       "             'BEGAN_epoch44_step430000_1356.png': [1, 0],\n",
       "             'BEGAN_epoch44_step430000_1075.png': [1, 0],\n",
       "             'BEGAN_epoch44_step430000_4269.png': [1, 0],\n",
       "             'BEGAN_epoch44_step430000_3443.png': [2, 0],\n",
       "             'BEGAN_epoch44_step430000_3401.png': [2, 0],\n",
       "             'BEGAN_epoch44_step430000_3610.png': [2, 0],\n",
       "             'BEGAN_epoch44_step430000_3982.png': [2, 0],\n",
       "             'BEGAN_epoch44_step430000_2973.png': [1, 0],\n",
       "             'BEGAN_epoch44_step430000_4473.png': [1, 0],\n",
       "             'BEGAN_epoch44_step430000_1789.png': [2, 0],\n",
       "             'BEGAN_epoch44_step430000_4113.png': [1, 0],\n",
       "             'BEGAN_epoch44_step430000_2087.png': [1, 0],\n",
       "             'BEGAN_epoch44_step430000_3007.png': [2, 1],\n",
       "             'BEGAN_epoch44_step430000_4604.png': [2, 0],\n",
       "             'BEGAN_epoch44_step430000_2178.png': [1, 0],\n",
       "             'BEGAN_epoch44_step430000_4086.png': [1, 0],\n",
       "             'BEGAN_epoch44_step430000_3889.png': [1, 0],\n",
       "             'BEGAN_epoch44_step430000_2618.png': [2, 0],\n",
       "             'BEGAN_epoch44_step430000_4482.png': [1, 0],\n",
       "             'BEGAN_epoch44_step430000_4887.png': [1, 0],\n",
       "             'BEGAN_epoch44_step430000_1774.png': [1, 0],\n",
       "             'BEGAN_epoch44_step430000_4749.png': [2, 0],\n",
       "             'BEGAN_epoch44_step430000_3348.png': [1, 0],\n",
       "             'BEGAN_epoch44_step430000_2518.png': [3, 0],\n",
       "             'BEGAN_epoch44_step430000_559.png': [1, 0],\n",
       "             'BEGAN_epoch44_step430000_4417.png': [2, 0],\n",
       "             'BEGAN_epoch44_step430000_975.png': [1, 0],\n",
       "             'BEGAN_epoch44_step430000_2097.png': [1, 0],\n",
       "             'BEGAN_epoch44_step430000_1240.png': [1, 0],\n",
       "             'BEGAN_epoch44_step430000_3160.png': [1, 0],\n",
       "             'BEGAN_epoch44_step430000_1760.png': [1, 0],\n",
       "             'BEGAN_epoch44_step430000_3928.png': [1, 0],\n",
       "             'BEGAN_epoch44_step430000_556.png': [2, 0],\n",
       "             'BEGAN_epoch44_step430000_133.png': [1, 0],\n",
       "             'BEGAN_epoch44_step430000_313.png': [0, 1],\n",
       "             'BEGAN_epoch44_step430000_478.png': [1, 0],\n",
       "             'BEGAN_epoch44_step430000_2529.png': [2, 0],\n",
       "             'BEGAN_epoch44_step430000_291.png': [1, 0],\n",
       "             'BEGAN_epoch44_step430000_282.png': [1, 0],\n",
       "             'BEGAN_epoch44_step430000_1090.png': [2, 0],\n",
       "             'BEGAN_epoch44_step430000_4315.png': [1, 0],\n",
       "             'BEGAN_epoch44_step430000_2309.png': [1, 0],\n",
       "             'BEGAN_epoch44_step430000_2404.png': [1, 0],\n",
       "             'BEGAN_epoch44_step430000_826.png': [1, 0],\n",
       "             'BEGAN_epoch44_step430000_3790.png': [2, 0],\n",
       "             'BEGAN_epoch44_step430000_4118.png': [1, 0],\n",
       "             'BEGAN_epoch44_step430000_4186.png': [1, 0],\n",
       "             'BEGAN_epoch44_step430000_1353.png': [3, 0],\n",
       "             'BEGAN_epoch44_step430000_3636.png': [2, 0],\n",
       "             'BEGAN_epoch44_step430000_2100.png': [1, 0],\n",
       "             'BEGAN_epoch44_step430000_728.png': [3, 0],\n",
       "             'BEGAN_epoch44_step430000_4491.png': [2, 0],\n",
       "             'BEGAN_epoch44_step430000_1284.png': [1, 0],\n",
       "             'BEGAN_epoch44_step430000_4105.png': [2, 0],\n",
       "             'BEGAN_epoch44_step430000_683.png': [1, 0],\n",
       "             'BEGAN_epoch44_step430000_4737.png': [1, 0],\n",
       "             'BEGAN_epoch44_step430000_1399.png': [2, 0],\n",
       "             'BEGAN_epoch44_step430000_1331.png': [3, 0],\n",
       "             'BEGAN_epoch44_step430000_2307.png': [1, 0],\n",
       "             'BEGAN_epoch44_step430000_358.png': [2, 0],\n",
       "             'BEGAN_epoch44_step430000_1805.png': [1, 0],\n",
       "             'BEGAN_epoch44_step430000_3145.png': [1, 0],\n",
       "             'BEGAN_epoch44_step430000_1021.png': [1, 0],\n",
       "             'BEGAN_epoch44_step430000_1318.png': [1, 0],\n",
       "             'BEGAN_epoch44_step430000_4638.png': [2, 0],\n",
       "             'BEGAN_epoch44_step430000_1246.png': [1, 0],\n",
       "             'BEGAN_epoch44_step430000_2656.png': [2, 0],\n",
       "             'BEGAN_epoch44_step430000_998.png': [2, 0],\n",
       "             'BEGAN_epoch44_step430000_1302.png': [1, 0],\n",
       "             'BEGAN_epoch44_step430000_4205.png': [2, 0],\n",
       "             'BEGAN_epoch44_step430000_1910.png': [1, 0],\n",
       "             'BEGAN_epoch44_step430000_2469.png': [2, 0],\n",
       "             'BEGAN_epoch44_step430000_327.png': [3, 0],\n",
       "             'BEGAN_epoch44_step430000_545.png': [1, 0],\n",
       "             'BEGAN_epoch44_step430000_2775.png': [1, 0],\n",
       "             'BEGAN_epoch44_step430000_1571.png': [1, 1],\n",
       "             'BEGAN_epoch44_step430000_481.png': [1, 0],\n",
       "             'BEGAN_epoch44_step430000_2187.png': [1, 0],\n",
       "             'BEGAN_epoch44_step430000_2265.png': [1, 0],\n",
       "             'BEGAN_epoch44_step430000_4626.png': [2, 0],\n",
       "             'BEGAN_epoch44_step430000_3949.png': [1, 0],\n",
       "             'BEGAN_epoch44_step430000_2712.png': [2, 0],\n",
       "             'BEGAN_epoch44_step430000_260.png': [3, 0],\n",
       "             'BEGAN_epoch44_step430000_4605.png': [1, 0],\n",
       "             'BEGAN_epoch44_step430000_2275.png': [1, 0],\n",
       "             'BEGAN_epoch44_step430000_3714.png': [1, 0],\n",
       "             'BEGAN_epoch44_step430000_1619.png': [1, 0],\n",
       "             'BEGAN_epoch44_step430000_3837.png': [1, 0],\n",
       "             'BEGAN_epoch44_step430000_782.png': [1, 0],\n",
       "             'BEGAN_epoch44_step430000_4447.png': [2, 0],\n",
       "             'BEGAN_epoch44_step430000_1818.png': [1, 0],\n",
       "             'BEGAN_epoch44_step430000_4464.png': [1, 0],\n",
       "             'BEGAN_epoch44_step430000_4894.png': [1, 1],\n",
       "             'BEGAN_epoch44_step430000_4867.png': [2, 0],\n",
       "             'BEGAN_epoch44_step430000_3695.png': [2, 0],\n",
       "             'BEGAN_epoch44_step430000_3359.png': [1, 0],\n",
       "             'BEGAN_epoch44_step430000_442.png': [1, 0],\n",
       "             'BEGAN_epoch44_step430000_2762.png': [2, 0],\n",
       "             'BEGAN_epoch44_step430000_2900.png': [3, 0],\n",
       "             'BEGAN_epoch44_step430000_3655.png': [1, 0],\n",
       "             'BEGAN_epoch44_step430000_2169.png': [2, 0],\n",
       "             'BEGAN_epoch44_step430000_3771.png': [0, 1],\n",
       "             'BEGAN_epoch44_step430000_644.png': [1, 0],\n",
       "             'BEGAN_epoch44_step430000_4380.png': [0, 1],\n",
       "             'BEGAN_epoch44_step430000_2584.png': [2, 0],\n",
       "             'BEGAN_epoch44_step430000_3104.png': [1, 0],\n",
       "             'BEGAN_epoch44_step430000_4172.png': [2, 0],\n",
       "             'BEGAN_epoch44_step430000_3310.png': [1, 0],\n",
       "             'BEGAN_epoch44_step430000_791.png': [3, 0],\n",
       "             'BEGAN_epoch44_step430000_4379.png': [1, 0],\n",
       "             'BEGAN_epoch44_step430000_4219.png': [2, 0],\n",
       "             'BEGAN_epoch44_step430000_1432.png': [1, 0],\n",
       "             'BEGAN_epoch44_step430000_590.png': [3, 0],\n",
       "             'BEGAN_epoch44_step430000_198.png': [1, 0],\n",
       "             'BEGAN_epoch44_step430000_4298.png': [1, 1],\n",
       "             'BEGAN_epoch44_step430000_3441.png': [1, 0],\n",
       "             'BEGAN_epoch44_step430000_68.png': [3, 0],\n",
       "             'BEGAN_epoch44_step430000_700.png': [1, 0],\n",
       "             'BEGAN_epoch44_step430000_4650.png': [1, 0],\n",
       "             'BEGAN_epoch44_step430000_1585.png': [2, 0],\n",
       "             'BEGAN_epoch44_step430000_2013.png': [1, 1],\n",
       "             'BEGAN_epoch44_step430000_1129.png': [3, 0],\n",
       "             'BEGAN_epoch44_step430000_372.png': [2, 0],\n",
       "             'BEGAN_epoch44_step430000_3200.png': [2, 0],\n",
       "             'BEGAN_epoch44_step430000_4628.png': [2, 1],\n",
       "             'BEGAN_epoch44_step430000_3048.png': [2, 0],\n",
       "             'BEGAN_epoch44_step430000_952.png': [1, 0],\n",
       "             'BEGAN_epoch44_step430000_2193.png': [1, 0],\n",
       "             'BEGAN_epoch44_step430000_1459.png': [3, 0],\n",
       "             'BEGAN_epoch44_step430000_4903.png': [3, 1],\n",
       "             'BEGAN_epoch44_step430000_2448.png': [2, 0],\n",
       "             'BEGAN_epoch44_step430000_1291.png': [4, 0],\n",
       "             'BEGAN_epoch44_step430000_4833.png': [1, 0],\n",
       "             'BEGAN_epoch44_step430000_403.png': [1, 0],\n",
       "             'BEGAN_epoch44_step430000_315.png': [2, 0],\n",
       "             'BEGAN_epoch44_step430000_4064.png': [2, 0],\n",
       "             'BEGAN_epoch44_step430000_2495.png': [2, 0],\n",
       "             'BEGAN_epoch44_step430000_2793.png': [1, 0],\n",
       "             'BEGAN_epoch44_step430000_2756.png': [1, 0],\n",
       "             'BEGAN_epoch44_step430000_2601.png': [2, 0],\n",
       "             'BEGAN_epoch44_step430000_2102.png': [1, 0],\n",
       "             'BEGAN_epoch44_step430000_312.png': [1, 0],\n",
       "             'BEGAN_epoch44_step430000_80.png': [1, 0],\n",
       "             'BEGAN_epoch44_step430000_2796.png': [2, 0],\n",
       "             'BEGAN_epoch44_step430000_2949.png': [1, 0],\n",
       "             'BEGAN_epoch44_step430000_2720.png': [2, 0],\n",
       "             'BEGAN_epoch44_step430000_4784.png': [1, 0],\n",
       "             'BEGAN_epoch44_step430000_3741.png': [3, 0],\n",
       "             'BEGAN_epoch44_step430000_2699.png': [2, 0],\n",
       "             'BEGAN_epoch44_step430000_4863.png': [1, 1],\n",
       "             'BEGAN_epoch44_step430000_4683.png': [1, 0],\n",
       "             'BEGAN_epoch44_step430000_433.png': [1, 0],\n",
       "             'BEGAN_epoch44_step430000_1991.png': [1, 0],\n",
       "             'BEGAN_epoch44_step430000_151.png': [0, 2],\n",
       "             'BEGAN_epoch44_step430000_2059.png': [2, 0],\n",
       "             'BEGAN_epoch44_step430000_2783.png': [2, 0],\n",
       "             'BEGAN_epoch44_step430000_4059.png': [1, 0],\n",
       "             'BEGAN_epoch44_step430000_4855.png': [1, 0],\n",
       "             'BEGAN_epoch44_step430000_3524.png': [1, 0],\n",
       "             'BEGAN_epoch44_step430000_1158.png': [0, 2],\n",
       "             'BEGAN_epoch44_step430000_1591.png': [3, 0],\n",
       "             'BEGAN_epoch44_step430000_168.png': [1, 0],\n",
       "             'BEGAN_epoch44_step430000_1273.png': [1, 0],\n",
       "             'BEGAN_epoch44_step430000_2661.png': [2, 0],\n",
       "             'BEGAN_epoch44_step430000_41.png': [1, 0],\n",
       "             'BEGAN_epoch44_step430000_807.png': [3, 0],\n",
       "             'BEGAN_epoch44_step430000_519.png': [1, 0],\n",
       "             'BEGAN_epoch44_step430000_1223.png': [1, 0],\n",
       "             'BEGAN_epoch44_step430000_342.png': [2, 0],\n",
       "             'BEGAN_epoch44_step430000_4629.png': [1, 0],\n",
       "             'BEGAN_epoch44_step430000_3010.png': [1, 0],\n",
       "             'BEGAN_epoch44_step430000_4996.png': [2, 0],\n",
       "             'BEGAN_epoch44_step430000_1562.png': [1, 0],\n",
       "             'BEGAN_epoch44_step430000_4636.png': [1, 0],\n",
       "             'BEGAN_epoch44_step430000_2653.png': [1, 0],\n",
       "             'BEGAN_epoch44_step430000_1119.png': [2, 0],\n",
       "             'BEGAN_epoch44_step430000_3248.png': [2, 0],\n",
       "             'BEGAN_epoch44_step430000_1411.png': [1, 0],\n",
       "             'BEGAN_epoch44_step430000_36.png': [1, 0],\n",
       "             'BEGAN_epoch44_step430000_1086.png': [2, 0],\n",
       "             'BEGAN_epoch44_step430000_1772.png': [1, 0],\n",
       "             'BEGAN_epoch44_step430000_2641.png': [1, 0],\n",
       "             'BEGAN_epoch44_step430000_3356.png': [2, 0],\n",
       "             'BEGAN_epoch44_step430000_4854.png': [1, 0],\n",
       "             'BEGAN_epoch44_step430000_228.png': [1, 0],\n",
       "             'BEGAN_epoch44_step430000_273.png': [1, 0],\n",
       "             'BEGAN_epoch44_step430000_3603.png': [1, 0],\n",
       "             'BEGAN_epoch44_step430000_598.png': [1, 0],\n",
       "             'BEGAN_epoch44_step430000_1509.png': [1, 0],\n",
       "             'BEGAN_epoch44_step430000_2218.png': [2, 0],\n",
       "             'BEGAN_epoch44_step430000_416.png': [1, 0],\n",
       "             'BEGAN_epoch44_step430000_262.png': [1, 0],\n",
       "             'BEGAN_epoch44_step430000_1282.png': [3, 0],\n",
       "             'BEGAN_epoch44_step430000_2477.png': [2, 0],\n",
       "             'BEGAN_epoch44_step430000_752.png': [2, 0],\n",
       "             'BEGAN_epoch44_step430000_2536.png': [1, 0],\n",
       "             'BEGAN_epoch44_step430000_4408.png': [1, 0],\n",
       "             'BEGAN_epoch44_step430000_2612.png': [2, 1],\n",
       "             'BEGAN_epoch44_step430000_4433.png': [1, 0],\n",
       "             'BEGAN_epoch44_step430000_965.png': [2, 0],\n",
       "             'BEGAN_epoch44_step430000_3289.png': [2, 0],\n",
       "             'BEGAN_epoch44_step430000_1554.png': [1, 0],\n",
       "             'BEGAN_epoch44_step430000_690.png': [2, 0],\n",
       "             'BEGAN_epoch44_step430000_1389.png': [2, 0],\n",
       "             'BEGAN_epoch44_step430000_431.png': [1, 0],\n",
       "             'BEGAN_epoch44_step430000_4957.png': [2, 0],\n",
       "             'BEGAN_epoch44_step430000_3326.png': [2, 0],\n",
       "             'BEGAN_epoch44_step430000_2356.png': [2, 0],\n",
       "             'BEGAN_epoch44_step430000_2861.png': [1, 0],\n",
       "             'BEGAN_epoch44_step430000_4422.png': [2, 0],\n",
       "             'BEGAN_epoch44_step430000_4712.png': [1, 1],\n",
       "             'BEGAN_epoch44_step430000_3364.png': [1, 0],\n",
       "             'BEGAN_epoch44_step430000_4853.png': [2, 0],\n",
       "             'BEGAN_epoch44_step430000_2035.png': [1, 0],\n",
       "             'BEGAN_epoch44_step430000_4330.png': [2, 0],\n",
       "             'BEGAN_epoch44_step430000_2559.png': [1, 0],\n",
       "             'BEGAN_epoch44_step430000_963.png': [1, 0],\n",
       "             'BEGAN_epoch44_step430000_471.png': [2, 0],\n",
       "             'BEGAN_epoch44_step430000_1717.png': [1, 0],\n",
       "             'BEGAN_epoch44_step430000_634.png': [3, 0],\n",
       "             'BEGAN_epoch44_step430000_1094.png': [2, 0],\n",
       "             'BEGAN_epoch44_step430000_2998.png': [1, 1],\n",
       "             'BEGAN_epoch44_step430000_1342.png': [1, 0],\n",
       "             'BEGAN_epoch44_step430000_2646.png': [1, 0],\n",
       "             'BEGAN_epoch44_step430000_1352.png': [1, 0],\n",
       "             'BEGAN_epoch44_step430000_4208.png': [1, 0],\n",
       "             'BEGAN_epoch44_step430000_3734.png': [2, 0],\n",
       "             'BEGAN_epoch44_step430000_4795.png': [1, 0],\n",
       "             'BEGAN_epoch44_step430000_1018.png': [1, 0],\n",
       "             'BEGAN_epoch44_step430000_3353.png': [1, 0],\n",
       "             'BEGAN_epoch44_step430000_3068.png': [1, 0],\n",
       "             'BEGAN_epoch44_step430000_1149.png': [2, 0],\n",
       "             'BEGAN_epoch44_step430000_2603.png': [1, 0],\n",
       "             'BEGAN_epoch44_step430000_4893.png': [1, 1],\n",
       "             'BEGAN_epoch44_step430000_1566.png': [2, 0],\n",
       "             'BEGAN_epoch44_step430000_4461.png': [1, 0],\n",
       "             'BEGAN_epoch44_step430000_3725.png': [1, 0],\n",
       "             'BEGAN_epoch44_step430000_2074.png': [1, 0],\n",
       "             'BEGAN_epoch44_step430000_3366.png': [1, 0],\n",
       "             'BEGAN_epoch44_step430000_1532.png': [1, 0],\n",
       "             'BEGAN_epoch44_step430000_1502.png': [1, 0],\n",
       "             'BEGAN_epoch44_step430000_1341.png': [2, 0],\n",
       "             'BEGAN_epoch44_step430000_4405.png': [1, 0],\n",
       "             'BEGAN_epoch44_step430000_503.png': [1, 0],\n",
       "             'BEGAN_epoch44_step430000_4418.png': [1, 0],\n",
       "             'BEGAN_epoch44_step430000_414.png': [1, 0],\n",
       "             'BEGAN_epoch44_step430000_1303.png': [1, 0],\n",
       "             'BEGAN_epoch44_step430000_3578.png': [2, 0],\n",
       "             'BEGAN_epoch44_step430000_4449.png': [1, 0],\n",
       "             'BEGAN_epoch44_step430000_710.png': [1, 0],\n",
       "             'BEGAN_epoch44_step430000_601.png': [1, 0],\n",
       "             'BEGAN_epoch44_step430000_2525.png': [2, 0],\n",
       "             'BEGAN_epoch44_step430000_646.png': [2, 0],\n",
       "             'BEGAN_epoch44_step430000_4771.png': [1, 0],\n",
       "             'BEGAN_epoch44_step430000_4891.png': [1, 0],\n",
       "             'BEGAN_epoch44_step430000_3251.png': [1, 0],\n",
       "             'BEGAN_epoch44_step430000_1897.png': [2, 0],\n",
       "             'BEGAN_epoch44_step430000_609.png': [2, 0],\n",
       "             'BEGAN_epoch44_step430000_3349.png': [1, 0],\n",
       "             'BEGAN_epoch44_step430000_3525.png': [2, 0],\n",
       "             'BEGAN_epoch44_step430000_4376.png': [1, 0],\n",
       "             'BEGAN_epoch44_step430000_1582.png': [2, 0],\n",
       "             'BEGAN_epoch44_step430000_4466.png': [2, 0],\n",
       "             'BEGAN_epoch44_step430000_4397.png': [3, 0],\n",
       "             'BEGAN_epoch44_step430000_3002.png': [2, 0],\n",
       "             'BEGAN_epoch44_step430000_3376.png': [3, 0],\n",
       "             'BEGAN_epoch44_step430000_580.png': [2, 0],\n",
       "             'BEGAN_epoch44_step430000_4014.png': [2, 0],\n",
       "             'BEGAN_epoch44_step430000_4006.png': [1, 0],\n",
       "             'BEGAN_epoch44_step430000_4721.png': [1, 0],\n",
       "             'BEGAN_epoch44_step430000_1114.png': [1, 0],\n",
       "             'BEGAN_epoch44_step430000_3324.png': [3, 0],\n",
       "             'BEGAN_epoch44_step430000_3673.png': [1, 1],\n",
       "             'BEGAN_epoch44_step430000_1113.png': [1, 0],\n",
       "             'BEGAN_epoch44_step430000_4591.png': [1, 1],\n",
       "             'BEGAN_epoch44_step430000_1709.png': [1, 0],\n",
       "             'BEGAN_epoch44_step430000_4660.png': [1, 0],\n",
       "             'BEGAN_epoch44_step430000_125.png': [2, 0],\n",
       "             'BEGAN_epoch44_step430000_605.png': [2, 0],\n",
       "             'BEGAN_epoch44_step430000_4001.png': [3, 0],\n",
       "             'BEGAN_epoch44_step430000_2454.png': [1, 0],\n",
       "             'BEGAN_epoch44_step430000_2106.png': [1, 0],\n",
       "             'BEGAN_epoch44_step430000_1900.png': [2, 0],\n",
       "             'BEGAN_epoch44_step430000_3705.png': [3, 0],\n",
       "             'BEGAN_epoch44_step430000_3637.png': [2, 0],\n",
       "             'BEGAN_epoch44_step430000_3594.png': [2, 0],\n",
       "             'BEGAN_epoch44_step430000_2834.png': [1, 0],\n",
       "             'BEGAN_epoch44_step430000_1682.png': [1, 0],\n",
       "             'BEGAN_epoch44_step430000_2191.png': [1, 0],\n",
       "             'BEGAN_epoch44_step430000_500.png': [1, 0],\n",
       "             'BEGAN_epoch44_step430000_1192.png': [2, 0],\n",
       "             'BEGAN_epoch44_step430000_1675.png': [2, 0],\n",
       "             'BEGAN_epoch44_step430000_427.png': [1, 0],\n",
       "             'BEGAN_epoch44_step430000_3118.png': [2, 0],\n",
       "             'BEGAN_epoch44_step430000_1084.png': [2, 0],\n",
       "             'BEGAN_epoch44_step430000_3943.png': [1, 0],\n",
       "             'BEGAN_epoch44_step430000_4630.png': [1, 0],\n",
       "             'BEGAN_epoch44_step430000_616.png': [1, 0],\n",
       "             'BEGAN_epoch44_step430000_3197.png': [2, 0],\n",
       "             'BEGAN_epoch44_step430000_3174.png': [2, 0],\n",
       "             'BEGAN_epoch44_step430000_3402.png': [1, 0],\n",
       "             'BEGAN_epoch44_step430000_348.png': [1, 0],\n",
       "             'BEGAN_epoch44_step430000_2988.png': [1, 0],\n",
       "             'BEGAN_epoch44_step430000_715.png': [1, 0],\n",
       "             'BEGAN_epoch44_step430000_2200.png': [1, 2],\n",
       "             'BEGAN_epoch44_step430000_182.png': [2, 0],\n",
       "             'BEGAN_epoch44_step430000_4237.png': [1, 0],\n",
       "             'BEGAN_epoch44_step430000_40.png': [1, 0],\n",
       "             'BEGAN_epoch44_step430000_2941.png': [2, 0],\n",
       "             'BEGAN_epoch44_step430000_1956.png': [2, 0],\n",
       "             'BEGAN_epoch44_step430000_1569.png': [1, 0],\n",
       "             'BEGAN_epoch44_step430000_3055.png': [0, 1],\n",
       "             'BEGAN_epoch44_step430000_4480.png': [2, 1],\n",
       "             'BEGAN_epoch44_step430000_1495.png': [2, 0],\n",
       "             'BEGAN_epoch44_step430000_1588.png': [2, 0],\n",
       "             'BEGAN_epoch44_step430000_2908.png': [2, 0],\n",
       "             'BEGAN_epoch44_step430000_2960.png': [1, 0],\n",
       "             'BEGAN_epoch44_step430000_4542.png': [0, 1],\n",
       "             'BEGAN_epoch44_step430000_77.png': [2, 1],\n",
       "             'BEGAN_epoch44_step430000_2574.png': [1, 1],\n",
       "             'BEGAN_epoch44_step430000_3219.png': [0, 1],\n",
       "             'BEGAN_epoch44_step430000_4842.png': [1, 0],\n",
       "             'BEGAN_epoch44_step430000_4207.png': [1, 1],\n",
       "             'BEGAN_epoch44_step430000_2929.png': [2, 0],\n",
       "             'BEGAN_epoch44_step430000_2723.png': [1, 0],\n",
       "             'BEGAN_epoch44_step430000_3963.png': [1, 0],\n",
       "             'BEGAN_epoch44_step430000_3821.png': [1, 0],\n",
       "             'BEGAN_epoch44_step430000_3522.png': [2, 0],\n",
       "             'BEGAN_epoch44_step430000_1329.png': [1, 0],\n",
       "             'BEGAN_epoch44_step430000_4738.png': [2, 1],\n",
       "             'BEGAN_epoch44_step430000_2514.png': [1, 0],\n",
       "             'BEGAN_epoch44_step430000_99.png': [3, 0],\n",
       "             'BEGAN_epoch44_step430000_655.png': [1, 0],\n",
       "             'BEGAN_epoch44_step430000_2470.png': [2, 1],\n",
       "             'BEGAN_epoch44_step430000_632.png': [1, 0],\n",
       "             'BEGAN_epoch44_step430000_1322.png': [2, 1],\n",
       "             'BEGAN_epoch44_step430000_2951.png': [0, 1],\n",
       "             'BEGAN_epoch44_step430000_4301.png': [1, 0],\n",
       "             'BEGAN_epoch44_step430000_4032.png': [1, 0],\n",
       "             'BEGAN_epoch44_step430000_1800.png': [2, 0],\n",
       "             'BEGAN_epoch44_step430000_3472.png': [0, 1],\n",
       "             'BEGAN_epoch44_step430000_4200.png': [0, 1],\n",
       "             'BEGAN_epoch44_step430000_1670.png': [2, 2],\n",
       "             'BEGAN_epoch44_step430000_3231.png': [1, 0],\n",
       "             'BEGAN_epoch44_step430000_3986.png': [1, 0],\n",
       "             'BEGAN_epoch44_step430000_1245.png': [2, 0],\n",
       "             'BEGAN_epoch44_step430000_1691.png': [1, 0],\n",
       "             'BEGAN_epoch44_step430000_2288.png': [1, 0],\n",
       "             'BEGAN_epoch44_step430000_3779.png': [1, 0],\n",
       "             'BEGAN_epoch44_step430000_2375.png': [3, 0],\n",
       "             'BEGAN_epoch44_step430000_4577.png': [2, 0],\n",
       "             'BEGAN_epoch44_step430000_2562.png': [3, 0],\n",
       "             'BEGAN_epoch44_step430000_3822.png': [2, 0],\n",
       "             'BEGAN_epoch44_step430000_1583.png': [1, 0],\n",
       "             'BEGAN_epoch44_step430000_3851.png': [1, 0],\n",
       "             'BEGAN_epoch44_step430000_2052.png': [1, 0],\n",
       "             'BEGAN_epoch44_step430000_2104.png': [2, 0],\n",
       "             'BEGAN_epoch44_step430000_1165.png': [1, 0],\n",
       "             'BEGAN_epoch44_step430000_411.png': [1, 0],\n",
       "             'BEGAN_epoch44_step430000_376.png': [5, 0],\n",
       "             'BEGAN_epoch44_step430000_4153.png': [1, 0],\n",
       "             'BEGAN_epoch44_step430000_4152.png': [1, 0],\n",
       "             'BEGAN_epoch44_step430000_4175.png': [1, 0],\n",
       "             'BEGAN_epoch44_step430000_2239.png': [2, 0],\n",
       "             'BEGAN_epoch44_step430000_3635.png': [1, 0],\n",
       "             'BEGAN_epoch44_step430000_3703.png': [1, 0],\n",
       "             'BEGAN_epoch44_step430000_2714.png': [1, 0],\n",
       "             'BEGAN_epoch44_step430000_4443.png': [2, 0],\n",
       "             'BEGAN_epoch44_step430000_1926.png': [4, 0],\n",
       "             'BEGAN_epoch44_step430000_103.png': [1, 0],\n",
       "             'BEGAN_epoch44_step430000_574.png': [1, 0],\n",
       "             'BEGAN_epoch44_step430000_165.png': [1, 0],\n",
       "             'BEGAN_epoch44_step430000_22.png': [1, 0],\n",
       "             'BEGAN_epoch44_step430000_1405.png': [0, 1],\n",
       "             'BEGAN_epoch44_step430000_850.png': [1, 0],\n",
       "             'BEGAN_epoch44_step430000_3019.png': [2, 0],\n",
       "             'BEGAN_epoch44_step430000_4827.png': [1, 0],\n",
       "             'BEGAN_epoch44_step430000_3710.png': [1, 1],\n",
       "             'BEGAN_epoch44_step430000_3745.png': [1, 0],\n",
       "             'BEGAN_epoch44_step430000_1183.png': [1, 0],\n",
       "             'BEGAN_epoch44_step430000_1905.png': [2, 0],\n",
       "             'BEGAN_epoch44_step430000_2262.png': [2, 0],\n",
       "             'BEGAN_epoch44_step430000_4857.png': [1, 1],\n",
       "             'BEGAN_epoch44_step430000_3915.png': [2, 0],\n",
       "             'BEGAN_epoch44_step430000_1610.png': [1, 0],\n",
       "             'BEGAN_epoch44_step430000_288.png': [1, 0],\n",
       "             'BEGAN_epoch44_step430000_3264.png': [2, 0],\n",
       "             'BEGAN_epoch44_step430000_2089.png': [1, 0],\n",
       "             'BEGAN_epoch44_step430000_2795.png': [1, 0],\n",
       "             'BEGAN_epoch44_step430000_3999.png': [1, 0],\n",
       "             'BEGAN_epoch44_step430000_1617.png': [1, 0],\n",
       "             'BEGAN_epoch44_step430000_4994.png': [2, 0],\n",
       "             'BEGAN_epoch44_step430000_2131.png': [2, 0],\n",
       "             'BEGAN_epoch44_step430000_4556.png': [1, 0],\n",
       "             'BEGAN_epoch44_step430000_534.png': [2, 0],\n",
       "             'BEGAN_epoch44_step430000_4615.png': [2, 0],\n",
       "             'BEGAN_epoch44_step430000_2483.png': [0, 1],\n",
       "             'BEGAN_epoch44_step430000_2788.png': [1, 1],\n",
       "             'BEGAN_epoch44_step430000_3832.png': [1, 0],\n",
       "             'BEGAN_epoch44_step430000_1808.png': [2, 0],\n",
       "             'BEGAN_epoch44_step430000_3759.png': [0, 1],\n",
       "             'BEGAN_epoch44_step430000_367.png': [2, 0],\n",
       "             'BEGAN_epoch44_step430000_2030.png': [2, 0],\n",
       "             'BEGAN_epoch44_step430000_962.png': [1, 0],\n",
       "             'BEGAN_epoch44_step430000_2803.png': [1, 1],\n",
       "             'BEGAN_epoch44_step430000_2378.png': [2, 0],\n",
       "             'BEGAN_epoch44_step430000_950.png': [1, 0],\n",
       "             'BEGAN_epoch44_step430000_4606.png': [1, 0],\n",
       "             'BEGAN_epoch44_step430000_4841.png': [1, 0],\n",
       "             'BEGAN_epoch44_step430000_4832.png': [2, 0],\n",
       "             'BEGAN_epoch44_step430000_3651.png': [2, 0],\n",
       "             'BEGAN_epoch44_step430000_3016.png': [1, 0],\n",
       "             'BEGAN_epoch44_step430000_142.png': [1, 0],\n",
       "             'BEGAN_epoch44_step430000_1827.png': [3, 0],\n",
       "             'BEGAN_epoch44_step430000_1333.png': [2, 0],\n",
       "             'BEGAN_epoch44_step430000_3419.png': [1, 0],\n",
       "             'BEGAN_epoch44_step430000_996.png': [2, 0],\n",
       "             'BEGAN_epoch44_step430000_669.png': [1, 0],\n",
       "             'BEGAN_epoch44_step430000_293.png': [1, 0],\n",
       "             'BEGAN_epoch44_step430000_3184.png': [2, 0],\n",
       "             'BEGAN_epoch44_step430000_4758.png': [2, 0],\n",
       "             'BEGAN_epoch44_step430000_23.png': [2, 0],\n",
       "             'BEGAN_epoch44_step430000_285.png': [1, 0],\n",
       "             'BEGAN_epoch44_step430000_271.png': [3, 0],\n",
       "             'BEGAN_epoch44_step430000_212.png': [1, 0],\n",
       "             'BEGAN_epoch44_step430000_4256.png': [2, 0],\n",
       "             'BEGAN_epoch44_step430000_2940.png': [1, 0],\n",
       "             'BEGAN_epoch44_step430000_3362.png': [2, 0],\n",
       "             'BEGAN_epoch44_step430000_3412.png': [1, 0],\n",
       "             'BEGAN_epoch44_step430000_3094.png': [1, 0],\n",
       "             'BEGAN_epoch44_step430000_2589.png': [2, 0],\n",
       "             'BEGAN_epoch44_step430000_3464.png': [1, 0],\n",
       "             'BEGAN_epoch44_step430000_2427.png': [1, 0],\n",
       "             'BEGAN_epoch44_step430000_3344.png': [1, 0],\n",
       "             'BEGAN_epoch44_step430000_3688.png': [1, 0],\n",
       "             'BEGAN_epoch44_step430000_394.png': [2, 0],\n",
       "             'BEGAN_epoch44_step430000_4883.png': [1, 0],\n",
       "             'BEGAN_epoch44_step430000_458.png': [2, 0],\n",
       "             'BEGAN_epoch44_step430000_4639.png': [1, 0],\n",
       "             'BEGAN_epoch44_step430000_3497.png': [1, 0],\n",
       "             'BEGAN_epoch44_step430000_3682.png': [2, 0],\n",
       "             'BEGAN_epoch44_step430000_910.png': [1, 0],\n",
       "             'BEGAN_epoch44_step430000_2643.png': [3, 0],\n",
       "             'BEGAN_epoch44_step430000_160.png': [1, 0],\n",
       "             'BEGAN_epoch44_step430000_1547.png': [3, 0],\n",
       "             'BEGAN_epoch44_step430000_3697.png': [1, 0],\n",
       "             'BEGAN_epoch44_step430000_4336.png': [1, 0],\n",
       "             'BEGAN_epoch44_step430000_2345.png': [1, 0],\n",
       "             'BEGAN_epoch44_step430000_3661.png': [1, 0],\n",
       "             'BEGAN_epoch44_step430000_1894.png': [2, 0],\n",
       "             'BEGAN_epoch44_step430000_1649.png': [2, 0],\n",
       "             'BEGAN_epoch44_step430000_1637.png': [1, 0],\n",
       "             'BEGAN_epoch44_step430000_4760.png': [2, 0],\n",
       "             'BEGAN_epoch44_step430000_57.png': [1, 0],\n",
       "             'BEGAN_epoch44_step430000_1506.png': [2, 0],\n",
       "             'BEGAN_epoch44_step430000_2043.png': [2, 0],\n",
       "             'BEGAN_epoch44_step430000_2330.png': [1, 0],\n",
       "             'BEGAN_epoch44_step430000_3634.png': [1, 0],\n",
       "             'BEGAN_epoch44_step430000_3926.png': [1, 0],\n",
       "             'BEGAN_epoch44_step430000_729.png': [1, 0],\n",
       "             'BEGAN_epoch44_step430000_3249.png': [2, 0],\n",
       "             'BEGAN_epoch44_step430000_1634.png': [1, 0],\n",
       "             'BEGAN_epoch44_step430000_3011.png': [2, 0],\n",
       "             'BEGAN_epoch44_step430000_1033.png': [1, 0],\n",
       "             'BEGAN_epoch44_step430000_1616.png': [1, 0],\n",
       "             'BEGAN_epoch44_step430000_129.png': [2, 0],\n",
       "             'BEGAN_epoch44_step430000_676.png': [1, 0],\n",
       "             'BEGAN_epoch44_step430000_384.png': [1, 0],\n",
       "             'BEGAN_epoch44_step430000_1625.png': [1, 0],\n",
       "             'BEGAN_epoch44_step430000_1078.png': [1, 0],\n",
       "             'BEGAN_epoch44_step430000_138.png': [1, 0],\n",
       "             'BEGAN_epoch44_step430000_999.png': [2, 0],\n",
       "             'BEGAN_epoch44_step430000_2947.png': [1, 0],\n",
       "             'BEGAN_epoch44_step430000_4024.png': [1, 0],\n",
       "             'BEGAN_epoch44_step430000_3480.png': [1, 0],\n",
       "             'BEGAN_epoch44_step430000_4125.png': [1, 0],\n",
       "             'BEGAN_epoch44_step430000_970.png': [1, 0],\n",
       "             'BEGAN_epoch44_step430000_4968.png': [1, 0],\n",
       "             'BEGAN_epoch44_step430000_2533.png': [1, 0],\n",
       "             'BEGAN_epoch44_step430000_3027.png': [1, 0],\n",
       "             'BEGAN_epoch44_step430000_4103.png': [0, 1],\n",
       "             'BEGAN_epoch44_step430000_2109.png': [2, 0],\n",
       "             'BEGAN_epoch44_step430000_4730.png': [2, 0],\n",
       "             'BEGAN_epoch44_step430000_2493.png': [1, 0],\n",
       "             'BEGAN_epoch44_step430000_4318.png': [2, 0],\n",
       "             'BEGAN_epoch44_step430000_1733.png': [2, 0],\n",
       "             'BEGAN_epoch44_step430000_4670.png': [2, 0],\n",
       "             'BEGAN_epoch44_step430000_1491.png': [2, 0],\n",
       "             'BEGAN_epoch44_step430000_1784.png': [2, 0],\n",
       "             'BEGAN_epoch44_step430000_804.png': [1, 0],\n",
       "             'BEGAN_epoch44_step430000_296.png': [1, 0],\n",
       "             'BEGAN_epoch44_step430000_3090.png': [1, 0],\n",
       "             'BEGAN_epoch44_step430000_2937.png': [1, 0],\n",
       "             'BEGAN_epoch44_step430000_599.png': [1, 0],\n",
       "             'BEGAN_epoch44_step430000_3152.png': [2, 0],\n",
       "             'BEGAN_epoch44_step430000_2161.png': [1, 0],\n",
       "             'BEGAN_epoch44_step430000_1288.png': [1, 0],\n",
       "             'BEGAN_epoch44_step430000_162.png': [1, 0],\n",
       "             'BEGAN_epoch44_step430000_4193.png': [2, 0],\n",
       "             'BEGAN_epoch44_step430000_86.png': [1, 0],\n",
       "             'BEGAN_epoch44_step430000_2743.png': [1, 0],\n",
       "             'BEGAN_epoch44_step430000_143.png': [2, 0],\n",
       "             'BEGAN_epoch44_step430000_1515.png': [1, 0],\n",
       "             'BEGAN_epoch44_step430000_2700.png': [1, 0],\n",
       "             'BEGAN_epoch44_step430000_421.png': [3, 0],\n",
       "             'BEGAN_epoch44_step430000_3723.png': [4, 0],\n",
       "             'BEGAN_epoch44_step430000_3912.png': [1, 0],\n",
       "             'BEGAN_epoch44_step430000_1746.png': [1, 0],\n",
       "             'BEGAN_epoch44_step430000_303.png': [1, 1],\n",
       "             'BEGAN_epoch44_step430000_3377.png': [1, 0],\n",
       "             'BEGAN_epoch44_step430000_2421.png': [3, 0],\n",
       "             'BEGAN_epoch44_step430000_866.png': [1, 0],\n",
       "             'BEGAN_epoch44_step430000_3588.png': [1, 0],\n",
       "             'BEGAN_epoch44_step430000_3058.png': [1, 0],\n",
       "             'BEGAN_epoch44_step430000_561.png': [2, 0],\n",
       "             'BEGAN_epoch44_step430000_617.png': [3, 0],\n",
       "             'BEGAN_epoch44_step430000_2859.png': [2, 0],\n",
       "             'BEGAN_epoch44_step430000_4381.png': [1, 0],\n",
       "             'BEGAN_epoch44_step430000_113.png': [1, 0],\n",
       "             'BEGAN_epoch44_step430000_3887.png': [2, 0],\n",
       "             'BEGAN_epoch44_step430000_2418.png': [1, 0],\n",
       "             'BEGAN_epoch44_step430000_4679.png': [1, 0],\n",
       "             'BEGAN_epoch44_step430000_2962.png': [1, 0],\n",
       "             'BEGAN_epoch44_step430000_604.png': [1, 0],\n",
       "             'BEGAN_epoch44_step430000_4322.png': [1, 0],\n",
       "             'BEGAN_epoch44_step430000_3262.png': [1, 0],\n",
       "             'BEGAN_epoch44_step430000_1613.png': [2, 1],\n",
       "             'BEGAN_epoch44_step430000_855.png': [1, 0],\n",
       "             'BEGAN_epoch44_step430000_753.png': [1, 0],\n",
       "             'BEGAN_epoch44_step430000_4575.png': [2, 0],\n",
       "             'BEGAN_epoch44_step430000_3985.png': [1, 0],\n",
       "             'BEGAN_epoch44_step430000_2054.png': [1, 0],\n",
       "             'BEGAN_epoch44_step430000_1969.png': [1, 0],\n",
       "             'BEGAN_epoch44_step430000_981.png': [2, 0],\n",
       "             'BEGAN_epoch44_step430000_1483.png': [1, 0],\n",
       "             'BEGAN_epoch44_step430000_1790.png': [1, 0],\n",
       "             'BEGAN_epoch44_step430000_290.png': [1, 0],\n",
       "             'BEGAN_epoch44_step430000_2363.png': [1, 0],\n",
       "             'BEGAN_epoch44_step430000_2860.png': [1, 0],\n",
       "             'BEGAN_epoch44_step430000_4177.png': [1, 0],\n",
       "             'BEGAN_epoch44_step430000_809.png': [2, 0],\n",
       "             'BEGAN_epoch44_step430000_2284.png': [1, 0],\n",
       "             'BEGAN_epoch44_step430000_1521.png': [1, 0],\n",
       "             'BEGAN_epoch44_step430000_4565.png': [1, 0],\n",
       "             'BEGAN_epoch44_step430000_2185.png': [1, 0],\n",
       "             'BEGAN_epoch44_step430000_2568.png': [1, 0],\n",
       "             'BEGAN_epoch44_step430000_2924.png': [1, 0],\n",
       "             'BEGAN_epoch44_step430000_2633.png': [3, 0],\n",
       "             'BEGAN_epoch44_step430000_3053.png': [2, 1],\n",
       "             'BEGAN_epoch44_step430000_691.png': [1, 0],\n",
       "             'BEGAN_epoch44_step430000_2116.png': [3, 0],\n",
       "             'BEGAN_epoch44_step430000_2210.png': [2, 0],\n",
       "             'BEGAN_epoch44_step430000_3527.png': [1, 0],\n",
       "             'BEGAN_epoch44_step430000_707.png': [1, 0],\n",
       "             'BEGAN_epoch44_step430000_4954.png': [1, 0],\n",
       "             'BEGAN_epoch44_step430000_3861.png': [2, 0],\n",
       "             'BEGAN_epoch44_step430000_181.png': [1, 0],\n",
       "             'BEGAN_epoch44_step430000_4956.png': [1, 0],\n",
       "             'BEGAN_epoch44_step430000_3468.png': [2, 0],\n",
       "             'BEGAN_epoch44_step430000_2214.png': [1, 0],\n",
       "             'BEGAN_epoch44_step430000_3623.png': [1, 0],\n",
       "             'BEGAN_epoch44_step430000_2303.png': [1, 0],\n",
       "             'BEGAN_epoch44_step430000_786.png': [1, 0],\n",
       "             'BEGAN_epoch44_step430000_721.png': [1, 0],\n",
       "             'BEGAN_epoch44_step430000_1271.png': [2, 0],\n",
       "             'BEGAN_epoch44_step430000_1138.png': [2, 0],\n",
       "             'BEGAN_epoch44_step430000_3088.png': [2, 0],\n",
       "             'BEGAN_epoch44_step430000_2968.png': [2, 0],\n",
       "             'BEGAN_epoch44_step430000_1639.png': [1, 0],\n",
       "             'BEGAN_epoch44_step430000_0.png': [1, 0],\n",
       "             'BEGAN_epoch44_step430000_2972.png': [1, 0],\n",
       "             'BEGAN_epoch44_step430000_1062.png': [1, 0],\n",
       "             'BEGAN_epoch44_step430000_2335.png': [1, 0],\n",
       "             'BEGAN_epoch44_step430000_948.png': [2, 0],\n",
       "             'BEGAN_epoch44_step430000_2510.png': [1, 0],\n",
       "             'BEGAN_epoch44_step430000_27.png': [2, 0],\n",
       "             'BEGAN_epoch44_step430000_2831.png': [2, 0],\n",
       "             'BEGAN_epoch44_step430000_2250.png': [1, 0],\n",
       "             'BEGAN_epoch44_step430000_2658.png': [2, 0],\n",
       "             'BEGAN_epoch44_step430000_338.png': [1, 0],\n",
       "             'BEGAN_epoch44_step430000_1685.png': [1, 0],\n",
       "             'BEGAN_epoch44_step430000_3177.png': [2, 0],\n",
       "             'BEGAN_epoch44_step430000_3198.png': [1, 0],\n",
       "             'BEGAN_epoch44_step430000_4501.png': [1, 0],\n",
       "             'BEGAN_epoch44_step430000_1376.png': [1, 0],\n",
       "             'BEGAN_epoch44_step430000_4907.png': [1, 0],\n",
       "             'BEGAN_epoch44_step430000_2380.png': [2, 0],\n",
       "             'BEGAN_epoch44_step430000_1935.png': [1, 0],\n",
       "             'BEGAN_epoch44_step430000_354.png': [1, 0],\n",
       "             'BEGAN_epoch44_step430000_2759.png': [1, 0],\n",
       "             'BEGAN_epoch44_step430000_783.png': [2, 0],\n",
       "             'BEGAN_epoch44_step430000_2321.png': [1, 0],\n",
       "             'BEGAN_epoch44_step430000_4873.png': [2, 0],\n",
       "             'BEGAN_epoch44_step430000_1834.png': [1, 0],\n",
       "             'BEGAN_epoch44_step430000_4693.png': [1, 0],\n",
       "             'BEGAN_epoch44_step430000_941.png': [1, 0],\n",
       "             'BEGAN_epoch44_step430000_4081.png': [1, 0],\n",
       "             'BEGAN_epoch44_step430000_4980.png': [1, 0],\n",
       "             'BEGAN_epoch44_step430000_3648.png': [1, 0],\n",
       "             'BEGAN_epoch44_step430000_4303.png': [1, 0],\n",
       "             'BEGAN_epoch44_step430000_2650.png': [2, 0],\n",
       "             'BEGAN_epoch44_step430000_2582.png': [2, 0],\n",
       "             'BEGAN_epoch44_step430000_4135.png': [2, 0],\n",
       "             'BEGAN_epoch44_step430000_4170.png': [1, 0],\n",
       "             'BEGAN_epoch44_step430000_2174.png': [1, 0],\n",
       "             'BEGAN_epoch44_step430000_3044.png': [2, 0],\n",
       "             'BEGAN_epoch44_step430000_117.png': [1, 0],\n",
       "             'BEGAN_epoch44_step430000_243.png': [1, 0],\n",
       "             'BEGAN_epoch44_step430000_4365.png': [1, 0],\n",
       "             'BEGAN_epoch44_step430000_203.png': [1, 0],\n",
       "             'BEGAN_epoch44_step430000_1054.png': [2, 0],\n",
       "             'BEGAN_epoch44_step430000_1960.png': [2, 0],\n",
       "             'BEGAN_epoch44_step430000_12.png': [1, 0],\n",
       "             'BEGAN_epoch44_step430000_1412.png': [1, 0],\n",
       "             'BEGAN_epoch44_step430000_4717.png': [1, 0],\n",
       "             'BEGAN_epoch44_step430000_1125.png': [1, 0],\n",
       "             'BEGAN_epoch44_step430000_4042.png': [1, 0],\n",
       "             'BEGAN_epoch44_step430000_484.png': [2, 0],\n",
       "             'BEGAN_epoch44_step430000_2171.png': [1, 0],\n",
       "             'BEGAN_epoch44_step430000_456.png': [1, 0],\n",
       "             'BEGAN_epoch44_step430000_2944.png': [2, 0],\n",
       "             'BEGAN_epoch44_step430000_2516.png': [1, 0],\n",
       "             'BEGAN_epoch44_step430000_3169.png': [1, 0],\n",
       "             'BEGAN_epoch44_step430000_4763.png': [1, 0],\n",
       "             'BEGAN_epoch44_step430000_3029.png': [1, 0],\n",
       "             'BEGAN_epoch44_step430000_1847.png': [2, 0],\n",
       "             'BEGAN_epoch44_step430000_9.png': [1, 0],\n",
       "             'BEGAN_epoch44_step430000_2296.png': [2, 0],\n",
       "             ...})"
      ]
     },
     "execution_count": 67,
     "metadata": {},
     "output_type": "execute_result"
    }
   ],
   "source": [
    "img_votes['began5000']"
   ]
  },
  {
   "cell_type": "code",
   "execution_count": 62,
   "metadata": {},
   "outputs": [],
   "source": [
    "began_labeled_set = set(img_votes['began5000'].keys())"
   ]
  },
  {
   "cell_type": "code",
   "execution_count": 63,
   "metadata": {},
   "outputs": [],
   "source": [
    "began_processed_set = set([os.path.split(x)[-1] for x in began_filenames])"
   ]
  },
  {
   "cell_type": "code",
   "execution_count": 64,
   "metadata": {},
   "outputs": [
    {
     "data": {
      "text/plain": [
       "True"
      ]
     },
     "execution_count": 64,
     "metadata": {},
     "output_type": "execute_result"
    }
   ],
   "source": [
    "#Confirming we have features for the same images we have human labels for!\n",
    "began_processed_set.issubset(began_labeled_set)\n",
    "\n",
    "\n",
    "#len(progan_labeled_set), len(progan_processed_set)\n",
    "#progan_labeled_set.difference(progan_processed_set)\n",
    "#progan_processed_set.difference(progan_labeled_set)\n",
    "#os.path.split(progan_filenames[0])[-1]"
   ]
  },
  {
   "cell_type": "code",
   "execution_count": 65,
   "metadata": {},
   "outputs": [
    {
     "data": {
      "image/png": "[encoded data removed]",
      "text/plain": [
       "<Figure size 432x288 with 1 Axes>"
      ]
     },
     "metadata": {
      "needs_background": "light"
     },
     "output_type": "display_data"
    }
   ],
   "source": [
    "num_votes = [x+y for x,y in img_votes['began5000'].values()]\n",
    "plt.hist(num_votes)\n",
    "plt.show()\n",
    "#Most images have 1 label, most others have 2, a few with 3 or 4\n",
    "#So logistic regression is a good model"
   ]
  },
  {
   "cell_type": "code",
   "execution_count": 66,
   "metadata": {},
   "outputs": [
    {
     "data": {
      "image/png": "[encoded data removed]",
      "text/plain": [
       "<Figure size 432x288 with 1 Axes>"
      ]
     },
     "metadata": {
      "needs_background": "light"
     },
     "output_type": "display_data"
    }
   ],
   "source": [
    "vote_pct_correct = [y/(x+y) for x,y in img_votes['began5000'].values()]\n",
    "plt.hist(vote_pct_correct)\n",
    "plt.show()"
   ]
  },
  {
   "cell_type": "code",
   "execution_count": 28,
   "metadata": {},
   "outputs": [
    {
     "name": "stdout",
     "output_type": "stream",
     "text": [
      "0\n",
      "1\n"
     ]
    },
    {
     "data": {
      "image/png": "[encoded data removed]",
      "text/plain": [
       "<Figure size 432x288 with 1 Axes>"
      ]
     },
     "metadata": {
      "needs_background": "light"
     },
     "output_type": "display_data"
    },
    {
     "name": "stdout",
     "output_type": "stream",
     "text": [
      "2\n"
     ]
    },
    {
     "data": {
      "image/png": "[encoded data removed]",
      "text/plain": [
       "<Figure size 432x288 with 1 Axes>"
      ]
     },
     "metadata": {
      "needs_background": "light"
     },
     "output_type": "display_data"
    },
    {
     "name": "stdout",
     "output_type": "stream",
     "text": [
      "3\n"
     ]
    },
    {
     "data": {
      "image/png": "[encoded data removed]",
      "text/plain": [
       "<Figure size 432x288 with 1 Axes>"
      ]
     },
     "metadata": {
      "needs_background": "light"
     },
     "output_type": "display_data"
    },
    {
     "name": "stdout",
     "output_type": "stream",
     "text": [
      "4\n"
     ]
    },
    {
     "data": {
      "image/png": "[encoded data removed]",
      "text/plain": [
       "<Figure size 432x288 with 1 Axes>"
      ]
     },
     "metadata": {
      "needs_background": "light"
     },
     "output_type": "display_data"
    },
    {
     "name": "stdout",
     "output_type": "stream",
     "text": [
      "5\n"
     ]
    },
    {
     "data": {
      "image/png": "[encoded data removed]",
      "text/plain": [
       "<Figure size 432x288 with 1 Axes>"
      ]
     },
     "metadata": {
      "needs_background": "light"
     },
     "output_type": "display_data"
    },
    {
     "name": "stdout",
     "output_type": "stream",
     "text": [
      "6\n"
     ]
    },
    {
     "data": {
      "image/png": "[encoded data removed]",
      "text/plain": [
       "<Figure size 432x288 with 1 Axes>"
      ]
     },
     "metadata": {
      "needs_background": "light"
     },
     "output_type": "display_data"
    }
   ],
   "source": [
    "L = len(began_distance_features[0])\n",
    "feats_by_layer = [[],[],[],[],[],[],[]]\n",
    "for l in range(L):\n",
    "    print(l)\n",
    "    cur_feats = [x[l] for x in began_distance_features]\n",
    "    feats_by_layer[l] = cur_feats\n",
    "    #plt.hist(cur_feats)\n",
    "    #plt.show()\n",
    "    if l > 0:\n",
    "        plt.scatter(feats_by_layer[l-1], feats_by_layer[l])\n",
    "        plt.show()\n",
    "\n",
    "plt.show()\n",
    "# Adjacent layers are highly correlated to each other -\n",
    "# so we could probably get a similar amount of signal by using fewer layers\n",
    "# (only need to look at adjacent ones because activations for layer i+1 are independent of\n",
    "# layer i-1 activations when conditioned on layer i - analogous to Markov property)"
   ]
  },
  {
   "cell_type": "code",
   "execution_count": 59,
   "metadata": {},
   "outputs": [
    {
     "ename": "IndentationError",
     "evalue": "unexpected indent (<ipython-input-59-f56363be38a6>, line 3)",
     "output_type": "error",
     "traceback": [
      "\u001b[0;36m  File \u001b[0;32m\"<ipython-input-59-f56363be38a6>\"\u001b[0;36m, line \u001b[0;32m3\u001b[0m\n\u001b[0;31m    = img_votes['progan5000'][x]\u001b[0m\n\u001b[0m    ^\u001b[0m\n\u001b[0;31mIndentationError\u001b[0m\u001b[0;31m:\u001b[0m unexpected indent\n"
     ]
    }
   ],
   "source": [
    "#x = os.path.split(progan_filenames[0])[-1]\n",
    "#y = progan_distance_features[0]\n",
    "# = img_votes['progan5000'][x]\n",
    "#x, y, l"
   ]
  },
  {
   "cell_type": "code",
   "execution_count": 30,
   "metadata": {},
   "outputs": [
    {
     "name": "stdout",
     "output_type": "stream",
     "text": [
      "1574 196 196 1966 1966\n"
     ]
    }
   ],
   "source": [
    "#split into train, val, test\n",
    "#then do logistic regression on train, check on val!\n",
    "\n",
    "#Let's split such that train set is 0 through 7 mod 10, val is 8 mod 10, test is 9 mod 10\n",
    "N = len(began_filenames)\n",
    "train_indices = [i for i in range(N) if i % 10 in range(8)]\n",
    "val_indices =   [i for i in range(N) if i % 10 == 8]\n",
    "test_indices =  [i for i in range(N) if i % 10 == 9]\n",
    "\n",
    "ltrain = len(train_indices)\n",
    "lval = len(val_indices)\n",
    "ltest = len(test_indices)\n",
    "print(ltrain, lval, ltest, ltrain+lval+ltest, N)\n",
    "\n",
    "train_files = [began_filenames[i] for i in train_indices]\n",
    "val_files = [began_filenames[i] for i in val_indices]\n",
    "test_files = [began_filenames[i] for i in test_indices]\n"
   ]
  },
  {
   "cell_type": "code",
   "execution_count": 31,
   "metadata": {},
   "outputs": [],
   "source": [
    "with open('began_train_set.txt', 'w') as f:\n",
    "    for x in train_files:\n",
    "        f.write(x + '\\n')\n",
    "        \n",
    "with open('began_val_set.txt', 'w') as f:\n",
    "    for x in val_files:\n",
    "        f.write(x + '\\n')\n",
    "        \n",
    "with open('began_test_set.txt', 'w') as f:\n",
    "    for x in test_files:\n",
    "        f.write(x + '\\n')"
   ]
  },
  {
   "cell_type": "code",
   "execution_count": 32,
   "metadata": {},
   "outputs": [
    {
     "name": "stdout",
     "output_type": "stream",
     "text": [
      "['imgs_by_label/began_labeled/began_labeled_imgs/BEGAN_epoch44_step430000_0.png', 'imgs_by_label/began_labeled/began_labeled_imgs/BEGAN_epoch44_step430000_1001.png', 'imgs_by_label/began_labeled/began_labeled_imgs/BEGAN_epoch44_step430000_101.png', 'imgs_by_label/began_labeled/began_labeled_imgs/BEGAN_epoch44_step430000_1013.png', 'imgs_by_label/began_labeled/began_labeled_imgs/BEGAN_epoch44_step430000_1014.png']\n",
      "['imgs_by_label/began_labeled/began_labeled_imgs/BEGAN_epoch44_step430000_1024.png', 'imgs_by_label/began_labeled/began_labeled_imgs/BEGAN_epoch44_step430000_1053.png', 'imgs_by_label/began_labeled/began_labeled_imgs/BEGAN_epoch44_step430000_1078.png', 'imgs_by_label/began_labeled/began_labeled_imgs/BEGAN_epoch44_step430000_1096.png', 'imgs_by_label/began_labeled/began_labeled_imgs/BEGAN_epoch44_step430000_1122.png']\n"
     ]
    }
   ],
   "source": [
    "#with open('train_set.txt') as f:\n",
    "#    train_files = [x.strip() for x in f.readlines()]\n",
    "    \n",
    "print(train_files[:5])\n",
    "\n",
    "#with open('val_set.txt') as f:\n",
    "#    val_files = [x.strip() for x in f.readlines()]\n",
    "    \n",
    "print(val_files[:5])"
   ]
  },
  {
   "cell_type": "code",
   "execution_count": 44,
   "metadata": {},
   "outputs": [
    {
     "data": {
      "text/plain": [
       "1966"
      ]
     },
     "execution_count": 44,
     "metadata": {},
     "output_type": "execute_result"
    }
   ],
   "source": [
    "features_by_file = {began_filenames[i] : began_distance_features[i] for i in range(len(began_filenames))}\n",
    "len(features_by_file)"
   ]
  },
  {
   "cell_type": "code",
   "execution_count": 34,
   "metadata": {},
   "outputs": [
    {
     "data": {
      "text/plain": [
       "2397"
      ]
     },
     "execution_count": 34,
     "metadata": {},
     "output_type": "execute_result"
    }
   ],
   "source": [
    "votes_by_file = {'imgs_by_label/began_labeled/began_labeled_imgs/' + k : v for k,v in img_votes['began5000'].items()}\n",
    "len(votes_by_file)"
   ]
  },
  {
   "cell_type": "code",
   "execution_count": 48,
   "metadata": {},
   "outputs": [
    {
     "data": {
      "application/vnd.jupyter.widget-view+json": {
       "model_id": "bbf9891a41c34c2380c448f2dd2c8c93",
       "version_major": 2,
       "version_minor": 0
      },
      "text/plain": [
       "HBox(children=(IntProgress(value=0, max=1574), HTML(value='')))"
      ]
     },
     "metadata": {},
     "output_type": "display_data"
    },
    {
     "data": {
      "text/plain": [
       "(2140, 2140)"
      ]
     },
     "execution_count": 48,
     "metadata": {},
     "output_type": "execute_result"
    }
   ],
   "source": [
    "#vote of 1 is correctly spotting the fakeness, vote of 0 is being fooled\n",
    "X = []\n",
    "Y = []\n",
    "for f in tqdm_notebook(train_files):\n",
    "    cur_feats = features_by_file[f]\n",
    "    cur_votes = votes_by_file[f]\n",
    "    false_votes, true_votes = cur_votes\n",
    "    #print(false_votes + true_votes)\n",
    "    #print(f, cur_feats, cur_votes, '\\n')\n",
    "    \n",
    "    for i in range(false_votes):\n",
    "        X.append(cur_feats)\n",
    "        Y.append(0)\n",
    "        \n",
    "    for i in range(true_votes):\n",
    "        X.append(cur_feats)\n",
    "        Y.append(1)\n",
    "#print(X)\n",
    "#print(Y)\n",
    "\n",
    "len(X), len(Y)"
   ]
  },
  {
   "cell_type": "code",
   "execution_count": 49,
   "metadata": {},
   "outputs": [
    {
     "name": "stderr",
     "output_type": "stream",
     "text": [
      "/home/alexkolchinski/.conda/envs/myenv/lib/python3.7/site-packages/sklearn/linear_model/logistic.py:432: FutureWarning: Default solver will be changed to 'lbfgs' in 0.22. Specify a solver to silence this warning.\n",
      "  FutureWarning)\n"
     ]
    }
   ],
   "source": [
    "lr = LogisticRegression().fit(X, Y)"
   ]
  },
  {
   "cell_type": "code",
   "execution_count": 50,
   "metadata": {},
   "outputs": [
    {
     "data": {
      "text/plain": [
       "0.9457943925233645"
      ]
     },
     "execution_count": 50,
     "metadata": {},
     "output_type": "execute_result"
    }
   ],
   "source": [
    "lr.score(X, Y)"
   ]
  },
  {
   "cell_type": "code",
   "execution_count": 37,
   "metadata": {},
   "outputs": [
    {
     "data": {
      "application/vnd.jupyter.widget-view+json": {
       "model_id": "d9ffcb4d5036457eaa35ac29b757b725",
       "version_major": 2,
       "version_minor": 0
      },
      "text/plain": [
       "HBox(children=(IntProgress(value=0, max=196), HTML(value='')))"
      ]
     },
     "metadata": {},
     "output_type": "display_data"
    }
   ],
   "source": [
    "#vote of 1 is correctly spotting the fakeness, vote of 0 is being fooled\n",
    "X_val = []\n",
    "Y_val = []\n",
    "for f in tqdm_notebook(val_files):\n",
    "    cur_feats = features_by_file[f]\n",
    "    cur_votes = votes_by_file[f]\n",
    "    false_votes, true_votes = cur_votes\n",
    "    \n",
    "    for i in range(false_votes):\n",
    "        X_val.append(cur_feats)\n",
    "        Y_val.append(0)\n",
    "        \n",
    "    for i in range(true_votes):\n",
    "        X_val.append(cur_feats)\n",
    "        Y_val.append(1)\n",
    "#print(X)\n",
    "#print(Y)"
   ]
  },
  {
   "cell_type": "code",
   "execution_count": 51,
   "metadata": {},
   "outputs": [
    {
     "data": {
      "text/plain": [
       "0.9556451612903226"
      ]
     },
     "execution_count": 51,
     "metadata": {},
     "output_type": "execute_result"
    }
   ],
   "source": [
    "lr.score(X_val, Y_val)"
   ]
  },
  {
   "cell_type": "code",
   "execution_count": 75,
   "metadata": {},
   "outputs": [
    {
     "name": "stdout",
     "output_type": "stream",
     "text": [
      "0.8975330884284839 0.20172465325344524\n"
     ]
    },
    {
     "data": {
      "image/png": "[encoded data removed]",
      "text/plain": [
       "<Figure size 432x288 with 1 Axes>"
      ]
     },
     "metadata": {
      "needs_background": "light"
     },
     "output_type": "display_data"
    }
   ],
   "source": [
    "probs = lr.predict_proba(X)\n",
    "true_probs = np.array([probs[i][Y[i]] for i in range(len(probs))])\n",
    "\n",
    "plt.hist(true_probs, bins=100)\n",
    "print(np.mean(true_probs), np.std(true_probs))"
   ]
  },
  {
   "cell_type": "code",
   "execution_count": 76,
   "metadata": {},
   "outputs": [
    {
     "name": "stdout",
     "output_type": "stream",
     "text": [
      "0.9072820325845394 0.182752754681628\n"
     ]
    },
    {
     "data": {
      "image/png": "[encoded data removed]",
      "text/plain": [
       "<Figure size 432x288 with 1 Axes>"
      ]
     },
     "metadata": {
      "needs_background": "light"
     },
     "output_type": "display_data"
    }
   ],
   "source": [
    "val_probs = lr.predict_proba(X_val)\n",
    "true_val_probs = np.array([val_probs[i][Y_val[i]] for i in range(len(val_probs))])\n",
    "\n",
    "plt.hist(true_val_probs, bins=100)\n",
    "print(np.mean(true_val_probs), np.std(true_val_probs))"
   ]
  },
  {
   "cell_type": "code",
   "execution_count": 55,
   "metadata": {},
   "outputs": [
    {
     "data": {
      "text/plain": [
       "array([[ 0.00685451,  0.1113986 ,  0.16539082,  0.02744812, -0.23436963,\n",
       "        -0.1731952 ,  0.0621248 ]])"
      ]
     },
     "execution_count": 55,
     "metadata": {},
     "output_type": "execute_result"
    }
   ],
   "source": [
    "lr.coef_"
   ]
  },
  {
   "cell_type": "code",
   "execution_count": null,
   "metadata": {},
   "outputs": [],
   "source": []
  }
 ],
 "metadata": {
  "kernelspec": {
   "display_name": "Python 3",
   "language": "python",
   "name": "python3"
  },
  "language_info": {
   "codemirror_mode": {
    "name": "ipython",
    "version": 3
   },
   "file_extension": ".py",
   "mimetype": "text/x-python",
   "name": "python",
   "nbconvert_exporter": "python",
   "pygments_lexer": "ipython3",
   "version": "3.7.4"
  }
 },
 "nbformat": 4,
 "nbformat_minor": 2
}
