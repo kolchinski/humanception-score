{
 "cells": [
  {
   "cell_type": "code",
   "execution_count": 1,
   "metadata": {},
   "outputs": [],
   "source": [
    "import csv\n",
    "from IPython.display import Image, display, HTML\n",
    "from collections import defaultdict\n",
    "from itertools import combinations\n",
    "from random import shuffle"
   ]
  },
  {
   "cell_type": "code",
   "execution_count": 2,
   "metadata": {},
   "outputs": [],
   "source": [
    "csv_indices = {\n",
    "'IMAGE_1_KEY' : 'Input.item1_image_url',\n",
    "'IMAGE_2_KEY' : 'Input.item2_image_url',\n",
    "'LABEL_KEY' : 'Answer.realistic.label',\n",
    "}"
   ]
  },
  {
   "cell_type": "code",
   "execution_count": 6,
   "metadata": {},
   "outputs": [],
   "source": [
    "with open('trial_batch_full/Batch_3716381_batch_results.csv') as f:\n",
    "    reader = csv.DictReader(f)\n",
    "    rows = [row for row in reader]"
   ]
  },
  {
   "cell_type": "code",
   "execution_count": 7,
   "metadata": {
    "scrolled": false
   },
   "outputs": [],
   "source": [
    "win_counts = defaultdict(lambda: [0,0])\n",
    "for row in rows:\n",
    "    #display(Image(url=row[csv_indices['IMAGE_1_KEY']]))\n",
    "    #display(Image(url=row[csv_indices['IMAGE_2_KEY']]))\n",
    "    url1 = row[csv_indices['IMAGE_1_KEY']]\n",
    "    url2 = row[csv_indices['IMAGE_2_KEY']]\n",
    "    winner = row[csv_indices['LABEL_KEY']]\n",
    "    \n",
    "    if winner == 'Image 1': win_counts[(url1,url2)][0] += 1\n",
    "    else: win_counts[(url1,url2)][1] += 1\n",
    "    #if winner == 'Image 1':\n",
    "    #    stars1, stars2 = ('<center><font size=12>**********</font></center>', '')\n",
    "    #else:\n",
    "    #    stars1, stars2 = ('', '<center><font size=12>**********</font></center>')\n",
    "\n",
    "    #display(HTML(\"<table><tr><td><img src='{}'>{}</td><td><img src='{}'>{}</td></tr></table>\".format(\n",
    "    #    url1, stars1, url2, stars2)))\n",
    "    \n",
    "    #print([row[x] for x in csv_indices.values()])\n",
    "    #print('\\n\\n')"
   ]
  },
  {
   "cell_type": "code",
   "execution_count": 22,
   "metadata": {
    "scrolled": true
   },
   "outputs": [
    {
     "data": {
      "text/html": [
       "<table><tr><td><img src='https://amt-trial-batch.s3-us-west-1.amazonaws.com/wgan/wgan-1.png'><center><font size=5>2</font></center></td><td><img src='https://amt-trial-batch.s3-us-west-1.amazonaws.com/noise/noise-1.png'><center><font size=5>1</font></center></td></tr></table>"
      ],
      "text/plain": [
       "<IPython.core.display.HTML object>"
      ]
     },
     "metadata": {},
     "output_type": "display_data"
    },
    {
     "name": "stdout",
     "output_type": "stream",
     "text": [
      "\n",
      "\n"
     ]
    },
    {
     "data": {
      "text/html": [
       "<table><tr><td><img src='https://amt-trial-batch.s3-us-west-1.amazonaws.com/noise/noise-1.png'><center><font size=5>0</font></center></td><td><img src='https://amt-trial-batch.s3-us-west-1.amazonaws.com/glow/glow_samples-10.jpg'><center><font size=5>3</font></center></td></tr></table>"
      ],
      "text/plain": [
       "<IPython.core.display.HTML object>"
      ]
     },
     "metadata": {},
     "output_type": "display_data"
    },
    {
     "name": "stdout",
     "output_type": "stream",
     "text": [
      "\n",
      "\n"
     ]
    },
    {
     "data": {
      "text/html": [
       "<table><tr><td><img src='https://amt-trial-batch.s3-us-west-1.amazonaws.com/real/real-sample-1.png'><center><font size=5>3</font></center></td><td><img src='https://amt-trial-batch.s3-us-west-1.amazonaws.com/noise/noise-1.png'><center><font size=5>0</font></center></td></tr></table>"
      ],
      "text/plain": [
       "<IPython.core.display.HTML object>"
      ]
     },
     "metadata": {},
     "output_type": "display_data"
    },
    {
     "name": "stdout",
     "output_type": "stream",
     "text": [
      "\n",
      "\n"
     ]
    },
    {
     "data": {
      "text/html": [
       "<table><tr><td><img src='https://amt-trial-batch.s3-us-west-1.amazonaws.com/real/real-sample-2.png'><center><font size=5>3</font></center></td><td><img src='https://amt-trial-batch.s3-us-west-1.amazonaws.com/noise/noise-1.png'><center><font size=5>0</font></center></td></tr></table>"
      ],
      "text/plain": [
       "<IPython.core.display.HTML object>"
      ]
     },
     "metadata": {},
     "output_type": "display_data"
    },
    {
     "name": "stdout",
     "output_type": "stream",
     "text": [
      "\n",
      "\n"
     ]
    },
    {
     "data": {
      "text/html": [
       "<table><tr><td><img src='https://amt-trial-batch.s3-us-west-1.amazonaws.com/noise/noise-1.png'><center><font size=5>0</font></center></td><td><img src='https://amt-trial-batch.s3-us-west-1.amazonaws.com/glow/glow_samples-3.jpg'><center><font size=5>3</font></center></td></tr></table>"
      ],
      "text/plain": [
       "<IPython.core.display.HTML object>"
      ]
     },
     "metadata": {},
     "output_type": "display_data"
    },
    {
     "name": "stdout",
     "output_type": "stream",
     "text": [
      "\n",
      "\n"
     ]
    },
    {
     "data": {
      "text/html": [
       "<table><tr><td><img src='https://amt-trial-batch.s3-us-west-1.amazonaws.com/wgan/wgan-3.png'><center><font size=5>3</font></center></td><td><img src='https://amt-trial-batch.s3-us-west-1.amazonaws.com/noise/noise-1.png'><center><font size=5>0</font></center></td></tr></table>"
      ],
      "text/plain": [
       "<IPython.core.display.HTML object>"
      ]
     },
     "metadata": {},
     "output_type": "display_data"
    },
    {
     "name": "stdout",
     "output_type": "stream",
     "text": [
      "\n",
      "\n"
     ]
    },
    {
     "data": {
      "text/html": [
       "<table><tr><td><img src='https://amt-trial-batch.s3-us-west-1.amazonaws.com/lsgan/lsgan-2.png'><center><font size=5>3</font></center></td><td><img src='https://amt-trial-batch.s3-us-west-1.amazonaws.com/noise/noise-1.png'><center><font size=5>0</font></center></td></tr></table>"
      ],
      "text/plain": [
       "<IPython.core.display.HTML object>"
      ]
     },
     "metadata": {},
     "output_type": "display_data"
    },
    {
     "name": "stdout",
     "output_type": "stream",
     "text": [
      "\n",
      "\n"
     ]
    },
    {
     "data": {
      "text/html": [
       "<table><tr><td><img src='https://amt-trial-batch.s3-us-west-1.amazonaws.com/noise/noise-1.png'><center><font size=5>0</font></center></td><td><img src='https://amt-trial-batch.s3-us-west-1.amazonaws.com/glow/glow_samples-8.jpg'><center><font size=5>3</font></center></td></tr></table>"
      ],
      "text/plain": [
       "<IPython.core.display.HTML object>"
      ]
     },
     "metadata": {},
     "output_type": "display_data"
    },
    {
     "name": "stdout",
     "output_type": "stream",
     "text": [
      "\n",
      "\n"
     ]
    },
    {
     "data": {
      "text/html": [
       "<table><tr><td><img src='https://amt-trial-batch.s3-us-west-1.amazonaws.com/wgan/wgan-2.png'><center><font size=5>1</font></center></td><td><img src='https://amt-trial-batch.s3-us-west-1.amazonaws.com/noise/noise-1.png'><center><font size=5>2</font></center></td></tr></table>"
      ],
      "text/plain": [
       "<IPython.core.display.HTML object>"
      ]
     },
     "metadata": {},
     "output_type": "display_data"
    },
    {
     "name": "stdout",
     "output_type": "stream",
     "text": [
      "\n",
      "\n"
     ]
    },
    {
     "data": {
      "text/html": [
       "<table><tr><td><img src='https://amt-trial-batch.s3-us-west-1.amazonaws.com/noise/noise-1.png'><center><font size=5>1</font></center></td><td><img src='https://amt-trial-batch.s3-us-west-1.amazonaws.com/glow/glow_samples-7.jpg'><center><font size=5>2</font></center></td></tr></table>"
      ],
      "text/plain": [
       "<IPython.core.display.HTML object>"
      ]
     },
     "metadata": {},
     "output_type": "display_data"
    },
    {
     "name": "stdout",
     "output_type": "stream",
     "text": [
      "\n",
      "\n"
     ]
    },
    {
     "data": {
      "text/html": [
       "<table><tr><td><img src='https://amt-trial-batch.s3-us-west-1.amazonaws.com/noise/noise-1.png'><center><font size=5>0</font></center></td><td><img src='https://amt-trial-batch.s3-us-west-1.amazonaws.com/glow/glow_samples-4.jpg'><center><font size=5>3</font></center></td></tr></table>"
      ],
      "text/plain": [
       "<IPython.core.display.HTML object>"
      ]
     },
     "metadata": {},
     "output_type": "display_data"
    },
    {
     "name": "stdout",
     "output_type": "stream",
     "text": [
      "\n",
      "\n"
     ]
    },
    {
     "data": {
      "text/html": [
       "<table><tr><td><img src='https://amt-trial-batch.s3-us-west-1.amazonaws.com/real/real-sample-3.png'><center><font size=5>3</font></center></td><td><img src='https://amt-trial-batch.s3-us-west-1.amazonaws.com/noise/noise-1.png'><center><font size=5>0</font></center></td></tr></table>"
      ],
      "text/plain": [
       "<IPython.core.display.HTML object>"
      ]
     },
     "metadata": {},
     "output_type": "display_data"
    },
    {
     "name": "stdout",
     "output_type": "stream",
     "text": [
      "\n",
      "\n"
     ]
    },
    {
     "data": {
      "text/html": [
       "<table><tr><td><img src='https://amt-trial-batch.s3-us-west-1.amazonaws.com/noise/noise-1.png'><center><font size=5>1</font></center></td><td><img src='https://amt-trial-batch.s3-us-west-1.amazonaws.com/glow/glow_samples-2.jpg'><center><font size=5>2</font></center></td></tr></table>"
      ],
      "text/plain": [
       "<IPython.core.display.HTML object>"
      ]
     },
     "metadata": {},
     "output_type": "display_data"
    },
    {
     "name": "stdout",
     "output_type": "stream",
     "text": [
      "\n",
      "\n"
     ]
    },
    {
     "data": {
      "text/html": [
       "<table><tr><td><img src='https://amt-trial-batch.s3-us-west-1.amazonaws.com/lsgan/lsgan-1.png'><center><font size=5>3</font></center></td><td><img src='https://amt-trial-batch.s3-us-west-1.amazonaws.com/noise/noise-1.png'><center><font size=5>0</font></center></td></tr></table>"
      ],
      "text/plain": [
       "<IPython.core.display.HTML object>"
      ]
     },
     "metadata": {},
     "output_type": "display_data"
    },
    {
     "name": "stdout",
     "output_type": "stream",
     "text": [
      "\n",
      "\n"
     ]
    },
    {
     "data": {
      "text/html": [
       "<table><tr><td><img src='https://amt-trial-batch.s3-us-west-1.amazonaws.com/noise/noise-1.png'><center><font size=5>0</font></center></td><td><img src='https://amt-trial-batch.s3-us-west-1.amazonaws.com/glow/glow_samples-9.jpg'><center><font size=5>3</font></center></td></tr></table>"
      ],
      "text/plain": [
       "<IPython.core.display.HTML object>"
      ]
     },
     "metadata": {},
     "output_type": "display_data"
    },
    {
     "name": "stdout",
     "output_type": "stream",
     "text": [
      "\n",
      "\n"
     ]
    },
    {
     "data": {
      "text/html": [
       "<table><tr><td><img src='https://amt-trial-batch.s3-us-west-1.amazonaws.com/lsgan/lsgan-4.png'><center><font size=5>2</font></center></td><td><img src='https://amt-trial-batch.s3-us-west-1.amazonaws.com/noise/noise-1.png'><center><font size=5>1</font></center></td></tr></table>"
      ],
      "text/plain": [
       "<IPython.core.display.HTML object>"
      ]
     },
     "metadata": {},
     "output_type": "display_data"
    },
    {
     "name": "stdout",
     "output_type": "stream",
     "text": [
      "\n",
      "\n"
     ]
    },
    {
     "data": {
      "text/html": [
       "<table><tr><td><img src='https://amt-trial-batch.s3-us-west-1.amazonaws.com/noise/noise-1.png'><center><font size=5>0</font></center></td><td><img src='https://amt-trial-batch.s3-us-west-1.amazonaws.com/glow/glow_samples-6.jpg'><center><font size=5>3</font></center></td></tr></table>"
      ],
      "text/plain": [
       "<IPython.core.display.HTML object>"
      ]
     },
     "metadata": {},
     "output_type": "display_data"
    },
    {
     "name": "stdout",
     "output_type": "stream",
     "text": [
      "\n",
      "\n"
     ]
    },
    {
     "data": {
      "text/html": [
       "<table><tr><td><img src='https://amt-trial-batch.s3-us-west-1.amazonaws.com/lsgan/lsgan-3.png'><center><font size=5>2</font></center></td><td><img src='https://amt-trial-batch.s3-us-west-1.amazonaws.com/noise/noise-1.png'><center><font size=5>1</font></center></td></tr></table>"
      ],
      "text/plain": [
       "<IPython.core.display.HTML object>"
      ]
     },
     "metadata": {},
     "output_type": "display_data"
    },
    {
     "name": "stdout",
     "output_type": "stream",
     "text": [
      "\n",
      "\n"
     ]
    },
    {
     "data": {
      "text/html": [
       "<table><tr><td><img src='https://amt-trial-batch.s3-us-west-1.amazonaws.com/wgan/wgan5.png'><center><font size=5>2</font></center></td><td><img src='https://amt-trial-batch.s3-us-west-1.amazonaws.com/noise/noise-1.png'><center><font size=5>1</font></center></td></tr></table>"
      ],
      "text/plain": [
       "<IPython.core.display.HTML object>"
      ]
     },
     "metadata": {},
     "output_type": "display_data"
    },
    {
     "name": "stdout",
     "output_type": "stream",
     "text": [
      "\n",
      "\n"
     ]
    },
    {
     "data": {
      "text/html": [
       "<table><tr><td><img src='https://amt-trial-batch.s3-us-west-1.amazonaws.com/noise/noise-1.png'><center><font size=5>0</font></center></td><td><img src='https://amt-trial-batch.s3-us-west-1.amazonaws.com/glow/glow_samples-1.jpg'><center><font size=5>3</font></center></td></tr></table>"
      ],
      "text/plain": [
       "<IPython.core.display.HTML object>"
      ]
     },
     "metadata": {},
     "output_type": "display_data"
    },
    {
     "name": "stdout",
     "output_type": "stream",
     "text": [
      "\n",
      "\n"
     ]
    },
    {
     "data": {
      "text/html": [
       "<table><tr><td><img src='https://amt-trial-batch.s3-us-west-1.amazonaws.com/noise/noise-1.png'><center><font size=5>0</font></center></td><td><img src='https://amt-trial-batch.s3-us-west-1.amazonaws.com/glow/glow_samples-5.jpg'><center><font size=5>3</font></center></td></tr></table>"
      ],
      "text/plain": [
       "<IPython.core.display.HTML object>"
      ]
     },
     "metadata": {},
     "output_type": "display_data"
    },
    {
     "name": "stdout",
     "output_type": "stream",
     "text": [
      "\n",
      "\n"
     ]
    }
   ],
   "source": [
    "html_string = '<center><font size=5>{}</font></center>'\n",
    "for k,v in win_counts.items():\n",
    "    if 'noise' not in k[0] and 'noise' not in k[1]: continue\n",
    "    display(HTML(\"<table><tr><td><img src='{}'>{}</td><td><img src='{}'>{}</td></tr></table>\".format(\n",
    "        k[0], html_string.format(v[0]), k[1], html_string.format(v[1]))))\n",
    "    print()\n",
    "    print()"
   ]
  },
  {
   "cell_type": "code",
   "execution_count": 9,
   "metadata": {},
   "outputs": [],
   "source": [
    "img_wins = defaultdict(int)\n",
    "img_trials = defaultdict(int)\n",
    "for k,v in win_counts.items():\n",
    "    img1 = k[0]\n",
    "    img2 = k[1]\n",
    "    wins1 = v[0]\n",
    "    wins2 = v[1]\n",
    "    img_wins[img1] += wins1\n",
    "    img_wins[img2] += wins2\n",
    "    img_trials[img1] += (wins1 + wins2)\n",
    "    img_trials[img2] += (wins1 + wins2)\n",
    "    "
   ]
  },
  {
   "cell_type": "code",
   "execution_count": 16,
   "metadata": {},
   "outputs": [],
   "source": [
    "sorted_images = sorted(img_wins.items(), key=lambda x: x[1])"
   ]
  },
  {
   "cell_type": "code",
   "execution_count": 21,
   "metadata": {
    "scrolled": false
   },
   "outputs": [
    {
     "data": {
      "text/html": [
       "<img src=\"https://amt-trial-batch.s3-us-west-1.amazonaws.com/wgan/wgan-3.png\"/>"
      ],
      "text/plain": [
       "<IPython.core.display.Image object>"
      ]
     },
     "metadata": {},
     "output_type": "display_data"
    },
    {
     "name": "stdout",
     "output_type": "stream",
     "text": [
      "7/63 or 11.11111111111111%\n",
      "https://amt-trial-batch.s3-us-west-1.amazonaws.com/wgan/wgan-3.png\n",
      "\n",
      "\n"
     ]
    },
    {
     "data": {
      "text/html": [
       "<img src=\"https://amt-trial-batch.s3-us-west-1.amazonaws.com/wgan/wgan-1.png\"/>"
      ],
      "text/plain": [
       "<IPython.core.display.Image object>"
      ]
     },
     "metadata": {},
     "output_type": "display_data"
    },
    {
     "name": "stdout",
     "output_type": "stream",
     "text": [
      "8/63 or 12.698412698412698%\n",
      "https://amt-trial-batch.s3-us-west-1.amazonaws.com/wgan/wgan-1.png\n",
      "\n",
      "\n"
     ]
    },
    {
     "data": {
      "text/html": [
       "<img src=\"https://amt-trial-batch.s3-us-west-1.amazonaws.com/noise/noise-1.png\"/>"
      ],
      "text/plain": [
       "<IPython.core.display.Image object>"
      ]
     },
     "metadata": {},
     "output_type": "display_data"
    },
    {
     "name": "stdout",
     "output_type": "stream",
     "text": [
      "8/63 or 12.698412698412698%\n",
      "https://amt-trial-batch.s3-us-west-1.amazonaws.com/noise/noise-1.png\n",
      "\n",
      "\n"
     ]
    },
    {
     "data": {
      "text/html": [
       "<img src=\"https://amt-trial-batch.s3-us-west-1.amazonaws.com/wgan/wgan-2.png\"/>"
      ],
      "text/plain": [
       "<IPython.core.display.Image object>"
      ]
     },
     "metadata": {},
     "output_type": "display_data"
    },
    {
     "name": "stdout",
     "output_type": "stream",
     "text": [
      "11/63 or 17.46031746031746%\n",
      "https://amt-trial-batch.s3-us-west-1.amazonaws.com/wgan/wgan-2.png\n",
      "\n",
      "\n"
     ]
    },
    {
     "data": {
      "text/html": [
       "<img src=\"https://amt-trial-batch.s3-us-west-1.amazonaws.com/glow/glow_samples-8.jpg\"/>"
      ],
      "text/plain": [
       "<IPython.core.display.Image object>"
      ]
     },
     "metadata": {},
     "output_type": "display_data"
    },
    {
     "name": "stdout",
     "output_type": "stream",
     "text": [
      "16/63 or 25.396825396825395%\n",
      "https://amt-trial-batch.s3-us-west-1.amazonaws.com/glow/glow_samples-8.jpg\n",
      "\n",
      "\n"
     ]
    },
    {
     "data": {
      "text/html": [
       "<img src=\"https://amt-trial-batch.s3-us-west-1.amazonaws.com/wgan/wgan5.png\"/>"
      ],
      "text/plain": [
       "<IPython.core.display.Image object>"
      ]
     },
     "metadata": {},
     "output_type": "display_data"
    },
    {
     "name": "stdout",
     "output_type": "stream",
     "text": [
      "17/63 or 26.984126984126984%\n",
      "https://amt-trial-batch.s3-us-west-1.amazonaws.com/wgan/wgan5.png\n",
      "\n",
      "\n"
     ]
    },
    {
     "data": {
      "text/html": [
       "<img src=\"https://amt-trial-batch.s3-us-west-1.amazonaws.com/glow/glow_samples-1.jpg\"/>"
      ],
      "text/plain": [
       "<IPython.core.display.Image object>"
      ]
     },
     "metadata": {},
     "output_type": "display_data"
    },
    {
     "name": "stdout",
     "output_type": "stream",
     "text": [
      "21/63 or 33.33333333333333%\n",
      "https://amt-trial-batch.s3-us-west-1.amazonaws.com/glow/glow_samples-1.jpg\n",
      "\n",
      "\n"
     ]
    },
    {
     "data": {
      "text/html": [
       "<img src=\"https://amt-trial-batch.s3-us-west-1.amazonaws.com/glow/glow_samples-2.jpg\"/>"
      ],
      "text/plain": [
       "<IPython.core.display.Image object>"
      ]
     },
     "metadata": {},
     "output_type": "display_data"
    },
    {
     "name": "stdout",
     "output_type": "stream",
     "text": [
      "25/63 or 39.682539682539684%\n",
      "https://amt-trial-batch.s3-us-west-1.amazonaws.com/glow/glow_samples-2.jpg\n",
      "\n",
      "\n"
     ]
    },
    {
     "data": {
      "text/html": [
       "<img src=\"https://amt-trial-batch.s3-us-west-1.amazonaws.com/glow/glow_samples-7.jpg\"/>"
      ],
      "text/plain": [
       "<IPython.core.display.Image object>"
      ]
     },
     "metadata": {},
     "output_type": "display_data"
    },
    {
     "name": "stdout",
     "output_type": "stream",
     "text": [
      "25/63 or 39.682539682539684%\n",
      "https://amt-trial-batch.s3-us-west-1.amazonaws.com/glow/glow_samples-7.jpg\n",
      "\n",
      "\n"
     ]
    },
    {
     "data": {
      "text/html": [
       "<img src=\"https://amt-trial-batch.s3-us-west-1.amazonaws.com/glow/glow_samples-4.jpg\"/>"
      ],
      "text/plain": [
       "<IPython.core.display.Image object>"
      ]
     },
     "metadata": {},
     "output_type": "display_data"
    },
    {
     "name": "stdout",
     "output_type": "stream",
     "text": [
      "28/63 or 44.44444444444444%\n",
      "https://amt-trial-batch.s3-us-west-1.amazonaws.com/glow/glow_samples-4.jpg\n",
      "\n",
      "\n"
     ]
    },
    {
     "data": {
      "text/html": [
       "<img src=\"https://amt-trial-batch.s3-us-west-1.amazonaws.com/glow/glow_samples-6.jpg\"/>"
      ],
      "text/plain": [
       "<IPython.core.display.Image object>"
      ]
     },
     "metadata": {},
     "output_type": "display_data"
    },
    {
     "name": "stdout",
     "output_type": "stream",
     "text": [
      "34/63 or 53.96825396825397%\n",
      "https://amt-trial-batch.s3-us-west-1.amazonaws.com/glow/glow_samples-6.jpg\n",
      "\n",
      "\n"
     ]
    },
    {
     "data": {
      "text/html": [
       "<img src=\"https://amt-trial-batch.s3-us-west-1.amazonaws.com/glow/glow_samples-3.jpg\"/>"
      ],
      "text/plain": [
       "<IPython.core.display.Image object>"
      ]
     },
     "metadata": {},
     "output_type": "display_data"
    },
    {
     "name": "stdout",
     "output_type": "stream",
     "text": [
      "34/63 or 53.96825396825397%\n",
      "https://amt-trial-batch.s3-us-west-1.amazonaws.com/glow/glow_samples-3.jpg\n",
      "\n",
      "\n"
     ]
    },
    {
     "data": {
      "text/html": [
       "<img src=\"https://amt-trial-batch.s3-us-west-1.amazonaws.com/glow/glow_samples-5.jpg\"/>"
      ],
      "text/plain": [
       "<IPython.core.display.Image object>"
      ]
     },
     "metadata": {},
     "output_type": "display_data"
    },
    {
     "name": "stdout",
     "output_type": "stream",
     "text": [
      "37/63 or 58.730158730158735%\n",
      "https://amt-trial-batch.s3-us-west-1.amazonaws.com/glow/glow_samples-5.jpg\n",
      "\n",
      "\n"
     ]
    },
    {
     "data": {
      "text/html": [
       "<img src=\"https://amt-trial-batch.s3-us-west-1.amazonaws.com/lsgan/lsgan-1.png\"/>"
      ],
      "text/plain": [
       "<IPython.core.display.Image object>"
      ]
     },
     "metadata": {},
     "output_type": "display_data"
    },
    {
     "name": "stdout",
     "output_type": "stream",
     "text": [
      "39/63 or 61.904761904761905%\n",
      "https://amt-trial-batch.s3-us-west-1.amazonaws.com/lsgan/lsgan-1.png\n",
      "\n",
      "\n"
     ]
    },
    {
     "data": {
      "text/html": [
       "<img src=\"https://amt-trial-batch.s3-us-west-1.amazonaws.com/lsgan/lsgan-4.png\"/>"
      ],
      "text/plain": [
       "<IPython.core.display.Image object>"
      ]
     },
     "metadata": {},
     "output_type": "display_data"
    },
    {
     "name": "stdout",
     "output_type": "stream",
     "text": [
      "40/63 or 63.49206349206349%\n",
      "https://amt-trial-batch.s3-us-west-1.amazonaws.com/lsgan/lsgan-4.png\n",
      "\n",
      "\n"
     ]
    },
    {
     "data": {
      "text/html": [
       "<img src=\"https://amt-trial-batch.s3-us-west-1.amazonaws.com/lsgan/lsgan-2.png\"/>"
      ],
      "text/plain": [
       "<IPython.core.display.Image object>"
      ]
     },
     "metadata": {},
     "output_type": "display_data"
    },
    {
     "name": "stdout",
     "output_type": "stream",
     "text": [
      "42/63 or 66.66666666666666%\n",
      "https://amt-trial-batch.s3-us-west-1.amazonaws.com/lsgan/lsgan-2.png\n",
      "\n",
      "\n"
     ]
    },
    {
     "data": {
      "text/html": [
       "<img src=\"https://amt-trial-batch.s3-us-west-1.amazonaws.com/glow/glow_samples-9.jpg\"/>"
      ],
      "text/plain": [
       "<IPython.core.display.Image object>"
      ]
     },
     "metadata": {},
     "output_type": "display_data"
    },
    {
     "name": "stdout",
     "output_type": "stream",
     "text": [
      "43/63 or 68.25396825396825%\n",
      "https://amt-trial-batch.s3-us-west-1.amazonaws.com/glow/glow_samples-9.jpg\n",
      "\n",
      "\n"
     ]
    },
    {
     "data": {
      "text/html": [
       "<img src=\"https://amt-trial-batch.s3-us-west-1.amazonaws.com/lsgan/lsgan-3.png\"/>"
      ],
      "text/plain": [
       "<IPython.core.display.Image object>"
      ]
     },
     "metadata": {},
     "output_type": "display_data"
    },
    {
     "name": "stdout",
     "output_type": "stream",
     "text": [
      "45/63 or 71.42857142857143%\n",
      "https://amt-trial-batch.s3-us-west-1.amazonaws.com/lsgan/lsgan-3.png\n",
      "\n",
      "\n"
     ]
    },
    {
     "data": {
      "text/html": [
       "<img src=\"https://amt-trial-batch.s3-us-west-1.amazonaws.com/glow/glow_samples-10.jpg\"/>"
      ],
      "text/plain": [
       "<IPython.core.display.Image object>"
      ]
     },
     "metadata": {},
     "output_type": "display_data"
    },
    {
     "name": "stdout",
     "output_type": "stream",
     "text": [
      "45/63 or 71.42857142857143%\n",
      "https://amt-trial-batch.s3-us-west-1.amazonaws.com/glow/glow_samples-10.jpg\n",
      "\n",
      "\n"
     ]
    },
    {
     "data": {
      "text/html": [
       "<img src=\"https://amt-trial-batch.s3-us-west-1.amazonaws.com/real/real-sample-3.png\"/>"
      ],
      "text/plain": [
       "<IPython.core.display.Image object>"
      ]
     },
     "metadata": {},
     "output_type": "display_data"
    },
    {
     "name": "stdout",
     "output_type": "stream",
     "text": [
      "53/63 or 84.12698412698413%\n",
      "https://amt-trial-batch.s3-us-west-1.amazonaws.com/real/real-sample-3.png\n",
      "\n",
      "\n"
     ]
    },
    {
     "data": {
      "text/html": [
       "<img src=\"https://amt-trial-batch.s3-us-west-1.amazonaws.com/real/real-sample-1.png\"/>"
      ],
      "text/plain": [
       "<IPython.core.display.Image object>"
      ]
     },
     "metadata": {},
     "output_type": "display_data"
    },
    {
     "name": "stdout",
     "output_type": "stream",
     "text": [
      "56/63 or 88.88888888888889%\n",
      "https://amt-trial-batch.s3-us-west-1.amazonaws.com/real/real-sample-1.png\n",
      "\n",
      "\n"
     ]
    },
    {
     "data": {
      "text/html": [
       "<img src=\"https://amt-trial-batch.s3-us-west-1.amazonaws.com/real/real-sample-2.png\"/>"
      ],
      "text/plain": [
       "<IPython.core.display.Image object>"
      ]
     },
     "metadata": {},
     "output_type": "display_data"
    },
    {
     "name": "stdout",
     "output_type": "stream",
     "text": [
      "59/63 or 93.65079365079364%\n",
      "https://amt-trial-batch.s3-us-west-1.amazonaws.com/real/real-sample-2.png\n",
      "\n",
      "\n"
     ]
    }
   ],
   "source": [
    "for k,v in sorted_images:\n",
    "    display(Image(url=k))\n",
    "    print('{}/{} or {}%'.format(img_wins[k],img_trials[k], img_wins[k]/img_trials[k]*100.))\n",
    "    print(k)\n",
    "    print()\n",
    "    print()"
   ]
  },
  {
   "cell_type": "code",
   "execution_count": null,
   "metadata": {},
   "outputs": [],
   "source": []
  }
 ],
 "metadata": {
  "kernelspec": {
   "display_name": "Python 3",
   "language": "python",
   "name": "python3"
  },
  "language_info": {
   "codemirror_mode": {
    "name": "ipython",
    "version": 3
   },
   "file_extension": ".py",
   "mimetype": "text/x-python",
   "name": "python",
   "nbconvert_exporter": "python",
   "pygments_lexer": "ipython3",
   "version": "3.7.3"
  }
 },
 "nbformat": 4,
 "nbformat_minor": 2
}
