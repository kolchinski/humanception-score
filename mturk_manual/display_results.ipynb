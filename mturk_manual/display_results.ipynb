{
 "cells": [
  {
   "cell_type": "code",
   "execution_count": 1,
   "metadata": {},
   "outputs": [],
   "source": [
    "import csv\n",
    "from IPython.display import Image, display, HTML\n",
    "from collections import defaultdict\n",
    "from itertools import combinations\n",
    "from random import shuffle"
   ]
  },
  {
   "cell_type": "code",
   "execution_count": 2,
   "metadata": {},
   "outputs": [],
   "source": [
    "csv_indices = {\n",
    "'IMAGE_1_KEY' : 'Input.item1_image_url',\n",
    "'IMAGE_2_KEY' : 'Input.item2_image_url',\n",
    "'LABEL_KEY' : 'Answer.realistic.label',\n",
    "}"
   ]
  },
  {
   "cell_type": "code",
   "execution_count": 6,
   "metadata": {},
   "outputs": [],
   "source": [
    "with open('trial_batch_full/Batch_3716381_batch_results.csv') as f:\n",
    "    reader = csv.DictReader(f)\n",
    "    rows = [row for row in reader]"
   ]
  },
  {
   "cell_type": "code",
   "execution_count": 7,
   "metadata": {
    "scrolled": false
   },
   "outputs": [],
   "source": [
    "win_counts = defaultdict(lambda: [0,0])\n",
    "for row in rows:\n",
    "    #display(Image(url=row[csv_indices['IMAGE_1_KEY']]))\n",
    "    #display(Image(url=row[csv_indices['IMAGE_2_KEY']]))\n",
    "    url1 = row[csv_indices['IMAGE_1_KEY']]\n",
    "    url2 = row[csv_indices['IMAGE_2_KEY']]\n",
    "    winner = row[csv_indices['LABEL_KEY']]\n",
    "    \n",
    "    if winner == 'Image 1': win_counts[(url1,url2)][0] += 1\n",
    "    else: win_counts[(url1,url2)][1] += 1\n",
    "    #if winner == 'Image 1':\n",
    "    #    stars1, stars2 = ('<center><font size=12>**********</font></center>', '')\n",
    "    #else:\n",
    "    #    stars1, stars2 = ('', '<center><font size=12>**********</font></center>')\n",
    "\n",
    "    #display(HTML(\"<table><tr><td><img src='{}'>{}</td><td><img src='{}'>{}</td></tr></table>\".format(\n",
    "    #    url1, stars1, url2, stars2)))\n",
    "    \n",
    "    #print([row[x] for x in csv_indices.values()])\n",
    "    #print('\\n\\n')"
   ]
  },
  {
   "cell_type": "code",
   "execution_count": 8,
   "metadata": {
    "scrolled": false
   },
   "outputs": [
    {
     "data": {
      "text/html": [
       "<table><tr><td><img src='https://amt-trial-batch.s3-us-west-1.amazonaws.com/lsgan/lsgan-3.png'><center><font size=5>2</font></center></td><td><img src='https://amt-trial-batch.s3-us-west-1.amazonaws.com/glow/glow_samples-10.jpg'><center><font size=5>1</font></center></td></tr></table>"
      ],
      "text/plain": [
       "<IPython.core.display.HTML object>"
      ]
     },
     "metadata": {},
     "output_type": "display_data"
    },
    {
     "name": "stdout",
     "output_type": "stream",
     "text": [
      "\n",
      "\n"
     ]
    },
    {
     "data": {
      "text/html": [
       "<table><tr><td><img src='https://amt-trial-batch.s3-us-west-1.amazonaws.com/glow/glow_samples-8.jpg'><center><font size=5>2</font></center></td><td><img src='https://amt-trial-batch.s3-us-west-1.amazonaws.com/glow/glow_samples-1.jpg'><center><font size=5>1</font></center></td></tr></table>"
      ],
      "text/plain": [
       "<IPython.core.display.HTML object>"
      ]
     },
     "metadata": {},
     "output_type": "display_data"
    },
    {
     "name": "stdout",
     "output_type": "stream",
     "text": [
      "\n",
      "\n"
     ]
    },
    {
     "data": {
      "text/html": [
       "<table><tr><td><img src='https://amt-trial-batch.s3-us-west-1.amazonaws.com/real/real-sample-3.png'><center><font size=5>3</font></center></td><td><img src='https://amt-trial-batch.s3-us-west-1.amazonaws.com/wgan/wgan5.png'><center><font size=5>0</font></center></td></tr></table>"
      ],
      "text/plain": [
       "<IPython.core.display.HTML object>"
      ]
     },
     "metadata": {},
     "output_type": "display_data"
    },
    {
     "name": "stdout",
     "output_type": "stream",
     "text": [
      "\n",
      "\n"
     ]
    },
    {
     "data": {
      "text/html": [
       "<table><tr><td><img src='https://amt-trial-batch.s3-us-west-1.amazonaws.com/wgan/wgan-3.png'><center><font size=5>0</font></center></td><td><img src='https://amt-trial-batch.s3-us-west-1.amazonaws.com/glow/glow_samples-4.jpg'><center><font size=5>3</font></center></td></tr></table>"
      ],
      "text/plain": [
       "<IPython.core.display.HTML object>"
      ]
     },
     "metadata": {},
     "output_type": "display_data"
    },
    {
     "name": "stdout",
     "output_type": "stream",
     "text": [
      "\n",
      "\n"
     ]
    },
    {
     "data": {
      "text/html": [
       "<table><tr><td><img src='https://amt-trial-batch.s3-us-west-1.amazonaws.com/lsgan/lsgan-1.png'><center><font size=5>1</font></center></td><td><img src='https://amt-trial-batch.s3-us-west-1.amazonaws.com/glow/glow_samples-5.jpg'><center><font size=5>2</font></center></td></tr></table>"
      ],
      "text/plain": [
       "<IPython.core.display.HTML object>"
      ]
     },
     "metadata": {},
     "output_type": "display_data"
    },
    {
     "name": "stdout",
     "output_type": "stream",
     "text": [
      "\n",
      "\n"
     ]
    },
    {
     "data": {
      "text/html": [
       "<table><tr><td><img src='https://amt-trial-batch.s3-us-west-1.amazonaws.com/lsgan/lsgan-1.png'><center><font size=5>3</font></center></td><td><img src='https://amt-trial-batch.s3-us-west-1.amazonaws.com/glow/glow_samples-6.jpg'><center><font size=5>0</font></center></td></tr></table>"
      ],
      "text/plain": [
       "<IPython.core.display.HTML object>"
      ]
     },
     "metadata": {},
     "output_type": "display_data"
    },
    {
     "name": "stdout",
     "output_type": "stream",
     "text": [
      "\n",
      "\n"
     ]
    },
    {
     "data": {
      "text/html": [
       "<table><tr><td><img src='https://amt-trial-batch.s3-us-west-1.amazonaws.com/lsgan/lsgan-1.png'><center><font size=5>2</font></center></td><td><img src='https://amt-trial-batch.s3-us-west-1.amazonaws.com/glow/glow_samples-1.jpg'><center><font size=5>1</font></center></td></tr></table>"
      ],
      "text/plain": [
       "<IPython.core.display.HTML object>"
      ]
     },
     "metadata": {},
     "output_type": "display_data"
    },
    {
     "name": "stdout",
     "output_type": "stream",
     "text": [
      "\n",
      "\n"
     ]
    },
    {
     "data": {
      "text/html": [
       "<table><tr><td><img src='https://amt-trial-batch.s3-us-west-1.amazonaws.com/lsgan/lsgan-3.png'><center><font size=5>3</font></center></td><td><img src='https://amt-trial-batch.s3-us-west-1.amazonaws.com/glow/glow_samples-3.jpg'><center><font size=5>0</font></center></td></tr></table>"
      ],
      "text/plain": [
       "<IPython.core.display.HTML object>"
      ]
     },
     "metadata": {},
     "output_type": "display_data"
    },
    {
     "name": "stdout",
     "output_type": "stream",
     "text": [
      "\n",
      "\n"
     ]
    },
    {
     "data": {
      "text/html": [
       "<table><tr><td><img src='https://amt-trial-batch.s3-us-west-1.amazonaws.com/glow/glow_samples-8.jpg'><center><font size=5>0</font></center></td><td><img src='https://amt-trial-batch.s3-us-west-1.amazonaws.com/glow/glow_samples-3.jpg'><center><font size=5>3</font></center></td></tr></table>"
      ],
      "text/plain": [
       "<IPython.core.display.HTML object>"
      ]
     },
     "metadata": {},
     "output_type": "display_data"
    },
    {
     "name": "stdout",
     "output_type": "stream",
     "text": [
      "\n",
      "\n"
     ]
    },
    {
     "data": {
      "text/html": [
       "<table><tr><td><img src='https://amt-trial-batch.s3-us-west-1.amazonaws.com/wgan/wgan5.png'><center><font size=5>2</font></center></td><td><img src='https://amt-trial-batch.s3-us-west-1.amazonaws.com/glow/glow_samples-2.jpg'><center><font size=5>1</font></center></td></tr></table>"
      ],
      "text/plain": [
       "<IPython.core.display.HTML object>"
      ]
     },
     "metadata": {},
     "output_type": "display_data"
    },
    {
     "name": "stdout",
     "output_type": "stream",
     "text": [
      "\n",
      "\n"
     ]
    },
    {
     "data": {
      "text/html": [
       "<table><tr><td><img src='https://amt-trial-batch.s3-us-west-1.amazonaws.com/wgan/wgan-1.png'><center><font size=5>2</font></center></td><td><img src='https://amt-trial-batch.s3-us-west-1.amazonaws.com/noise/noise-1.png'><center><font size=5>1</font></center></td></tr></table>"
      ],
      "text/plain": [
       "<IPython.core.display.HTML object>"
      ]
     },
     "metadata": {},
     "output_type": "display_data"
    },
    {
     "name": "stdout",
     "output_type": "stream",
     "text": [
      "\n",
      "\n"
     ]
    },
    {
     "data": {
      "text/html": [
       "<table><tr><td><img src='https://amt-trial-batch.s3-us-west-1.amazonaws.com/lsgan/lsgan-4.png'><center><font size=5>3</font></center></td><td><img src='https://amt-trial-batch.s3-us-west-1.amazonaws.com/glow/glow_samples-8.jpg'><center><font size=5>0</font></center></td></tr></table>"
      ],
      "text/plain": [
       "<IPython.core.display.HTML object>"
      ]
     },
     "metadata": {},
     "output_type": "display_data"
    },
    {
     "name": "stdout",
     "output_type": "stream",
     "text": [
      "\n",
      "\n"
     ]
    },
    {
     "data": {
      "text/html": [
       "<table><tr><td><img src='https://amt-trial-batch.s3-us-west-1.amazonaws.com/wgan/wgan5.png'><center><font size=5>0</font></center></td><td><img src='https://amt-trial-batch.s3-us-west-1.amazonaws.com/glow/glow_samples-10.jpg'><center><font size=5>3</font></center></td></tr></table>"
      ],
      "text/plain": [
       "<IPython.core.display.HTML object>"
      ]
     },
     "metadata": {},
     "output_type": "display_data"
    },
    {
     "name": "stdout",
     "output_type": "stream",
     "text": [
      "\n",
      "\n"
     ]
    },
    {
     "data": {
      "text/html": [
       "<table><tr><td><img src='https://amt-trial-batch.s3-us-west-1.amazonaws.com/noise/noise-1.png'><center><font size=5>0</font></center></td><td><img src='https://amt-trial-batch.s3-us-west-1.amazonaws.com/glow/glow_samples-10.jpg'><center><font size=5>3</font></center></td></tr></table>"
      ],
      "text/plain": [
       "<IPython.core.display.HTML object>"
      ]
     },
     "metadata": {},
     "output_type": "display_data"
    },
    {
     "name": "stdout",
     "output_type": "stream",
     "text": [
      "\n",
      "\n"
     ]
    },
    {
     "data": {
      "text/html": [
       "<table><tr><td><img src='https://amt-trial-batch.s3-us-west-1.amazonaws.com/glow/glow_samples-10.jpg'><center><font size=5>3</font></center></td><td><img src='https://amt-trial-batch.s3-us-west-1.amazonaws.com/glow/glow_samples-8.jpg'><center><font size=5>0</font></center></td></tr></table>"
      ],
      "text/plain": [
       "<IPython.core.display.HTML object>"
      ]
     },
     "metadata": {},
     "output_type": "display_data"
    },
    {
     "name": "stdout",
     "output_type": "stream",
     "text": [
      "\n",
      "\n"
     ]
    },
    {
     "data": {
      "text/html": [
       "<table><tr><td><img src='https://amt-trial-batch.s3-us-west-1.amazonaws.com/wgan/wgan-3.png'><center><font size=5>0</font></center></td><td><img src='https://amt-trial-batch.s3-us-west-1.amazonaws.com/glow/glow_samples-6.jpg'><center><font size=5>3</font></center></td></tr></table>"
      ],
      "text/plain": [
       "<IPython.core.display.HTML object>"
      ]
     },
     "metadata": {},
     "output_type": "display_data"
    },
    {
     "name": "stdout",
     "output_type": "stream",
     "text": [
      "\n",
      "\n"
     ]
    },
    {
     "data": {
      "text/html": [
       "<table><tr><td><img src='https://amt-trial-batch.s3-us-west-1.amazonaws.com/lsgan/lsgan-2.png'><center><font size=5>3</font></center></td><td><img src='https://amt-trial-batch.s3-us-west-1.amazonaws.com/wgan/wgan-2.png'><center><font size=5>0</font></center></td></tr></table>"
      ],
      "text/plain": [
       "<IPython.core.display.HTML object>"
      ]
     },
     "metadata": {},
     "output_type": "display_data"
    },
    {
     "name": "stdout",
     "output_type": "stream",
     "text": [
      "\n",
      "\n"
     ]
    },
    {
     "data": {
      "text/html": [
       "<table><tr><td><img src='https://amt-trial-batch.s3-us-west-1.amazonaws.com/real/real-sample-3.png'><center><font size=5>3</font></center></td><td><img src='https://amt-trial-batch.s3-us-west-1.amazonaws.com/glow/glow_samples-9.jpg'><center><font size=5>0</font></center></td></tr></table>"
      ],
      "text/plain": [
       "<IPython.core.display.HTML object>"
      ]
     },
     "metadata": {},
     "output_type": "display_data"
    },
    {
     "name": "stdout",
     "output_type": "stream",
     "text": [
      "\n",
      "\n"
     ]
    },
    {
     "data": {
      "text/html": [
       "<table><tr><td><img src='https://amt-trial-batch.s3-us-west-1.amazonaws.com/wgan/wgan-2.png'><center><font size=5>3</font></center></td><td><img src='https://amt-trial-batch.s3-us-west-1.amazonaws.com/wgan/wgan-1.png'><center><font size=5>0</font></center></td></tr></table>"
      ],
      "text/plain": [
       "<IPython.core.display.HTML object>"
      ]
     },
     "metadata": {},
     "output_type": "display_data"
    },
    {
     "name": "stdout",
     "output_type": "stream",
     "text": [
      "\n",
      "\n"
     ]
    },
    {
     "data": {
      "text/html": [
       "<table><tr><td><img src='https://amt-trial-batch.s3-us-west-1.amazonaws.com/lsgan/lsgan-3.png'><center><font size=5>0</font></center></td><td><img src='https://amt-trial-batch.s3-us-west-1.amazonaws.com/real/real-sample-2.png'><center><font size=5>3</font></center></td></tr></table>"
      ],
      "text/plain": [
       "<IPython.core.display.HTML object>"
      ]
     },
     "metadata": {},
     "output_type": "display_data"
    },
    {
     "name": "stdout",
     "output_type": "stream",
     "text": [
      "\n",
      "\n"
     ]
    },
    {
     "data": {
      "text/html": [
       "<table><tr><td><img src='https://amt-trial-batch.s3-us-west-1.amazonaws.com/lsgan/lsgan-2.png'><center><font size=5>3</font></center></td><td><img src='https://amt-trial-batch.s3-us-west-1.amazonaws.com/glow/glow_samples-5.jpg'><center><font size=5>0</font></center></td></tr></table>"
      ],
      "text/plain": [
       "<IPython.core.display.HTML object>"
      ]
     },
     "metadata": {},
     "output_type": "display_data"
    },
    {
     "name": "stdout",
     "output_type": "stream",
     "text": [
      "\n",
      "\n"
     ]
    },
    {
     "data": {
      "text/html": [
       "<table><tr><td><img src='https://amt-trial-batch.s3-us-west-1.amazonaws.com/lsgan/lsgan-2.png'><center><font size=5>0</font></center></td><td><img src='https://amt-trial-batch.s3-us-west-1.amazonaws.com/real/real-sample-3.png'><center><font size=5>3</font></center></td></tr></table>"
      ],
      "text/plain": [
       "<IPython.core.display.HTML object>"
      ]
     },
     "metadata": {},
     "output_type": "display_data"
    },
    {
     "name": "stdout",
     "output_type": "stream",
     "text": [
      "\n",
      "\n"
     ]
    },
    {
     "data": {
      "text/html": [
       "<table><tr><td><img src='https://amt-trial-batch.s3-us-west-1.amazonaws.com/wgan/wgan-1.png'><center><font size=5>0</font></center></td><td><img src='https://amt-trial-batch.s3-us-west-1.amazonaws.com/glow/glow_samples-9.jpg'><center><font size=5>3</font></center></td></tr></table>"
      ],
      "text/plain": [
       "<IPython.core.display.HTML object>"
      ]
     },
     "metadata": {},
     "output_type": "display_data"
    },
    {
     "name": "stdout",
     "output_type": "stream",
     "text": [
      "\n",
      "\n"
     ]
    },
    {
     "data": {
      "text/html": [
       "<table><tr><td><img src='https://amt-trial-batch.s3-us-west-1.amazonaws.com/real/real-sample-3.png'><center><font size=5>3</font></center></td><td><img src='https://amt-trial-batch.s3-us-west-1.amazonaws.com/wgan/wgan-3.png'><center><font size=5>0</font></center></td></tr></table>"
      ],
      "text/plain": [
       "<IPython.core.display.HTML object>"
      ]
     },
     "metadata": {},
     "output_type": "display_data"
    },
    {
     "name": "stdout",
     "output_type": "stream",
     "text": [
      "\n",
      "\n"
     ]
    },
    {
     "data": {
      "text/html": [
       "<table><tr><td><img src='https://amt-trial-batch.s3-us-west-1.amazonaws.com/lsgan/lsgan-4.png'><center><font size=5>2</font></center></td><td><img src='https://amt-trial-batch.s3-us-west-1.amazonaws.com/wgan/wgan-3.png'><center><font size=5>1</font></center></td></tr></table>"
      ],
      "text/plain": [
       "<IPython.core.display.HTML object>"
      ]
     },
     "metadata": {},
     "output_type": "display_data"
    },
    {
     "name": "stdout",
     "output_type": "stream",
     "text": [
      "\n",
      "\n"
     ]
    },
    {
     "data": {
      "text/html": [
       "<table><tr><td><img src='https://amt-trial-batch.s3-us-west-1.amazonaws.com/lsgan/lsgan-2.png'><center><font size=5>0</font></center></td><td><img src='https://amt-trial-batch.s3-us-west-1.amazonaws.com/real/real-sample-2.png'><center><font size=5>3</font></center></td></tr></table>"
      ],
      "text/plain": [
       "<IPython.core.display.HTML object>"
      ]
     },
     "metadata": {},
     "output_type": "display_data"
    },
    {
     "name": "stdout",
     "output_type": "stream",
     "text": [
      "\n",
      "\n"
     ]
    },
    {
     "data": {
      "text/html": [
       "<table><tr><td><img src='https://amt-trial-batch.s3-us-west-1.amazonaws.com/wgan/wgan-2.png'><center><font size=5>0</font></center></td><td><img src='https://amt-trial-batch.s3-us-west-1.amazonaws.com/glow/glow_samples-10.jpg'><center><font size=5>3</font></center></td></tr></table>"
      ],
      "text/plain": [
       "<IPython.core.display.HTML object>"
      ]
     },
     "metadata": {},
     "output_type": "display_data"
    },
    {
     "name": "stdout",
     "output_type": "stream",
     "text": [
      "\n",
      "\n"
     ]
    },
    {
     "data": {
      "text/html": [
       "<table><tr><td><img src='https://amt-trial-batch.s3-us-west-1.amazonaws.com/glow/glow_samples-4.jpg'><center><font size=5>3</font></center></td><td><img src='https://amt-trial-batch.s3-us-west-1.amazonaws.com/glow/glow_samples-1.jpg'><center><font size=5>0</font></center></td></tr></table>"
      ],
      "text/plain": [
       "<IPython.core.display.HTML object>"
      ]
     },
     "metadata": {},
     "output_type": "display_data"
    },
    {
     "name": "stdout",
     "output_type": "stream",
     "text": [
      "\n",
      "\n"
     ]
    },
    {
     "data": {
      "text/html": [
       "<table><tr><td><img src='https://amt-trial-batch.s3-us-west-1.amazonaws.com/glow/glow_samples-7.jpg'><center><font size=5>2</font></center></td><td><img src='https://amt-trial-batch.s3-us-west-1.amazonaws.com/glow/glow_samples-1.jpg'><center><font size=5>1</font></center></td></tr></table>"
      ],
      "text/plain": [
       "<IPython.core.display.HTML object>"
      ]
     },
     "metadata": {},
     "output_type": "display_data"
    },
    {
     "name": "stdout",
     "output_type": "stream",
     "text": [
      "\n",
      "\n"
     ]
    },
    {
     "data": {
      "text/html": [
       "<table><tr><td><img src='https://amt-trial-batch.s3-us-west-1.amazonaws.com/wgan/wgan-1.png'><center><font size=5>0</font></center></td><td><img src='https://amt-trial-batch.s3-us-west-1.amazonaws.com/glow/glow_samples-3.jpg'><center><font size=5>3</font></center></td></tr></table>"
      ],
      "text/plain": [
       "<IPython.core.display.HTML object>"
      ]
     },
     "metadata": {},
     "output_type": "display_data"
    },
    {
     "name": "stdout",
     "output_type": "stream",
     "text": [
      "\n",
      "\n"
     ]
    },
    {
     "data": {
      "text/html": [
       "<table><tr><td><img src='https://amt-trial-batch.s3-us-west-1.amazonaws.com/glow/glow_samples-8.jpg'><center><font size=5>0</font></center></td><td><img src='https://amt-trial-batch.s3-us-west-1.amazonaws.com/glow/glow_samples-5.jpg'><center><font size=5>3</font></center></td></tr></table>"
      ],
      "text/plain": [
       "<IPython.core.display.HTML object>"
      ]
     },
     "metadata": {},
     "output_type": "display_data"
    },
    {
     "name": "stdout",
     "output_type": "stream",
     "text": [
      "\n",
      "\n"
     ]
    },
    {
     "data": {
      "text/html": [
       "<table><tr><td><img src='https://amt-trial-batch.s3-us-west-1.amazonaws.com/wgan/wgan-2.png'><center><font size=5>1</font></center></td><td><img src='https://amt-trial-batch.s3-us-west-1.amazonaws.com/glow/glow_samples-7.jpg'><center><font size=5>2</font></center></td></tr></table>"
      ],
      "text/plain": [
       "<IPython.core.display.HTML object>"
      ]
     },
     "metadata": {},
     "output_type": "display_data"
    },
    {
     "name": "stdout",
     "output_type": "stream",
     "text": [
      "\n",
      "\n"
     ]
    },
    {
     "data": {
      "text/html": [
       "<table><tr><td><img src='https://amt-trial-batch.s3-us-west-1.amazonaws.com/lsgan/lsgan-4.png'><center><font size=5>2</font></center></td><td><img src='https://amt-trial-batch.s3-us-west-1.amazonaws.com/glow/glow_samples-10.jpg'><center><font size=5>1</font></center></td></tr></table>"
      ],
      "text/plain": [
       "<IPython.core.display.HTML object>"
      ]
     },
     "metadata": {},
     "output_type": "display_data"
    },
    {
     "name": "stdout",
     "output_type": "stream",
     "text": [
      "\n",
      "\n"
     ]
    },
    {
     "data": {
      "text/html": [
       "<table><tr><td><img src='https://amt-trial-batch.s3-us-west-1.amazonaws.com/lsgan/lsgan-4.png'><center><font size=5>2</font></center></td><td><img src='https://amt-trial-batch.s3-us-west-1.amazonaws.com/glow/glow_samples-9.jpg'><center><font size=5>1</font></center></td></tr></table>"
      ],
      "text/plain": [
       "<IPython.core.display.HTML object>"
      ]
     },
     "metadata": {},
     "output_type": "display_data"
    },
    {
     "name": "stdout",
     "output_type": "stream",
     "text": [
      "\n",
      "\n"
     ]
    },
    {
     "data": {
      "text/html": [
       "<table><tr><td><img src='https://amt-trial-batch.s3-us-west-1.amazonaws.com/glow/glow_samples-10.jpg'><center><font size=5>3</font></center></td><td><img src='https://amt-trial-batch.s3-us-west-1.amazonaws.com/glow/glow_samples-5.jpg'><center><font size=5>0</font></center></td></tr></table>"
      ],
      "text/plain": [
       "<IPython.core.display.HTML object>"
      ]
     },
     "metadata": {},
     "output_type": "display_data"
    },
    {
     "name": "stdout",
     "output_type": "stream",
     "text": [
      "\n",
      "\n"
     ]
    },
    {
     "data": {
      "text/html": [
       "<table><tr><td><img src='https://amt-trial-batch.s3-us-west-1.amazonaws.com/lsgan/lsgan-2.png'><center><font size=5>1</font></center></td><td><img src='https://amt-trial-batch.s3-us-west-1.amazonaws.com/glow/glow_samples-6.jpg'><center><font size=5>2</font></center></td></tr></table>"
      ],
      "text/plain": [
       "<IPython.core.display.HTML object>"
      ]
     },
     "metadata": {},
     "output_type": "display_data"
    },
    {
     "name": "stdout",
     "output_type": "stream",
     "text": [
      "\n",
      "\n"
     ]
    },
    {
     "data": {
      "text/html": [
       "<table><tr><td><img src='https://amt-trial-batch.s3-us-west-1.amazonaws.com/lsgan/lsgan-2.png'><center><font size=5>3</font></center></td><td><img src='https://amt-trial-batch.s3-us-west-1.amazonaws.com/glow/glow_samples-3.jpg'><center><font size=5>0</font></center></td></tr></table>"
      ],
      "text/plain": [
       "<IPython.core.display.HTML object>"
      ]
     },
     "metadata": {},
     "output_type": "display_data"
    },
    {
     "name": "stdout",
     "output_type": "stream",
     "text": [
      "\n",
      "\n"
     ]
    },
    {
     "data": {
      "text/html": [
       "<table><tr><td><img src='https://amt-trial-batch.s3-us-west-1.amazonaws.com/glow/glow_samples-1.jpg'><center><font size=5>0</font></center></td><td><img src='https://amt-trial-batch.s3-us-west-1.amazonaws.com/glow/glow_samples-3.jpg'><center><font size=5>3</font></center></td></tr></table>"
      ],
      "text/plain": [
       "<IPython.core.display.HTML object>"
      ]
     },
     "metadata": {},
     "output_type": "display_data"
    },
    {
     "name": "stdout",
     "output_type": "stream",
     "text": [
      "\n",
      "\n"
     ]
    },
    {
     "data": {
      "text/html": [
       "<table><tr><td><img src='https://amt-trial-batch.s3-us-west-1.amazonaws.com/real/real-sample-1.png'><center><font size=5>3</font></center></td><td><img src='https://amt-trial-batch.s3-us-west-1.amazonaws.com/wgan/wgan5.png'><center><font size=5>0</font></center></td></tr></table>"
      ],
      "text/plain": [
       "<IPython.core.display.HTML object>"
      ]
     },
     "metadata": {},
     "output_type": "display_data"
    },
    {
     "name": "stdout",
     "output_type": "stream",
     "text": [
      "\n",
      "\n"
     ]
    },
    {
     "data": {
      "text/html": [
       "<table><tr><td><img src='https://amt-trial-batch.s3-us-west-1.amazonaws.com/real/real-sample-3.png'><center><font size=5>0</font></center></td><td><img src='https://amt-trial-batch.s3-us-west-1.amazonaws.com/real/real-sample-2.png'><center><font size=5>3</font></center></td></tr></table>"
      ],
      "text/plain": [
       "<IPython.core.display.HTML object>"
      ]
     },
     "metadata": {},
     "output_type": "display_data"
    },
    {
     "name": "stdout",
     "output_type": "stream",
     "text": [
      "\n",
      "\n"
     ]
    },
    {
     "data": {
      "text/html": [
       "<table><tr><td><img src='https://amt-trial-batch.s3-us-west-1.amazonaws.com/real/real-sample-2.png'><center><font size=5>3</font></center></td><td><img src='https://amt-trial-batch.s3-us-west-1.amazonaws.com/glow/glow_samples-1.jpg'><center><font size=5>0</font></center></td></tr></table>"
      ],
      "text/plain": [
       "<IPython.core.display.HTML object>"
      ]
     },
     "metadata": {},
     "output_type": "display_data"
    },
    {
     "name": "stdout",
     "output_type": "stream",
     "text": [
      "\n",
      "\n"
     ]
    },
    {
     "data": {
      "text/html": [
       "<table><tr><td><img src='https://amt-trial-batch.s3-us-west-1.amazonaws.com/lsgan/lsgan-2.png'><center><font size=5>3</font></center></td><td><img src='https://amt-trial-batch.s3-us-west-1.amazonaws.com/wgan/wgan-3.png'><center><font size=5>0</font></center></td></tr></table>"
      ],
      "text/plain": [
       "<IPython.core.display.HTML object>"
      ]
     },
     "metadata": {},
     "output_type": "display_data"
    },
    {
     "name": "stdout",
     "output_type": "stream",
     "text": [
      "\n",
      "\n"
     ]
    },
    {
     "data": {
      "text/html": [
       "<table><tr><td><img src='https://amt-trial-batch.s3-us-west-1.amazonaws.com/lsgan/lsgan-4.png'><center><font size=5>3</font></center></td><td><img src='https://amt-trial-batch.s3-us-west-1.amazonaws.com/wgan/wgan5.png'><center><font size=5>0</font></center></td></tr></table>"
      ],
      "text/plain": [
       "<IPython.core.display.HTML object>"
      ]
     },
     "metadata": {},
     "output_type": "display_data"
    },
    {
     "name": "stdout",
     "output_type": "stream",
     "text": [
      "\n",
      "\n"
     ]
    },
    {
     "data": {
      "text/html": [
       "<table><tr><td><img src='https://amt-trial-batch.s3-us-west-1.amazonaws.com/real/real-sample-2.png'><center><font size=5>3</font></center></td><td><img src='https://amt-trial-batch.s3-us-west-1.amazonaws.com/glow/glow_samples-2.jpg'><center><font size=5>0</font></center></td></tr></table>"
      ],
      "text/plain": [
       "<IPython.core.display.HTML object>"
      ]
     },
     "metadata": {},
     "output_type": "display_data"
    },
    {
     "name": "stdout",
     "output_type": "stream",
     "text": [
      "\n",
      "\n"
     ]
    },
    {
     "data": {
      "text/html": [
       "<table><tr><td><img src='https://amt-trial-batch.s3-us-west-1.amazonaws.com/lsgan/lsgan-1.png'><center><font size=5>2</font></center></td><td><img src='https://amt-trial-batch.s3-us-west-1.amazonaws.com/wgan/wgan-1.png'><center><font size=5>1</font></center></td></tr></table>"
      ],
      "text/plain": [
       "<IPython.core.display.HTML object>"
      ]
     },
     "metadata": {},
     "output_type": "display_data"
    },
    {
     "name": "stdout",
     "output_type": "stream",
     "text": [
      "\n",
      "\n"
     ]
    },
    {
     "data": {
      "text/html": [
       "<table><tr><td><img src='https://amt-trial-batch.s3-us-west-1.amazonaws.com/glow/glow_samples-10.jpg'><center><font size=5>3</font></center></td><td><img src='https://amt-trial-batch.s3-us-west-1.amazonaws.com/glow/glow_samples-7.jpg'><center><font size=5>0</font></center></td></tr></table>"
      ],
      "text/plain": [
       "<IPython.core.display.HTML object>"
      ]
     },
     "metadata": {},
     "output_type": "display_data"
    },
    {
     "name": "stdout",
     "output_type": "stream",
     "text": [
      "\n",
      "\n"
     ]
    },
    {
     "data": {
      "text/html": [
       "<table><tr><td><img src='https://amt-trial-batch.s3-us-west-1.amazonaws.com/lsgan/lsgan-1.png'><center><font size=5>2</font></center></td><td><img src='https://amt-trial-batch.s3-us-west-1.amazonaws.com/glow/glow_samples-3.jpg'><center><font size=5>1</font></center></td></tr></table>"
      ],
      "text/plain": [
       "<IPython.core.display.HTML object>"
      ]
     },
     "metadata": {},
     "output_type": "display_data"
    },
    {
     "name": "stdout",
     "output_type": "stream",
     "text": [
      "\n",
      "\n"
     ]
    },
    {
     "data": {
      "text/html": [
       "<table><tr><td><img src='https://amt-trial-batch.s3-us-west-1.amazonaws.com/real/real-sample-1.png'><center><font size=5>3</font></center></td><td><img src='https://amt-trial-batch.s3-us-west-1.amazonaws.com/noise/noise-1.png'><center><font size=5>0</font></center></td></tr></table>"
      ],
      "text/plain": [
       "<IPython.core.display.HTML object>"
      ]
     },
     "metadata": {},
     "output_type": "display_data"
    },
    {
     "name": "stdout",
     "output_type": "stream",
     "text": [
      "\n",
      "\n"
     ]
    },
    {
     "data": {
      "text/html": [
       "<table><tr><td><img src='https://amt-trial-batch.s3-us-west-1.amazonaws.com/real/real-sample-3.png'><center><font size=5>3</font></center></td><td><img src='https://amt-trial-batch.s3-us-west-1.amazonaws.com/glow/glow_samples-3.jpg'><center><font size=5>0</font></center></td></tr></table>"
      ],
      "text/plain": [
       "<IPython.core.display.HTML object>"
      ]
     },
     "metadata": {},
     "output_type": "display_data"
    },
    {
     "name": "stdout",
     "output_type": "stream",
     "text": [
      "\n",
      "\n"
     ]
    },
    {
     "data": {
      "text/html": [
       "<table><tr><td><img src='https://amt-trial-batch.s3-us-west-1.amazonaws.com/glow/glow_samples-7.jpg'><center><font size=5>3</font></center></td><td><img src='https://amt-trial-batch.s3-us-west-1.amazonaws.com/glow/glow_samples-4.jpg'><center><font size=5>0</font></center></td></tr></table>"
      ],
      "text/plain": [
       "<IPython.core.display.HTML object>"
      ]
     },
     "metadata": {},
     "output_type": "display_data"
    },
    {
     "name": "stdout",
     "output_type": "stream",
     "text": [
      "\n",
      "\n"
     ]
    },
    {
     "data": {
      "text/html": [
       "<table><tr><td><img src='https://amt-trial-batch.s3-us-west-1.amazonaws.com/lsgan/lsgan-3.png'><center><font size=5>2</font></center></td><td><img src='https://amt-trial-batch.s3-us-west-1.amazonaws.com/glow/glow_samples-2.jpg'><center><font size=5>1</font></center></td></tr></table>"
      ],
      "text/plain": [
       "<IPython.core.display.HTML object>"
      ]
     },
     "metadata": {},
     "output_type": "display_data"
    },
    {
     "name": "stdout",
     "output_type": "stream",
     "text": [
      "\n",
      "\n"
     ]
    },
    {
     "data": {
      "text/html": [
       "<table><tr><td><img src='https://amt-trial-batch.s3-us-west-1.amazonaws.com/wgan/wgan-3.png'><center><font size=5>0</font></center></td><td><img src='https://amt-trial-batch.s3-us-west-1.amazonaws.com/glow/glow_samples-8.jpg'><center><font size=5>3</font></center></td></tr></table>"
      ],
      "text/plain": [
       "<IPython.core.display.HTML object>"
      ]
     },
     "metadata": {},
     "output_type": "display_data"
    },
    {
     "name": "stdout",
     "output_type": "stream",
     "text": [
      "\n",
      "\n"
     ]
    },
    {
     "data": {
      "text/html": [
       "<table><tr><td><img src='https://amt-trial-batch.s3-us-west-1.amazonaws.com/real/real-sample-3.png'><center><font size=5>3</font></center></td><td><img src='https://amt-trial-batch.s3-us-west-1.amazonaws.com/glow/glow_samples-1.jpg'><center><font size=5>0</font></center></td></tr></table>"
      ],
      "text/plain": [
       "<IPython.core.display.HTML object>"
      ]
     },
     "metadata": {},
     "output_type": "display_data"
    },
    {
     "name": "stdout",
     "output_type": "stream",
     "text": [
      "\n",
      "\n"
     ]
    },
    {
     "data": {
      "text/html": [
       "<table><tr><td><img src='https://amt-trial-batch.s3-us-west-1.amazonaws.com/glow/glow_samples-9.jpg'><center><font size=5>2</font></center></td><td><img src='https://amt-trial-batch.s3-us-west-1.amazonaws.com/glow/glow_samples-6.jpg'><center><font size=5>1</font></center></td></tr></table>"
      ],
      "text/plain": [
       "<IPython.core.display.HTML object>"
      ]
     },
     "metadata": {},
     "output_type": "display_data"
    },
    {
     "name": "stdout",
     "output_type": "stream",
     "text": [
      "\n",
      "\n"
     ]
    },
    {
     "data": {
      "text/html": [
       "<table><tr><td><img src='https://amt-trial-batch.s3-us-west-1.amazonaws.com/real/real-sample-1.png'><center><font size=5>3</font></center></td><td><img src='https://amt-trial-batch.s3-us-west-1.amazonaws.com/wgan/wgan-3.png'><center><font size=5>0</font></center></td></tr></table>"
      ],
      "text/plain": [
       "<IPython.core.display.HTML object>"
      ]
     },
     "metadata": {},
     "output_type": "display_data"
    },
    {
     "name": "stdout",
     "output_type": "stream",
     "text": [
      "\n",
      "\n"
     ]
    },
    {
     "data": {
      "text/html": [
       "<table><tr><td><img src='https://amt-trial-batch.s3-us-west-1.amazonaws.com/glow/glow_samples-7.jpg'><center><font size=5>0</font></center></td><td><img src='https://amt-trial-batch.s3-us-west-1.amazonaws.com/glow/glow_samples-5.jpg'><center><font size=5>3</font></center></td></tr></table>"
      ],
      "text/plain": [
       "<IPython.core.display.HTML object>"
      ]
     },
     "metadata": {},
     "output_type": "display_data"
    },
    {
     "name": "stdout",
     "output_type": "stream",
     "text": [
      "\n",
      "\n"
     ]
    },
    {
     "data": {
      "text/html": [
       "<table><tr><td><img src='https://amt-trial-batch.s3-us-west-1.amazonaws.com/wgan/wgan-3.png'><center><font size=5>0</font></center></td><td><img src='https://amt-trial-batch.s3-us-west-1.amazonaws.com/wgan/wgan5.png'><center><font size=5>3</font></center></td></tr></table>"
      ],
      "text/plain": [
       "<IPython.core.display.HTML object>"
      ]
     },
     "metadata": {},
     "output_type": "display_data"
    },
    {
     "name": "stdout",
     "output_type": "stream",
     "text": [
      "\n",
      "\n"
     ]
    },
    {
     "data": {
      "text/html": [
       "<table><tr><td><img src='https://amt-trial-batch.s3-us-west-1.amazonaws.com/wgan/wgan-1.png'><center><font size=5>0</font></center></td><td><img src='https://amt-trial-batch.s3-us-west-1.amazonaws.com/glow/glow_samples-2.jpg'><center><font size=5>3</font></center></td></tr></table>"
      ],
      "text/plain": [
       "<IPython.core.display.HTML object>"
      ]
     },
     "metadata": {},
     "output_type": "display_data"
    },
    {
     "name": "stdout",
     "output_type": "stream",
     "text": [
      "\n",
      "\n"
     ]
    },
    {
     "data": {
      "text/html": [
       "<table><tr><td><img src='https://amt-trial-batch.s3-us-west-1.amazonaws.com/wgan/wgan-2.png'><center><font size=5>1</font></center></td><td><img src='https://amt-trial-batch.s3-us-west-1.amazonaws.com/glow/glow_samples-8.jpg'><center><font size=5>2</font></center></td></tr></table>"
      ],
      "text/plain": [
       "<IPython.core.display.HTML object>"
      ]
     },
     "metadata": {},
     "output_type": "display_data"
    },
    {
     "name": "stdout",
     "output_type": "stream",
     "text": [
      "\n",
      "\n"
     ]
    },
    {
     "data": {
      "text/html": [
       "<table><tr><td><img src='https://amt-trial-batch.s3-us-west-1.amazonaws.com/lsgan/lsgan-1.png'><center><font size=5>3</font></center></td><td><img src='https://amt-trial-batch.s3-us-west-1.amazonaws.com/wgan/wgan-2.png'><center><font size=5>0</font></center></td></tr></table>"
      ],
      "text/plain": [
       "<IPython.core.display.HTML object>"
      ]
     },
     "metadata": {},
     "output_type": "display_data"
    },
    {
     "name": "stdout",
     "output_type": "stream",
     "text": [
      "\n",
      "\n"
     ]
    },
    {
     "data": {
      "text/html": [
       "<table><tr><td><img src='https://amt-trial-batch.s3-us-west-1.amazonaws.com/glow/glow_samples-9.jpg'><center><font size=5>3</font></center></td><td><img src='https://amt-trial-batch.s3-us-west-1.amazonaws.com/glow/glow_samples-3.jpg'><center><font size=5>0</font></center></td></tr></table>"
      ],
      "text/plain": [
       "<IPython.core.display.HTML object>"
      ]
     },
     "metadata": {},
     "output_type": "display_data"
    },
    {
     "name": "stdout",
     "output_type": "stream",
     "text": [
      "\n",
      "\n"
     ]
    },
    {
     "data": {
      "text/html": [
       "<table><tr><td><img src='https://amt-trial-batch.s3-us-west-1.amazonaws.com/glow/glow_samples-6.jpg'><center><font size=5>2</font></center></td><td><img src='https://amt-trial-batch.s3-us-west-1.amazonaws.com/glow/glow_samples-2.jpg'><center><font size=5>1</font></center></td></tr></table>"
      ],
      "text/plain": [
       "<IPython.core.display.HTML object>"
      ]
     },
     "metadata": {},
     "output_type": "display_data"
    },
    {
     "name": "stdout",
     "output_type": "stream",
     "text": [
      "\n",
      "\n"
     ]
    },
    {
     "data": {
      "text/html": [
       "<table><tr><td><img src='https://amt-trial-batch.s3-us-west-1.amazonaws.com/lsgan/lsgan-3.png'><center><font size=5>3</font></center></td><td><img src='https://amt-trial-batch.s3-us-west-1.amazonaws.com/wgan/wgan-1.png'><center><font size=5>0</font></center></td></tr></table>"
      ],
      "text/plain": [
       "<IPython.core.display.HTML object>"
      ]
     },
     "metadata": {},
     "output_type": "display_data"
    },
    {
     "name": "stdout",
     "output_type": "stream",
     "text": [
      "\n",
      "\n"
     ]
    },
    {
     "data": {
      "text/html": [
       "<table><tr><td><img src='https://amt-trial-batch.s3-us-west-1.amazonaws.com/real/real-sample-3.png'><center><font size=5>3</font></center></td><td><img src='https://amt-trial-batch.s3-us-west-1.amazonaws.com/glow/glow_samples-6.jpg'><center><font size=5>0</font></center></td></tr></table>"
      ],
      "text/plain": [
       "<IPython.core.display.HTML object>"
      ]
     },
     "metadata": {},
     "output_type": "display_data"
    },
    {
     "name": "stdout",
     "output_type": "stream",
     "text": [
      "\n",
      "\n"
     ]
    },
    {
     "data": {
      "text/html": [
       "<table><tr><td><img src='https://amt-trial-batch.s3-us-west-1.amazonaws.com/real/real-sample-3.png'><center><font size=5>2</font></center></td><td><img src='https://amt-trial-batch.s3-us-west-1.amazonaws.com/glow/glow_samples-7.jpg'><center><font size=5>1</font></center></td></tr></table>"
      ],
      "text/plain": [
       "<IPython.core.display.HTML object>"
      ]
     },
     "metadata": {},
     "output_type": "display_data"
    },
    {
     "name": "stdout",
     "output_type": "stream",
     "text": [
      "\n",
      "\n"
     ]
    },
    {
     "data": {
      "text/html": [
       "<table><tr><td><img src='https://amt-trial-batch.s3-us-west-1.amazonaws.com/real/real-sample-3.png'><center><font size=5>3</font></center></td><td><img src='https://amt-trial-batch.s3-us-west-1.amazonaws.com/wgan/wgan-2.png'><center><font size=5>0</font></center></td></tr></table>"
      ],
      "text/plain": [
       "<IPython.core.display.HTML object>"
      ]
     },
     "metadata": {},
     "output_type": "display_data"
    },
    {
     "name": "stdout",
     "output_type": "stream",
     "text": [
      "\n",
      "\n"
     ]
    },
    {
     "data": {
      "text/html": [
       "<table><tr><td><img src='https://amt-trial-batch.s3-us-west-1.amazonaws.com/lsgan/lsgan-2.png'><center><font size=5>2</font></center></td><td><img src='https://amt-trial-batch.s3-us-west-1.amazonaws.com/glow/glow_samples-1.jpg'><center><font size=5>1</font></center></td></tr></table>"
      ],
      "text/plain": [
       "<IPython.core.display.HTML object>"
      ]
     },
     "metadata": {},
     "output_type": "display_data"
    },
    {
     "name": "stdout",
     "output_type": "stream",
     "text": [
      "\n",
      "\n"
     ]
    },
    {
     "data": {
      "text/html": [
       "<table><tr><td><img src='https://amt-trial-batch.s3-us-west-1.amazonaws.com/wgan/wgan5.png'><center><font size=5>0</font></center></td><td><img src='https://amt-trial-batch.s3-us-west-1.amazonaws.com/glow/glow_samples-9.jpg'><center><font size=5>3</font></center></td></tr></table>"
      ],
      "text/plain": [
       "<IPython.core.display.HTML object>"
      ]
     },
     "metadata": {},
     "output_type": "display_data"
    },
    {
     "name": "stdout",
     "output_type": "stream",
     "text": [
      "\n",
      "\n"
     ]
    },
    {
     "data": {
      "text/html": [
       "<table><tr><td><img src='https://amt-trial-batch.s3-us-west-1.amazonaws.com/lsgan/lsgan-3.png'><center><font size=5>2</font></center></td><td><img src='https://amt-trial-batch.s3-us-west-1.amazonaws.com/glow/glow_samples-7.jpg'><center><font size=5>1</font></center></td></tr></table>"
      ],
      "text/plain": [
       "<IPython.core.display.HTML object>"
      ]
     },
     "metadata": {},
     "output_type": "display_data"
    },
    {
     "name": "stdout",
     "output_type": "stream",
     "text": [
      "\n",
      "\n"
     ]
    },
    {
     "data": {
      "text/html": [
       "<table><tr><td><img src='https://amt-trial-batch.s3-us-west-1.amazonaws.com/real/real-sample-1.png'><center><font size=5>3</font></center></td><td><img src='https://amt-trial-batch.s3-us-west-1.amazonaws.com/glow/glow_samples-7.jpg'><center><font size=5>0</font></center></td></tr></table>"
      ],
      "text/plain": [
       "<IPython.core.display.HTML object>"
      ]
     },
     "metadata": {},
     "output_type": "display_data"
    },
    {
     "name": "stdout",
     "output_type": "stream",
     "text": [
      "\n",
      "\n"
     ]
    },
    {
     "data": {
      "text/html": [
       "<table><tr><td><img src='https://amt-trial-batch.s3-us-west-1.amazonaws.com/glow/glow_samples-6.jpg'><center><font size=5>3</font></center></td><td><img src='https://amt-trial-batch.s3-us-west-1.amazonaws.com/glow/glow_samples-1.jpg'><center><font size=5>0</font></center></td></tr></table>"
      ],
      "text/plain": [
       "<IPython.core.display.HTML object>"
      ]
     },
     "metadata": {},
     "output_type": "display_data"
    },
    {
     "name": "stdout",
     "output_type": "stream",
     "text": [
      "\n",
      "\n"
     ]
    },
    {
     "data": {
      "text/html": [
       "<table><tr><td><img src='https://amt-trial-batch.s3-us-west-1.amazonaws.com/real/real-sample-3.png'><center><font size=5>2</font></center></td><td><img src='https://amt-trial-batch.s3-us-west-1.amazonaws.com/glow/glow_samples-10.jpg'><center><font size=5>1</font></center></td></tr></table>"
      ],
      "text/plain": [
       "<IPython.core.display.HTML object>"
      ]
     },
     "metadata": {},
     "output_type": "display_data"
    },
    {
     "name": "stdout",
     "output_type": "stream",
     "text": [
      "\n",
      "\n"
     ]
    },
    {
     "data": {
      "text/html": [
       "<table><tr><td><img src='https://amt-trial-batch.s3-us-west-1.amazonaws.com/lsgan/lsgan-1.png'><center><font size=5>2</font></center></td><td><img src='https://amt-trial-batch.s3-us-west-1.amazonaws.com/glow/glow_samples-9.jpg'><center><font size=5>1</font></center></td></tr></table>"
      ],
      "text/plain": [
       "<IPython.core.display.HTML object>"
      ]
     },
     "metadata": {},
     "output_type": "display_data"
    },
    {
     "name": "stdout",
     "output_type": "stream",
     "text": [
      "\n",
      "\n"
     ]
    },
    {
     "data": {
      "text/html": [
       "<table><tr><td><img src='https://amt-trial-batch.s3-us-west-1.amazonaws.com/glow/glow_samples-5.jpg'><center><font size=5>1</font></center></td><td><img src='https://amt-trial-batch.s3-us-west-1.amazonaws.com/glow/glow_samples-3.jpg'><center><font size=5>2</font></center></td></tr></table>"
      ],
      "text/plain": [
       "<IPython.core.display.HTML object>"
      ]
     },
     "metadata": {},
     "output_type": "display_data"
    },
    {
     "name": "stdout",
     "output_type": "stream",
     "text": [
      "\n",
      "\n"
     ]
    },
    {
     "data": {
      "text/html": [
       "<table><tr><td><img src='https://amt-trial-batch.s3-us-west-1.amazonaws.com/wgan/wgan-3.png'><center><font size=5>1</font></center></td><td><img src='https://amt-trial-batch.s3-us-west-1.amazonaws.com/glow/glow_samples-1.jpg'><center><font size=5>2</font></center></td></tr></table>"
      ],
      "text/plain": [
       "<IPython.core.display.HTML object>"
      ]
     },
     "metadata": {},
     "output_type": "display_data"
    },
    {
     "name": "stdout",
     "output_type": "stream",
     "text": [
      "\n",
      "\n"
     ]
    },
    {
     "data": {
      "text/html": [
       "<table><tr><td><img src='https://amt-trial-batch.s3-us-west-1.amazonaws.com/lsgan/lsgan-4.png'><center><font size=5>2</font></center></td><td><img src='https://amt-trial-batch.s3-us-west-1.amazonaws.com/glow/glow_samples-1.jpg'><center><font size=5>1</font></center></td></tr></table>"
      ],
      "text/plain": [
       "<IPython.core.display.HTML object>"
      ]
     },
     "metadata": {},
     "output_type": "display_data"
    },
    {
     "name": "stdout",
     "output_type": "stream",
     "text": [
      "\n",
      "\n"
     ]
    },
    {
     "data": {
      "text/html": [
       "<table><tr><td><img src='https://amt-trial-batch.s3-us-west-1.amazonaws.com/real/real-sample-2.png'><center><font size=5>3</font></center></td><td><img src='https://amt-trial-batch.s3-us-west-1.amazonaws.com/wgan/wgan-2.png'><center><font size=5>0</font></center></td></tr></table>"
      ],
      "text/plain": [
       "<IPython.core.display.HTML object>"
      ]
     },
     "metadata": {},
     "output_type": "display_data"
    },
    {
     "name": "stdout",
     "output_type": "stream",
     "text": [
      "\n",
      "\n"
     ]
    },
    {
     "data": {
      "text/html": [
       "<table><tr><td><img src='https://amt-trial-batch.s3-us-west-1.amazonaws.com/wgan/wgan-2.png'><center><font size=5>0</font></center></td><td><img src='https://amt-trial-batch.s3-us-west-1.amazonaws.com/glow/glow_samples-6.jpg'><center><font size=5>3</font></center></td></tr></table>"
      ],
      "text/plain": [
       "<IPython.core.display.HTML object>"
      ]
     },
     "metadata": {},
     "output_type": "display_data"
    },
    {
     "name": "stdout",
     "output_type": "stream",
     "text": [
      "\n",
      "\n"
     ]
    },
    {
     "data": {
      "text/html": [
       "<table><tr><td><img src='https://amt-trial-batch.s3-us-west-1.amazonaws.com/real/real-sample-2.png'><center><font size=5>3</font></center></td><td><img src='https://amt-trial-batch.s3-us-west-1.amazonaws.com/glow/glow_samples-5.jpg'><center><font size=5>0</font></center></td></tr></table>"
      ],
      "text/plain": [
       "<IPython.core.display.HTML object>"
      ]
     },
     "metadata": {},
     "output_type": "display_data"
    },
    {
     "name": "stdout",
     "output_type": "stream",
     "text": [
      "\n",
      "\n"
     ]
    },
    {
     "data": {
      "text/html": [
       "<table><tr><td><img src='https://amt-trial-batch.s3-us-west-1.amazonaws.com/lsgan/lsgan-3.png'><center><font size=5>3</font></center></td><td><img src='https://amt-trial-batch.s3-us-west-1.amazonaws.com/glow/glow_samples-5.jpg'><center><font size=5>0</font></center></td></tr></table>"
      ],
      "text/plain": [
       "<IPython.core.display.HTML object>"
      ]
     },
     "metadata": {},
     "output_type": "display_data"
    },
    {
     "name": "stdout",
     "output_type": "stream",
     "text": [
      "\n",
      "\n"
     ]
    },
    {
     "data": {
      "text/html": [
       "<table><tr><td><img src='https://amt-trial-batch.s3-us-west-1.amazonaws.com/wgan/wgan-3.png'><center><font size=5>0</font></center></td><td><img src='https://amt-trial-batch.s3-us-west-1.amazonaws.com/glow/glow_samples-9.jpg'><center><font size=5>3</font></center></td></tr></table>"
      ],
      "text/plain": [
       "<IPython.core.display.HTML object>"
      ]
     },
     "metadata": {},
     "output_type": "display_data"
    },
    {
     "name": "stdout",
     "output_type": "stream",
     "text": [
      "\n",
      "\n"
     ]
    },
    {
     "data": {
      "text/html": [
       "<table><tr><td><img src='https://amt-trial-batch.s3-us-west-1.amazonaws.com/lsgan/lsgan-4.png'><center><font size=5>2</font></center></td><td><img src='https://amt-trial-batch.s3-us-west-1.amazonaws.com/lsgan/lsgan-2.png'><center><font size=5>1</font></center></td></tr></table>"
      ],
      "text/plain": [
       "<IPython.core.display.HTML object>"
      ]
     },
     "metadata": {},
     "output_type": "display_data"
    },
    {
     "name": "stdout",
     "output_type": "stream",
     "text": [
      "\n",
      "\n"
     ]
    },
    {
     "data": {
      "text/html": [
       "<table><tr><td><img src='https://amt-trial-batch.s3-us-west-1.amazonaws.com/real/real-sample-1.png'><center><font size=5>3</font></center></td><td><img src='https://amt-trial-batch.s3-us-west-1.amazonaws.com/wgan/wgan-2.png'><center><font size=5>0</font></center></td></tr></table>"
      ],
      "text/plain": [
       "<IPython.core.display.HTML object>"
      ]
     },
     "metadata": {},
     "output_type": "display_data"
    },
    {
     "name": "stdout",
     "output_type": "stream",
     "text": [
      "\n",
      "\n"
     ]
    },
    {
     "data": {
      "text/html": [
       "<table><tr><td><img src='https://amt-trial-batch.s3-us-west-1.amazonaws.com/lsgan/lsgan-4.png'><center><font size=5>3</font></center></td><td><img src='https://amt-trial-batch.s3-us-west-1.amazonaws.com/lsgan/lsgan-1.png'><center><font size=5>0</font></center></td></tr></table>"
      ],
      "text/plain": [
       "<IPython.core.display.HTML object>"
      ]
     },
     "metadata": {},
     "output_type": "display_data"
    },
    {
     "name": "stdout",
     "output_type": "stream",
     "text": [
      "\n",
      "\n"
     ]
    },
    {
     "data": {
      "text/html": [
       "<table><tr><td><img src='https://amt-trial-batch.s3-us-west-1.amazonaws.com/wgan/wgan-2.png'><center><font size=5>2</font></center></td><td><img src='https://amt-trial-batch.s3-us-west-1.amazonaws.com/wgan/wgan-3.png'><center><font size=5>1</font></center></td></tr></table>"
      ],
      "text/plain": [
       "<IPython.core.display.HTML object>"
      ]
     },
     "metadata": {},
     "output_type": "display_data"
    },
    {
     "name": "stdout",
     "output_type": "stream",
     "text": [
      "\n",
      "\n"
     ]
    },
    {
     "data": {
      "text/html": [
       "<table><tr><td><img src='https://amt-trial-batch.s3-us-west-1.amazonaws.com/real/real-sample-2.png'><center><font size=5>2</font></center></td><td><img src='https://amt-trial-batch.s3-us-west-1.amazonaws.com/glow/glow_samples-8.jpg'><center><font size=5>1</font></center></td></tr></table>"
      ],
      "text/plain": [
       "<IPython.core.display.HTML object>"
      ]
     },
     "metadata": {},
     "output_type": "display_data"
    },
    {
     "name": "stdout",
     "output_type": "stream",
     "text": [
      "\n",
      "\n"
     ]
    },
    {
     "data": {
      "text/html": [
       "<table><tr><td><img src='https://amt-trial-batch.s3-us-west-1.amazonaws.com/wgan/wgan-3.png'><center><font size=5>0</font></center></td><td><img src='https://amt-trial-batch.s3-us-west-1.amazonaws.com/glow/glow_samples-3.jpg'><center><font size=5>3</font></center></td></tr></table>"
      ],
      "text/plain": [
       "<IPython.core.display.HTML object>"
      ]
     },
     "metadata": {},
     "output_type": "display_data"
    },
    {
     "name": "stdout",
     "output_type": "stream",
     "text": [
      "\n",
      "\n"
     ]
    },
    {
     "data": {
      "text/html": [
       "<table><tr><td><img src='https://amt-trial-batch.s3-us-west-1.amazonaws.com/real/real-sample-2.png'><center><font size=5>3</font></center></td><td><img src='https://amt-trial-batch.s3-us-west-1.amazonaws.com/noise/noise-1.png'><center><font size=5>0</font></center></td></tr></table>"
      ],
      "text/plain": [
       "<IPython.core.display.HTML object>"
      ]
     },
     "metadata": {},
     "output_type": "display_data"
    },
    {
     "name": "stdout",
     "output_type": "stream",
     "text": [
      "\n",
      "\n"
     ]
    },
    {
     "data": {
      "text/html": [
       "<table><tr><td><img src='https://amt-trial-batch.s3-us-west-1.amazonaws.com/lsgan/lsgan-1.png'><center><font size=5>1</font></center></td><td><img src='https://amt-trial-batch.s3-us-west-1.amazonaws.com/lsgan/lsgan-3.png'><center><font size=5>2</font></center></td></tr></table>"
      ],
      "text/plain": [
       "<IPython.core.display.HTML object>"
      ]
     },
     "metadata": {},
     "output_type": "display_data"
    },
    {
     "name": "stdout",
     "output_type": "stream",
     "text": [
      "\n",
      "\n"
     ]
    },
    {
     "data": {
      "text/html": [
       "<table><tr><td><img src='https://amt-trial-batch.s3-us-west-1.amazonaws.com/real/real-sample-2.png'><center><font size=5>3</font></center></td><td><img src='https://amt-trial-batch.s3-us-west-1.amazonaws.com/wgan/wgan-1.png'><center><font size=5>0</font></center></td></tr></table>"
      ],
      "text/plain": [
       "<IPython.core.display.HTML object>"
      ]
     },
     "metadata": {},
     "output_type": "display_data"
    },
    {
     "name": "stdout",
     "output_type": "stream",
     "text": [
      "\n",
      "\n"
     ]
    },
    {
     "data": {
      "text/html": [
       "<table><tr><td><img src='https://amt-trial-batch.s3-us-west-1.amazonaws.com/wgan/wgan5.png'><center><font size=5>1</font></center></td><td><img src='https://amt-trial-batch.s3-us-west-1.amazonaws.com/glow/glow_samples-4.jpg'><center><font size=5>2</font></center></td></tr></table>"
      ],
      "text/plain": [
       "<IPython.core.display.HTML object>"
      ]
     },
     "metadata": {},
     "output_type": "display_data"
    },
    {
     "name": "stdout",
     "output_type": "stream",
     "text": [
      "\n",
      "\n"
     ]
    },
    {
     "data": {
      "text/html": [
       "<table><tr><td><img src='https://amt-trial-batch.s3-us-west-1.amazonaws.com/real/real-sample-1.png'><center><font size=5>3</font></center></td><td><img src='https://amt-trial-batch.s3-us-west-1.amazonaws.com/glow/glow_samples-3.jpg'><center><font size=5>0</font></center></td></tr></table>"
      ],
      "text/plain": [
       "<IPython.core.display.HTML object>"
      ]
     },
     "metadata": {},
     "output_type": "display_data"
    },
    {
     "name": "stdout",
     "output_type": "stream",
     "text": [
      "\n",
      "\n"
     ]
    },
    {
     "data": {
      "text/html": [
       "<table><tr><td><img src='https://amt-trial-batch.s3-us-west-1.amazonaws.com/lsgan/lsgan-4.png'><center><font size=5>0</font></center></td><td><img src='https://amt-trial-batch.s3-us-west-1.amazonaws.com/real/real-sample-2.png'><center><font size=5>3</font></center></td></tr></table>"
      ],
      "text/plain": [
       "<IPython.core.display.HTML object>"
      ]
     },
     "metadata": {},
     "output_type": "display_data"
    },
    {
     "name": "stdout",
     "output_type": "stream",
     "text": [
      "\n",
      "\n"
     ]
    },
    {
     "data": {
      "text/html": [
       "<table><tr><td><img src='https://amt-trial-batch.s3-us-west-1.amazonaws.com/wgan/wgan5.png'><center><font size=5>0</font></center></td><td><img src='https://amt-trial-batch.s3-us-west-1.amazonaws.com/glow/glow_samples-5.jpg'><center><font size=5>3</font></center></td></tr></table>"
      ],
      "text/plain": [
       "<IPython.core.display.HTML object>"
      ]
     },
     "metadata": {},
     "output_type": "display_data"
    },
    {
     "name": "stdout",
     "output_type": "stream",
     "text": [
      "\n",
      "\n"
     ]
    },
    {
     "data": {
      "text/html": [
       "<table><tr><td><img src='https://amt-trial-batch.s3-us-west-1.amazonaws.com/lsgan/lsgan-2.png'><center><font size=5>2</font></center></td><td><img src='https://amt-trial-batch.s3-us-west-1.amazonaws.com/wgan/wgan5.png'><center><font size=5>1</font></center></td></tr></table>"
      ],
      "text/plain": [
       "<IPython.core.display.HTML object>"
      ]
     },
     "metadata": {},
     "output_type": "display_data"
    },
    {
     "name": "stdout",
     "output_type": "stream",
     "text": [
      "\n",
      "\n"
     ]
    },
    {
     "data": {
      "text/html": [
       "<table><tr><td><img src='https://amt-trial-batch.s3-us-west-1.amazonaws.com/noise/noise-1.png'><center><font size=5>0</font></center></td><td><img src='https://amt-trial-batch.s3-us-west-1.amazonaws.com/glow/glow_samples-3.jpg'><center><font size=5>3</font></center></td></tr></table>"
      ],
      "text/plain": [
       "<IPython.core.display.HTML object>"
      ]
     },
     "metadata": {},
     "output_type": "display_data"
    },
    {
     "name": "stdout",
     "output_type": "stream",
     "text": [
      "\n",
      "\n"
     ]
    },
    {
     "data": {
      "text/html": [
       "<table><tr><td><img src='https://amt-trial-batch.s3-us-west-1.amazonaws.com/lsgan/lsgan-2.png'><center><font size=5>2</font></center></td><td><img src='https://amt-trial-batch.s3-us-west-1.amazonaws.com/glow/glow_samples-2.jpg'><center><font size=5>1</font></center></td></tr></table>"
      ],
      "text/plain": [
       "<IPython.core.display.HTML object>"
      ]
     },
     "metadata": {},
     "output_type": "display_data"
    },
    {
     "name": "stdout",
     "output_type": "stream",
     "text": [
      "\n",
      "\n"
     ]
    },
    {
     "data": {
      "text/html": [
       "<table><tr><td><img src='https://amt-trial-batch.s3-us-west-1.amazonaws.com/lsgan/lsgan-1.png'><center><font size=5>3</font></center></td><td><img src='https://amt-trial-batch.s3-us-west-1.amazonaws.com/glow/glow_samples-4.jpg'><center><font size=5>0</font></center></td></tr></table>"
      ],
      "text/plain": [
       "<IPython.core.display.HTML object>"
      ]
     },
     "metadata": {},
     "output_type": "display_data"
    },
    {
     "name": "stdout",
     "output_type": "stream",
     "text": [
      "\n",
      "\n"
     ]
    },
    {
     "data": {
      "text/html": [
       "<table><tr><td><img src='https://amt-trial-batch.s3-us-west-1.amazonaws.com/glow/glow_samples-7.jpg'><center><font size=5>0</font></center></td><td><img src='https://amt-trial-batch.s3-us-west-1.amazonaws.com/glow/glow_samples-3.jpg'><center><font size=5>3</font></center></td></tr></table>"
      ],
      "text/plain": [
       "<IPython.core.display.HTML object>"
      ]
     },
     "metadata": {},
     "output_type": "display_data"
    },
    {
     "name": "stdout",
     "output_type": "stream",
     "text": [
      "\n",
      "\n"
     ]
    },
    {
     "data": {
      "text/html": [
       "<table><tr><td><img src='https://amt-trial-batch.s3-us-west-1.amazonaws.com/wgan/wgan5.png'><center><font size=5>2</font></center></td><td><img src='https://amt-trial-batch.s3-us-west-1.amazonaws.com/wgan/wgan-1.png'><center><font size=5>1</font></center></td></tr></table>"
      ],
      "text/plain": [
       "<IPython.core.display.HTML object>"
      ]
     },
     "metadata": {},
     "output_type": "display_data"
    },
    {
     "name": "stdout",
     "output_type": "stream",
     "text": [
      "\n",
      "\n"
     ]
    },
    {
     "data": {
      "text/html": [
       "<table><tr><td><img src='https://amt-trial-batch.s3-us-west-1.amazonaws.com/wgan/wgan-1.png'><center><font size=5>0</font></center></td><td><img src='https://amt-trial-batch.s3-us-west-1.amazonaws.com/glow/glow_samples-10.jpg'><center><font size=5>3</font></center></td></tr></table>"
      ],
      "text/plain": [
       "<IPython.core.display.HTML object>"
      ]
     },
     "metadata": {},
     "output_type": "display_data"
    },
    {
     "name": "stdout",
     "output_type": "stream",
     "text": [
      "\n",
      "\n"
     ]
    },
    {
     "data": {
      "text/html": [
       "<table><tr><td><img src='https://amt-trial-batch.s3-us-west-1.amazonaws.com/lsgan/lsgan-4.png'><center><font size=5>2</font></center></td><td><img src='https://amt-trial-batch.s3-us-west-1.amazonaws.com/glow/glow_samples-7.jpg'><center><font size=5>1</font></center></td></tr></table>"
      ],
      "text/plain": [
       "<IPython.core.display.HTML object>"
      ]
     },
     "metadata": {},
     "output_type": "display_data"
    },
    {
     "name": "stdout",
     "output_type": "stream",
     "text": [
      "\n",
      "\n"
     ]
    },
    {
     "data": {
      "text/html": [
       "<table><tr><td><img src='https://amt-trial-batch.s3-us-west-1.amazonaws.com/wgan/wgan-3.png'><center><font size=5>3</font></center></td><td><img src='https://amt-trial-batch.s3-us-west-1.amazonaws.com/noise/noise-1.png'><center><font size=5>0</font></center></td></tr></table>"
      ],
      "text/plain": [
       "<IPython.core.display.HTML object>"
      ]
     },
     "metadata": {},
     "output_type": "display_data"
    },
    {
     "name": "stdout",
     "output_type": "stream",
     "text": [
      "\n",
      "\n"
     ]
    },
    {
     "data": {
      "text/html": [
       "<table><tr><td><img src='https://amt-trial-batch.s3-us-west-1.amazonaws.com/lsgan/lsgan-2.png'><center><font size=5>3</font></center></td><td><img src='https://amt-trial-batch.s3-us-west-1.amazonaws.com/noise/noise-1.png'><center><font size=5>0</font></center></td></tr></table>"
      ],
      "text/plain": [
       "<IPython.core.display.HTML object>"
      ]
     },
     "metadata": {},
     "output_type": "display_data"
    },
    {
     "name": "stdout",
     "output_type": "stream",
     "text": [
      "\n",
      "\n"
     ]
    },
    {
     "data": {
      "text/html": [
       "<table><tr><td><img src='https://amt-trial-batch.s3-us-west-1.amazonaws.com/lsgan/lsgan-1.png'><center><font size=5>3</font></center></td><td><img src='https://amt-trial-batch.s3-us-west-1.amazonaws.com/glow/glow_samples-7.jpg'><center><font size=5>0</font></center></td></tr></table>"
      ],
      "text/plain": [
       "<IPython.core.display.HTML object>"
      ]
     },
     "metadata": {},
     "output_type": "display_data"
    },
    {
     "name": "stdout",
     "output_type": "stream",
     "text": [
      "\n",
      "\n"
     ]
    },
    {
     "data": {
      "text/html": [
       "<table><tr><td><img src='https://amt-trial-batch.s3-us-west-1.amazonaws.com/glow/glow_samples-10.jpg'><center><font size=5>3</font></center></td><td><img src='https://amt-trial-batch.s3-us-west-1.amazonaws.com/glow/glow_samples-6.jpg'><center><font size=5>0</font></center></td></tr></table>"
      ],
      "text/plain": [
       "<IPython.core.display.HTML object>"
      ]
     },
     "metadata": {},
     "output_type": "display_data"
    },
    {
     "name": "stdout",
     "output_type": "stream",
     "text": [
      "\n",
      "\n"
     ]
    },
    {
     "data": {
      "text/html": [
       "<table><tr><td><img src='https://amt-trial-batch.s3-us-west-1.amazonaws.com/wgan/wgan-1.png'><center><font size=5>1</font></center></td><td><img src='https://amt-trial-batch.s3-us-west-1.amazonaws.com/glow/glow_samples-8.jpg'><center><font size=5>2</font></center></td></tr></table>"
      ],
      "text/plain": [
       "<IPython.core.display.HTML object>"
      ]
     },
     "metadata": {},
     "output_type": "display_data"
    },
    {
     "name": "stdout",
     "output_type": "stream",
     "text": [
      "\n",
      "\n"
     ]
    },
    {
     "data": {
      "text/html": [
       "<table><tr><td><img src='https://amt-trial-batch.s3-us-west-1.amazonaws.com/lsgan/lsgan-4.png'><center><font size=5>1</font></center></td><td><img src='https://amt-trial-batch.s3-us-west-1.amazonaws.com/glow/glow_samples-3.jpg'><center><font size=5>2</font></center></td></tr></table>"
      ],
      "text/plain": [
       "<IPython.core.display.HTML object>"
      ]
     },
     "metadata": {},
     "output_type": "display_data"
    },
    {
     "name": "stdout",
     "output_type": "stream",
     "text": [
      "\n",
      "\n"
     ]
    },
    {
     "data": {
      "text/html": [
       "<table><tr><td><img src='https://amt-trial-batch.s3-us-west-1.amazonaws.com/real/real-sample-2.png'><center><font size=5>3</font></center></td><td><img src='https://amt-trial-batch.s3-us-west-1.amazonaws.com/wgan/wgan5.png'><center><font size=5>0</font></center></td></tr></table>"
      ],
      "text/plain": [
       "<IPython.core.display.HTML object>"
      ]
     },
     "metadata": {},
     "output_type": "display_data"
    },
    {
     "name": "stdout",
     "output_type": "stream",
     "text": [
      "\n",
      "\n"
     ]
    },
    {
     "data": {
      "text/html": [
       "<table><tr><td><img src='https://amt-trial-batch.s3-us-west-1.amazonaws.com/lsgan/lsgan-3.png'><center><font size=5>3</font></center></td><td><img src='https://amt-trial-batch.s3-us-west-1.amazonaws.com/glow/glow_samples-8.jpg'><center><font size=5>0</font></center></td></tr></table>"
      ],
      "text/plain": [
       "<IPython.core.display.HTML object>"
      ]
     },
     "metadata": {},
     "output_type": "display_data"
    },
    {
     "name": "stdout",
     "output_type": "stream",
     "text": [
      "\n",
      "\n"
     ]
    },
    {
     "data": {
      "text/html": [
       "<table><tr><td><img src='https://amt-trial-batch.s3-us-west-1.amazonaws.com/wgan/wgan5.png'><center><font size=5>0</font></center></td><td><img src='https://amt-trial-batch.s3-us-west-1.amazonaws.com/glow/glow_samples-3.jpg'><center><font size=5>3</font></center></td></tr></table>"
      ],
      "text/plain": [
       "<IPython.core.display.HTML object>"
      ]
     },
     "metadata": {},
     "output_type": "display_data"
    },
    {
     "name": "stdout",
     "output_type": "stream",
     "text": [
      "\n",
      "\n"
     ]
    },
    {
     "data": {
      "text/html": [
       "<table><tr><td><img src='https://amt-trial-batch.s3-us-west-1.amazonaws.com/noise/noise-1.png'><center><font size=5>0</font></center></td><td><img src='https://amt-trial-batch.s3-us-west-1.amazonaws.com/glow/glow_samples-8.jpg'><center><font size=5>3</font></center></td></tr></table>"
      ],
      "text/plain": [
       "<IPython.core.display.HTML object>"
      ]
     },
     "metadata": {},
     "output_type": "display_data"
    },
    {
     "name": "stdout",
     "output_type": "stream",
     "text": [
      "\n",
      "\n"
     ]
    },
    {
     "data": {
      "text/html": [
       "<table><tr><td><img src='https://amt-trial-batch.s3-us-west-1.amazonaws.com/glow/glow_samples-4.jpg'><center><font size=5>2</font></center></td><td><img src='https://amt-trial-batch.s3-us-west-1.amazonaws.com/glow/glow_samples-3.jpg'><center><font size=5>1</font></center></td></tr></table>"
      ],
      "text/plain": [
       "<IPython.core.display.HTML object>"
      ]
     },
     "metadata": {},
     "output_type": "display_data"
    },
    {
     "name": "stdout",
     "output_type": "stream",
     "text": [
      "\n",
      "\n"
     ]
    },
    {
     "data": {
      "text/html": [
       "<table><tr><td><img src='https://amt-trial-batch.s3-us-west-1.amazonaws.com/wgan/wgan-1.png'><center><font size=5>0</font></center></td><td><img src='https://amt-trial-batch.s3-us-west-1.amazonaws.com/glow/glow_samples-4.jpg'><center><font size=5>3</font></center></td></tr></table>"
      ],
      "text/plain": [
       "<IPython.core.display.HTML object>"
      ]
     },
     "metadata": {},
     "output_type": "display_data"
    },
    {
     "name": "stdout",
     "output_type": "stream",
     "text": [
      "\n",
      "\n"
     ]
    },
    {
     "data": {
      "text/html": [
       "<table><tr><td><img src='https://amt-trial-batch.s3-us-west-1.amazonaws.com/lsgan/lsgan-4.png'><center><font size=5>3</font></center></td><td><img src='https://amt-trial-batch.s3-us-west-1.amazonaws.com/wgan/wgan-1.png'><center><font size=5>0</font></center></td></tr></table>"
      ],
      "text/plain": [
       "<IPython.core.display.HTML object>"
      ]
     },
     "metadata": {},
     "output_type": "display_data"
    },
    {
     "name": "stdout",
     "output_type": "stream",
     "text": [
      "\n",
      "\n"
     ]
    },
    {
     "data": {
      "text/html": [
       "<table><tr><td><img src='https://amt-trial-batch.s3-us-west-1.amazonaws.com/real/real-sample-1.png'><center><font size=5>3</font></center></td><td><img src='https://amt-trial-batch.s3-us-west-1.amazonaws.com/glow/glow_samples-10.jpg'><center><font size=5>0</font></center></td></tr></table>"
      ],
      "text/plain": [
       "<IPython.core.display.HTML object>"
      ]
     },
     "metadata": {},
     "output_type": "display_data"
    },
    {
     "name": "stdout",
     "output_type": "stream",
     "text": [
      "\n",
      "\n"
     ]
    },
    {
     "data": {
      "text/html": [
       "<table><tr><td><img src='https://amt-trial-batch.s3-us-west-1.amazonaws.com/lsgan/lsgan-3.png'><center><font size=5>3</font></center></td><td><img src='https://amt-trial-batch.s3-us-west-1.amazonaws.com/glow/glow_samples-6.jpg'><center><font size=5>0</font></center></td></tr></table>"
      ],
      "text/plain": [
       "<IPython.core.display.HTML object>"
      ]
     },
     "metadata": {},
     "output_type": "display_data"
    },
    {
     "name": "stdout",
     "output_type": "stream",
     "text": [
      "\n",
      "\n"
     ]
    },
    {
     "data": {
      "text/html": [
       "<table><tr><td><img src='https://amt-trial-batch.s3-us-west-1.amazonaws.com/wgan/wgan-3.png'><center><font size=5>0</font></center></td><td><img src='https://amt-trial-batch.s3-us-west-1.amazonaws.com/glow/glow_samples-5.jpg'><center><font size=5>3</font></center></td></tr></table>"
      ],
      "text/plain": [
       "<IPython.core.display.HTML object>"
      ]
     },
     "metadata": {},
     "output_type": "display_data"
    },
    {
     "name": "stdout",
     "output_type": "stream",
     "text": [
      "\n",
      "\n"
     ]
    },
    {
     "data": {
      "text/html": [
       "<table><tr><td><img src='https://amt-trial-batch.s3-us-west-1.amazonaws.com/wgan/wgan-1.png'><center><font size=5>0</font></center></td><td><img src='https://amt-trial-batch.s3-us-west-1.amazonaws.com/glow/glow_samples-1.jpg'><center><font size=5>3</font></center></td></tr></table>"
      ],
      "text/plain": [
       "<IPython.core.display.HTML object>"
      ]
     },
     "metadata": {},
     "output_type": "display_data"
    },
    {
     "name": "stdout",
     "output_type": "stream",
     "text": [
      "\n",
      "\n"
     ]
    },
    {
     "data": {
      "text/html": [
       "<table><tr><td><img src='https://amt-trial-batch.s3-us-west-1.amazonaws.com/lsgan/lsgan-3.png'><center><font size=5>2</font></center></td><td><img src='https://amt-trial-batch.s3-us-west-1.amazonaws.com/lsgan/lsgan-2.png'><center><font size=5>1</font></center></td></tr></table>"
      ],
      "text/plain": [
       "<IPython.core.display.HTML object>"
      ]
     },
     "metadata": {},
     "output_type": "display_data"
    },
    {
     "name": "stdout",
     "output_type": "stream",
     "text": [
      "\n",
      "\n"
     ]
    },
    {
     "data": {
      "text/html": [
       "<table><tr><td><img src='https://amt-trial-batch.s3-us-west-1.amazonaws.com/wgan/wgan-2.png'><center><font size=5>1</font></center></td><td><img src='https://amt-trial-batch.s3-us-west-1.amazonaws.com/noise/noise-1.png'><center><font size=5>2</font></center></td></tr></table>"
      ],
      "text/plain": [
       "<IPython.core.display.HTML object>"
      ]
     },
     "metadata": {},
     "output_type": "display_data"
    },
    {
     "name": "stdout",
     "output_type": "stream",
     "text": [
      "\n",
      "\n"
     ]
    },
    {
     "data": {
      "text/html": [
       "<table><tr><td><img src='https://amt-trial-batch.s3-us-west-1.amazonaws.com/lsgan/lsgan-2.png'><center><font size=5>2</font></center></td><td><img src='https://amt-trial-batch.s3-us-west-1.amazonaws.com/glow/glow_samples-4.jpg'><center><font size=5>1</font></center></td></tr></table>"
      ],
      "text/plain": [
       "<IPython.core.display.HTML object>"
      ]
     },
     "metadata": {},
     "output_type": "display_data"
    },
    {
     "name": "stdout",
     "output_type": "stream",
     "text": [
      "\n",
      "\n"
     ]
    },
    {
     "data": {
      "text/html": [
       "<table><tr><td><img src='https://amt-trial-batch.s3-us-west-1.amazonaws.com/glow/glow_samples-4.jpg'><center><font size=5>0</font></center></td><td><img src='https://amt-trial-batch.s3-us-west-1.amazonaws.com/glow/glow_samples-5.jpg'><center><font size=5>3</font></center></td></tr></table>"
      ],
      "text/plain": [
       "<IPython.core.display.HTML object>"
      ]
     },
     "metadata": {},
     "output_type": "display_data"
    },
    {
     "name": "stdout",
     "output_type": "stream",
     "text": [
      "\n",
      "\n"
     ]
    },
    {
     "data": {
      "text/html": [
       "<table><tr><td><img src='https://amt-trial-batch.s3-us-west-1.amazonaws.com/wgan/wgan-2.png'><center><font size=5>1</font></center></td><td><img src='https://amt-trial-batch.s3-us-west-1.amazonaws.com/glow/glow_samples-2.jpg'><center><font size=5>2</font></center></td></tr></table>"
      ],
      "text/plain": [
       "<IPython.core.display.HTML object>"
      ]
     },
     "metadata": {},
     "output_type": "display_data"
    },
    {
     "name": "stdout",
     "output_type": "stream",
     "text": [
      "\n",
      "\n"
     ]
    },
    {
     "data": {
      "text/html": [
       "<table><tr><td><img src='https://amt-trial-batch.s3-us-west-1.amazonaws.com/lsgan/lsgan-3.png'><center><font size=5>0</font></center></td><td><img src='https://amt-trial-batch.s3-us-west-1.amazonaws.com/real/real-sample-3.png'><center><font size=5>3</font></center></td></tr></table>"
      ],
      "text/plain": [
       "<IPython.core.display.HTML object>"
      ]
     },
     "metadata": {},
     "output_type": "display_data"
    },
    {
     "name": "stdout",
     "output_type": "stream",
     "text": [
      "\n",
      "\n"
     ]
    },
    {
     "data": {
      "text/html": [
       "<table><tr><td><img src='https://amt-trial-batch.s3-us-west-1.amazonaws.com/glow/glow_samples-6.jpg'><center><font size=5>3</font></center></td><td><img src='https://amt-trial-batch.s3-us-west-1.amazonaws.com/glow/glow_samples-4.jpg'><center><font size=5>0</font></center></td></tr></table>"
      ],
      "text/plain": [
       "<IPython.core.display.HTML object>"
      ]
     },
     "metadata": {},
     "output_type": "display_data"
    },
    {
     "name": "stdout",
     "output_type": "stream",
     "text": [
      "\n",
      "\n"
     ]
    },
    {
     "data": {
      "text/html": [
       "<table><tr><td><img src='https://amt-trial-batch.s3-us-west-1.amazonaws.com/wgan/wgan-1.png'><center><font size=5>0</font></center></td><td><img src='https://amt-trial-batch.s3-us-west-1.amazonaws.com/glow/glow_samples-7.jpg'><center><font size=5>3</font></center></td></tr></table>"
      ],
      "text/plain": [
       "<IPython.core.display.HTML object>"
      ]
     },
     "metadata": {},
     "output_type": "display_data"
    },
    {
     "name": "stdout",
     "output_type": "stream",
     "text": [
      "\n",
      "\n"
     ]
    },
    {
     "data": {
      "text/html": [
       "<table><tr><td><img src='https://amt-trial-batch.s3-us-west-1.amazonaws.com/real/real-sample-3.png'><center><font size=5>1</font></center></td><td><img src='https://amt-trial-batch.s3-us-west-1.amazonaws.com/glow/glow_samples-2.jpg'><center><font size=5>2</font></center></td></tr></table>"
      ],
      "text/plain": [
       "<IPython.core.display.HTML object>"
      ]
     },
     "metadata": {},
     "output_type": "display_data"
    },
    {
     "name": "stdout",
     "output_type": "stream",
     "text": [
      "\n",
      "\n"
     ]
    },
    {
     "data": {
      "text/html": [
       "<table><tr><td><img src='https://amt-trial-batch.s3-us-west-1.amazonaws.com/lsgan/lsgan-2.png'><center><font size=5>0</font></center></td><td><img src='https://amt-trial-batch.s3-us-west-1.amazonaws.com/real/real-sample-1.png'><center><font size=5>3</font></center></td></tr></table>"
      ],
      "text/plain": [
       "<IPython.core.display.HTML object>"
      ]
     },
     "metadata": {},
     "output_type": "display_data"
    },
    {
     "name": "stdout",
     "output_type": "stream",
     "text": [
      "\n",
      "\n"
     ]
    },
    {
     "data": {
      "text/html": [
       "<table><tr><td><img src='https://amt-trial-batch.s3-us-west-1.amazonaws.com/lsgan/lsgan-4.png'><center><font size=5>2</font></center></td><td><img src='https://amt-trial-batch.s3-us-west-1.amazonaws.com/glow/glow_samples-4.jpg'><center><font size=5>1</font></center></td></tr></table>"
      ],
      "text/plain": [
       "<IPython.core.display.HTML object>"
      ]
     },
     "metadata": {},
     "output_type": "display_data"
    },
    {
     "name": "stdout",
     "output_type": "stream",
     "text": [
      "\n",
      "\n"
     ]
    },
    {
     "data": {
      "text/html": [
       "<table><tr><td><img src='https://amt-trial-batch.s3-us-west-1.amazonaws.com/glow/glow_samples-8.jpg'><center><font size=5>0</font></center></td><td><img src='https://amt-trial-batch.s3-us-west-1.amazonaws.com/glow/glow_samples-2.jpg'><center><font size=5>3</font></center></td></tr></table>"
      ],
      "text/plain": [
       "<IPython.core.display.HTML object>"
      ]
     },
     "metadata": {},
     "output_type": "display_data"
    },
    {
     "name": "stdout",
     "output_type": "stream",
     "text": [
      "\n",
      "\n"
     ]
    },
    {
     "data": {
      "text/html": [
       "<table><tr><td><img src='https://amt-trial-batch.s3-us-west-1.amazonaws.com/real/real-sample-2.png'><center><font size=5>3</font></center></td><td><img src='https://amt-trial-batch.s3-us-west-1.amazonaws.com/glow/glow_samples-6.jpg'><center><font size=5>0</font></center></td></tr></table>"
      ],
      "text/plain": [
       "<IPython.core.display.HTML object>"
      ]
     },
     "metadata": {},
     "output_type": "display_data"
    },
    {
     "name": "stdout",
     "output_type": "stream",
     "text": [
      "\n",
      "\n"
     ]
    },
    {
     "data": {
      "text/html": [
       "<table><tr><td><img src='https://amt-trial-batch.s3-us-west-1.amazonaws.com/noise/noise-1.png'><center><font size=5>1</font></center></td><td><img src='https://amt-trial-batch.s3-us-west-1.amazonaws.com/glow/glow_samples-7.jpg'><center><font size=5>2</font></center></td></tr></table>"
      ],
      "text/plain": [
       "<IPython.core.display.HTML object>"
      ]
     },
     "metadata": {},
     "output_type": "display_data"
    },
    {
     "name": "stdout",
     "output_type": "stream",
     "text": [
      "\n",
      "\n"
     ]
    },
    {
     "data": {
      "text/html": [
       "<table><tr><td><img src='https://amt-trial-batch.s3-us-west-1.amazonaws.com/glow/glow_samples-9.jpg'><center><font size=5>2</font></center></td><td><img src='https://amt-trial-batch.s3-us-west-1.amazonaws.com/glow/glow_samples-5.jpg'><center><font size=5>1</font></center></td></tr></table>"
      ],
      "text/plain": [
       "<IPython.core.display.HTML object>"
      ]
     },
     "metadata": {},
     "output_type": "display_data"
    },
    {
     "name": "stdout",
     "output_type": "stream",
     "text": [
      "\n",
      "\n"
     ]
    },
    {
     "data": {
      "text/html": [
       "<table><tr><td><img src='https://amt-trial-batch.s3-us-west-1.amazonaws.com/noise/noise-1.png'><center><font size=5>0</font></center></td><td><img src='https://amt-trial-batch.s3-us-west-1.amazonaws.com/glow/glow_samples-4.jpg'><center><font size=5>3</font></center></td></tr></table>"
      ],
      "text/plain": [
       "<IPython.core.display.HTML object>"
      ]
     },
     "metadata": {},
     "output_type": "display_data"
    },
    {
     "name": "stdout",
     "output_type": "stream",
     "text": [
      "\n",
      "\n"
     ]
    },
    {
     "data": {
      "text/html": [
       "<table><tr><td><img src='https://amt-trial-batch.s3-us-west-1.amazonaws.com/wgan/wgan5.png'><center><font size=5>0</font></center></td><td><img src='https://amt-trial-batch.s3-us-west-1.amazonaws.com/glow/glow_samples-6.jpg'><center><font size=5>3</font></center></td></tr></table>"
      ],
      "text/plain": [
       "<IPython.core.display.HTML object>"
      ]
     },
     "metadata": {},
     "output_type": "display_data"
    },
    {
     "name": "stdout",
     "output_type": "stream",
     "text": [
      "\n",
      "\n"
     ]
    },
    {
     "data": {
      "text/html": [
       "<table><tr><td><img src='https://amt-trial-batch.s3-us-west-1.amazonaws.com/glow/glow_samples-4.jpg'><center><font size=5>2</font></center></td><td><img src='https://amt-trial-batch.s3-us-west-1.amazonaws.com/glow/glow_samples-2.jpg'><center><font size=5>1</font></center></td></tr></table>"
      ],
      "text/plain": [
       "<IPython.core.display.HTML object>"
      ]
     },
     "metadata": {},
     "output_type": "display_data"
    },
    {
     "name": "stdout",
     "output_type": "stream",
     "text": [
      "\n",
      "\n"
     ]
    },
    {
     "data": {
      "text/html": [
       "<table><tr><td><img src='https://amt-trial-batch.s3-us-west-1.amazonaws.com/lsgan/lsgan-4.png'><center><font size=5>0</font></center></td><td><img src='https://amt-trial-batch.s3-us-west-1.amazonaws.com/lsgan/lsgan-3.png'><center><font size=5>3</font></center></td></tr></table>"
      ],
      "text/plain": [
       "<IPython.core.display.HTML object>"
      ]
     },
     "metadata": {},
     "output_type": "display_data"
    },
    {
     "name": "stdout",
     "output_type": "stream",
     "text": [
      "\n",
      "\n"
     ]
    },
    {
     "data": {
      "text/html": [
       "<table><tr><td><img src='https://amt-trial-batch.s3-us-west-1.amazonaws.com/real/real-sample-1.png'><center><font size=5>3</font></center></td><td><img src='https://amt-trial-batch.s3-us-west-1.amazonaws.com/wgan/wgan-1.png'><center><font size=5>0</font></center></td></tr></table>"
      ],
      "text/plain": [
       "<IPython.core.display.HTML object>"
      ]
     },
     "metadata": {},
     "output_type": "display_data"
    },
    {
     "name": "stdout",
     "output_type": "stream",
     "text": [
      "\n",
      "\n"
     ]
    },
    {
     "data": {
      "text/html": [
       "<table><tr><td><img src='https://amt-trial-batch.s3-us-west-1.amazonaws.com/glow/glow_samples-10.jpg'><center><font size=5>3</font></center></td><td><img src='https://amt-trial-batch.s3-us-west-1.amazonaws.com/glow/glow_samples-4.jpg'><center><font size=5>0</font></center></td></tr></table>"
      ],
      "text/plain": [
       "<IPython.core.display.HTML object>"
      ]
     },
     "metadata": {},
     "output_type": "display_data"
    },
    {
     "name": "stdout",
     "output_type": "stream",
     "text": [
      "\n",
      "\n"
     ]
    },
    {
     "data": {
      "text/html": [
       "<table><tr><td><img src='https://amt-trial-batch.s3-us-west-1.amazonaws.com/wgan/wgan-3.png'><center><font size=5>0</font></center></td><td><img src='https://amt-trial-batch.s3-us-west-1.amazonaws.com/glow/glow_samples-2.jpg'><center><font size=5>3</font></center></td></tr></table>"
      ],
      "text/plain": [
       "<IPython.core.display.HTML object>"
      ]
     },
     "metadata": {},
     "output_type": "display_data"
    },
    {
     "name": "stdout",
     "output_type": "stream",
     "text": [
      "\n",
      "\n"
     ]
    },
    {
     "data": {
      "text/html": [
       "<table><tr><td><img src='https://amt-trial-batch.s3-us-west-1.amazonaws.com/lsgan/lsgan-4.png'><center><font size=5>0</font></center></td><td><img src='https://amt-trial-batch.s3-us-west-1.amazonaws.com/real/real-sample-3.png'><center><font size=5>3</font></center></td></tr></table>"
      ],
      "text/plain": [
       "<IPython.core.display.HTML object>"
      ]
     },
     "metadata": {},
     "output_type": "display_data"
    },
    {
     "name": "stdout",
     "output_type": "stream",
     "text": [
      "\n",
      "\n"
     ]
    },
    {
     "data": {
      "text/html": [
       "<table><tr><td><img src='https://amt-trial-batch.s3-us-west-1.amazonaws.com/real/real-sample-3.png'><center><font size=5>3</font></center></td><td><img src='https://amt-trial-batch.s3-us-west-1.amazonaws.com/noise/noise-1.png'><center><font size=5>0</font></center></td></tr></table>"
      ],
      "text/plain": [
       "<IPython.core.display.HTML object>"
      ]
     },
     "metadata": {},
     "output_type": "display_data"
    },
    {
     "name": "stdout",
     "output_type": "stream",
     "text": [
      "\n",
      "\n"
     ]
    },
    {
     "data": {
      "text/html": [
       "<table><tr><td><img src='https://amt-trial-batch.s3-us-west-1.amazonaws.com/wgan/wgan-3.png'><center><font size=5>0</font></center></td><td><img src='https://amt-trial-batch.s3-us-west-1.amazonaws.com/glow/glow_samples-10.jpg'><center><font size=5>3</font></center></td></tr></table>"
      ],
      "text/plain": [
       "<IPython.core.display.HTML object>"
      ]
     },
     "metadata": {},
     "output_type": "display_data"
    },
    {
     "name": "stdout",
     "output_type": "stream",
     "text": [
      "\n",
      "\n"
     ]
    },
    {
     "data": {
      "text/html": [
       "<table><tr><td><img src='https://amt-trial-batch.s3-us-west-1.amazonaws.com/real/real-sample-1.png'><center><font size=5>3</font></center></td><td><img src='https://amt-trial-batch.s3-us-west-1.amazonaws.com/glow/glow_samples-8.jpg'><center><font size=5>0</font></center></td></tr></table>"
      ],
      "text/plain": [
       "<IPython.core.display.HTML object>"
      ]
     },
     "metadata": {},
     "output_type": "display_data"
    },
    {
     "name": "stdout",
     "output_type": "stream",
     "text": [
      "\n",
      "\n"
     ]
    },
    {
     "data": {
      "text/html": [
       "<table><tr><td><img src='https://amt-trial-batch.s3-us-west-1.amazonaws.com/glow/glow_samples-7.jpg'><center><font size=5>1</font></center></td><td><img src='https://amt-trial-batch.s3-us-west-1.amazonaws.com/glow/glow_samples-6.jpg'><center><font size=5>2</font></center></td></tr></table>"
      ],
      "text/plain": [
       "<IPython.core.display.HTML object>"
      ]
     },
     "metadata": {},
     "output_type": "display_data"
    },
    {
     "name": "stdout",
     "output_type": "stream",
     "text": [
      "\n",
      "\n"
     ]
    },
    {
     "data": {
      "text/html": [
       "<table><tr><td><img src='https://amt-trial-batch.s3-us-west-1.amazonaws.com/glow/glow_samples-9.jpg'><center><font size=5>3</font></center></td><td><img src='https://amt-trial-batch.s3-us-west-1.amazonaws.com/glow/glow_samples-1.jpg'><center><font size=5>0</font></center></td></tr></table>"
      ],
      "text/plain": [
       "<IPython.core.display.HTML object>"
      ]
     },
     "metadata": {},
     "output_type": "display_data"
    },
    {
     "name": "stdout",
     "output_type": "stream",
     "text": [
      "\n",
      "\n"
     ]
    },
    {
     "data": {
      "text/html": [
       "<table><tr><td><img src='https://amt-trial-batch.s3-us-west-1.amazonaws.com/real/real-sample-2.png'><center><font size=5>3</font></center></td><td><img src='https://amt-trial-batch.s3-us-west-1.amazonaws.com/wgan/wgan-3.png'><center><font size=5>0</font></center></td></tr></table>"
      ],
      "text/plain": [
       "<IPython.core.display.HTML object>"
      ]
     },
     "metadata": {},
     "output_type": "display_data"
    },
    {
     "name": "stdout",
     "output_type": "stream",
     "text": [
      "\n",
      "\n"
     ]
    },
    {
     "data": {
      "text/html": [
       "<table><tr><td><img src='https://amt-trial-batch.s3-us-west-1.amazonaws.com/lsgan/lsgan-2.png'><center><font size=5>3</font></center></td><td><img src='https://amt-trial-batch.s3-us-west-1.amazonaws.com/wgan/wgan-1.png'><center><font size=5>0</font></center></td></tr></table>"
      ],
      "text/plain": [
       "<IPython.core.display.HTML object>"
      ]
     },
     "metadata": {},
     "output_type": "display_data"
    },
    {
     "name": "stdout",
     "output_type": "stream",
     "text": [
      "\n",
      "\n"
     ]
    },
    {
     "data": {
      "text/html": [
       "<table><tr><td><img src='https://amt-trial-batch.s3-us-west-1.amazonaws.com/lsgan/lsgan-2.png'><center><font size=5>3</font></center></td><td><img src='https://amt-trial-batch.s3-us-west-1.amazonaws.com/glow/glow_samples-9.jpg'><center><font size=5>0</font></center></td></tr></table>"
      ],
      "text/plain": [
       "<IPython.core.display.HTML object>"
      ]
     },
     "metadata": {},
     "output_type": "display_data"
    },
    {
     "name": "stdout",
     "output_type": "stream",
     "text": [
      "\n",
      "\n"
     ]
    },
    {
     "data": {
      "text/html": [
       "<table><tr><td><img src='https://amt-trial-batch.s3-us-west-1.amazonaws.com/real/real-sample-1.png'><center><font size=5>3</font></center></td><td><img src='https://amt-trial-batch.s3-us-west-1.amazonaws.com/glow/glow_samples-6.jpg'><center><font size=5>0</font></center></td></tr></table>"
      ],
      "text/plain": [
       "<IPython.core.display.HTML object>"
      ]
     },
     "metadata": {},
     "output_type": "display_data"
    },
    {
     "name": "stdout",
     "output_type": "stream",
     "text": [
      "\n",
      "\n"
     ]
    },
    {
     "data": {
      "text/html": [
       "<table><tr><td><img src='https://amt-trial-batch.s3-us-west-1.amazonaws.com/lsgan/lsgan-1.png'><center><font size=5>0</font></center></td><td><img src='https://amt-trial-batch.s3-us-west-1.amazonaws.com/lsgan/lsgan-2.png'><center><font size=5>3</font></center></td></tr></table>"
      ],
      "text/plain": [
       "<IPython.core.display.HTML object>"
      ]
     },
     "metadata": {},
     "output_type": "display_data"
    },
    {
     "name": "stdout",
     "output_type": "stream",
     "text": [
      "\n",
      "\n"
     ]
    },
    {
     "data": {
      "text/html": [
       "<table><tr><td><img src='https://amt-trial-batch.s3-us-west-1.amazonaws.com/wgan/wgan-2.png'><center><font size=5>0</font></center></td><td><img src='https://amt-trial-batch.s3-us-west-1.amazonaws.com/glow/glow_samples-4.jpg'><center><font size=5>3</font></center></td></tr></table>"
      ],
      "text/plain": [
       "<IPython.core.display.HTML object>"
      ]
     },
     "metadata": {},
     "output_type": "display_data"
    },
    {
     "name": "stdout",
     "output_type": "stream",
     "text": [
      "\n",
      "\n"
     ]
    },
    {
     "data": {
      "text/html": [
       "<table><tr><td><img src='https://amt-trial-batch.s3-us-west-1.amazonaws.com/glow/glow_samples-10.jpg'><center><font size=5>2</font></center></td><td><img src='https://amt-trial-batch.s3-us-west-1.amazonaws.com/glow/glow_samples-9.jpg'><center><font size=5>1</font></center></td></tr></table>"
      ],
      "text/plain": [
       "<IPython.core.display.HTML object>"
      ]
     },
     "metadata": {},
     "output_type": "display_data"
    },
    {
     "name": "stdout",
     "output_type": "stream",
     "text": [
      "\n",
      "\n"
     ]
    },
    {
     "data": {
      "text/html": [
       "<table><tr><td><img src='https://amt-trial-batch.s3-us-west-1.amazonaws.com/real/real-sample-1.png'><center><font size=5>3</font></center></td><td><img src='https://amt-trial-batch.s3-us-west-1.amazonaws.com/glow/glow_samples-5.jpg'><center><font size=5>0</font></center></td></tr></table>"
      ],
      "text/plain": [
       "<IPython.core.display.HTML object>"
      ]
     },
     "metadata": {},
     "output_type": "display_data"
    },
    {
     "name": "stdout",
     "output_type": "stream",
     "text": [
      "\n",
      "\n"
     ]
    },
    {
     "data": {
      "text/html": [
       "<table><tr><td><img src='https://amt-trial-batch.s3-us-west-1.amazonaws.com/lsgan/lsgan-3.png'><center><font size=5>1</font></center></td><td><img src='https://amt-trial-batch.s3-us-west-1.amazonaws.com/glow/glow_samples-9.jpg'><center><font size=5>2</font></center></td></tr></table>"
      ],
      "text/plain": [
       "<IPython.core.display.HTML object>"
      ]
     },
     "metadata": {},
     "output_type": "display_data"
    },
    {
     "name": "stdout",
     "output_type": "stream",
     "text": [
      "\n",
      "\n"
     ]
    },
    {
     "data": {
      "text/html": [
       "<table><tr><td><img src='https://amt-trial-batch.s3-us-west-1.amazonaws.com/wgan/wgan-2.png'><center><font size=5>1</font></center></td><td><img src='https://amt-trial-batch.s3-us-west-1.amazonaws.com/wgan/wgan5.png'><center><font size=5>2</font></center></td></tr></table>"
      ],
      "text/plain": [
       "<IPython.core.display.HTML object>"
      ]
     },
     "metadata": {},
     "output_type": "display_data"
    },
    {
     "name": "stdout",
     "output_type": "stream",
     "text": [
      "\n",
      "\n"
     ]
    },
    {
     "data": {
      "text/html": [
       "<table><tr><td><img src='https://amt-trial-batch.s3-us-west-1.amazonaws.com/glow/glow_samples-6.jpg'><center><font size=5>0</font></center></td><td><img src='https://amt-trial-batch.s3-us-west-1.amazonaws.com/glow/glow_samples-5.jpg'><center><font size=5>3</font></center></td></tr></table>"
      ],
      "text/plain": [
       "<IPython.core.display.HTML object>"
      ]
     },
     "metadata": {},
     "output_type": "display_data"
    },
    {
     "name": "stdout",
     "output_type": "stream",
     "text": [
      "\n",
      "\n"
     ]
    },
    {
     "data": {
      "text/html": [
       "<table><tr><td><img src='https://amt-trial-batch.s3-us-west-1.amazonaws.com/glow/glow_samples-9.jpg'><center><font size=5>3</font></center></td><td><img src='https://amt-trial-batch.s3-us-west-1.amazonaws.com/glow/glow_samples-2.jpg'><center><font size=5>0</font></center></td></tr></table>"
      ],
      "text/plain": [
       "<IPython.core.display.HTML object>"
      ]
     },
     "metadata": {},
     "output_type": "display_data"
    },
    {
     "name": "stdout",
     "output_type": "stream",
     "text": [
      "\n",
      "\n"
     ]
    },
    {
     "data": {
      "text/html": [
       "<table><tr><td><img src='https://amt-trial-batch.s3-us-west-1.amazonaws.com/glow/glow_samples-7.jpg'><center><font size=5>2</font></center></td><td><img src='https://amt-trial-batch.s3-us-west-1.amazonaws.com/glow/glow_samples-2.jpg'><center><font size=5>1</font></center></td></tr></table>"
      ],
      "text/plain": [
       "<IPython.core.display.HTML object>"
      ]
     },
     "metadata": {},
     "output_type": "display_data"
    },
    {
     "name": "stdout",
     "output_type": "stream",
     "text": [
      "\n",
      "\n"
     ]
    },
    {
     "data": {
      "text/html": [
       "<table><tr><td><img src='https://amt-trial-batch.s3-us-west-1.amazonaws.com/wgan/wgan5.png'><center><font size=5>1</font></center></td><td><img src='https://amt-trial-batch.s3-us-west-1.amazonaws.com/glow/glow_samples-1.jpg'><center><font size=5>2</font></center></td></tr></table>"
      ],
      "text/plain": [
       "<IPython.core.display.HTML object>"
      ]
     },
     "metadata": {},
     "output_type": "display_data"
    },
    {
     "name": "stdout",
     "output_type": "stream",
     "text": [
      "\n",
      "\n"
     ]
    },
    {
     "data": {
      "text/html": [
       "<table><tr><td><img src='https://amt-trial-batch.s3-us-west-1.amazonaws.com/real/real-sample-3.png'><center><font size=5>3</font></center></td><td><img src='https://amt-trial-batch.s3-us-west-1.amazonaws.com/glow/glow_samples-8.jpg'><center><font size=5>0</font></center></td></tr></table>"
      ],
      "text/plain": [
       "<IPython.core.display.HTML object>"
      ]
     },
     "metadata": {},
     "output_type": "display_data"
    },
    {
     "name": "stdout",
     "output_type": "stream",
     "text": [
      "\n",
      "\n"
     ]
    },
    {
     "data": {
      "text/html": [
       "<table><tr><td><img src='https://amt-trial-batch.s3-us-west-1.amazonaws.com/noise/noise-1.png'><center><font size=5>1</font></center></td><td><img src='https://amt-trial-batch.s3-us-west-1.amazonaws.com/glow/glow_samples-2.jpg'><center><font size=5>2</font></center></td></tr></table>"
      ],
      "text/plain": [
       "<IPython.core.display.HTML object>"
      ]
     },
     "metadata": {},
     "output_type": "display_data"
    },
    {
     "name": "stdout",
     "output_type": "stream",
     "text": [
      "\n",
      "\n"
     ]
    },
    {
     "data": {
      "text/html": [
       "<table><tr><td><img src='https://amt-trial-batch.s3-us-west-1.amazonaws.com/lsgan/lsgan-1.png'><center><font size=5>3</font></center></td><td><img src='https://amt-trial-batch.s3-us-west-1.amazonaws.com/noise/noise-1.png'><center><font size=5>0</font></center></td></tr></table>"
      ],
      "text/plain": [
       "<IPython.core.display.HTML object>"
      ]
     },
     "metadata": {},
     "output_type": "display_data"
    },
    {
     "name": "stdout",
     "output_type": "stream",
     "text": [
      "\n",
      "\n"
     ]
    },
    {
     "data": {
      "text/html": [
       "<table><tr><td><img src='https://amt-trial-batch.s3-us-west-1.amazonaws.com/noise/noise-1.png'><center><font size=5>0</font></center></td><td><img src='https://amt-trial-batch.s3-us-west-1.amazonaws.com/glow/glow_samples-9.jpg'><center><font size=5>3</font></center></td></tr></table>"
      ],
      "text/plain": [
       "<IPython.core.display.HTML object>"
      ]
     },
     "metadata": {},
     "output_type": "display_data"
    },
    {
     "name": "stdout",
     "output_type": "stream",
     "text": [
      "\n",
      "\n"
     ]
    },
    {
     "data": {
      "text/html": [
       "<table><tr><td><img src='https://amt-trial-batch.s3-us-west-1.amazonaws.com/glow/glow_samples-5.jpg'><center><font size=5>2</font></center></td><td><img src='https://amt-trial-batch.s3-us-west-1.amazonaws.com/glow/glow_samples-2.jpg'><center><font size=5>1</font></center></td></tr></table>"
      ],
      "text/plain": [
       "<IPython.core.display.HTML object>"
      ]
     },
     "metadata": {},
     "output_type": "display_data"
    },
    {
     "name": "stdout",
     "output_type": "stream",
     "text": [
      "\n",
      "\n"
     ]
    },
    {
     "data": {
      "text/html": [
       "<table><tr><td><img src='https://amt-trial-batch.s3-us-west-1.amazonaws.com/lsgan/lsgan-1.png'><center><font size=5>1</font></center></td><td><img src='https://amt-trial-batch.s3-us-west-1.amazonaws.com/real/real-sample-3.png'><center><font size=5>2</font></center></td></tr></table>"
      ],
      "text/plain": [
       "<IPython.core.display.HTML object>"
      ]
     },
     "metadata": {},
     "output_type": "display_data"
    },
    {
     "name": "stdout",
     "output_type": "stream",
     "text": [
      "\n",
      "\n"
     ]
    },
    {
     "data": {
      "text/html": [
       "<table><tr><td><img src='https://amt-trial-batch.s3-us-west-1.amazonaws.com/glow/glow_samples-10.jpg'><center><font size=5>2</font></center></td><td><img src='https://amt-trial-batch.s3-us-west-1.amazonaws.com/glow/glow_samples-3.jpg'><center><font size=5>1</font></center></td></tr></table>"
      ],
      "text/plain": [
       "<IPython.core.display.HTML object>"
      ]
     },
     "metadata": {},
     "output_type": "display_data"
    },
    {
     "name": "stdout",
     "output_type": "stream",
     "text": [
      "\n",
      "\n"
     ]
    },
    {
     "data": {
      "text/html": [
       "<table><tr><td><img src='https://amt-trial-batch.s3-us-west-1.amazonaws.com/wgan/wgan-2.png'><center><font size=5>0</font></center></td><td><img src='https://amt-trial-batch.s3-us-west-1.amazonaws.com/glow/glow_samples-3.jpg'><center><font size=5>3</font></center></td></tr></table>"
      ],
      "text/plain": [
       "<IPython.core.display.HTML object>"
      ]
     },
     "metadata": {},
     "output_type": "display_data"
    },
    {
     "name": "stdout",
     "output_type": "stream",
     "text": [
      "\n",
      "\n"
     ]
    },
    {
     "data": {
      "text/html": [
       "<table><tr><td><img src='https://amt-trial-batch.s3-us-west-1.amazonaws.com/lsgan/lsgan-2.png'><center><font size=5>1</font></center></td><td><img src='https://amt-trial-batch.s3-us-west-1.amazonaws.com/glow/glow_samples-10.jpg'><center><font size=5>2</font></center></td></tr></table>"
      ],
      "text/plain": [
       "<IPython.core.display.HTML object>"
      ]
     },
     "metadata": {},
     "output_type": "display_data"
    },
    {
     "name": "stdout",
     "output_type": "stream",
     "text": [
      "\n",
      "\n"
     ]
    },
    {
     "data": {
      "text/html": [
       "<table><tr><td><img src='https://amt-trial-batch.s3-us-west-1.amazonaws.com/real/real-sample-2.png'><center><font size=5>3</font></center></td><td><img src='https://amt-trial-batch.s3-us-west-1.amazonaws.com/glow/glow_samples-3.jpg'><center><font size=5>0</font></center></td></tr></table>"
      ],
      "text/plain": [
       "<IPython.core.display.HTML object>"
      ]
     },
     "metadata": {},
     "output_type": "display_data"
    },
    {
     "name": "stdout",
     "output_type": "stream",
     "text": [
      "\n",
      "\n"
     ]
    },
    {
     "data": {
      "text/html": [
       "<table><tr><td><img src='https://amt-trial-batch.s3-us-west-1.amazonaws.com/glow/glow_samples-10.jpg'><center><font size=5>3</font></center></td><td><img src='https://amt-trial-batch.s3-us-west-1.amazonaws.com/glow/glow_samples-2.jpg'><center><font size=5>0</font></center></td></tr></table>"
      ],
      "text/plain": [
       "<IPython.core.display.HTML object>"
      ]
     },
     "metadata": {},
     "output_type": "display_data"
    },
    {
     "name": "stdout",
     "output_type": "stream",
     "text": [
      "\n",
      "\n"
     ]
    },
    {
     "data": {
      "text/html": [
       "<table><tr><td><img src='https://amt-trial-batch.s3-us-west-1.amazonaws.com/lsgan/lsgan-4.png'><center><font size=5>2</font></center></td><td><img src='https://amt-trial-batch.s3-us-west-1.amazonaws.com/noise/noise-1.png'><center><font size=5>1</font></center></td></tr></table>"
      ],
      "text/plain": [
       "<IPython.core.display.HTML object>"
      ]
     },
     "metadata": {},
     "output_type": "display_data"
    },
    {
     "name": "stdout",
     "output_type": "stream",
     "text": [
      "\n",
      "\n"
     ]
    },
    {
     "data": {
      "text/html": [
       "<table><tr><td><img src='https://amt-trial-batch.s3-us-west-1.amazonaws.com/noise/noise-1.png'><center><font size=5>0</font></center></td><td><img src='https://amt-trial-batch.s3-us-west-1.amazonaws.com/glow/glow_samples-6.jpg'><center><font size=5>3</font></center></td></tr></table>"
      ],
      "text/plain": [
       "<IPython.core.display.HTML object>"
      ]
     },
     "metadata": {},
     "output_type": "display_data"
    },
    {
     "name": "stdout",
     "output_type": "stream",
     "text": [
      "\n",
      "\n"
     ]
    },
    {
     "data": {
      "text/html": [
       "<table><tr><td><img src='https://amt-trial-batch.s3-us-west-1.amazonaws.com/real/real-sample-1.png'><center><font size=5>2</font></center></td><td><img src='https://amt-trial-batch.s3-us-west-1.amazonaws.com/glow/glow_samples-9.jpg'><center><font size=5>1</font></center></td></tr></table>"
      ],
      "text/plain": [
       "<IPython.core.display.HTML object>"
      ]
     },
     "metadata": {},
     "output_type": "display_data"
    },
    {
     "name": "stdout",
     "output_type": "stream",
     "text": [
      "\n",
      "\n"
     ]
    },
    {
     "data": {
      "text/html": [
       "<table><tr><td><img src='https://amt-trial-batch.s3-us-west-1.amazonaws.com/glow/glow_samples-8.jpg'><center><font size=5>0</font></center></td><td><img src='https://amt-trial-batch.s3-us-west-1.amazonaws.com/glow/glow_samples-9.jpg'><center><font size=5>3</font></center></td></tr></table>"
      ],
      "text/plain": [
       "<IPython.core.display.HTML object>"
      ]
     },
     "metadata": {},
     "output_type": "display_data"
    },
    {
     "name": "stdout",
     "output_type": "stream",
     "text": [
      "\n",
      "\n"
     ]
    },
    {
     "data": {
      "text/html": [
       "<table><tr><td><img src='https://amt-trial-batch.s3-us-west-1.amazonaws.com/lsgan/lsgan-3.png'><center><font size=5>2</font></center></td><td><img src='https://amt-trial-batch.s3-us-west-1.amazonaws.com/noise/noise-1.png'><center><font size=5>1</font></center></td></tr></table>"
      ],
      "text/plain": [
       "<IPython.core.display.HTML object>"
      ]
     },
     "metadata": {},
     "output_type": "display_data"
    },
    {
     "name": "stdout",
     "output_type": "stream",
     "text": [
      "\n",
      "\n"
     ]
    },
    {
     "data": {
      "text/html": [
       "<table><tr><td><img src='https://amt-trial-batch.s3-us-west-1.amazonaws.com/real/real-sample-1.png'><center><font size=5>2</font></center></td><td><img src='https://amt-trial-batch.s3-us-west-1.amazonaws.com/glow/glow_samples-1.jpg'><center><font size=5>1</font></center></td></tr></table>"
      ],
      "text/plain": [
       "<IPython.core.display.HTML object>"
      ]
     },
     "metadata": {},
     "output_type": "display_data"
    },
    {
     "name": "stdout",
     "output_type": "stream",
     "text": [
      "\n",
      "\n"
     ]
    },
    {
     "data": {
      "text/html": [
       "<table><tr><td><img src='https://amt-trial-batch.s3-us-west-1.amazonaws.com/lsgan/lsgan-3.png'><center><font size=5>3</font></center></td><td><img src='https://amt-trial-batch.s3-us-west-1.amazonaws.com/wgan/wgan5.png'><center><font size=5>0</font></center></td></tr></table>"
      ],
      "text/plain": [
       "<IPython.core.display.HTML object>"
      ]
     },
     "metadata": {},
     "output_type": "display_data"
    },
    {
     "name": "stdout",
     "output_type": "stream",
     "text": [
      "\n",
      "\n"
     ]
    },
    {
     "data": {
      "text/html": [
       "<table><tr><td><img src='https://amt-trial-batch.s3-us-west-1.amazonaws.com/lsgan/lsgan-3.png'><center><font size=5>2</font></center></td><td><img src='https://amt-trial-batch.s3-us-west-1.amazonaws.com/glow/glow_samples-1.jpg'><center><font size=5>1</font></center></td></tr></table>"
      ],
      "text/plain": [
       "<IPython.core.display.HTML object>"
      ]
     },
     "metadata": {},
     "output_type": "display_data"
    },
    {
     "name": "stdout",
     "output_type": "stream",
     "text": [
      "\n",
      "\n"
     ]
    },
    {
     "data": {
      "text/html": [
       "<table><tr><td><img src='https://amt-trial-batch.s3-us-west-1.amazonaws.com/real/real-sample-2.png'><center><font size=5>2</font></center></td><td><img src='https://amt-trial-batch.s3-us-west-1.amazonaws.com/glow/glow_samples-9.jpg'><center><font size=5>1</font></center></td></tr></table>"
      ],
      "text/plain": [
       "<IPython.core.display.HTML object>"
      ]
     },
     "metadata": {},
     "output_type": "display_data"
    },
    {
     "name": "stdout",
     "output_type": "stream",
     "text": [
      "\n",
      "\n"
     ]
    },
    {
     "data": {
      "text/html": [
       "<table><tr><td><img src='https://amt-trial-batch.s3-us-west-1.amazonaws.com/real/real-sample-2.png'><center><font size=5>3</font></center></td><td><img src='https://amt-trial-batch.s3-us-west-1.amazonaws.com/glow/glow_samples-4.jpg'><center><font size=5>0</font></center></td></tr></table>"
      ],
      "text/plain": [
       "<IPython.core.display.HTML object>"
      ]
     },
     "metadata": {},
     "output_type": "display_data"
    },
    {
     "name": "stdout",
     "output_type": "stream",
     "text": [
      "\n",
      "\n"
     ]
    },
    {
     "data": {
      "text/html": [
       "<table><tr><td><img src='https://amt-trial-batch.s3-us-west-1.amazonaws.com/real/real-sample-3.png'><center><font size=5>3</font></center></td><td><img src='https://amt-trial-batch.s3-us-west-1.amazonaws.com/wgan/wgan-1.png'><center><font size=5>0</font></center></td></tr></table>"
      ],
      "text/plain": [
       "<IPython.core.display.HTML object>"
      ]
     },
     "metadata": {},
     "output_type": "display_data"
    },
    {
     "name": "stdout",
     "output_type": "stream",
     "text": [
      "\n",
      "\n"
     ]
    },
    {
     "data": {
      "text/html": [
       "<table><tr><td><img src='https://amt-trial-batch.s3-us-west-1.amazonaws.com/lsgan/lsgan-1.png'><center><font size=5>2</font></center></td><td><img src='https://amt-trial-batch.s3-us-west-1.amazonaws.com/wgan/wgan5.png'><center><font size=5>1</font></center></td></tr></table>"
      ],
      "text/plain": [
       "<IPython.core.display.HTML object>"
      ]
     },
     "metadata": {},
     "output_type": "display_data"
    },
    {
     "name": "stdout",
     "output_type": "stream",
     "text": [
      "\n",
      "\n"
     ]
    },
    {
     "data": {
      "text/html": [
       "<table><tr><td><img src='https://amt-trial-batch.s3-us-west-1.amazonaws.com/lsgan/lsgan-3.png'><center><font size=5>1</font></center></td><td><img src='https://amt-trial-batch.s3-us-west-1.amazonaws.com/real/real-sample-1.png'><center><font size=5>2</font></center></td></tr></table>"
      ],
      "text/plain": [
       "<IPython.core.display.HTML object>"
      ]
     },
     "metadata": {},
     "output_type": "display_data"
    },
    {
     "name": "stdout",
     "output_type": "stream",
     "text": [
      "\n",
      "\n"
     ]
    },
    {
     "data": {
      "text/html": [
       "<table><tr><td><img src='https://amt-trial-batch.s3-us-west-1.amazonaws.com/glow/glow_samples-9.jpg'><center><font size=5>3</font></center></td><td><img src='https://amt-trial-batch.s3-us-west-1.amazonaws.com/glow/glow_samples-7.jpg'><center><font size=5>0</font></center></td></tr></table>"
      ],
      "text/plain": [
       "<IPython.core.display.HTML object>"
      ]
     },
     "metadata": {},
     "output_type": "display_data"
    },
    {
     "name": "stdout",
     "output_type": "stream",
     "text": [
      "\n",
      "\n"
     ]
    },
    {
     "data": {
      "text/html": [
       "<table><tr><td><img src='https://amt-trial-batch.s3-us-west-1.amazonaws.com/glow/glow_samples-1.jpg'><center><font size=5>1</font></center></td><td><img src='https://amt-trial-batch.s3-us-west-1.amazonaws.com/glow/glow_samples-2.jpg'><center><font size=5>2</font></center></td></tr></table>"
      ],
      "text/plain": [
       "<IPython.core.display.HTML object>"
      ]
     },
     "metadata": {},
     "output_type": "display_data"
    },
    {
     "name": "stdout",
     "output_type": "stream",
     "text": [
      "\n",
      "\n"
     ]
    },
    {
     "data": {
      "text/html": [
       "<table><tr><td><img src='https://amt-trial-batch.s3-us-west-1.amazonaws.com/lsgan/lsgan-1.png'><center><font size=5>0</font></center></td><td><img src='https://amt-trial-batch.s3-us-west-1.amazonaws.com/real/real-sample-2.png'><center><font size=5>3</font></center></td></tr></table>"
      ],
      "text/plain": [
       "<IPython.core.display.HTML object>"
      ]
     },
     "metadata": {},
     "output_type": "display_data"
    },
    {
     "name": "stdout",
     "output_type": "stream",
     "text": [
      "\n",
      "\n"
     ]
    },
    {
     "data": {
      "text/html": [
       "<table><tr><td><img src='https://amt-trial-batch.s3-us-west-1.amazonaws.com/glow/glow_samples-10.jpg'><center><font size=5>2</font></center></td><td><img src='https://amt-trial-batch.s3-us-west-1.amazonaws.com/glow/glow_samples-1.jpg'><center><font size=5>1</font></center></td></tr></table>"
      ],
      "text/plain": [
       "<IPython.core.display.HTML object>"
      ]
     },
     "metadata": {},
     "output_type": "display_data"
    },
    {
     "name": "stdout",
     "output_type": "stream",
     "text": [
      "\n",
      "\n"
     ]
    },
    {
     "data": {
      "text/html": [
       "<table><tr><td><img src='https://amt-trial-batch.s3-us-west-1.amazonaws.com/real/real-sample-1.png'><center><font size=5>3</font></center></td><td><img src='https://amt-trial-batch.s3-us-west-1.amazonaws.com/glow/glow_samples-4.jpg'><center><font size=5>0</font></center></td></tr></table>"
      ],
      "text/plain": [
       "<IPython.core.display.HTML object>"
      ]
     },
     "metadata": {},
     "output_type": "display_data"
    },
    {
     "name": "stdout",
     "output_type": "stream",
     "text": [
      "\n",
      "\n"
     ]
    },
    {
     "data": {
      "text/html": [
       "<table><tr><td><img src='https://amt-trial-batch.s3-us-west-1.amazonaws.com/lsgan/lsgan-4.png'><center><font size=5>2</font></center></td><td><img src='https://amt-trial-batch.s3-us-west-1.amazonaws.com/glow/glow_samples-6.jpg'><center><font size=5>1</font></center></td></tr></table>"
      ],
      "text/plain": [
       "<IPython.core.display.HTML object>"
      ]
     },
     "metadata": {},
     "output_type": "display_data"
    },
    {
     "name": "stdout",
     "output_type": "stream",
     "text": [
      "\n",
      "\n"
     ]
    },
    {
     "data": {
      "text/html": [
       "<table><tr><td><img src='https://amt-trial-batch.s3-us-west-1.amazonaws.com/wgan/wgan5.png'><center><font size=5>2</font></center></td><td><img src='https://amt-trial-batch.s3-us-west-1.amazonaws.com/noise/noise-1.png'><center><font size=5>1</font></center></td></tr></table>"
      ],
      "text/plain": [
       "<IPython.core.display.HTML object>"
      ]
     },
     "metadata": {},
     "output_type": "display_data"
    },
    {
     "name": "stdout",
     "output_type": "stream",
     "text": [
      "\n",
      "\n"
     ]
    },
    {
     "data": {
      "text/html": [
       "<table><tr><td><img src='https://amt-trial-batch.s3-us-west-1.amazonaws.com/lsgan/lsgan-1.png'><center><font size=5>3</font></center></td><td><img src='https://amt-trial-batch.s3-us-west-1.amazonaws.com/glow/glow_samples-8.jpg'><center><font size=5>0</font></center></td></tr></table>"
      ],
      "text/plain": [
       "<IPython.core.display.HTML object>"
      ]
     },
     "metadata": {},
     "output_type": "display_data"
    },
    {
     "name": "stdout",
     "output_type": "stream",
     "text": [
      "\n",
      "\n"
     ]
    },
    {
     "data": {
      "text/html": [
       "<table><tr><td><img src='https://amt-trial-batch.s3-us-west-1.amazonaws.com/glow/glow_samples-2.jpg'><center><font size=5>1</font></center></td><td><img src='https://amt-trial-batch.s3-us-west-1.amazonaws.com/glow/glow_samples-3.jpg'><center><font size=5>2</font></center></td></tr></table>"
      ],
      "text/plain": [
       "<IPython.core.display.HTML object>"
      ]
     },
     "metadata": {},
     "output_type": "display_data"
    },
    {
     "name": "stdout",
     "output_type": "stream",
     "text": [
      "\n",
      "\n"
     ]
    },
    {
     "data": {
      "text/html": [
       "<table><tr><td><img src='https://amt-trial-batch.s3-us-west-1.amazonaws.com/glow/glow_samples-5.jpg'><center><font size=5>3</font></center></td><td><img src='https://amt-trial-batch.s3-us-west-1.amazonaws.com/glow/glow_samples-1.jpg'><center><font size=5>0</font></center></td></tr></table>"
      ],
      "text/plain": [
       "<IPython.core.display.HTML object>"
      ]
     },
     "metadata": {},
     "output_type": "display_data"
    },
    {
     "name": "stdout",
     "output_type": "stream",
     "text": [
      "\n",
      "\n"
     ]
    },
    {
     "data": {
      "text/html": [
       "<table><tr><td><img src='https://amt-trial-batch.s3-us-west-1.amazonaws.com/real/real-sample-2.png'><center><font size=5>1</font></center></td><td><img src='https://amt-trial-batch.s3-us-west-1.amazonaws.com/real/real-sample-1.png'><center><font size=5>2</font></center></td></tr></table>"
      ],
      "text/plain": [
       "<IPython.core.display.HTML object>"
      ]
     },
     "metadata": {},
     "output_type": "display_data"
    },
    {
     "name": "stdout",
     "output_type": "stream",
     "text": [
      "\n",
      "\n"
     ]
    },
    {
     "data": {
      "text/html": [
       "<table><tr><td><img src='https://amt-trial-batch.s3-us-west-1.amazonaws.com/glow/glow_samples-8.jpg'><center><font size=5>0</font></center></td><td><img src='https://amt-trial-batch.s3-us-west-1.amazonaws.com/glow/glow_samples-7.jpg'><center><font size=5>3</font></center></td></tr></table>"
      ],
      "text/plain": [
       "<IPython.core.display.HTML object>"
      ]
     },
     "metadata": {},
     "output_type": "display_data"
    },
    {
     "name": "stdout",
     "output_type": "stream",
     "text": [
      "\n",
      "\n"
     ]
    },
    {
     "data": {
      "text/html": [
       "<table><tr><td><img src='https://amt-trial-batch.s3-us-west-1.amazonaws.com/wgan/wgan-2.png'><center><font size=5>0</font></center></td><td><img src='https://amt-trial-batch.s3-us-west-1.amazonaws.com/glow/glow_samples-5.jpg'><center><font size=5>3</font></center></td></tr></table>"
      ],
      "text/plain": [
       "<IPython.core.display.HTML object>"
      ]
     },
     "metadata": {},
     "output_type": "display_data"
    },
    {
     "name": "stdout",
     "output_type": "stream",
     "text": [
      "\n",
      "\n"
     ]
    },
    {
     "data": {
      "text/html": [
       "<table><tr><td><img src='https://amt-trial-batch.s3-us-west-1.amazonaws.com/glow/glow_samples-9.jpg'><center><font size=5>2</font></center></td><td><img src='https://amt-trial-batch.s3-us-west-1.amazonaws.com/glow/glow_samples-4.jpg'><center><font size=5>1</font></center></td></tr></table>"
      ],
      "text/plain": [
       "<IPython.core.display.HTML object>"
      ]
     },
     "metadata": {},
     "output_type": "display_data"
    },
    {
     "name": "stdout",
     "output_type": "stream",
     "text": [
      "\n",
      "\n"
     ]
    },
    {
     "data": {
      "text/html": [
       "<table><tr><td><img src='https://amt-trial-batch.s3-us-west-1.amazonaws.com/lsgan/lsgan-2.png'><center><font size=5>3</font></center></td><td><img src='https://amt-trial-batch.s3-us-west-1.amazonaws.com/glow/glow_samples-7.jpg'><center><font size=5>0</font></center></td></tr></table>"
      ],
      "text/plain": [
       "<IPython.core.display.HTML object>"
      ]
     },
     "metadata": {},
     "output_type": "display_data"
    },
    {
     "name": "stdout",
     "output_type": "stream",
     "text": [
      "\n",
      "\n"
     ]
    },
    {
     "data": {
      "text/html": [
       "<table><tr><td><img src='https://amt-trial-batch.s3-us-west-1.amazonaws.com/real/real-sample-2.png'><center><font size=5>3</font></center></td><td><img src='https://amt-trial-batch.s3-us-west-1.amazonaws.com/glow/glow_samples-10.jpg'><center><font size=5>0</font></center></td></tr></table>"
      ],
      "text/plain": [
       "<IPython.core.display.HTML object>"
      ]
     },
     "metadata": {},
     "output_type": "display_data"
    },
    {
     "name": "stdout",
     "output_type": "stream",
     "text": [
      "\n",
      "\n"
     ]
    },
    {
     "data": {
      "text/html": [
       "<table><tr><td><img src='https://amt-trial-batch.s3-us-west-1.amazonaws.com/wgan/wgan-1.png'><center><font size=5>0</font></center></td><td><img src='https://amt-trial-batch.s3-us-west-1.amazonaws.com/glow/glow_samples-6.jpg'><center><font size=5>3</font></center></td></tr></table>"
      ],
      "text/plain": [
       "<IPython.core.display.HTML object>"
      ]
     },
     "metadata": {},
     "output_type": "display_data"
    },
    {
     "name": "stdout",
     "output_type": "stream",
     "text": [
      "\n",
      "\n"
     ]
    },
    {
     "data": {
      "text/html": [
       "<table><tr><td><img src='https://amt-trial-batch.s3-us-west-1.amazonaws.com/wgan/wgan-1.png'><center><font size=5>0</font></center></td><td><img src='https://amt-trial-batch.s3-us-west-1.amazonaws.com/glow/glow_samples-5.jpg'><center><font size=5>3</font></center></td></tr></table>"
      ],
      "text/plain": [
       "<IPython.core.display.HTML object>"
      ]
     },
     "metadata": {},
     "output_type": "display_data"
    },
    {
     "name": "stdout",
     "output_type": "stream",
     "text": [
      "\n",
      "\n"
     ]
    },
    {
     "data": {
      "text/html": [
       "<table><tr><td><img src='https://amt-trial-batch.s3-us-west-1.amazonaws.com/wgan/wgan5.png'><center><font size=5>1</font></center></td><td><img src='https://amt-trial-batch.s3-us-west-1.amazonaws.com/glow/glow_samples-7.jpg'><center><font size=5>2</font></center></td></tr></table>"
      ],
      "text/plain": [
       "<IPython.core.display.HTML object>"
      ]
     },
     "metadata": {},
     "output_type": "display_data"
    },
    {
     "name": "stdout",
     "output_type": "stream",
     "text": [
      "\n",
      "\n"
     ]
    },
    {
     "data": {
      "text/html": [
       "<table><tr><td><img src='https://amt-trial-batch.s3-us-west-1.amazonaws.com/real/real-sample-3.png'><center><font size=5>2</font></center></td><td><img src='https://amt-trial-batch.s3-us-west-1.amazonaws.com/glow/glow_samples-5.jpg'><center><font size=5>1</font></center></td></tr></table>"
      ],
      "text/plain": [
       "<IPython.core.display.HTML object>"
      ]
     },
     "metadata": {},
     "output_type": "display_data"
    },
    {
     "name": "stdout",
     "output_type": "stream",
     "text": [
      "\n",
      "\n"
     ]
    },
    {
     "data": {
      "text/html": [
       "<table><tr><td><img src='https://amt-trial-batch.s3-us-west-1.amazonaws.com/lsgan/lsgan-4.png'><center><font size=5>3</font></center></td><td><img src='https://amt-trial-batch.s3-us-west-1.amazonaws.com/glow/glow_samples-2.jpg'><center><font size=5>0</font></center></td></tr></table>"
      ],
      "text/plain": [
       "<IPython.core.display.HTML object>"
      ]
     },
     "metadata": {},
     "output_type": "display_data"
    },
    {
     "name": "stdout",
     "output_type": "stream",
     "text": [
      "\n",
      "\n"
     ]
    },
    {
     "data": {
      "text/html": [
       "<table><tr><td><img src='https://amt-trial-batch.s3-us-west-1.amazonaws.com/lsgan/lsgan-1.png'><center><font size=5>2</font></center></td><td><img src='https://amt-trial-batch.s3-us-west-1.amazonaws.com/glow/glow_samples-10.jpg'><center><font size=5>1</font></center></td></tr></table>"
      ],
      "text/plain": [
       "<IPython.core.display.HTML object>"
      ]
     },
     "metadata": {},
     "output_type": "display_data"
    },
    {
     "name": "stdout",
     "output_type": "stream",
     "text": [
      "\n",
      "\n"
     ]
    },
    {
     "data": {
      "text/html": [
       "<table><tr><td><img src='https://amt-trial-batch.s3-us-west-1.amazonaws.com/real/real-sample-2.png'><center><font size=5>3</font></center></td><td><img src='https://amt-trial-batch.s3-us-west-1.amazonaws.com/glow/glow_samples-7.jpg'><center><font size=5>0</font></center></td></tr></table>"
      ],
      "text/plain": [
       "<IPython.core.display.HTML object>"
      ]
     },
     "metadata": {},
     "output_type": "display_data"
    },
    {
     "name": "stdout",
     "output_type": "stream",
     "text": [
      "\n",
      "\n"
     ]
    },
    {
     "data": {
      "text/html": [
       "<table><tr><td><img src='https://amt-trial-batch.s3-us-west-1.amazonaws.com/real/real-sample-1.png'><center><font size=5>3</font></center></td><td><img src='https://amt-trial-batch.s3-us-west-1.amazonaws.com/glow/glow_samples-2.jpg'><center><font size=5>0</font></center></td></tr></table>"
      ],
      "text/plain": [
       "<IPython.core.display.HTML object>"
      ]
     },
     "metadata": {},
     "output_type": "display_data"
    },
    {
     "name": "stdout",
     "output_type": "stream",
     "text": [
      "\n",
      "\n"
     ]
    },
    {
     "data": {
      "text/html": [
       "<table><tr><td><img src='https://amt-trial-batch.s3-us-west-1.amazonaws.com/wgan/wgan-3.png'><center><font size=5>1</font></center></td><td><img src='https://amt-trial-batch.s3-us-west-1.amazonaws.com/glow/glow_samples-7.jpg'><center><font size=5>2</font></center></td></tr></table>"
      ],
      "text/plain": [
       "<IPython.core.display.HTML object>"
      ]
     },
     "metadata": {},
     "output_type": "display_data"
    },
    {
     "name": "stdout",
     "output_type": "stream",
     "text": [
      "\n",
      "\n"
     ]
    },
    {
     "data": {
      "text/html": [
       "<table><tr><td><img src='https://amt-trial-batch.s3-us-west-1.amazonaws.com/glow/glow_samples-6.jpg'><center><font size=5>2</font></center></td><td><img src='https://amt-trial-batch.s3-us-west-1.amazonaws.com/glow/glow_samples-3.jpg'><center><font size=5>1</font></center></td></tr></table>"
      ],
      "text/plain": [
       "<IPython.core.display.HTML object>"
      ]
     },
     "metadata": {},
     "output_type": "display_data"
    },
    {
     "name": "stdout",
     "output_type": "stream",
     "text": [
      "\n",
      "\n"
     ]
    },
    {
     "data": {
      "text/html": [
       "<table><tr><td><img src='https://amt-trial-batch.s3-us-west-1.amazonaws.com/real/real-sample-3.png'><center><font size=5>2</font></center></td><td><img src='https://amt-trial-batch.s3-us-west-1.amazonaws.com/glow/glow_samples-4.jpg'><center><font size=5>1</font></center></td></tr></table>"
      ],
      "text/plain": [
       "<IPython.core.display.HTML object>"
      ]
     },
     "metadata": {},
     "output_type": "display_data"
    },
    {
     "name": "stdout",
     "output_type": "stream",
     "text": [
      "\n",
      "\n"
     ]
    },
    {
     "data": {
      "text/html": [
       "<table><tr><td><img src='https://amt-trial-batch.s3-us-west-1.amazonaws.com/lsgan/lsgan-1.png'><center><font size=5>0</font></center></td><td><img src='https://amt-trial-batch.s3-us-west-1.amazonaws.com/real/real-sample-1.png'><center><font size=5>3</font></center></td></tr></table>"
      ],
      "text/plain": [
       "<IPython.core.display.HTML object>"
      ]
     },
     "metadata": {},
     "output_type": "display_data"
    },
    {
     "name": "stdout",
     "output_type": "stream",
     "text": [
      "\n",
      "\n"
     ]
    },
    {
     "data": {
      "text/html": [
       "<table><tr><td><img src='https://amt-trial-batch.s3-us-west-1.amazonaws.com/wgan/wgan-3.png'><center><font size=5>0</font></center></td><td><img src='https://amt-trial-batch.s3-us-west-1.amazonaws.com/wgan/wgan-1.png'><center><font size=5>3</font></center></td></tr></table>"
      ],
      "text/plain": [
       "<IPython.core.display.HTML object>"
      ]
     },
     "metadata": {},
     "output_type": "display_data"
    },
    {
     "name": "stdout",
     "output_type": "stream",
     "text": [
      "\n",
      "\n"
     ]
    },
    {
     "data": {
      "text/html": [
       "<table><tr><td><img src='https://amt-trial-batch.s3-us-west-1.amazonaws.com/lsgan/lsgan-1.png'><center><font size=5>3</font></center></td><td><img src='https://amt-trial-batch.s3-us-west-1.amazonaws.com/wgan/wgan-3.png'><center><font size=5>0</font></center></td></tr></table>"
      ],
      "text/plain": [
       "<IPython.core.display.HTML object>"
      ]
     },
     "metadata": {},
     "output_type": "display_data"
    },
    {
     "name": "stdout",
     "output_type": "stream",
     "text": [
      "\n",
      "\n"
     ]
    },
    {
     "data": {
      "text/html": [
       "<table><tr><td><img src='https://amt-trial-batch.s3-us-west-1.amazonaws.com/lsgan/lsgan-4.png'><center><font size=5>0</font></center></td><td><img src='https://amt-trial-batch.s3-us-west-1.amazonaws.com/real/real-sample-1.png'><center><font size=5>3</font></center></td></tr></table>"
      ],
      "text/plain": [
       "<IPython.core.display.HTML object>"
      ]
     },
     "metadata": {},
     "output_type": "display_data"
    },
    {
     "name": "stdout",
     "output_type": "stream",
     "text": [
      "\n",
      "\n"
     ]
    },
    {
     "data": {
      "text/html": [
       "<table><tr><td><img src='https://amt-trial-batch.s3-us-west-1.amazonaws.com/wgan/wgan-2.png'><center><font size=5>1</font></center></td><td><img src='https://amt-trial-batch.s3-us-west-1.amazonaws.com/glow/glow_samples-1.jpg'><center><font size=5>2</font></center></td></tr></table>"
      ],
      "text/plain": [
       "<IPython.core.display.HTML object>"
      ]
     },
     "metadata": {},
     "output_type": "display_data"
    },
    {
     "name": "stdout",
     "output_type": "stream",
     "text": [
      "\n",
      "\n"
     ]
    },
    {
     "data": {
      "text/html": [
       "<table><tr><td><img src='https://amt-trial-batch.s3-us-west-1.amazonaws.com/lsgan/lsgan-4.png'><center><font size=5>3</font></center></td><td><img src='https://amt-trial-batch.s3-us-west-1.amazonaws.com/glow/glow_samples-5.jpg'><center><font size=5>0</font></center></td></tr></table>"
      ],
      "text/plain": [
       "<IPython.core.display.HTML object>"
      ]
     },
     "metadata": {},
     "output_type": "display_data"
    },
    {
     "name": "stdout",
     "output_type": "stream",
     "text": [
      "\n",
      "\n"
     ]
    },
    {
     "data": {
      "text/html": [
       "<table><tr><td><img src='https://amt-trial-batch.s3-us-west-1.amazonaws.com/noise/noise-1.png'><center><font size=5>0</font></center></td><td><img src='https://amt-trial-batch.s3-us-west-1.amazonaws.com/glow/glow_samples-1.jpg'><center><font size=5>3</font></center></td></tr></table>"
      ],
      "text/plain": [
       "<IPython.core.display.HTML object>"
      ]
     },
     "metadata": {},
     "output_type": "display_data"
    },
    {
     "name": "stdout",
     "output_type": "stream",
     "text": [
      "\n",
      "\n"
     ]
    },
    {
     "data": {
      "text/html": [
       "<table><tr><td><img src='https://amt-trial-batch.s3-us-west-1.amazonaws.com/lsgan/lsgan-3.png'><center><font size=5>3</font></center></td><td><img src='https://amt-trial-batch.s3-us-west-1.amazonaws.com/wgan/wgan-2.png'><center><font size=5>0</font></center></td></tr></table>"
      ],
      "text/plain": [
       "<IPython.core.display.HTML object>"
      ]
     },
     "metadata": {},
     "output_type": "display_data"
    },
    {
     "name": "stdout",
     "output_type": "stream",
     "text": [
      "\n",
      "\n"
     ]
    },
    {
     "data": {
      "text/html": [
       "<table><tr><td><img src='https://amt-trial-batch.s3-us-west-1.amazonaws.com/real/real-sample-3.png'><center><font size=5>3</font></center></td><td><img src='https://amt-trial-batch.s3-us-west-1.amazonaws.com/real/real-sample-1.png'><center><font size=5>0</font></center></td></tr></table>"
      ],
      "text/plain": [
       "<IPython.core.display.HTML object>"
      ]
     },
     "metadata": {},
     "output_type": "display_data"
    },
    {
     "name": "stdout",
     "output_type": "stream",
     "text": [
      "\n",
      "\n"
     ]
    },
    {
     "data": {
      "text/html": [
       "<table><tr><td><img src='https://amt-trial-batch.s3-us-west-1.amazonaws.com/wgan/wgan-2.png'><center><font size=5>0</font></center></td><td><img src='https://amt-trial-batch.s3-us-west-1.amazonaws.com/glow/glow_samples-9.jpg'><center><font size=5>3</font></center></td></tr></table>"
      ],
      "text/plain": [
       "<IPython.core.display.HTML object>"
      ]
     },
     "metadata": {},
     "output_type": "display_data"
    },
    {
     "name": "stdout",
     "output_type": "stream",
     "text": [
      "\n",
      "\n"
     ]
    },
    {
     "data": {
      "text/html": [
       "<table><tr><td><img src='https://amt-trial-batch.s3-us-west-1.amazonaws.com/lsgan/lsgan-2.png'><center><font size=5>3</font></center></td><td><img src='https://amt-trial-batch.s3-us-west-1.amazonaws.com/glow/glow_samples-8.jpg'><center><font size=5>0</font></center></td></tr></table>"
      ],
      "text/plain": [
       "<IPython.core.display.HTML object>"
      ]
     },
     "metadata": {},
     "output_type": "display_data"
    },
    {
     "name": "stdout",
     "output_type": "stream",
     "text": [
      "\n",
      "\n"
     ]
    },
    {
     "data": {
      "text/html": [
       "<table><tr><td><img src='https://amt-trial-batch.s3-us-west-1.amazonaws.com/glow/glow_samples-8.jpg'><center><font size=5>1</font></center></td><td><img src='https://amt-trial-batch.s3-us-west-1.amazonaws.com/glow/glow_samples-4.jpg'><center><font size=5>2</font></center></td></tr></table>"
      ],
      "text/plain": [
       "<IPython.core.display.HTML object>"
      ]
     },
     "metadata": {},
     "output_type": "display_data"
    },
    {
     "name": "stdout",
     "output_type": "stream",
     "text": [
      "\n",
      "\n"
     ]
    },
    {
     "data": {
      "text/html": [
       "<table><tr><td><img src='https://amt-trial-batch.s3-us-west-1.amazonaws.com/wgan/wgan5.png'><center><font size=5>1</font></center></td><td><img src='https://amt-trial-batch.s3-us-west-1.amazonaws.com/glow/glow_samples-8.jpg'><center><font size=5>2</font></center></td></tr></table>"
      ],
      "text/plain": [
       "<IPython.core.display.HTML object>"
      ]
     },
     "metadata": {},
     "output_type": "display_data"
    },
    {
     "name": "stdout",
     "output_type": "stream",
     "text": [
      "\n",
      "\n"
     ]
    },
    {
     "data": {
      "text/html": [
       "<table><tr><td><img src='https://amt-trial-batch.s3-us-west-1.amazonaws.com/lsgan/lsgan-3.png'><center><font size=5>2</font></center></td><td><img src='https://amt-trial-batch.s3-us-west-1.amazonaws.com/glow/glow_samples-4.jpg'><center><font size=5>1</font></center></td></tr></table>"
      ],
      "text/plain": [
       "<IPython.core.display.HTML object>"
      ]
     },
     "metadata": {},
     "output_type": "display_data"
    },
    {
     "name": "stdout",
     "output_type": "stream",
     "text": [
      "\n",
      "\n"
     ]
    },
    {
     "data": {
      "text/html": [
       "<table><tr><td><img src='https://amt-trial-batch.s3-us-west-1.amazonaws.com/lsgan/lsgan-3.png'><center><font size=5>3</font></center></td><td><img src='https://amt-trial-batch.s3-us-west-1.amazonaws.com/wgan/wgan-3.png'><center><font size=5>0</font></center></td></tr></table>"
      ],
      "text/plain": [
       "<IPython.core.display.HTML object>"
      ]
     },
     "metadata": {},
     "output_type": "display_data"
    },
    {
     "name": "stdout",
     "output_type": "stream",
     "text": [
      "\n",
      "\n"
     ]
    },
    {
     "data": {
      "text/html": [
       "<table><tr><td><img src='https://amt-trial-batch.s3-us-west-1.amazonaws.com/lsgan/lsgan-1.png'><center><font size=5>3</font></center></td><td><img src='https://amt-trial-batch.s3-us-west-1.amazonaws.com/glow/glow_samples-2.jpg'><center><font size=5>0</font></center></td></tr></table>"
      ],
      "text/plain": [
       "<IPython.core.display.HTML object>"
      ]
     },
     "metadata": {},
     "output_type": "display_data"
    },
    {
     "name": "stdout",
     "output_type": "stream",
     "text": [
      "\n",
      "\n"
     ]
    },
    {
     "data": {
      "text/html": [
       "<table><tr><td><img src='https://amt-trial-batch.s3-us-west-1.amazonaws.com/lsgan/lsgan-4.png'><center><font size=5>3</font></center></td><td><img src='https://amt-trial-batch.s3-us-west-1.amazonaws.com/wgan/wgan-2.png'><center><font size=5>0</font></center></td></tr></table>"
      ],
      "text/plain": [
       "<IPython.core.display.HTML object>"
      ]
     },
     "metadata": {},
     "output_type": "display_data"
    },
    {
     "name": "stdout",
     "output_type": "stream",
     "text": [
      "\n",
      "\n"
     ]
    },
    {
     "data": {
      "text/html": [
       "<table><tr><td><img src='https://amt-trial-batch.s3-us-west-1.amazonaws.com/noise/noise-1.png'><center><font size=5>0</font></center></td><td><img src='https://amt-trial-batch.s3-us-west-1.amazonaws.com/glow/glow_samples-5.jpg'><center><font size=5>3</font></center></td></tr></table>"
      ],
      "text/plain": [
       "<IPython.core.display.HTML object>"
      ]
     },
     "metadata": {},
     "output_type": "display_data"
    },
    {
     "name": "stdout",
     "output_type": "stream",
     "text": [
      "\n",
      "\n"
     ]
    },
    {
     "data": {
      "text/html": [
       "<table><tr><td><img src='https://amt-trial-batch.s3-us-west-1.amazonaws.com/glow/glow_samples-8.jpg'><center><font size=5>0</font></center></td><td><img src='https://amt-trial-batch.s3-us-west-1.amazonaws.com/glow/glow_samples-6.jpg'><center><font size=5>3</font></center></td></tr></table>"
      ],
      "text/plain": [
       "<IPython.core.display.HTML object>"
      ]
     },
     "metadata": {},
     "output_type": "display_data"
    },
    {
     "name": "stdout",
     "output_type": "stream",
     "text": [
      "\n",
      "\n"
     ]
    }
   ],
   "source": [
    "html_string = '<center><font size=5>{}</font></center>'\n",
    "for k,v in win_counts.items():\n",
    "    display(HTML(\"<table><tr><td><img src='{}'>{}</td><td><img src='{}'>{}</td></tr></table>\".format(\n",
    "        k[0], html_string.format(v[0]), k[1], html_string.format(v[1]))))\n",
    "    print()\n",
    "    print()"
   ]
  },
  {
   "cell_type": "code",
   "execution_count": 88,
   "metadata": {},
   "outputs": [],
   "source": [
    "with open('../../simple-amt/samples/trial_batch/img-url.txt') as f:\n",
    "    trial_images = [l.strip() for l in f.readlines()]"
   ]
  },
  {
   "cell_type": "code",
   "execution_count": 89,
   "metadata": {
    "scrolled": true
   },
   "outputs": [
    {
     "name": "stdout",
     "output_type": "stream",
     "text": [
      "0\n"
     ]
    },
    {
     "data": {
      "text/html": [
       "<img src=\"https://amt-trial-batch.s3-us-west-1.amazonaws.com/lsgan/lsgan-4.png\"/>"
      ],
      "text/plain": [
       "<IPython.core.display.Image object>"
      ]
     },
     "metadata": {},
     "output_type": "display_data"
    },
    {
     "name": "stdout",
     "output_type": "stream",
     "text": [
      "1\n"
     ]
    },
    {
     "data": {
      "text/html": [
       "<img src=\"https://amt-trial-batch.s3-us-west-1.amazonaws.com/lsgan/lsgan-1.png\"/>"
      ],
      "text/plain": [
       "<IPython.core.display.Image object>"
      ]
     },
     "metadata": {},
     "output_type": "display_data"
    },
    {
     "name": "stdout",
     "output_type": "stream",
     "text": [
      "2\n"
     ]
    },
    {
     "data": {
      "text/html": [
       "<img src=\"https://amt-trial-batch.s3-us-west-1.amazonaws.com/lsgan/lsgan-3.png\"/>"
      ],
      "text/plain": [
       "<IPython.core.display.Image object>"
      ]
     },
     "metadata": {},
     "output_type": "display_data"
    },
    {
     "name": "stdout",
     "output_type": "stream",
     "text": [
      "3\n"
     ]
    },
    {
     "data": {
      "text/html": [
       "<img src=\"https://amt-trial-batch.s3-us-west-1.amazonaws.com/lsgan/lsgan-2.png\"/>"
      ],
      "text/plain": [
       "<IPython.core.display.Image object>"
      ]
     },
     "metadata": {},
     "output_type": "display_data"
    },
    {
     "name": "stdout",
     "output_type": "stream",
     "text": [
      "4\n"
     ]
    },
    {
     "data": {
      "text/html": [
       "<img src=\"https://amt-trial-batch.s3-us-west-1.amazonaws.com/real/real-sample-3.png\"/>"
      ],
      "text/plain": [
       "<IPython.core.display.Image object>"
      ]
     },
     "metadata": {},
     "output_type": "display_data"
    },
    {
     "name": "stdout",
     "output_type": "stream",
     "text": [
      "5\n"
     ]
    },
    {
     "data": {
      "text/html": [
       "<img src=\"https://amt-trial-batch.s3-us-west-1.amazonaws.com/real/real-sample-2.png\"/>"
      ],
      "text/plain": [
       "<IPython.core.display.Image object>"
      ]
     },
     "metadata": {},
     "output_type": "display_data"
    },
    {
     "name": "stdout",
     "output_type": "stream",
     "text": [
      "6\n"
     ]
    },
    {
     "data": {
      "text/html": [
       "<img src=\"https://amt-trial-batch.s3-us-west-1.amazonaws.com/real/real-sample-1.png\"/>"
      ],
      "text/plain": [
       "<IPython.core.display.Image object>"
      ]
     },
     "metadata": {},
     "output_type": "display_data"
    },
    {
     "name": "stdout",
     "output_type": "stream",
     "text": [
      "7\n"
     ]
    },
    {
     "data": {
      "text/html": [
       "<img src=\"https://amt-trial-batch.s3-us-west-1.amazonaws.com/wgan/wgan-2.png\"/>"
      ],
      "text/plain": [
       "<IPython.core.display.Image object>"
      ]
     },
     "metadata": {},
     "output_type": "display_data"
    },
    {
     "name": "stdout",
     "output_type": "stream",
     "text": [
      "8\n"
     ]
    },
    {
     "data": {
      "text/html": [
       "<img src=\"https://amt-trial-batch.s3-us-west-1.amazonaws.com/wgan/wgan-3.png\"/>"
      ],
      "text/plain": [
       "<IPython.core.display.Image object>"
      ]
     },
     "metadata": {},
     "output_type": "display_data"
    },
    {
     "name": "stdout",
     "output_type": "stream",
     "text": [
      "9\n"
     ]
    },
    {
     "data": {
      "text/html": [
       "<img src=\"https://amt-trial-batch.s3-us-west-1.amazonaws.com/wgan/wgan5.png\"/>"
      ],
      "text/plain": [
       "<IPython.core.display.Image object>"
      ]
     },
     "metadata": {},
     "output_type": "display_data"
    },
    {
     "name": "stdout",
     "output_type": "stream",
     "text": [
      "10\n"
     ]
    },
    {
     "data": {
      "text/html": [
       "<img src=\"https://amt-trial-batch.s3-us-west-1.amazonaws.com/wgan/wgan-1.png\"/>"
      ],
      "text/plain": [
       "<IPython.core.display.Image object>"
      ]
     },
     "metadata": {},
     "output_type": "display_data"
    },
    {
     "name": "stdout",
     "output_type": "stream",
     "text": [
      "11\n"
     ]
    },
    {
     "data": {
      "text/html": [
       "<img src=\"https://amt-trial-batch.s3-us-west-1.amazonaws.com/noise/noise-1.png\"/>"
      ],
      "text/plain": [
       "<IPython.core.display.Image object>"
      ]
     },
     "metadata": {},
     "output_type": "display_data"
    },
    {
     "name": "stdout",
     "output_type": "stream",
     "text": [
      "12\n"
     ]
    },
    {
     "data": {
      "text/html": [
       "<img src=\"https://amt-trial-batch.s3-us-west-1.amazonaws.com/glow/glow_samples-10.jpg\"/>"
      ],
      "text/plain": [
       "<IPython.core.display.Image object>"
      ]
     },
     "metadata": {},
     "output_type": "display_data"
    },
    {
     "name": "stdout",
     "output_type": "stream",
     "text": [
      "13\n"
     ]
    },
    {
     "data": {
      "text/html": [
       "<img src=\"https://amt-trial-batch.s3-us-west-1.amazonaws.com/glow/glow_samples-8.jpg\"/>"
      ],
      "text/plain": [
       "<IPython.core.display.Image object>"
      ]
     },
     "metadata": {},
     "output_type": "display_data"
    },
    {
     "name": "stdout",
     "output_type": "stream",
     "text": [
      "14\n"
     ]
    },
    {
     "data": {
      "text/html": [
       "<img src=\"https://amt-trial-batch.s3-us-west-1.amazonaws.com/glow/glow_samples-9.jpg\"/>"
      ],
      "text/plain": [
       "<IPython.core.display.Image object>"
      ]
     },
     "metadata": {},
     "output_type": "display_data"
    },
    {
     "name": "stdout",
     "output_type": "stream",
     "text": [
      "15\n"
     ]
    },
    {
     "data": {
      "text/html": [
       "<img src=\"https://amt-trial-batch.s3-us-west-1.amazonaws.com/glow/glow_samples-7.jpg\"/>"
      ],
      "text/plain": [
       "<IPython.core.display.Image object>"
      ]
     },
     "metadata": {},
     "output_type": "display_data"
    },
    {
     "name": "stdout",
     "output_type": "stream",
     "text": [
      "16\n"
     ]
    },
    {
     "data": {
      "text/html": [
       "<img src=\"https://amt-trial-batch.s3-us-west-1.amazonaws.com/glow/glow_samples-6.jpg\"/>"
      ],
      "text/plain": [
       "<IPython.core.display.Image object>"
      ]
     },
     "metadata": {},
     "output_type": "display_data"
    },
    {
     "name": "stdout",
     "output_type": "stream",
     "text": [
      "17\n"
     ]
    },
    {
     "data": {
      "text/html": [
       "<img src=\"https://amt-trial-batch.s3-us-west-1.amazonaws.com/glow/glow_samples-4.jpg\"/>"
      ],
      "text/plain": [
       "<IPython.core.display.Image object>"
      ]
     },
     "metadata": {},
     "output_type": "display_data"
    },
    {
     "name": "stdout",
     "output_type": "stream",
     "text": [
      "18\n"
     ]
    },
    {
     "data": {
      "text/html": [
       "<img src=\"https://amt-trial-batch.s3-us-west-1.amazonaws.com/glow/glow_samples-5.jpg\"/>"
      ],
      "text/plain": [
       "<IPython.core.display.Image object>"
      ]
     },
     "metadata": {},
     "output_type": "display_data"
    },
    {
     "name": "stdout",
     "output_type": "stream",
     "text": [
      "19\n"
     ]
    },
    {
     "data": {
      "text/html": [
       "<img src=\"https://amt-trial-batch.s3-us-west-1.amazonaws.com/glow/glow_samples-1.jpg\"/>"
      ],
      "text/plain": [
       "<IPython.core.display.Image object>"
      ]
     },
     "metadata": {},
     "output_type": "display_data"
    },
    {
     "name": "stdout",
     "output_type": "stream",
     "text": [
      "20\n"
     ]
    },
    {
     "data": {
      "text/html": [
       "<img src=\"https://amt-trial-batch.s3-us-west-1.amazonaws.com/glow/glow_samples-2.jpg\"/>"
      ],
      "text/plain": [
       "<IPython.core.display.Image object>"
      ]
     },
     "metadata": {},
     "output_type": "display_data"
    },
    {
     "name": "stdout",
     "output_type": "stream",
     "text": [
      "21\n"
     ]
    },
    {
     "data": {
      "text/html": [
       "<img src=\"https://amt-trial-batch.s3-us-west-1.amazonaws.com/glow/glow_samples-3.jpg\"/>"
      ],
      "text/plain": [
       "<IPython.core.display.Image object>"
      ]
     },
     "metadata": {},
     "output_type": "display_data"
    }
   ],
   "source": [
    "for i,image in enumerate(trial_images):\n",
    "    print(i)\n",
    "    display(Image(url=image))"
   ]
  },
  {
   "cell_type": "code",
   "execution_count": 90,
   "metadata": {},
   "outputs": [
    {
     "data": {
      "text/plain": [
       "['https://amt-trial-batch.s3-us-west-1.amazonaws.com/lsgan/lsgan-4.png',\n",
       " 'https://amt-trial-batch.s3-us-west-1.amazonaws.com/lsgan/lsgan-1.png',\n",
       " 'https://amt-trial-batch.s3-us-west-1.amazonaws.com/lsgan/lsgan-3.png',\n",
       " 'https://amt-trial-batch.s3-us-west-1.amazonaws.com/lsgan/lsgan-2.png',\n",
       " 'https://amt-trial-batch.s3-us-west-1.amazonaws.com/real/real-sample-3.png',\n",
       " 'https://amt-trial-batch.s3-us-west-1.amazonaws.com/real/real-sample-2.png',\n",
       " 'https://amt-trial-batch.s3-us-west-1.amazonaws.com/real/real-sample-1.png',\n",
       " 'https://amt-trial-batch.s3-us-west-1.amazonaws.com/wgan/wgan-2.png',\n",
       " 'https://amt-trial-batch.s3-us-west-1.amazonaws.com/wgan/wgan-3.png',\n",
       " 'https://amt-trial-batch.s3-us-west-1.amazonaws.com/wgan/wgan5.png',\n",
       " 'https://amt-trial-batch.s3-us-west-1.amazonaws.com/wgan/wgan-1.png',\n",
       " 'https://amt-trial-batch.s3-us-west-1.amazonaws.com/noise/noise-1.png',\n",
       " 'https://amt-trial-batch.s3-us-west-1.amazonaws.com/glow/glow_samples-10.jpg',\n",
       " 'https://amt-trial-batch.s3-us-west-1.amazonaws.com/glow/glow_samples-8.jpg',\n",
       " 'https://amt-trial-batch.s3-us-west-1.amazonaws.com/glow/glow_samples-9.jpg',\n",
       " 'https://amt-trial-batch.s3-us-west-1.amazonaws.com/glow/glow_samples-7.jpg',\n",
       " 'https://amt-trial-batch.s3-us-west-1.amazonaws.com/glow/glow_samples-6.jpg',\n",
       " 'https://amt-trial-batch.s3-us-west-1.amazonaws.com/glow/glow_samples-4.jpg',\n",
       " 'https://amt-trial-batch.s3-us-west-1.amazonaws.com/glow/glow_samples-5.jpg',\n",
       " 'https://amt-trial-batch.s3-us-west-1.amazonaws.com/glow/glow_samples-1.jpg',\n",
       " 'https://amt-trial-batch.s3-us-west-1.amazonaws.com/glow/glow_samples-2.jpg',\n",
       " 'https://amt-trial-batch.s3-us-west-1.amazonaws.com/glow/glow_samples-3.jpg']"
      ]
     },
     "execution_count": 90,
     "metadata": {},
     "output_type": "execute_result"
    }
   ],
   "source": [
    "trial_images"
   ]
  },
  {
   "cell_type": "code",
   "execution_count": 102,
   "metadata": {},
   "outputs": [],
   "source": [
    "image_pairs = [x for x in combinations(trial_images, 2)]\n",
    "shuffle(image_pairs)"
   ]
  },
  {
   "cell_type": "code",
   "execution_count": 103,
   "metadata": {},
   "outputs": [
    {
     "data": {
      "text/plain": [
       "[('https://amt-trial-batch.s3-us-west-1.amazonaws.com/lsgan/lsgan-3.png',\n",
       "  'https://amt-trial-batch.s3-us-west-1.amazonaws.com/real/real-sample-2.png'),\n",
       " ('https://amt-trial-batch.s3-us-west-1.amazonaws.com/lsgan/lsgan-2.png',\n",
       "  'https://amt-trial-batch.s3-us-west-1.amazonaws.com/glow/glow_samples-5.jpg'),\n",
       " ('https://amt-trial-batch.s3-us-west-1.amazonaws.com/wgan/wgan-1.png',\n",
       "  'https://amt-trial-batch.s3-us-west-1.amazonaws.com/glow/glow_samples-9.jpg'),\n",
       " ('https://amt-trial-batch.s3-us-west-1.amazonaws.com/wgan/wgan-2.png',\n",
       "  'https://amt-trial-batch.s3-us-west-1.amazonaws.com/glow/glow_samples-10.jpg'),\n",
       " ('https://amt-trial-batch.s3-us-west-1.amazonaws.com/glow/glow_samples-7.jpg',\n",
       "  'https://amt-trial-batch.s3-us-west-1.amazonaws.com/glow/glow_samples-1.jpg'),\n",
       " ('https://amt-trial-batch.s3-us-west-1.amazonaws.com/wgan/wgan-1.png',\n",
       "  'https://amt-trial-batch.s3-us-west-1.amazonaws.com/glow/glow_samples-3.jpg'),\n",
       " ('https://amt-trial-batch.s3-us-west-1.amazonaws.com/glow/glow_samples-8.jpg',\n",
       "  'https://amt-trial-batch.s3-us-west-1.amazonaws.com/glow/glow_samples-5.jpg'),\n",
       " ('https://amt-trial-batch.s3-us-west-1.amazonaws.com/lsgan/lsgan-4.png',\n",
       "  'https://amt-trial-batch.s3-us-west-1.amazonaws.com/glow/glow_samples-9.jpg'),\n",
       " ('https://amt-trial-batch.s3-us-west-1.amazonaws.com/real/real-sample-3.png',\n",
       "  'https://amt-trial-batch.s3-us-west-1.amazonaws.com/real/real-sample-2.png'),\n",
       " ('https://amt-trial-batch.s3-us-west-1.amazonaws.com/real/real-sample-2.png',\n",
       "  'https://amt-trial-batch.s3-us-west-1.amazonaws.com/glow/glow_samples-1.jpg')]"
      ]
     },
     "execution_count": 103,
     "metadata": {},
     "output_type": "execute_result"
    }
   ],
   "source": [
    "image_pairs[:10]"
   ]
  },
  {
   "cell_type": "code",
   "execution_count": 105,
   "metadata": {},
   "outputs": [],
   "source": [
    "with open('trial_batch_full.csv','w') as f:\n",
    "    f.write('item1_image_url,item2_image_url\\n')\n",
    "    for pair in image_pairs:\n",
    "        f.write('{},{}\\n'.format(pair[0],pair[1]))"
   ]
  },
  {
   "cell_type": "code",
   "execution_count": null,
   "metadata": {},
   "outputs": [],
   "source": []
  }
 ],
 "metadata": {
  "kernelspec": {
   "display_name": "Python 3",
   "language": "python",
   "name": "python3"
  },
  "language_info": {
   "codemirror_mode": {
    "name": "ipython",
    "version": 3
   },
   "file_extension": ".py",
   "mimetype": "text/x-python",
   "name": "python",
   "nbconvert_exporter": "python",
   "pygments_lexer": "ipython3",
   "version": "3.7.3"
  }
 },
 "nbformat": 4,
 "nbformat_minor": 2
}
