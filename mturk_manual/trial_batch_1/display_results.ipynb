{
 "cells": [
  {
   "cell_type": "code",
   "execution_count": 20,
   "metadata": {},
   "outputs": [],
   "source": [
    "import csv\n",
    "from IPython.display import Image\n"
   ]
  },
  {
   "cell_type": "code",
   "execution_count": 12,
   "metadata": {},
   "outputs": [],
   "source": [
    "csv_indices = {\n",
    "'IMAGE_1_KEY' : 'Input.item1_image_url',\n",
    "'IMAGE_2_KEY' : 'Input.item2_image_url',\n",
    "'LABEL_KEY' : 'Answer.realistic.label',\n",
    "}"
   ]
  },
  {
   "cell_type": "code",
   "execution_count": 6,
   "metadata": {},
   "outputs": [],
   "source": [
    "with open('Batch_3716208_batch_results.csv') as f:\n",
    "    reader = csv.DictReader(f)\n",
    "    rows = [row for row in reader]"
   ]
  },
  {
   "cell_type": "code",
   "execution_count": 22,
   "metadata": {},
   "outputs": [
    {
     "name": "stdout",
     "output_type": "stream",
     "text": [
      "['https://user-images.githubusercontent.com/18012521/54030581-58b5ca80-41ac-11e9-945d-2f58cdd3ae9a.jpg', 'https://encrypted-tbn0.gstatic.com/images?q=tbn:ANd9GcS8P4tIO2pxF6VpTB7UFkweCGyxAaIT2---9OjgxW7aVfX-PbSW', 'Image 1']\n",
      "\n",
      "['https://user-images.githubusercontent.com/18012521/54030581-58b5ca80-41ac-11e9-945d-2f58cdd3ae9a.jpg', 'https://encrypted-tbn0.gstatic.com/images?q=tbn:ANd9GcS8P4tIO2pxF6VpTB7UFkweCGyxAaIT2---9OjgxW7aVfX-PbSW', 'Image 1']\n",
      "\n",
      "['https://user-images.githubusercontent.com/18012521/54030581-58b5ca80-41ac-11e9-945d-2f58cdd3ae9a.jpg', 'https://encrypted-tbn0.gstatic.com/images?q=tbn:ANd9GcS8P4tIO2pxF6VpTB7UFkweCGyxAaIT2---9OjgxW7aVfX-PbSW', 'Image 1']\n",
      "\n",
      "['https://user-images.githubusercontent.com/18012521/54030581-58b5ca80-41ac-11e9-945d-2f58cdd3ae9a.jpg', 'https://encrypted-tbn0.gstatic.com/images?q=tbn:ANd9GcS8P4tIO2pxF6VpTB7UFkweCGyxAaIT2---9OjgxW7aVfX-PbSW', 'Image 1']\n",
      "\n",
      "['https://encrypted-tbn0.gstatic.com/images?q=tbn:ANd9GcS8P4tIO2pxF6VpTB7UFkweCGyxAaIT2---9OjgxW7aVfX-PbSW', 'https://encrypted-tbn0.gstatic.com/images?q=tbn:ANd9GcQpsMB8bMpZvpcJ6BeQyaRl37c9yQsTbzb6MyiR0jJ8C1myMRiuSw', 'Image 1']\n",
      "\n",
      "['https://encrypted-tbn0.gstatic.com/images?q=tbn:ANd9GcS8P4tIO2pxF6VpTB7UFkweCGyxAaIT2---9OjgxW7aVfX-PbSW', 'https://encrypted-tbn0.gstatic.com/images?q=tbn:ANd9GcQpsMB8bMpZvpcJ6BeQyaRl37c9yQsTbzb6MyiR0jJ8C1myMRiuSw', 'Image 1']\n",
      "\n",
      "['https://encrypted-tbn0.gstatic.com/images?q=tbn:ANd9GcS8P4tIO2pxF6VpTB7UFkweCGyxAaIT2---9OjgxW7aVfX-PbSW', 'https://encrypted-tbn0.gstatic.com/images?q=tbn:ANd9GcQpsMB8bMpZvpcJ6BeQyaRl37c9yQsTbzb6MyiR0jJ8C1myMRiuSw', 'Image 1']\n",
      "\n",
      "['https://encrypted-tbn0.gstatic.com/images?q=tbn:ANd9GcS8P4tIO2pxF6VpTB7UFkweCGyxAaIT2---9OjgxW7aVfX-PbSW', 'https://encrypted-tbn0.gstatic.com/images?q=tbn:ANd9GcQpsMB8bMpZvpcJ6BeQyaRl37c9yQsTbzb6MyiR0jJ8C1myMRiuSw', 'Image 1']\n",
      "\n",
      "['https://encrypted-tbn0.gstatic.com/images?q=tbn:ANd9GcS8P4tIO2pxF6VpTB7UFkweCGyxAaIT2---9OjgxW7aVfX-PbSW', 'https://encrypted-tbn0.gstatic.com/images?q=tbn:ANd9GcQpsMB8bMpZvpcJ6BeQyaRl37c9yQsTbzb6MyiR0jJ8C1myMRiuSw', 'Image 1']\n",
      "\n",
      "['https://encrypted-tbn0.gstatic.com/images?q=tbn:ANd9GcQpsMB8bMpZvpcJ6BeQyaRl37c9yQsTbzb6MyiR0jJ8C1myMRiuSw', 'https://user-images.githubusercontent.com/18012521/54030581-58b5ca80-41ac-11e9-945d-2f58cdd3ae9a.jpg', 'Image 2']\n",
      "\n",
      "['https://encrypted-tbn0.gstatic.com/images?q=tbn:ANd9GcQpsMB8bMpZvpcJ6BeQyaRl37c9yQsTbzb6MyiR0jJ8C1myMRiuSw', 'https://user-images.githubusercontent.com/18012521/54030581-58b5ca80-41ac-11e9-945d-2f58cdd3ae9a.jpg', 'Image 2']\n",
      "\n",
      "['https://encrypted-tbn0.gstatic.com/images?q=tbn:ANd9GcQpsMB8bMpZvpcJ6BeQyaRl37c9yQsTbzb6MyiR0jJ8C1myMRiuSw', 'https://user-images.githubusercontent.com/18012521/54030581-58b5ca80-41ac-11e9-945d-2f58cdd3ae9a.jpg', 'Image 2']\n",
      "\n",
      "['https://encrypted-tbn0.gstatic.com/images?q=tbn:ANd9GcQpsMB8bMpZvpcJ6BeQyaRl37c9yQsTbzb6MyiR0jJ8C1myMRiuSw', 'https://user-images.githubusercontent.com/18012521/54030581-58b5ca80-41ac-11e9-945d-2f58cdd3ae9a.jpg', 'Image 2']\n",
      "\n",
      "['https://encrypted-tbn0.gstatic.com/images?q=tbn:ANd9GcQpsMB8bMpZvpcJ6BeQyaRl37c9yQsTbzb6MyiR0jJ8C1myMRiuSw', 'https://user-images.githubusercontent.com/18012521/54030581-58b5ca80-41ac-11e9-945d-2f58cdd3ae9a.jpg', 'Image 2']\n",
      "\n"
     ]
    }
   ],
   "source": [
    "for row in rows:\n",
    "    Image('https://user-images.githubusercontent.com/18012521/54030581-58b5ca80-41ac-11e9-945d-2f58cdd3ae9a.jpg')\n",
    "    print([row[x] for x in csv_indices.values()])\n",
    "    print()"
   ]
  },
  {
   "cell_type": "code",
   "execution_count": null,
   "metadata": {},
   "outputs": [],
   "source": []
  }
 ],
 "metadata": {
  "kernelspec": {
   "display_name": "Python 3",
   "language": "python",
   "name": "python3"
  },
  "language_info": {
   "codemirror_mode": {
    "name": "ipython",
    "version": 3
   },
   "file_extension": ".py",
   "mimetype": "text/x-python",
   "name": "python",
   "nbconvert_exporter": "python",
   "pygments_lexer": "ipython3",
   "version": "3.7.3"
  }
 },
 "nbformat": 4,
 "nbformat_minor": 2
}
