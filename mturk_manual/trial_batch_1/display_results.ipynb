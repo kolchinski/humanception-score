{
 "cells": [
  {
   "cell_type": "code",
   "execution_count": 47,
   "metadata": {},
   "outputs": [],
   "source": [
    "import csv\n",
    "from IPython.display import Image, display, HTML\n",
    "from collections import defaultdict"
   ]
  },
  {
   "cell_type": "code",
   "execution_count": 12,
   "metadata": {},
   "outputs": [],
   "source": [
    "csv_indices = {\n",
    "'IMAGE_1_KEY' : 'Input.item1_image_url',\n",
    "'IMAGE_2_KEY' : 'Input.item2_image_url',\n",
    "'LABEL_KEY' : 'Answer.realistic.label',\n",
    "}"
   ]
  },
  {
   "cell_type": "code",
   "execution_count": 6,
   "metadata": {},
   "outputs": [],
   "source": [
    "with open('Batch_3716208_batch_results.csv') as f:\n",
    "    reader = csv.DictReader(f)\n",
    "    rows = [row for row in reader]"
   ]
  },
  {
   "cell_type": "code",
   "execution_count": 54,
   "metadata": {
    "scrolled": false
   },
   "outputs": [],
   "source": [
    "win_counts = defaultdict(lambda: [0,0])\n",
    "for row in rows:\n",
    "    #display(Image(url=row[csv_indices['IMAGE_1_KEY']]))\n",
    "    #display(Image(url=row[csv_indices['IMAGE_2_KEY']]))\n",
    "    url1 = row[csv_indices['IMAGE_1_KEY']]\n",
    "    url2 = row[csv_indices['IMAGE_2_KEY']]\n",
    "    winner = row[csv_indices['LABEL_KEY']]\n",
    "    \n",
    "    if winner == 'Image 1': win_counts[(url1,url2)][0] += 1\n",
    "    else: win_counts[(url1,url2)][1] += 1\n",
    "    #if winner == 'Image 1':\n",
    "    #    stars1, stars2 = ('<center><font size=12>**********</font></center>', '')\n",
    "    #else:\n",
    "    #    stars1, stars2 = ('', '<center><font size=12>**********</font></center>')\n",
    "\n",
    "    #display(HTML(\"<table><tr><td><img src='{}'>{}</td><td><img src='{}'>{}</td></tr></table>\".format(\n",
    "    #    url1, stars1, url2, stars2)))\n",
    "    \n",
    "    #print([row[x] for x in csv_indices.values()])\n",
    "    #print('\\n\\n')"
   ]
  },
  {
   "cell_type": "code",
   "execution_count": 65,
   "metadata": {},
   "outputs": [
    {
     "data": {
      "text/html": [
       "<table><tr><td><img src='https://user-images.githubusercontent.com/18012521/54030581-58b5ca80-41ac-11e9-945d-2f58cdd3ae9a.jpg'><center><font size=5>4</font></center></td><td><img src='https://encrypted-tbn0.gstatic.com/images?q=tbn:ANd9GcS8P4tIO2pxF6VpTB7UFkweCGyxAaIT2---9OjgxW7aVfX-PbSW'><center><font size=5>0</font></center></td></tr></table>"
      ],
      "text/plain": [
       "<IPython.core.display.HTML object>"
      ]
     },
     "metadata": {},
     "output_type": "display_data"
    },
    {
     "name": "stdout",
     "output_type": "stream",
     "text": [
      "\n",
      "\n"
     ]
    },
    {
     "data": {
      "text/html": [
       "<table><tr><td><img src='https://encrypted-tbn0.gstatic.com/images?q=tbn:ANd9GcS8P4tIO2pxF6VpTB7UFkweCGyxAaIT2---9OjgxW7aVfX-PbSW'><center><font size=5>5</font></center></td><td><img src='https://encrypted-tbn0.gstatic.com/images?q=tbn:ANd9GcQpsMB8bMpZvpcJ6BeQyaRl37c9yQsTbzb6MyiR0jJ8C1myMRiuSw'><center><font size=5>0</font></center></td></tr></table>"
      ],
      "text/plain": [
       "<IPython.core.display.HTML object>"
      ]
     },
     "metadata": {},
     "output_type": "display_data"
    },
    {
     "name": "stdout",
     "output_type": "stream",
     "text": [
      "\n",
      "\n"
     ]
    },
    {
     "data": {
      "text/html": [
       "<table><tr><td><img src='https://encrypted-tbn0.gstatic.com/images?q=tbn:ANd9GcQpsMB8bMpZvpcJ6BeQyaRl37c9yQsTbzb6MyiR0jJ8C1myMRiuSw'><center><font size=5>0</font></center></td><td><img src='https://user-images.githubusercontent.com/18012521/54030581-58b5ca80-41ac-11e9-945d-2f58cdd3ae9a.jpg'><center><font size=5>5</font></center></td></tr></table>"
      ],
      "text/plain": [
       "<IPython.core.display.HTML object>"
      ]
     },
     "metadata": {},
     "output_type": "display_data"
    },
    {
     "name": "stdout",
     "output_type": "stream",
     "text": [
      "\n",
      "\n"
     ]
    }
   ],
   "source": [
    "html_string = '<center><font size=5>{}</font></center>'\n",
    "for k,v in win_counts.items():\n",
    "    display(HTML(\"<table><tr><td><img src='{}'>{}</td><td><img src='{}'>{}</td></tr></table>\".format(\n",
    "        k[0], html_string.format(v[0]), k[1], html_string.format(v[1]))))\n",
    "    print()\n",
    "    print()"
   ]
  },
  {
   "cell_type": "code",
   "execution_count": null,
   "metadata": {},
   "outputs": [],
   "source": []
  }
 ],
 "metadata": {
  "kernelspec": {
   "display_name": "Python 3",
   "language": "python",
   "name": "python3"
  },
  "language_info": {
   "codemirror_mode": {
    "name": "ipython",
    "version": 3
   },
   "file_extension": ".py",
   "mimetype": "text/x-python",
   "name": "python",
   "nbconvert_exporter": "python",
   "pygments_lexer": "ipython3",
   "version": "3.7.3"
  }
 },
 "nbformat": 4,
 "nbformat_minor": 2
}
