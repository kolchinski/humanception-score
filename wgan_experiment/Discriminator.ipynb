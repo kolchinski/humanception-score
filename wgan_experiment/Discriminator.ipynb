{
 "cells": [
  {
   "cell_type": "code",
   "execution_count": 45,
   "metadata": {},
   "outputs": [],
   "source": [
    "import torch\n",
    "import torchvision\n",
    "from itertools import islice\n",
    "import matplotlib.pyplot as plt\n",
    "from models.wgan import GoodDiscriminator"
   ]
  },
  {
   "cell_type": "code",
   "execution_count": 5,
   "metadata": {},
   "outputs": [
    {
     "data": {
      "text/plain": [
       "'1.0.1.post2'"
      ]
     },
     "execution_count": 5,
     "metadata": {},
     "output_type": "execute_result"
    }
   ],
   "source": [
    "torch.__version__"
   ]
  },
  {
   "cell_type": "code",
   "execution_count": 6,
   "metadata": {},
   "outputs": [],
   "source": [
    "discriminator = torch.load('discriminator.pt', map_location='cpu')\n"
   ]
  },
  {
   "cell_type": "code",
   "execution_count": 7,
   "metadata": {},
   "outputs": [
    {
     "data": {
      "text/plain": [
       "tensor([15.4640], grad_fn=<ViewBackward>)"
      ]
     },
     "execution_count": 7,
     "metadata": {},
     "output_type": "execute_result"
    }
   ],
   "source": [
    "discriminator(torch.zeros(64,64,3))"
   ]
  },
  {
   "cell_type": "code",
   "execution_count": 8,
   "metadata": {},
   "outputs": [],
   "source": [
    "img_transforms = torchvision.transforms.Compose([\n",
    "            #transforms.Resize(constants.INPUT_SIZE),\n",
    "            #transforms.CenterCrop(constants.INPUT_SIZE),\n",
    "            torchvision.transforms.ToTensor(),\n",
    "            #transforms.Normalize([0.485, 0.456, 0.406], [0.229, 0.224, 0.225])\n",
    "        ])"
   ]
  },
  {
   "cell_type": "code",
   "execution_count": 9,
   "metadata": {},
   "outputs": [],
   "source": [
    "img_dataset = torchvision.datasets.ImageFolder('./img_root', transform=img_transforms)"
   ]
  },
  {
   "cell_type": "code",
   "execution_count": 10,
   "metadata": {},
   "outputs": [
    {
     "data": {
      "text/plain": [
       "Dataset ImageFolder\n",
       "    Number of datapoints: 7436\n",
       "    Root Location: ./img_root\n",
       "    Transforms (if any): Compose(\n",
       "                             ToTensor()\n",
       "                         )\n",
       "    Target Transforms (if any): None"
      ]
     },
     "execution_count": 10,
     "metadata": {},
     "output_type": "execute_result"
    }
   ],
   "source": [
    "img_dataset"
   ]
  },
  {
   "cell_type": "code",
   "execution_count": 11,
   "metadata": {},
   "outputs": [],
   "source": [
    "imgloader = torch.utils.data.DataLoader(img_dataset, batch_size=1)"
   ]
  },
  {
   "cell_type": "code",
   "execution_count": 12,
   "metadata": {},
   "outputs": [],
   "source": [
    "zero_count = 0\n",
    "one_count = 1\n",
    "for x,y in imgloader:\n",
    "    if y == 0: zero_count += 1\n",
    "    elif y == 1: one_count += 1"
   ]
  },
  {
   "cell_type": "code",
   "execution_count": 13,
   "metadata": {},
   "outputs": [
    {
     "data": {
      "text/plain": [
       "(800, 6637)"
      ]
     },
     "execution_count": 13,
     "metadata": {},
     "output_type": "execute_result"
    }
   ],
   "source": [
    "zero_count, one_count\n",
    "#CelebA, WGAN"
   ]
  },
  {
   "cell_type": "code",
   "execution_count": 17,
   "metadata": {
    "scrolled": false
   },
   "outputs": [],
   "source": [
    "#celeba_scores = []\n",
    "#wgan_scores = []\n",
    "\n",
    "for i, (x, y) in enumerate(imgloader):\n",
    "    if i == 3000: break\n",
    "    score = discriminator(x)\n",
    "    if y == 0: \n",
    "        celeba_scores.append(score)\n",
    "    elif y == 1: \n",
    "        wgan_scores.append(score)"
   ]
  },
  {
   "cell_type": "code",
   "execution_count": 18,
   "metadata": {},
   "outputs": [
    {
     "data": {
      "text/plain": [
       "2200"
      ]
     },
     "execution_count": 18,
     "metadata": {},
     "output_type": "execute_result"
    }
   ],
   "source": [
    "len(wgan_scores)"
   ]
  },
  {
   "cell_type": "code",
   "execution_count": 19,
   "metadata": {},
   "outputs": [
    {
     "data": {
      "text/plain": [
       "800"
      ]
     },
     "execution_count": 19,
     "metadata": {},
     "output_type": "execute_result"
    }
   ],
   "source": [
    "len(celeba_scores)"
   ]
  },
  {
   "cell_type": "code",
   "execution_count": 25,
   "metadata": {},
   "outputs": [],
   "source": [
    "with open('celeba_scores.txt', 'w') as f:\n",
    "    for x in celeba_scores:\n",
    "        f.write(str(float(x))+'\\n')"
   ]
  },
  {
   "cell_type": "code",
   "execution_count": 26,
   "metadata": {},
   "outputs": [],
   "source": [
    "with open('wgan_scores.txt', 'w') as f:\n",
    "    for x in wgan_scores:\n",
    "        f.write(str(float(x))+'\\n')"
   ]
  },
  {
   "cell_type": "code",
   "execution_count": 31,
   "metadata": {},
   "outputs": [],
   "source": [
    "celeba_scalars = [float(x) for x in celeba_scores]\n",
    "wgan_scalars = [float(x) for x in wgan_scores]"
   ]
  },
  {
   "cell_type": "code",
   "execution_count": 44,
   "metadata": {},
   "outputs": [
    {
     "data": {
      "image/png": "[encoded data removed]",
      "text/plain": [
       "<Figure size 432x288 with 1 Axes>"
      ]
     },
     "metadata": {
      "needs_background": "light"
     },
     "output_type": "display_data"
    }
   ],
   "source": [
    "plt.hist(celeba_scalars, label=\"CelebA\", alpha=0.7)\n",
    "plt.hist(wgan_scalars, label=\"WGAN\", alpha=0.7)\n",
    "plt.title(\"WGAN Discriminator scores histogram: \\nReal and fake images have similar means \\nbut very different variances\")\n",
    "plt.legend()\n",
    "plt.show()"
   ]
  },
  {
   "cell_type": "code",
   "execution_count": 87,
   "metadata": {},
   "outputs": [],
   "source": [
    "tiny_img_dataset = torchvision.datasets.ImageFolder('./tiny_img_root', transform=img_transforms)"
   ]
  },
  {
   "cell_type": "code",
   "execution_count": 90,
   "metadata": {},
   "outputs": [
    {
     "data": {
      "text/plain": [
       "20"
      ]
     },
     "execution_count": 90,
     "metadata": {},
     "output_type": "execute_result"
    }
   ],
   "source": [
    "len(tiny_img_dataset)"
   ]
  },
  {
   "cell_type": "code",
   "execution_count": 93,
   "metadata": {},
   "outputs": [],
   "source": [
    "rand_loader = torch.utils.data.DataLoader(tiny_img_dataset, batch_size=1, shuffle=True)"
   ]
  },
  {
   "cell_type": "code",
   "execution_count": 102,
   "metadata": {},
   "outputs": [],
   "source": [
    "D = torch.load('discriminator.pt', map_location='cpu')\n"
   ]
  },
  {
   "cell_type": "code",
   "execution_count": 68,
   "metadata": {},
   "outputs": [
    {
     "data": {
      "text/plain": [
       "models.wgan.GoodDiscriminator"
      ]
     },
     "execution_count": 68,
     "metadata": {},
     "output_type": "execute_result"
    }
   ],
   "source": [
    "type(D)"
   ]
  },
  {
   "cell_type": "code",
   "execution_count": 103,
   "metadata": {},
   "outputs": [],
   "source": [
    "optim = torch.optim.Adam(D.parameters(), lr=1e-4, betas=(0,0.9))"
   ]
  },
  {
   "cell_type": "code",
   "execution_count": 110,
   "metadata": {},
   "outputs": [
    {
     "name": "stdout",
     "output_type": "stream",
     "text": [
      "Epoch  0\n",
      "tensor([1]) tensor([960.5341], grad_fn=<ViewBackward>)\n",
      "tensor([1]) tensor([1185.5997], grad_fn=<ViewBackward>)\n",
      "tensor([1]) tensor([1066.0100], grad_fn=<ViewBackward>)\n",
      "tensor([0]) tensor([266.8915], grad_fn=<ViewBackward>)\n",
      "tensor([1]) tensor([835.0325], grad_fn=<ViewBackward>)\n",
      "tensor([1]) tensor([970.5942], grad_fn=<ViewBackward>)\n",
      "tensor([0]) tensor([-679.5093], grad_fn=<ViewBackward>)\n",
      "tensor([1]) tensor([1112.0443], grad_fn=<ViewBackward>)\n",
      "tensor([0]) tensor([-203.6964], grad_fn=<ViewBackward>)\n",
      "tensor([0]) tensor([-1073.9127], grad_fn=<ViewBackward>)\n",
      "tensor([0]) tensor([-1027.9194], grad_fn=<ViewBackward>)\n",
      "tensor([0]) tensor([-1025.8607], grad_fn=<ViewBackward>)\n",
      "tensor([0]) tensor([-931.2356], grad_fn=<ViewBackward>)\n",
      "tensor([1]) tensor([20.0077], grad_fn=<ViewBackward>)\n",
      "tensor([1]) tensor([936.6129], grad_fn=<ViewBackward>)\n",
      "tensor([1]) tensor([1421.2010], grad_fn=<ViewBackward>)\n",
      "tensor([0]) tensor([-766.8210], grad_fn=<ViewBackward>)\n",
      "tensor([0]) tensor([-883.9844], grad_fn=<ViewBackward>)\n",
      "tensor([0]) tensor([-634.3882], grad_fn=<ViewBackward>)\n",
      "tensor([1]) tensor([323.5332], grad_fn=<ViewBackward>)\n",
      "tensor(-696.0437, grad_fn=<DivBackward0>) tensor(-883.1170, grad_fn=<DivBackward0>)\n",
      "Epoch  1\n",
      "tensor([1]) tensor([933.0399], grad_fn=<ViewBackward>)\n",
      "tensor([1]) tensor([1453.0808], grad_fn=<ViewBackward>)\n",
      "tensor([0]) tensor([-966.1626], grad_fn=<ViewBackward>)\n",
      "tensor([1]) tensor([1044.4137], grad_fn=<ViewBackward>)\n",
      "tensor([0]) tensor([-887.8979], grad_fn=<ViewBackward>)\n",
      "tensor([0]) tensor([-1156.0206], grad_fn=<ViewBackward>)\n",
      "tensor([1]) tensor([1000.9329], grad_fn=<ViewBackward>)\n",
      "tensor([1]) tensor([1170.8180], grad_fn=<ViewBackward>)\n",
      "tensor([1]) tensor([1151.3156], grad_fn=<ViewBackward>)\n",
      "tensor([1]) tensor([1466.8740], grad_fn=<ViewBackward>)\n",
      "tensor([0]) tensor([-286.2527], grad_fn=<ViewBackward>)\n",
      "tensor([0]) tensor([-979.3665], grad_fn=<ViewBackward>)\n",
      "tensor([0]) tensor([-885.7238], grad_fn=<ViewBackward>)\n",
      "tensor([1]) tensor([673.3029], grad_fn=<ViewBackward>)\n",
      "tensor([0]) tensor([-426.4742], grad_fn=<ViewBackward>)\n",
      "tensor([1]) tensor([777.8432], grad_fn=<ViewBackward>)\n",
      "tensor([1]) tensor([1096.8094], grad_fn=<ViewBackward>)\n",
      "tensor([0]) tensor([-1247.2957], grad_fn=<ViewBackward>)\n",
      "tensor([0]) tensor([-1260.7987], grad_fn=<ViewBackward>)\n",
      "tensor([0]) tensor([-939.4889], grad_fn=<ViewBackward>)\n",
      "tensor(-903.5482, grad_fn=<DivBackward0>) tensor(-1076.8430, grad_fn=<DivBackward0>)\n",
      "Epoch  2\n",
      "tensor([0]) tensor([-853.2693], grad_fn=<ViewBackward>)\n",
      "tensor([0]) tensor([-1430.1644], grad_fn=<ViewBackward>)\n",
      "tensor([1]) tensor([832.5544], grad_fn=<ViewBackward>)\n",
      "tensor([1]) tensor([1060.8949], grad_fn=<ViewBackward>)\n",
      "tensor([0]) tensor([-971.9036], grad_fn=<ViewBackward>)\n",
      "tensor([0]) tensor([-1531.4324], grad_fn=<ViewBackward>)\n",
      "tensor([0]) tensor([-1304.8153], grad_fn=<ViewBackward>)\n",
      "tensor([1]) tensor([1168.4875], grad_fn=<ViewBackward>)\n",
      "tensor([1]) tensor([1268.1584], grad_fn=<ViewBackward>)\n",
      "tensor([0]) tensor([-1128.6802], grad_fn=<ViewBackward>)\n",
      "tensor([0]) tensor([-1659.4215], grad_fn=<ViewBackward>)\n",
      "tensor([0]) tensor([-908.6783], grad_fn=<ViewBackward>)\n",
      "tensor([1]) tensor([963.8036], grad_fn=<ViewBackward>)\n",
      "tensor([0]) tensor([-1578.5024], grad_fn=<ViewBackward>)\n",
      "tensor([1]) tensor([960.9178], grad_fn=<ViewBackward>)\n",
      "tensor([1]) tensor([1415.0886], grad_fn=<ViewBackward>)\n",
      "tensor([1]) tensor([1547.0763], grad_fn=<ViewBackward>)\n",
      "tensor([1]) tensor([1929.7261], grad_fn=<ViewBackward>)\n",
      "tensor([1]) tensor([1498.7625], grad_fn=<ViewBackward>)\n",
      "tensor([0]) tensor([-480.8165], grad_fn=<ViewBackward>)\n",
      "tensor(-1184.7683, grad_fn=<DivBackward0>) tensor(-1264.5470, grad_fn=<DivBackward0>)\n",
      "Epoch  3\n",
      "tensor([1]) tensor([1769.6338], grad_fn=<ViewBackward>)\n",
      "tensor([0]) tensor([-1174.6803], grad_fn=<ViewBackward>)\n",
      "tensor([0]) tensor([-1556.0398], grad_fn=<ViewBackward>)\n",
      "tensor([0]) tensor([-1398.0646], grad_fn=<ViewBackward>)\n",
      "tensor([1]) tensor([1479.2179], grad_fn=<ViewBackward>)\n",
      "tensor([0]) tensor([-1622.3721], grad_fn=<ViewBackward>)\n",
      "tensor([1]) tensor([920.8988], grad_fn=<ViewBackward>)\n",
      "tensor([0]) tensor([-1623.5287], grad_fn=<ViewBackward>)\n",
      "tensor([0]) tensor([-1365.8156], grad_fn=<ViewBackward>)\n",
      "tensor([0]) tensor([-1800.9500], grad_fn=<ViewBackward>)\n",
      "tensor([0]) tensor([-1548.1056], grad_fn=<ViewBackward>)\n",
      "tensor([1]) tensor([201.9367], grad_fn=<ViewBackward>)\n",
      "tensor([1]) tensor([1474.0900], grad_fn=<ViewBackward>)\n",
      "tensor([1]) tensor([1814.9783], grad_fn=<ViewBackward>)\n",
      "tensor([0]) tensor([-1858.9081], grad_fn=<ViewBackward>)\n",
      "tensor([0]) tensor([-2133.6470], grad_fn=<ViewBackward>)\n",
      "tensor([1]) tensor([1615.5635], grad_fn=<ViewBackward>)\n",
      "tensor([1]) tensor([1651.2139], grad_fn=<ViewBackward>)\n",
      "tensor([1]) tensor([1771.7966], grad_fn=<ViewBackward>)\n",
      "tensor([1]) tensor([2055.0107], grad_fn=<ViewBackward>)\n",
      "tensor(-1608.2112, grad_fn=<DivBackward0>) tensor(-1475.4340, grad_fn=<DivBackward0>)\n",
      "Epoch  4\n",
      "tensor([0]) tensor([-1620.2356], grad_fn=<ViewBackward>)\n",
      "tensor([0]) tensor([-1685.3079], grad_fn=<ViewBackward>)\n",
      "tensor([1]) tensor([928.8279], grad_fn=<ViewBackward>)\n",
      "tensor([0]) tensor([-1836.5103], grad_fn=<ViewBackward>)\n",
      "tensor([1]) tensor([2076.1304], grad_fn=<ViewBackward>)\n",
      "tensor([1]) tensor([2113.2048], grad_fn=<ViewBackward>)\n",
      "tensor([1]) tensor([1938.6058], grad_fn=<ViewBackward>)\n",
      "tensor([1]) tensor([2188.1177], grad_fn=<ViewBackward>)\n",
      "tensor([1]) tensor([2090.4414], grad_fn=<ViewBackward>)\n",
      "tensor([1]) tensor([2720.9062], grad_fn=<ViewBackward>)\n",
      "tensor([1]) tensor([2399.4475], grad_fn=<ViewBackward>)\n",
      "tensor([0]) tensor([-1127.5298], grad_fn=<ViewBackward>)\n",
      "tensor([0]) tensor([-613.0479], grad_fn=<ViewBackward>)\n",
      "tensor([0]) tensor([-1651.9108], grad_fn=<ViewBackward>)\n",
      "tensor([0]) tensor([-2111.7627], grad_fn=<ViewBackward>)\n",
      "tensor([0]) tensor([-1981.1019], grad_fn=<ViewBackward>)\n",
      "tensor([0]) tensor([-2134.0396], grad_fn=<ViewBackward>)\n",
      "tensor([1]) tensor([633.8705], grad_fn=<ViewBackward>)\n",
      "tensor([1]) tensor([2148.0452], grad_fn=<ViewBackward>)\n",
      "tensor([0]) tensor([-2212.8176], grad_fn=<ViewBackward>)\n",
      "tensor(-1697.4264, grad_fn=<DivBackward0>) tensor(-1923.7598, grad_fn=<DivBackward0>)\n",
      "Epoch  5\n",
      "tensor([0]) tensor([-2502.8499], grad_fn=<ViewBackward>)\n",
      "tensor([0]) tensor([-2018.1359], grad_fn=<ViewBackward>)\n",
      "tensor([1]) tensor([148.4497], grad_fn=<ViewBackward>)\n",
      "tensor([1]) tensor([1840.2170], grad_fn=<ViewBackward>)\n",
      "tensor([1]) tensor([2013.6016], grad_fn=<ViewBackward>)\n",
      "tensor([1]) tensor([2501.9736], grad_fn=<ViewBackward>)\n",
      "tensor([0]) tensor([-1570.4696], grad_fn=<ViewBackward>)\n",
      "tensor([0]) tensor([-1928.5275], grad_fn=<ViewBackward>)\n",
      "tensor([1]) tensor([2670.8372], grad_fn=<ViewBackward>)\n",
      "tensor([1]) tensor([2702.5059], grad_fn=<ViewBackward>)\n",
      "tensor([0]) tensor([-2721.9595], grad_fn=<ViewBackward>)\n",
      "tensor([1]) tensor([2565.1904], grad_fn=<ViewBackward>)\n",
      "tensor([1]) tensor([2322.5193], grad_fn=<ViewBackward>)\n",
      "tensor([1]) tensor([2714.8125], grad_fn=<ViewBackward>)\n",
      "tensor([0]) tensor([-1769.2015], grad_fn=<ViewBackward>)\n",
      "tensor([0]) tensor([-2221.9521], grad_fn=<ViewBackward>)\n",
      "tensor([0]) tensor([-2746.0742], grad_fn=<ViewBackward>)\n",
      "tensor([1]) tensor([1076.1624], grad_fn=<ViewBackward>)\n",
      "tensor([0]) tensor([-974.4682], grad_fn=<ViewBackward>)\n",
      "tensor([0]) tensor([-2614.8828], grad_fn=<ViewBackward>)\n",
      "tensor(-2106.8521, grad_fn=<DivBackward0>) tensor(-2055.6270, grad_fn=<DivBackward0>)\n",
      "Epoch  6\n",
      "tensor([1]) tensor([1839.0850], grad_fn=<ViewBackward>)\n",
      "tensor([0]) tensor([-1285.8738], grad_fn=<ViewBackward>)\n",
      "tensor([1]) tensor([2923.6982], grad_fn=<ViewBackward>)\n",
      "tensor([1]) tensor([2032.3037], grad_fn=<ViewBackward>)\n",
      "tensor([1]) tensor([2863.4395], grad_fn=<ViewBackward>)\n",
      "tensor([0]) tensor([-1979.9293], grad_fn=<ViewBackward>)\n",
      "tensor([1]) tensor([2178.8362], grad_fn=<ViewBackward>)\n",
      "tensor([1]) tensor([2833.7251], grad_fn=<ViewBackward>)\n",
      "tensor([0]) tensor([-2290.9285], grad_fn=<ViewBackward>)\n",
      "tensor([0]) tensor([-3013.2344], grad_fn=<ViewBackward>)\n",
      "tensor([0]) tensor([-2623.4731], grad_fn=<ViewBackward>)\n",
      "tensor([1]) tensor([2250.1033], grad_fn=<ViewBackward>)\n",
      "tensor([1]) tensor([3410.6555], grad_fn=<ViewBackward>)\n",
      "tensor([0]) tensor([-2114.7378], grad_fn=<ViewBackward>)\n",
      "tensor([0]) tensor([-3184.9333], grad_fn=<ViewBackward>)\n",
      "tensor([0]) tensor([-2982.0659], grad_fn=<ViewBackward>)\n"
     ]
    },
    {
     "name": "stdout",
     "output_type": "stream",
     "text": [
      "tensor([0]) tensor([-3073.3743], grad_fn=<ViewBackward>)\n",
      "tensor([1]) tensor([2013.2345], grad_fn=<ViewBackward>)\n",
      "tensor([0]) tensor([-1884.7651], grad_fn=<ViewBackward>)\n",
      "tensor([1]) tensor([2437.3552], grad_fn=<ViewBackward>)\n",
      "tensor(-2443.3318, grad_fn=<DivBackward0>) tensor(-2478.2437, grad_fn=<DivBackward0>)\n",
      "Epoch  7\n",
      "tensor([0]) tensor([-3239.6365], grad_fn=<ViewBackward>)\n",
      "tensor([0]) tensor([-3228.0518], grad_fn=<ViewBackward>)\n",
      "tensor([0]) tensor([-3559.8054], grad_fn=<ViewBackward>)\n",
      "tensor([0]) tensor([-3250.2615], grad_fn=<ViewBackward>)\n",
      "tensor([0]) tensor([-3677.1885], grad_fn=<ViewBackward>)\n",
      "tensor([0]) tensor([-3409.0181], grad_fn=<ViewBackward>)\n",
      "tensor([1]) tensor([-250.7308], grad_fn=<ViewBackward>)\n",
      "tensor([1]) tensor([3156.7439], grad_fn=<ViewBackward>)\n",
      "tensor([0]) tensor([-1884.4020], grad_fn=<ViewBackward>)\n",
      "tensor([1]) tensor([2594.5225], grad_fn=<ViewBackward>)\n",
      "tensor([0]) tensor([-3801.9292], grad_fn=<ViewBackward>)\n",
      "tensor([1]) tensor([3939.5867], grad_fn=<ViewBackward>)\n",
      "tensor([1]) tensor([2671.3433], grad_fn=<ViewBackward>)\n",
      "tensor([1]) tensor([3147.7876], grad_fn=<ViewBackward>)\n",
      "tensor([0]) tensor([-3484.3853], grad_fn=<ViewBackward>)\n",
      "tensor([1]) tensor([3274.2524], grad_fn=<ViewBackward>)\n",
      "tensor([1]) tensor([3093.3604], grad_fn=<ViewBackward>)\n",
      "tensor([1]) tensor([3986.3486], grad_fn=<ViewBackward>)\n",
      "tensor([0]) tensor([-300.1578], grad_fn=<ViewBackward>)\n",
      "tensor([1]) tensor([3871.1252], grad_fn=<ViewBackward>)\n",
      "tensor(-2983.4839, grad_fn=<DivBackward0>) tensor(-2948.4336, grad_fn=<DivBackward0>)\n",
      "Epoch  8\n",
      "tensor([1]) tensor([3895.6804], grad_fn=<ViewBackward>)\n",
      "tensor([0]) tensor([-1128.1842], grad_fn=<ViewBackward>)\n",
      "tensor([1]) tensor([2745.4224], grad_fn=<ViewBackward>)\n",
      "tensor([0]) tensor([-2983.4644], grad_fn=<ViewBackward>)\n",
      "tensor([0]) tensor([-4026.3728], grad_fn=<ViewBackward>)\n",
      "tensor([0]) tensor([-4331.8301], grad_fn=<ViewBackward>)\n",
      "tensor([0]) tensor([-4128.3418], grad_fn=<ViewBackward>)\n",
      "tensor([1]) tensor([2558.3743], grad_fn=<ViewBackward>)\n",
      "tensor([0]) tensor([-4586.1353], grad_fn=<ViewBackward>)\n",
      "tensor([0]) tensor([-4437.2920], grad_fn=<ViewBackward>)\n",
      "tensor([1]) tensor([2668.7803], grad_fn=<ViewBackward>)\n",
      "tensor([0]) tensor([-3778.7354], grad_fn=<ViewBackward>)\n",
      "tensor([1]) tensor([4078.2722], grad_fn=<ViewBackward>)\n",
      "tensor([0]) tensor([-4045.7627], grad_fn=<ViewBackward>)\n",
      "tensor([1]) tensor([3463.7002], grad_fn=<ViewBackward>)\n",
      "tensor([0]) tensor([-1980.7761], grad_fn=<ViewBackward>)\n",
      "tensor([1]) tensor([3833.5474], grad_fn=<ViewBackward>)\n",
      "tensor([1]) tensor([5172.9263], grad_fn=<ViewBackward>)\n",
      "tensor([1]) tensor([3331.6104], grad_fn=<ViewBackward>)\n",
      "tensor([1]) tensor([3547.4763], grad_fn=<ViewBackward>)\n",
      "tensor(-3542.6895, grad_fn=<DivBackward0>) tensor(-3529.5789, grad_fn=<DivBackward0>)\n",
      "Epoch  9\n",
      "tensor([0]) tensor([-2313.0901], grad_fn=<ViewBackward>)\n",
      "tensor([1]) tensor([3356.4309], grad_fn=<ViewBackward>)\n",
      "tensor([1]) tensor([5518.9897], grad_fn=<ViewBackward>)\n",
      "tensor([1]) tensor([4682.5547], grad_fn=<ViewBackward>)\n",
      "tensor([1]) tensor([4479.8994], grad_fn=<ViewBackward>)\n",
      "tensor([1]) tensor([5120.9756], grad_fn=<ViewBackward>)\n",
      "tensor([0]) tensor([-1896.5750], grad_fn=<ViewBackward>)\n",
      "tensor([0]) tensor([-3669.8931], grad_fn=<ViewBackward>)\n",
      "tensor([1]) tensor([4712.1489], grad_fn=<ViewBackward>)\n"
     ]
    },
    {
     "ename": "KeyboardInterrupt",
     "evalue": "",
     "output_type": "error",
     "traceback": [
      "\u001b[0;31m---------------------------------------------------------------------------\u001b[0m",
      "\u001b[0;31mKeyboardInterrupt\u001b[0m                         Traceback (most recent call last)",
      "\u001b[0;32m<ipython-input-110-f7461a1feed8>\u001b[0m in \u001b[0;36m<module>\u001b[0;34m\u001b[0m\n\u001b[1;32m     12\u001b[0m         \u001b[0;32melif\u001b[0m \u001b[0my\u001b[0m \u001b[0;34m==\u001b[0m \u001b[0;36m0\u001b[0m\u001b[0;34m:\u001b[0m \u001b[0mceleba_cost\u001b[0m \u001b[0;34m+=\u001b[0m \u001b[0mcost\u001b[0m\u001b[0;34m\u001b[0m\u001b[0;34m\u001b[0m\u001b[0m\n\u001b[1;32m     13\u001b[0m         \u001b[0mn\u001b[0m \u001b[0;34m+=\u001b[0m \u001b[0mlen\u001b[0m\u001b[0;34m(\u001b[0m\u001b[0mx\u001b[0m\u001b[0;34m)\u001b[0m\u001b[0;34m\u001b[0m\u001b[0;34m\u001b[0m\u001b[0m\n\u001b[0;32m---> 14\u001b[0;31m         \u001b[0mcost\u001b[0m\u001b[0;34m.\u001b[0m\u001b[0mbackward\u001b[0m\u001b[0;34m(\u001b[0m\u001b[0;34m)\u001b[0m\u001b[0;34m\u001b[0m\u001b[0;34m\u001b[0m\u001b[0m\n\u001b[0m\u001b[1;32m     15\u001b[0m         \u001b[0moptim\u001b[0m\u001b[0;34m.\u001b[0m\u001b[0mstep\u001b[0m\u001b[0;34m(\u001b[0m\u001b[0;34m)\u001b[0m\u001b[0;34m\u001b[0m\u001b[0;34m\u001b[0m\u001b[0m\n\u001b[1;32m     16\u001b[0m         \u001b[0mprint\u001b[0m\u001b[0;34m(\u001b[0m\u001b[0my\u001b[0m\u001b[0;34m,\u001b[0m \u001b[0mscore\u001b[0m\u001b[0;34m)\u001b[0m\u001b[0;34m\u001b[0m\u001b[0;34m\u001b[0m\u001b[0m\n",
      "\u001b[0;32m~/anaconda3/envs/wgan_experiment/lib/python3.7/site-packages/torch/tensor.py\u001b[0m in \u001b[0;36mbackward\u001b[0;34m(self, gradient, retain_graph, create_graph)\u001b[0m\n\u001b[1;32m    100\u001b[0m                 \u001b[0mproducts\u001b[0m\u001b[0;34m.\u001b[0m \u001b[0mDefaults\u001b[0m \u001b[0mto\u001b[0m\u001b[0;31m \u001b[0m\u001b[0;31m`\u001b[0m\u001b[0;31m`\u001b[0m\u001b[0;32mFalse\u001b[0m\u001b[0;31m`\u001b[0m\u001b[0;31m`\u001b[0m\u001b[0;34m.\u001b[0m\u001b[0;34m\u001b[0m\u001b[0;34m\u001b[0m\u001b[0m\n\u001b[1;32m    101\u001b[0m         \"\"\"\n\u001b[0;32m--> 102\u001b[0;31m         \u001b[0mtorch\u001b[0m\u001b[0;34m.\u001b[0m\u001b[0mautograd\u001b[0m\u001b[0;34m.\u001b[0m\u001b[0mbackward\u001b[0m\u001b[0;34m(\u001b[0m\u001b[0mself\u001b[0m\u001b[0;34m,\u001b[0m \u001b[0mgradient\u001b[0m\u001b[0;34m,\u001b[0m \u001b[0mretain_graph\u001b[0m\u001b[0;34m,\u001b[0m \u001b[0mcreate_graph\u001b[0m\u001b[0;34m)\u001b[0m\u001b[0;34m\u001b[0m\u001b[0;34m\u001b[0m\u001b[0m\n\u001b[0m\u001b[1;32m    103\u001b[0m \u001b[0;34m\u001b[0m\u001b[0m\n\u001b[1;32m    104\u001b[0m     \u001b[0;32mdef\u001b[0m \u001b[0mregister_hook\u001b[0m\u001b[0;34m(\u001b[0m\u001b[0mself\u001b[0m\u001b[0;34m,\u001b[0m \u001b[0mhook\u001b[0m\u001b[0;34m)\u001b[0m\u001b[0;34m:\u001b[0m\u001b[0;34m\u001b[0m\u001b[0;34m\u001b[0m\u001b[0m\n",
      "\u001b[0;32m~/anaconda3/envs/wgan_experiment/lib/python3.7/site-packages/torch/autograd/__init__.py\u001b[0m in \u001b[0;36mbackward\u001b[0;34m(tensors, grad_tensors, retain_graph, create_graph, grad_variables)\u001b[0m\n\u001b[1;32m     88\u001b[0m     Variable._execution_engine.run_backward(\n\u001b[1;32m     89\u001b[0m         \u001b[0mtensors\u001b[0m\u001b[0;34m,\u001b[0m \u001b[0mgrad_tensors\u001b[0m\u001b[0;34m,\u001b[0m \u001b[0mretain_graph\u001b[0m\u001b[0;34m,\u001b[0m \u001b[0mcreate_graph\u001b[0m\u001b[0;34m,\u001b[0m\u001b[0;34m\u001b[0m\u001b[0;34m\u001b[0m\u001b[0m\n\u001b[0;32m---> 90\u001b[0;31m         allow_unreachable=True)  # allow_unreachable flag\n\u001b[0m\u001b[1;32m     91\u001b[0m \u001b[0;34m\u001b[0m\u001b[0m\n\u001b[1;32m     92\u001b[0m \u001b[0;34m\u001b[0m\u001b[0m\n",
      "\u001b[0;31mKeyboardInterrupt\u001b[0m: "
     ]
    }
   ],
   "source": [
    "for epoch in range(20):\n",
    "    print(\"Epoch \", epoch)\n",
    "    celeba_cost = 0.\n",
    "    wgan_cost = 0.\n",
    "    for x,y in rand_loader:\n",
    "        D.zero_grad()\n",
    "        score = D(x)\n",
    "        cost_signs = 1. - float(y)*2.\n",
    "        cost = (cost_signs * score).mean()\n",
    "        #total_cost += cost\n",
    "        if y == 1: wgan_cost += cost\n",
    "        elif y == 0: celeba_cost += cost\n",
    "        n += len(x)\n",
    "        cost.backward()\n",
    "        optim.step()\n",
    "        print(y, score)\n",
    "    print(celeba_cost/10., wgan_cost/10.)"
   ]
  },
  {
   "cell_type": "code",
   "execution_count": null,
   "metadata": {},
   "outputs": [],
   "source": []
  }
 ],
 "metadata": {
  "kernelspec": {
   "display_name": "Python 3",
   "language": "python",
   "name": "python3"
  },
  "language_info": {
   "codemirror_mode": {
    "name": "ipython",
    "version": 3
   },
   "file_extension": ".py",
   "mimetype": "text/x-python",
   "name": "python",
   "nbconvert_exporter": "python",
   "pygments_lexer": "ipython3",
   "version": "3.7.3"
  }
 },
 "nbformat": 4,
 "nbformat_minor": 2
}
