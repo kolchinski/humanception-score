{
 "cells": [
  {
   "cell_type": "code",
   "execution_count": 64,
   "metadata": {},
   "outputs": [],
   "source": [
    "import os\n",
    "import csv\n",
    "import numpy as np\n",
    "import random"
   ]
  },
  {
   "cell_type": "code",
   "execution_count": 57,
   "metadata": {},
   "outputs": [
    {
     "name": "stdout",
     "output_type": "stream",
     "text": [
      "6636 800\n"
     ]
    }
   ],
   "source": [
    "wgan_imgs = ['wgangp5000/' + x for x in os.listdir('img_root/wgangp5000') if os.path.isfile('img_root/wgangp5000/' + x) and 'png' in x]\n",
    "celeba_imgs = ['celeba500/' + x for x in os.listdir('img_root/celeba500/') if os.path.isfile('img_root/celeba500/' + x) and 'jpg' in x]\n",
    "print(len(wgan_imgs), len(celeba_imgs))"
   ]
  },
  {
   "cell_type": "code",
   "execution_count": 58,
   "metadata": {},
   "outputs": [
    {
     "data": {
      "text/plain": [
       "([], [])"
      ]
     },
     "execution_count": 58,
     "metadata": {},
     "output_type": "execute_result"
    }
   ],
   "source": [
    "#np.array(['jpg' in x for x in celeba_imgs]).sum()\n",
    "[x for x in wgan_imgs if '.png' not in x], [x for x in celeba_imgs if '.jpg' not in x]"
   ]
  },
  {
   "cell_type": "code",
   "execution_count": 59,
   "metadata": {},
   "outputs": [
    {
     "data": {
      "text/plain": [
       "(6636, 800)"
      ]
     },
     "execution_count": 59,
     "metadata": {},
     "output_type": "execute_result"
    }
   ],
   "source": [
    "all_wgan_imgs = set(wgan_imgs)\n",
    "all_celeba_imgs = set(celeba_imgs)\n",
    "len(all_wgan_imgs), len(all_celeba_imgs)"
   ]
  },
  {
   "cell_type": "code",
   "execution_count": 60,
   "metadata": {},
   "outputs": [],
   "source": [
    "labeled_wgan_imgs = set()\n",
    "labeled_celeba_imgs = set()"
   ]
  },
  {
   "cell_type": "code",
   "execution_count": 61,
   "metadata": {},
   "outputs": [
    {
     "data": {
      "text/plain": [
       "(4251, 50)"
      ]
     },
     "execution_count": 61,
     "metadata": {},
     "output_type": "execute_result"
    }
   ],
   "source": [
    "with open('wgangp_data.csv') as f:\n",
    "    dictreader = csv.DictReader(f)\n",
    "    for line in dictreader:\n",
    "        img_name = line['img']      \n",
    "        realness = line['realness'] == 'True'\n",
    "        if realness:\n",
    "            labeled_celeba_imgs.add(img_name)\n",
    "        else:\n",
    "            labeled_wgan_imgs.add(img_name)\n",
    "len(labeled_wgan_imgs), len(labeled_celeba_imgs)"
   ]
  },
  {
   "cell_type": "code",
   "execution_count": 65,
   "metadata": {},
   "outputs": [
    {
     "data": {
      "text/plain": [
       "(2385, 750)"
      ]
     },
     "execution_count": 65,
     "metadata": {},
     "output_type": "execute_result"
    }
   ],
   "source": [
    "unlabeled_wgan_imgs = all_wgan_imgs - labeled_wgan_imgs\n",
    "unlabeled_celeba_imgs = all_celeba_imgs - labeled_celeba_imgs\n",
    "len(unlabeled_wgan_imgs), len(unlabeled_celeba_imgs)"
   ]
  },
  {
   "cell_type": "code",
   "execution_count": 71,
   "metadata": {},
   "outputs": [
    {
     "data": {
      "text/plain": [
       "(2185, 100, 100)"
      ]
     },
     "execution_count": 71,
     "metadata": {},
     "output_type": "execute_result"
    }
   ],
   "source": [
    "wgan_val_and_test = random.sample(unlabeled_wgan_imgs, 200)\n",
    "wgan_val, wgan_test = wgan_val_and_test[:100], wgan_val_and_test[100:]\n",
    "wgan_train = unlabeled_wgan_imgs - set(wgan_val_and_test)\n",
    "len(wgan_train), len(wgan_val), len(wgan_test)"
   ]
  },
  {
   "cell_type": "code",
   "execution_count": 72,
   "metadata": {},
   "outputs": [
    {
     "data": {
      "text/plain": [
       "(550, 100, 100)"
      ]
     },
     "execution_count": 72,
     "metadata": {},
     "output_type": "execute_result"
    }
   ],
   "source": [
    "celeba_val_and_test = random.sample(unlabeled_celeba_imgs, 200)\n",
    "celeba_val, celeba_test = celeba_val_and_test[:100], celeba_val_and_test[100:]\n",
    "celeba_train = unlabeled_celeba_imgs - set(celeba_val_and_test)\n",
    "len(celeba_train), len(celeba_val), len(celeba_test)"
   ]
  },
  {
   "cell_type": "code",
   "execution_count": 77,
   "metadata": {},
   "outputs": [],
   "source": [
    "for x in celeba_test:\n",
    "    os.symlink('../../../' + x, 'split_img_root/test/' + x)"
   ]
  },
  {
   "cell_type": "code",
   "execution_count": 78,
   "metadata": {},
   "outputs": [],
   "source": [
    "for x in wgan_test:\n",
    "    os.symlink('../../../' + x, 'split_img_root/test/' + x)"
   ]
  },
  {
   "cell_type": "code",
   "execution_count": 79,
   "metadata": {},
   "outputs": [],
   "source": [
    "for x in celeba_val:\n",
    "    os.symlink('../../../' + x, 'split_img_root/val/' + x)"
   ]
  },
  {
   "cell_type": "code",
   "execution_count": 80,
   "metadata": {},
   "outputs": [],
   "source": [
    "for x in wgan_val:\n",
    "    os.symlink('../../../' + x, 'split_img_root/val/' + x)"
   ]
  },
  {
   "cell_type": "code",
   "execution_count": 81,
   "metadata": {},
   "outputs": [],
   "source": [
    "for x in celeba_train:\n",
    "    os.symlink('../../../' + x, 'split_img_root/train/' + x)"
   ]
  },
  {
   "cell_type": "code",
   "execution_count": 82,
   "metadata": {},
   "outputs": [],
   "source": [
    "for x in wgan_train:\n",
    "    os.symlink('../../../' + x, 'split_img_root/train/' + x)"
   ]
  },
  {
   "cell_type": "code",
   "execution_count": null,
   "metadata": {},
   "outputs": [],
   "source": []
  }
 ],
 "metadata": {
  "kernelspec": {
   "display_name": "Python 3",
   "language": "python",
   "name": "python3"
  },
  "language_info": {
   "codemirror_mode": {
    "name": "ipython",
    "version": 3
   },
   "file_extension": ".py",
   "mimetype": "text/x-python",
   "name": "python",
   "nbconvert_exporter": "python",
   "pygments_lexer": "ipython3",
   "version": "3.7.3"
  }
 },
 "nbformat": 4,
 "nbformat_minor": 2
}
